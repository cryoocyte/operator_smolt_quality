{
 "cells": [
  {
   "cell_type": "code",
   "execution_count": 224,
   "id": "54265f3b",
   "metadata": {
    "scrolled": true,
    "tags": []
   },
   "outputs": [],
   "source": [
    "import pandas as pd\n",
    "import numpy as np\n",
    "from pathlib import Path\n",
    "from matplotlib import pyplot as plt\n",
    "import seaborn as sns\n",
    "from matplotlib.ticker import MaxNLocator\n",
    "\n",
    "from sklearn.preprocessing import RobustScaler, MinMaxScaler\n",
    "from sklearn.metrics import mean_absolute_error, mean_absolute_percentage_error\n",
    "\n",
    "import plotly.express as px\n",
    "import xgboost as xgb\n",
    "\n",
    "from model import ModelPipeline\n",
    "import pickle"
   ]
  },
  {
   "cell_type": "code",
   "execution_count": 226,
   "id": "984ca9f1",
   "metadata": {
    "tags": []
   },
   "outputs": [],
   "source": [
    "def save_stats(pipeline, save_path, img_save_path, prefix):\n",
    "    summary_df = pd.DataFrame({\n",
    "        'factors': pipeline.features,\n",
    "        'importance_value': pipeline.importance.tolist(),\n",
    "        'correlation': pipeline.factors_target_corr.tolist(),\n",
    "    })\n",
    "\n",
    "    summary_df.sort_values(by='importance_value',ascending=False).to_csv(f'{save_path}/{prefix}_features_summary.csv', index=False)\n",
    "    pickle.dump(pipeline.model_best,  open(f'../{prefix}_model.pkl', 'wb'))\n",
    "    \n",
    "    plt.figure(figsize=(20, 7))\n",
    "    fig = pipeline.model_factors.sort_values(ascending=True).plot(kind='barh')\n",
    "    plt.tight_layout()\n",
    "    fig.get_figure().savefig(f'{save_path}/{prefix}_factors_importance.jpg')\n",
    "    #fig.get_figure().savefig(f'{IMPORTANT_IMG_SAVE_PATH}/{prefix}_factors_importance.jpg')"
   ]
  },
  {
   "cell_type": "code",
   "execution_count": 225,
   "id": "d3854bd4",
   "metadata": {
    "tags": []
   },
   "outputs": [],
   "source": [
    "def smape(y_true, y_pred):\n",
    "    return np.mean(np.abs(y_pred - y_true) / (np.abs(y_pred) + np.abs(y_true))) * 100\n",
    "\n",
    "def mape(y_true, y_pred): \n",
    "    return np.mean(np.abs((y_true - y_pred) / y_true)) * 100\n",
    "\n",
    "TIME_FORMAT = '%Y-%m-%d'\n",
    "DROPNA = True\n",
    "key_columns = ['locus_id', 'fish_group_id', 'transfer_year']\n",
    "\n",
    "root_path = Path('../data/')\n",
    "\n",
    "targets = pd.read_csv(root_path / 'targets.csv')\n",
    "\n",
    "mortality = pd.read_csv('../data/smolt_dataset_transfers.csv') #_until2023Feb28_narrow\n",
    "mortality['transfer_date'] = pd.to_datetime(mortality['transfer_date'], format=TIME_FORMAT)\n",
    "mortality['transport_year']= mortality['transfer_date'].dt.year\n",
    "\n",
    "#tgc = pd.read_csv('../data/transfers_until2023Feb28_with_sw_growth_targets.csv')\n",
    "img_path = Path('./img')\n",
    "result_data_path = Path('./result_data')\n",
    "img_path.mkdir(exist_ok=True)\n",
    "result_data_path.mkdir(exist_ok=True)\n",
    "\n",
    "# PREDICTIVE_SAVE_PATH = result_data_path / 'predictive' \n",
    "# PREDICTIVE_SAVE_PATH.mkdir(exist_ok=True)\n",
    "\n",
    "# MODEL_SAVE_PATH = result_data_path / 'predictive' / 'models'\n",
    "# MODEL_SAVE_PATH.mkdir(exist_ok=True)\n",
    "\n",
    "# METRICS_SAVE_PATH = result_data_path / 'predictive' / 'metrics'\n",
    "# METRICS_SAVE_PATH.mkdir(exist_ok=True)\n",
    "\n",
    "# IMPORTANCE_SAVE_PATH = result_data_path / 'predictive' / 'importance'\n",
    "# IMPORTANCE_SAVE_PATH.mkdir(exist_ok=True)\n",
    "\n",
    "# IMPORTANT_IMG_SAVE_PATH = img_path / 'predictive' / 'importance'\n",
    "# IMPORTANT_IMG_SAVE_PATH.mkdir(exist_ok=True)"
   ]
  },
  {
   "cell_type": "code",
   "execution_count": 227,
   "id": "428bf53c",
   "metadata": {
    "tags": []
   },
   "outputs": [],
   "source": [
    "METRICS_SUMMARY = {\n",
    "    'train_data': [],\n",
    "    'feature_set': [],\n",
    "    'target': [],\n",
    "    'smape_val': [],\n",
    "    'smape': [],\n",
    "    'mae': [],\n",
    "    'mape': [],\n",
    "    'median_true_average_value': [],\n",
    "    'median_pred_average_value': [],\n",
    "    'std_error': [],\n",
    "}\n",
    "\n",
    "def fill_dict(d, smape_val, y_true, y_pred, dataset_name, feature_set_name, target):\n",
    "    d['smape_val'].append(smape_val)\n",
    "    d['smape'].append(smape(y_true, y_pred))\n",
    "    d['mae'].append(mean_absolute_error(y_true, y_pred))\n",
    "    d['mape'].append(mape(y_true, y_pred))\n",
    "    d['median_true_average_value'].append(np.median(y_true))\n",
    "    d['median_pred_average_value'].append(np.median(y_pred))\n",
    "    d['std_error'].append(np.std(y_true - y_pred))\n",
    "    d['train_data'].append(dataset_name)\n",
    "    d['feature_set'].append(feature_set_name)\n",
    "    d['target'].append(target)\n",
    "    return d"
   ]
  },
  {
   "cell_type": "code",
   "execution_count": 228,
   "id": "15f38f36-7198-49d3-99a1-dc92a95ce89a",
   "metadata": {
    "tags": []
   },
   "outputs": [
    {
     "data": {
      "text/plain": [
       "Index(['locus_id', 'fish_group_id', 'transfer_year', 'stocking_weight',\n",
       "       'total_mortality_perc_90', 'transport_mortality_perc_90',\n",
       "       'nontransport_mortality_perc_90', 'oSFR', 'nSFR'],\n",
       "      dtype='object')"
      ]
     },
     "execution_count": 228,
     "metadata": {},
     "output_type": "execute_result"
    }
   ],
   "source": [
    "targets.columns"
   ]
  },
  {
   "cell_type": "code",
   "execution_count": 253,
   "id": "123db850-6bd7-4a5e-be7b-cb1644210e59",
   "metadata": {
    "tags": []
   },
   "outputs": [],
   "source": [
    "most_relevant_features = [\n",
    "    'temperature_fw_sw_diff', # ok\n",
    "    'atpasa_derivative', #evt_lab_atpasa\n",
    "    'number_of_weeks_with_summer_vac_transfer',\n",
    "    'temperature_cleared-before_first_feeding-mean', # ok\n",
    "    'is_luf_weighted', #\n",
    "    'fw_cycle_length_first_mvmt_shipout',\n",
    "    'temperature_cleared-before_first_feeding-degree_days',\n",
    "    'is_nacl-whole_period-sum', # ok\n",
    "    'is_nacl-after_first_feeding-sum', # ok\n",
    "    'mortality_rate-after_first_feeding-sum_Desadaptado'\n",
    "]"
   ]
  },
  {
   "cell_type": "markdown",
   "id": "bbf23481",
   "metadata": {},
   "source": [
    "## Preprocessing"
   ]
  },
  {
   "cell_type": "code",
   "execution_count": 229,
   "id": "3ca7d2b7-6ed3-42e1-b369-c5cb864a23ea",
   "metadata": {
    "tags": []
   },
   "outputs": [],
   "source": [
    "path_data =  '../data/factors_main.csv'\n",
    "path_features_list = '../data/log_mortality_final_features_importance.csv'\n",
    "\n",
    "data = pd.read_csv(path_data,encoding='windows-1252')\n",
    "\n",
    "data_targets = data.merge(targets[key_columns+['total_mortality_perc_90']],on=key_columns,how='left')\n",
    "data_targets.rename(columns={'total_mortality_perc_90':'mortality'},inplace=True)\n",
    "data_targets['log_mortality'] = np.log(data_targets['mortality'])\n",
    "data_targets = data_targets.merge(mortality[key_columns+['transfer_month','transfer_month_year','transfer_season2','transfer_date']],on=key_columns,how='left')\n"
   ]
  },
  {
   "cell_type": "markdown",
   "id": "7a14c9cd",
   "metadata": {},
   "source": [
    "**Prerequisites**: factors_ranking.ipynb notebook has to be run"
   ]
  },
  {
   "cell_type": "code",
   "execution_count": 230,
   "id": "891d092d",
   "metadata": {
    "scrolled": true,
    "tags": []
   },
   "outputs": [],
   "source": [
    "\n",
    "all_features = data.columns.difference(key_columns + ['mortality', 'tgc', 'nsfr']).tolist()\n",
    "\n",
    "df_final_features = pd.read_csv(path_features_list)\n",
    "final_features = df_final_features.iloc[:,0].tolist()\n",
    "final_features_top10 = df_final_features.iloc[:10,0].tolist()"
   ]
  },
  {
   "cell_type": "code",
   "execution_count": 252,
   "id": "3708a873-b23a-4989-be9a-938fe5812f55",
   "metadata": {
    "tags": []
   },
   "outputs": [
    {
     "data": {
      "text/html": [
       "<div>\n",
       "<style scoped>\n",
       "    .dataframe tbody tr th:only-of-type {\n",
       "        vertical-align: middle;\n",
       "    }\n",
       "\n",
       "    .dataframe tbody tr th {\n",
       "        vertical-align: top;\n",
       "    }\n",
       "\n",
       "    .dataframe thead th {\n",
       "        text-align: right;\n",
       "    }\n",
       "</style>\n",
       "<table border=\"1\" class=\"dataframe\">\n",
       "  <thead>\n",
       "    <tr style=\"text-align: right;\">\n",
       "      <th></th>\n",
       "      <th>Unnamed: 0</th>\n",
       "      <th>IV</th>\n",
       "      <th>log_mortality</th>\n",
       "      <th>nsfr</th>\n",
       "    </tr>\n",
       "  </thead>\n",
       "  <tbody>\n",
       "    <tr>\n",
       "      <th>0</th>\n",
       "      <td>mortality_rate-whole_period-sum_Embrionaria</td>\n",
       "      <td>0.067486</td>\n",
       "      <td>0.032516</td>\n",
       "      <td>0.081132</td>\n",
       "    </tr>\n",
       "    <tr>\n",
       "      <th>1</th>\n",
       "      <td>number_of_weeks_with_summer_vac_transfer</td>\n",
       "      <td>0.058696</td>\n",
       "      <td>0.237694</td>\n",
       "      <td>-0.000887</td>\n",
       "    </tr>\n",
       "    <tr>\n",
       "      <th>2</th>\n",
       "      <td>is_nacl-after_first_feeding-sum</td>\n",
       "      <td>0.058584</td>\n",
       "      <td>-0.304738</td>\n",
       "      <td>0.032884</td>\n",
       "    </tr>\n",
       "    <tr>\n",
       "      <th>3</th>\n",
       "      <td>is_desinfected_mean</td>\n",
       "      <td>0.036518</td>\n",
       "      <td>0.103133</td>\n",
       "      <td>-0.003430</td>\n",
       "    </tr>\n",
       "    <tr>\n",
       "      <th>4</th>\n",
       "      <td>temperature_cleared-before_first_feeding-degre...</td>\n",
       "      <td>0.032510</td>\n",
       "      <td>-0.225595</td>\n",
       "      <td>0.013255</td>\n",
       "    </tr>\n",
       "    <tr>\n",
       "      <th>5</th>\n",
       "      <td>is_luf_weighted</td>\n",
       "      <td>0.030207</td>\n",
       "      <td>0.047972</td>\n",
       "      <td>-0.051607</td>\n",
       "    </tr>\n",
       "    <tr>\n",
       "      <th>6</th>\n",
       "      <td>vac_fish_count_mean</td>\n",
       "      <td>0.028826</td>\n",
       "      <td>0.031058</td>\n",
       "      <td>-0.098108</td>\n",
       "    </tr>\n",
       "    <tr>\n",
       "      <th>7</th>\n",
       "      <td>mortality_rate-after_first_feeding-sum_Desadap...</td>\n",
       "      <td>0.025687</td>\n",
       "      <td>-0.241010</td>\n",
       "      <td>-0.037320</td>\n",
       "    </tr>\n",
       "    <tr>\n",
       "      <th>8</th>\n",
       "      <td>mortality_rate-6_weeks_before_transfer-sum</td>\n",
       "      <td>0.023604</td>\n",
       "      <td>0.085991</td>\n",
       "      <td>0.164461</td>\n",
       "    </tr>\n",
       "    <tr>\n",
       "      <th>9</th>\n",
       "      <td>weight_M</td>\n",
       "      <td>0.023403</td>\n",
       "      <td>0.071321</td>\n",
       "      <td>0.136045</td>\n",
       "    </tr>\n",
       "    <tr>\n",
       "      <th>10</th>\n",
       "      <td>is_nacl-whole_period-sum</td>\n",
       "      <td>0.022730</td>\n",
       "      <td>0.061631</td>\n",
       "      <td>0.033512</td>\n",
       "    </tr>\n",
       "    <tr>\n",
       "      <th>11</th>\n",
       "      <td>temperature_cleared-before_first_feeding-mean</td>\n",
       "      <td>0.022273</td>\n",
       "      <td>0.343205</td>\n",
       "      <td>-0.021812</td>\n",
       "    </tr>\n",
       "    <tr>\n",
       "      <th>12</th>\n",
       "      <td>fw_cycle_length_first_mvmt_shipout</td>\n",
       "      <td>0.019912</td>\n",
       "      <td>-0.237306</td>\n",
       "      <td>-0.070267</td>\n",
       "    </tr>\n",
       "    <tr>\n",
       "      <th>13</th>\n",
       "      <td>is_bronopol-whole_period-sum</td>\n",
       "      <td>0.019898</td>\n",
       "      <td>0.050191</td>\n",
       "      <td>0.045069</td>\n",
       "    </tr>\n",
       "    <tr>\n",
       "      <th>14</th>\n",
       "      <td>drop_count_coef=0.5</td>\n",
       "      <td>0.019784</td>\n",
       "      <td>0.049761</td>\n",
       "      <td>-0.001849</td>\n",
       "    </tr>\n",
       "    <tr>\n",
       "      <th>15</th>\n",
       "      <td>temperature_fw_sw_diff</td>\n",
       "      <td>0.019148</td>\n",
       "      <td>0.186105</td>\n",
       "      <td>0.102883</td>\n",
       "    </tr>\n",
       "    <tr>\n",
       "      <th>16</th>\n",
       "      <td>is_cloramina t-whole_period-sum</td>\n",
       "      <td>0.017787</td>\n",
       "      <td>-0.149889</td>\n",
       "      <td>0.007569</td>\n",
       "    </tr>\n",
       "    <tr>\n",
       "      <th>17</th>\n",
       "      <td>temperature_cleared-transfer_feeding-degree_days</td>\n",
       "      <td>0.016129</td>\n",
       "      <td>0.012252</td>\n",
       "      <td>-0.057801</td>\n",
       "    </tr>\n",
       "    <tr>\n",
       "      <th>18</th>\n",
       "      <td>sfr-4_weeks_before_transfer-relative_lower_min...</td>\n",
       "      <td>0.014642</td>\n",
       "      <td>-0.073807</td>\n",
       "      <td>0.157146</td>\n",
       "    </tr>\n",
       "    <tr>\n",
       "      <th>19</th>\n",
       "      <td>temperature_cleared-transfer_feeding-median</td>\n",
       "      <td>0.012594</td>\n",
       "      <td>-0.010142</td>\n",
       "      <td>-0.156841</td>\n",
       "    </tr>\n",
       "  </tbody>\n",
       "</table>\n",
       "</div>"
      ],
      "text/plain": [
       "                                           Unnamed: 0        IV  \\\n",
       "0         mortality_rate-whole_period-sum_Embrionaria  0.067486   \n",
       "1            number_of_weeks_with_summer_vac_transfer  0.058696   \n",
       "2                     is_nacl-after_first_feeding-sum  0.058584   \n",
       "3                                 is_desinfected_mean  0.036518   \n",
       "4   temperature_cleared-before_first_feeding-degre...  0.032510   \n",
       "5                                     is_luf_weighted  0.030207   \n",
       "6                                 vac_fish_count_mean  0.028826   \n",
       "7   mortality_rate-after_first_feeding-sum_Desadap...  0.025687   \n",
       "8          mortality_rate-6_weeks_before_transfer-sum  0.023604   \n",
       "9                                            weight_M  0.023403   \n",
       "10                           is_nacl-whole_period-sum  0.022730   \n",
       "11      temperature_cleared-before_first_feeding-mean  0.022273   \n",
       "12                 fw_cycle_length_first_mvmt_shipout  0.019912   \n",
       "13                       is_bronopol-whole_period-sum  0.019898   \n",
       "14                                drop_count_coef=0.5  0.019784   \n",
       "15                             temperature_fw_sw_diff  0.019148   \n",
       "16                    is_cloramina t-whole_period-sum  0.017787   \n",
       "17   temperature_cleared-transfer_feeding-degree_days  0.016129   \n",
       "18  sfr-4_weeks_before_transfer-relative_lower_min...  0.014642   \n",
       "19        temperature_cleared-transfer_feeding-median  0.012594   \n",
       "\n",
       "    log_mortality      nsfr  \n",
       "0        0.032516  0.081132  \n",
       "1        0.237694 -0.000887  \n",
       "2       -0.304738  0.032884  \n",
       "3        0.103133 -0.003430  \n",
       "4       -0.225595  0.013255  \n",
       "5        0.047972 -0.051607  \n",
       "6        0.031058 -0.098108  \n",
       "7       -0.241010 -0.037320  \n",
       "8        0.085991  0.164461  \n",
       "9        0.071321  0.136045  \n",
       "10       0.061631  0.033512  \n",
       "11       0.343205 -0.021812  \n",
       "12      -0.237306 -0.070267  \n",
       "13       0.050191  0.045069  \n",
       "14       0.049761 -0.001849  \n",
       "15       0.186105  0.102883  \n",
       "16      -0.149889  0.007569  \n",
       "17       0.012252 -0.057801  \n",
       "18      -0.073807  0.157146  \n",
       "19      -0.010142 -0.156841  "
      ]
     },
     "execution_count": 252,
     "metadata": {},
     "output_type": "execute_result"
    }
   ],
   "source": [
    "df_final_features.sort_values('IV', ascending=False)"
   ]
  },
  {
   "cell_type": "code",
   "execution_count": 232,
   "id": "d513892e-6187-4541-b59d-3c89dfe7fd6f",
   "metadata": {
    "tags": []
   },
   "outputs": [
    {
     "data": {
      "text/plain": [
       "Timestamp('2023-12-11 00:00:00')"
      ]
     },
     "execution_count": 232,
     "metadata": {},
     "output_type": "execute_result"
    }
   ],
   "source": [
    "data_targets['transfer_date'].max()"
   ]
  },
  {
   "cell_type": "code",
   "execution_count": 233,
   "id": "28f5b808",
   "metadata": {
    "tags": []
   },
   "outputs": [],
   "source": [
    "def outliers_removal(df, features, coef_std):\n",
    "    df_output = df.copy()\n",
    "    for feature in features:\n",
    "        # Check if the column is not boolean\n",
    "        if df[feature].dtype != 'bool':\n",
    "            Q1 = df[feature].quantile(0.25)\n",
    "            Q3 = df[feature].quantile(0.75)\n",
    "            lower_bound = df[feature].mean() - coef_std * df[feature].std()\n",
    "            upper_bound = df[feature].mean() + coef_std * df[feature].std()\n",
    "            outliers = (df[feature] < lower_bound) | (df[feature] > upper_bound)\n",
    "            df_output.loc[outliers, feature] = df[feature].clip(lower=lower_bound, upper=upper_bound)\n",
    "            # print(outliers.sum(), feature)\n",
    "    return df_output"
   ]
  },
  {
   "cell_type": "code",
   "execution_count": 234,
   "id": "581b7de2-6360-4700-b937-36c37fa85db7",
   "metadata": {
    "tags": []
   },
   "outputs": [],
   "source": [
    "from datetime import datetime\n",
    "\n",
    "CURRENT_DATE = datetime.utcnow().replace(microsecond=0, second=0, minute=0) #.strftime('%Y-%m-%d') \n",
    "threshold_date = CURRENT_DATE - pd.DateOffset(months=3)\n",
    "pred_data = data_targets[data_targets['transfer_date'] >= threshold_date]\n",
    "data_targets = data_targets[data_targets['transfer_date'] < threshold_date]\n"
   ]
  },
  {
   "cell_type": "code",
   "execution_count": 235,
   "id": "cf12c1b6-8626-450b-9d1d-b63ab64c6526",
   "metadata": {
    "tags": []
   },
   "outputs": [
    {
     "data": {
      "text/html": [
       "<div>\n",
       "<style scoped>\n",
       "    .dataframe tbody tr th:only-of-type {\n",
       "        vertical-align: middle;\n",
       "    }\n",
       "\n",
       "    .dataframe tbody tr th {\n",
       "        vertical-align: top;\n",
       "    }\n",
       "\n",
       "    .dataframe thead th {\n",
       "        text-align: right;\n",
       "    }\n",
       "</style>\n",
       "<table border=\"1\" class=\"dataframe\">\n",
       "  <thead>\n",
       "    <tr style=\"text-align: right;\">\n",
       "      <th></th>\n",
       "      <th>transfer_date</th>\n",
       "      <th>locus_id</th>\n",
       "      <th>fish_group_id</th>\n",
       "      <th>mortality</th>\n",
       "    </tr>\n",
       "  </thead>\n",
       "  <tbody>\n",
       "    <tr>\n",
       "      <th>1398</th>\n",
       "      <td>2023-10-23</td>\n",
       "      <td>6407852</td>\n",
       "      <td>6973</td>\n",
       "      <td>0.092292</td>\n",
       "    </tr>\n",
       "    <tr>\n",
       "      <th>1399</th>\n",
       "      <td>2023-10-23</td>\n",
       "      <td>6407853</td>\n",
       "      <td>6973</td>\n",
       "      <td>0.066593</td>\n",
       "    </tr>\n",
       "    <tr>\n",
       "      <th>1401</th>\n",
       "      <td>2023-10-24</td>\n",
       "      <td>6407854</td>\n",
       "      <td>6973</td>\n",
       "      <td>0.079417</td>\n",
       "    </tr>\n",
       "    <tr>\n",
       "      <th>1402</th>\n",
       "      <td>2023-10-24</td>\n",
       "      <td>6407860</td>\n",
       "      <td>6973</td>\n",
       "      <td>0.041307</td>\n",
       "    </tr>\n",
       "    <tr>\n",
       "      <th>1403</th>\n",
       "      <td>2023-10-25</td>\n",
       "      <td>6407861</td>\n",
       "      <td>6973</td>\n",
       "      <td>0.070556</td>\n",
       "    </tr>\n",
       "    <tr>\n",
       "      <th>1404</th>\n",
       "      <td>2023-10-25</td>\n",
       "      <td>6407862</td>\n",
       "      <td>6973</td>\n",
       "      <td>0.080101</td>\n",
       "    </tr>\n",
       "    <tr>\n",
       "      <th>1405</th>\n",
       "      <td>2023-10-25</td>\n",
       "      <td>6407863</td>\n",
       "      <td>6973</td>\n",
       "      <td>0.048565</td>\n",
       "    </tr>\n",
       "    <tr>\n",
       "      <th>1410</th>\n",
       "      <td>2023-10-30</td>\n",
       "      <td>7150091</td>\n",
       "      <td>6982</td>\n",
       "      <td>0.045467</td>\n",
       "    </tr>\n",
       "    <tr>\n",
       "      <th>1412</th>\n",
       "      <td>2023-12-11</td>\n",
       "      <td>7150092</td>\n",
       "      <td>6987</td>\n",
       "      <td>0.004465</td>\n",
       "    </tr>\n",
       "    <tr>\n",
       "      <th>1414</th>\n",
       "      <td>2023-10-30</td>\n",
       "      <td>7150093</td>\n",
       "      <td>6982</td>\n",
       "      <td>0.010539</td>\n",
       "    </tr>\n",
       "    <tr>\n",
       "      <th>1415</th>\n",
       "      <td>2023-12-11</td>\n",
       "      <td>7150094</td>\n",
       "      <td>6987</td>\n",
       "      <td>0.004581</td>\n",
       "    </tr>\n",
       "    <tr>\n",
       "      <th>1417</th>\n",
       "      <td>2023-11-20</td>\n",
       "      <td>7150095</td>\n",
       "      <td>6987</td>\n",
       "      <td>0.010498</td>\n",
       "    </tr>\n",
       "    <tr>\n",
       "      <th>1419</th>\n",
       "      <td>2023-12-05</td>\n",
       "      <td>7150096</td>\n",
       "      <td>6987</td>\n",
       "      <td>0.003445</td>\n",
       "    </tr>\n",
       "    <tr>\n",
       "      <th>1421</th>\n",
       "      <td>2023-12-05</td>\n",
       "      <td>7150097</td>\n",
       "      <td>6987</td>\n",
       "      <td>0.005235</td>\n",
       "    </tr>\n",
       "    <tr>\n",
       "      <th>1423</th>\n",
       "      <td>2023-12-05</td>\n",
       "      <td>7150098</td>\n",
       "      <td>6987</td>\n",
       "      <td>0.005350</td>\n",
       "    </tr>\n",
       "    <tr>\n",
       "      <th>1425</th>\n",
       "      <td>2023-12-04</td>\n",
       "      <td>7150099</td>\n",
       "      <td>6987</td>\n",
       "      <td>0.005676</td>\n",
       "    </tr>\n",
       "    <tr>\n",
       "      <th>1427</th>\n",
       "      <td>2023-12-05</td>\n",
       "      <td>7150100</td>\n",
       "      <td>6987</td>\n",
       "      <td>0.003405</td>\n",
       "    </tr>\n",
       "  </tbody>\n",
       "</table>\n",
       "</div>"
      ],
      "text/plain": [
       "     transfer_date  locus_id  fish_group_id  mortality\n",
       "1398    2023-10-23   6407852           6973   0.092292\n",
       "1399    2023-10-23   6407853           6973   0.066593\n",
       "1401    2023-10-24   6407854           6973   0.079417\n",
       "1402    2023-10-24   6407860           6973   0.041307\n",
       "1403    2023-10-25   6407861           6973   0.070556\n",
       "1404    2023-10-25   6407862           6973   0.080101\n",
       "1405    2023-10-25   6407863           6973   0.048565\n",
       "1410    2023-10-30   7150091           6982   0.045467\n",
       "1412    2023-12-11   7150092           6987   0.004465\n",
       "1414    2023-10-30   7150093           6982   0.010539\n",
       "1415    2023-12-11   7150094           6987   0.004581\n",
       "1417    2023-11-20   7150095           6987   0.010498\n",
       "1419    2023-12-05   7150096           6987   0.003445\n",
       "1421    2023-12-05   7150097           6987   0.005235\n",
       "1423    2023-12-05   7150098           6987   0.005350\n",
       "1425    2023-12-04   7150099           6987   0.005676\n",
       "1427    2023-12-05   7150100           6987   0.003405"
      ]
     },
     "execution_count": 235,
     "metadata": {},
     "output_type": "execute_result"
    }
   ],
   "source": [
    "pred_data[['transfer_date', 'locus_id', 'fish_group_id', 'mortality']]"
   ]
  },
  {
   "cell_type": "code",
   "execution_count": 236,
   "id": "77762243",
   "metadata": {
    "tags": []
   },
   "outputs": [
    {
     "name": "stdout",
     "output_type": "stream",
     "text": [
      "1393 124\n",
      "0.08174027686222808\n"
     ]
    }
   ],
   "source": [
    "# threshold_date = pd.to_datetime('2023-01-01')\n",
    "# train_data = data_targets[data_targets['transfer_date'] < threshold_date]\n",
    "# test_data = data_targets[data_targets['transfer_date'] >= threshold_date]\n",
    "\n",
    "uniq_idx = 'fish_group_id'\n",
    "uniqs = data_targets[uniq_idx].unique()\n",
    "np.random.shuffle(uniqs)\n",
    "p = 0.10\n",
    "ix = int(len(uniqs)*p)\n",
    "test_uniqs = uniqs[:ix]\n",
    "train_uniqs = uniqs[ix:]\n",
    "test_data = data_targets[data_targets[uniq_idx].isin(test_uniqs)].reset_index(drop=True)\n",
    "train_data = data_targets[data_targets[uniq_idx].isin(train_uniqs)].reset_index(drop=True)\n",
    "\n",
    "print(len(train_data),len(test_data))\n",
    "print(len(test_data)/(len(train_data)+len(test_data)))"
   ]
  },
  {
   "cell_type": "code",
   "execution_count": 237,
   "id": "770e3c84-e466-4583-aaa4-93d4e961f77f",
   "metadata": {
    "tags": []
   },
   "outputs": [],
   "source": [
    "BUCKET_QUANTILES = [0.35, 0.65, 0.95, 1] \n",
    "BUCKET_LABELS = ['low', 'medium', 'high', 'extreme'] \n",
    "bins = data_targets.loc[train_data.index.tolist(), 'mortality'].quantile(BUCKET_QUANTILES).values.tolist()\n",
    "train_data['target_group'] = pd.cut(train_data['mortality'], labels=BUCKET_LABELS, bins=[0,] + bins)\n",
    "test_data['target_group'] = pd.cut(test_data['mortality'], labels=BUCKET_LABELS, bins=[0,] + bins)\n",
    "data_targets = pd.concat([train_data, test_data], axis=0).reset_index(drop=True)"
   ]
  },
  {
   "cell_type": "code",
   "execution_count": 238,
   "id": "67d877bf",
   "metadata": {
    "tags": []
   },
   "outputs": [
    {
     "name": "stderr",
     "output_type": "stream",
     "text": [
      "C:\\Users\\dmitrii\\AppData\\Local\\Temp\\ipykernel_1636\\932922025.py:11: SettingWithCopyWarning: \n",
      "A value is trying to be set on a copy of a slice from a DataFrame\n",
      "\n",
      "See the caveats in the documentation: https://pandas.pydata.org/pandas-docs/stable/user_guide/indexing.html#returning-a-view-versus-a-copy\n",
      "  df_output.loc[outliers, feature] = df[feature].clip(lower=lower_bound, upper=upper_bound)\n"
     ]
    }
   ],
   "source": [
    "#this change outliers' values with values either mean - 3*std or mean +3*std\n",
    "train_data=outliers_removal(train_data, all_features, 3)"
   ]
  },
  {
   "cell_type": "code",
   "execution_count": 239,
   "id": "9cb4e6c3",
   "metadata": {
    "scrolled": true,
    "tags": []
   },
   "outputs": [],
   "source": [
    "# train_data_filled = train_data.copy()\n",
    "# train_data_filled = train_data_filled.fillna(train_data_filled.median())\n",
    "\n",
    "train_data_filled = train_data.copy()\n",
    "numeric_columns = train_data_filled.select_dtypes(include=[np.number]).columns\n",
    "train_data_filled[numeric_columns] = train_data_filled[numeric_columns].fillna(train_data_filled[numeric_columns].median())\n"
   ]
  },
  {
   "cell_type": "code",
   "execution_count": 240,
   "id": "1a159756",
   "metadata": {
    "tags": []
   },
   "outputs": [
    {
     "name": "stderr",
     "output_type": "stream",
     "text": [
      "C:\\Python\\Anaconda\\envs\\ecto\\lib\\site-packages\\numpy\\lib\\nanfunctions.py:997: RuntimeWarning: All-NaN slice encountered\n",
      "  result = np.apply_along_axis(_nanmedian1d, axis, a, overwrite_input)\n",
      "C:\\Python\\Anaconda\\envs\\ecto\\lib\\site-packages\\numpy\\lib\\nanfunctions.py:1374: RuntimeWarning: All-NaN slice encountered\n",
      "  r, k = function_base._ureduce(\n"
     ]
    }
   ],
   "source": [
    "#data scaling\n",
    "scaler = RobustScaler()\n",
    "\n",
    "train_data_scaled = train_data_filled.copy()\n",
    "train_data_scaled[all_features] = scaler.fit_transform(train_data_scaled[all_features])\n",
    "\n",
    "test_data_scaled = test_data.copy()\n",
    "test_data_scaled[all_features]=scaler.transform(test_data[all_features])"
   ]
  },
  {
   "cell_type": "code",
   "execution_count": 241,
   "id": "5d2abbe9-0be1-45c5-b3b4-5157132d79e9",
   "metadata": {
    "tags": []
   },
   "outputs": [
    {
     "data": {
      "text/plain": [
       "<matplotlib.legend.Legend at 0x17c9a82e340>"
      ]
     },
     "execution_count": 241,
     "metadata": {},
     "output_type": "execute_result"
    },
    {
     "data": {
      "image/png": "[encoded data removed]",
      "text/plain": [
       "<Figure size 1152x360 with 1 Axes>"
      ]
     },
     "metadata": {},
     "output_type": "display_data"
    }
   ],
   "source": [
    "#train_data[['locus_id', 'fish_group_id', 'transfer_date', 'mortality']]\n",
    "import seaborn as sns\n",
    "fig, ax = plt.subplots(figsize=(16,5))\n",
    "sns.scatterplot(data=data_targets, x='transfer_date', y='mortality', hue='target_group', ax=ax)\n",
    "ax.axvline(threshold_date, ls='--', color='tab:red', label='train/test split')\n",
    "plt.legend()"
   ]
  },
  {
   "cell_type": "code",
   "execution_count": 242,
   "id": "28890ee0",
   "metadata": {
    "tags": []
   },
   "outputs": [],
   "source": [
    "# display(train_data.head())\n",
    "# display(test_data.head())"
   ]
  },
  {
   "cell_type": "code",
   "execution_count": 243,
   "id": "eb05e21f",
   "metadata": {
    "tags": []
   },
   "outputs": [],
   "source": [
    "# train_data['mortality_perc'] = train_data['mortality'] * 100\n",
    "# train_data['log_mortality'] = np.log(train_data['mortality'])\n",
    "\n",
    "# test_data['mortality_perc'] = test_data['mortality'] * 100\n",
    "# test_data['log_mortality'] = np.log(test_data['mortality'])\n",
    "\n",
    "# targets = ['mortality', 'mortality_perc', 'log_mortality', 'tgc', 'nsfr']"
   ]
  },
  {
   "cell_type": "code",
   "execution_count": 244,
   "id": "40526363",
   "metadata": {
    "tags": []
   },
   "outputs": [],
   "source": [
    "test_min_date = test_data['transfer_date'].min().strftime('%Y-%m-%d')\n",
    "test_max_date = test_data['transfer_date'].max().strftime('%Y-%m-%d')"
   ]
  },
  {
   "cell_type": "code",
   "execution_count": 245,
   "id": "b4a79ffb-846e-45b0-a410-b433e31658f2",
   "metadata": {
    "tags": []
   },
   "outputs": [
    {
     "data": {
      "text/plain": [
       "('2017-02-02', '2023-09-25')"
      ]
     },
     "execution_count": 245,
     "metadata": {},
     "output_type": "execute_result"
    }
   ],
   "source": [
    "test_min_date, test_max_date"
   ]
  },
  {
   "cell_type": "code",
   "execution_count": 246,
   "id": "25138a62-b3a6-40b6-b431-23b1c37a5bda",
   "metadata": {
    "tags": []
   },
   "outputs": [
    {
     "name": "stderr",
     "output_type": "stream",
     "text": [
      "C:\\Users\\dmitrii\\AppData\\Local\\Temp\\ipykernel_1636\\1184069190.py:5: SettingWithCopyWarning: \n",
      "A value is trying to be set on a copy of a slice from a DataFrame.\n",
      "Try using .loc[row_indexer,col_indexer] = value instead\n",
      "\n",
      "See the caveats in the documentation: https://pandas.pydata.org/pandas-docs/stable/user_guide/indexing.html#returning-a-view-versus-a-copy\n",
      "  n_df['input_type'] = 'test'\n"
     ]
    },
    {
     "data": {
      "image/png": "[encoded data removed]",
      "text/plain": [
       "<Figure size 1152x648 with 1 Axes>"
      ]
     },
     "metadata": {},
     "output_type": "display_data"
    }
   ],
   "source": [
    "import seaborn as sns\n",
    "\n",
    "fig, ax = plt.subplots(figsize=(16,9))\n",
    "n_df = test_data[['mortality']]\n",
    "n_df['input_type'] = 'test'\n",
    "\n",
    "n_df = pd.concat([n_df, train_data_scaled[['mortality']]], axis=0)\n",
    "n_df['input_type'] = n_df['input_type'].fillna('train/val')\n",
    "#n_df = n_df.reset_index()\n",
    "ax.axvline(test_data['mortality'].mean(), ls='--', color='tab:blue', label='test mean', zorder=1)\n",
    "ax.axvline(train_data_scaled['mortality'].mean(), ls='--', color='tab:orange', label='train/val mean', zorder=1)\n",
    "ax.set_xlabel('Mortality target')\n",
    "sns.histplot(data=n_df, x='mortality', hue='input_type', multiple=\"dodge\", stat='density', shrink=0.99, alpha=0.95, common_norm=False, ax=ax, zorder=2)\n",
    "ax.set_ylabel('Relative density to the input type')\n",
    "ax.set_title('CAM Smolt Quality. Current train/test split. Dashed line - mean')\n",
    "plt.tight_layout()\n",
    "plt.savefig('../data/images/train_test.png')\n",
    "\n",
    "#n_df.pivot_table(index='index', columns='input_type', values='mortality', aggfunc='mean').plot.hist(width=0.1, ax=ax)"
   ]
  },
  {
   "cell_type": "code",
   "execution_count": 247,
   "id": "98aba469-27cc-4170-8d05-82f5583e13ba",
   "metadata": {
    "tags": []
   },
   "outputs": [],
   "source": [
    "def adjusted_smape(y_true, y_pred, epsilon=1e-6):\n",
    "    denominator = (np.abs(y_true) + np.abs(y_pred)) / 2 + epsilon\n",
    "    smape_value = np.mean(np.abs(y_pred - y_true) / denominator) * 100\n",
    "    return smape_value"
   ]
  },
  {
   "cell_type": "code",
   "execution_count": 248,
   "id": "38779db4-e502-4d0a-b4f0-a7b7584f7b79",
   "metadata": {
    "tags": []
   },
   "outputs": [
    {
     "data": {
      "text/plain": [
       "['mortality_rate-whole_period-sum_Embrionaria',\n",
       " 'number_of_weeks_with_summer_vac_transfer',\n",
       " 'is_nacl-after_first_feeding-sum',\n",
       " 'is_desinfected_mean',\n",
       " 'temperature_cleared-before_first_feeding-degree_days',\n",
       " 'is_luf_weighted',\n",
       " 'vac_fish_count_mean',\n",
       " 'mortality_rate-after_first_feeding-sum_Desadaptado',\n",
       " 'mortality_rate-6_weeks_before_transfer-sum',\n",
       " 'weight_M',\n",
       " 'is_nacl-whole_period-sum',\n",
       " 'temperature_cleared-before_first_feeding-mean',\n",
       " 'fw_cycle_length_first_mvmt_shipout',\n",
       " 'is_bronopol-whole_period-sum',\n",
       " 'drop_count_coef=0.5',\n",
       " 'temperature_fw_sw_diff',\n",
       " 'is_cloramina t-whole_period-sum',\n",
       " 'temperature_cleared-transfer_feeding-degree_days',\n",
       " 'sfr-4_weeks_before_transfer-relative_lower_min-0.01',\n",
       " 'temperature_cleared-transfer_feeding-median']"
      ]
     },
     "execution_count": 248,
     "metadata": {},
     "output_type": "execute_result"
    }
   ],
   "source": [
    "final_features\n",
    "\n"
   ]
  },
  {
   "cell_type": "code",
   "execution_count": 249,
   "id": "444df341-bf4d-4960-888c-4b44ecc6dbe8",
   "metadata": {
    "tags": []
   },
   "outputs": [],
   "source": [
    "features = [f for f in final_features if f in data_targets.columns]"
   ]
  },
  {
   "cell_type": "code",
   "execution_count": null,
   "id": "48d07985-2185-47e4-aeaf-64b09c8268e4",
   "metadata": {},
   "outputs": [],
   "source": []
  },
  {
   "cell_type": "code",
   "execution_count": 250,
   "id": "98fbfc3c-0401-4e9c-afdc-ee3e3cbdf03b",
   "metadata": {
    "tags": []
   },
   "outputs": [
    {
     "data": {
      "text/plain": [
       "[]"
      ]
     },
     "execution_count": 250,
     "metadata": {},
     "output_type": "execute_result"
    }
   ],
   "source": [
    "[f for f in final_features if f not in data_targets.columns]"
   ]
  },
  {
   "cell_type": "code",
   "execution_count": 251,
   "id": "0e8ab8fd-457a-4646-beed-758fed5f82ed",
   "metadata": {
    "tags": []
   },
   "outputs": [
    {
     "data": {
      "text/html": [
       "<div>\n",
       "<style scoped>\n",
       "    .dataframe tbody tr th:only-of-type {\n",
       "        vertical-align: middle;\n",
       "    }\n",
       "\n",
       "    .dataframe tbody tr th {\n",
       "        vertical-align: top;\n",
       "    }\n",
       "\n",
       "    .dataframe thead th {\n",
       "        text-align: right;\n",
       "    }\n",
       "</style>\n",
       "<table border=\"1\" class=\"dataframe\">\n",
       "  <thead>\n",
       "    <tr style=\"text-align: right;\">\n",
       "      <th></th>\n",
       "      <th>feature</th>\n",
       "      <th>max_valid_date</th>\n",
       "    </tr>\n",
       "  </thead>\n",
       "  <tbody>\n",
       "    <tr>\n",
       "      <th>3</th>\n",
       "      <td>is_desinfected_mean</td>\n",
       "      <td>2022-06-24</td>\n",
       "    </tr>\n",
       "    <tr>\n",
       "      <th>9</th>\n",
       "      <td>weight_M</td>\n",
       "      <td>2023-01-16</td>\n",
       "    </tr>\n",
       "    <tr>\n",
       "      <th>12</th>\n",
       "      <td>fw_cycle_length_first_mvmt_shipout</td>\n",
       "      <td>2023-02-28</td>\n",
       "    </tr>\n",
       "    <tr>\n",
       "      <th>11</th>\n",
       "      <td>temperature_cleared-before_first_feeding-mean</td>\n",
       "      <td>2023-02-28</td>\n",
       "    </tr>\n",
       "    <tr>\n",
       "      <th>7</th>\n",
       "      <td>mortality_rate-after_first_feeding-sum_Desadap...</td>\n",
       "      <td>2023-02-28</td>\n",
       "    </tr>\n",
       "    <tr>\n",
       "      <th>0</th>\n",
       "      <td>mortality_rate-whole_period-sum_Embrionaria</td>\n",
       "      <td>2023-02-28</td>\n",
       "    </tr>\n",
       "    <tr>\n",
       "      <th>4</th>\n",
       "      <td>temperature_cleared-before_first_feeding-degre...</td>\n",
       "      <td>2023-02-28</td>\n",
       "    </tr>\n",
       "    <tr>\n",
       "      <th>1</th>\n",
       "      <td>number_of_weeks_with_summer_vac_transfer</td>\n",
       "      <td>2023-02-28</td>\n",
       "    </tr>\n",
       "    <tr>\n",
       "      <th>5</th>\n",
       "      <td>is_luf_weighted</td>\n",
       "      <td>2023-02-28</td>\n",
       "    </tr>\n",
       "    <tr>\n",
       "      <th>6</th>\n",
       "      <td>vac_fish_count_mean</td>\n",
       "      <td>2023-10-08</td>\n",
       "    </tr>\n",
       "    <tr>\n",
       "      <th>8</th>\n",
       "      <td>mortality_rate-6_weeks_before_transfer-sum</td>\n",
       "      <td>2023-10-08</td>\n",
       "    </tr>\n",
       "    <tr>\n",
       "      <th>17</th>\n",
       "      <td>temperature_cleared-transfer_feeding-degree_days</td>\n",
       "      <td>2023-10-08</td>\n",
       "    </tr>\n",
       "    <tr>\n",
       "      <th>10</th>\n",
       "      <td>is_nacl-whole_period-sum</td>\n",
       "      <td>2023-10-08</td>\n",
       "    </tr>\n",
       "    <tr>\n",
       "      <th>2</th>\n",
       "      <td>is_nacl-after_first_feeding-sum</td>\n",
       "      <td>2023-10-08</td>\n",
       "    </tr>\n",
       "    <tr>\n",
       "      <th>13</th>\n",
       "      <td>is_bronopol-whole_period-sum</td>\n",
       "      <td>2023-10-08</td>\n",
       "    </tr>\n",
       "    <tr>\n",
       "      <th>14</th>\n",
       "      <td>drop_count_coef=0.5</td>\n",
       "      <td>2023-10-08</td>\n",
       "    </tr>\n",
       "    <tr>\n",
       "      <th>15</th>\n",
       "      <td>temperature_fw_sw_diff</td>\n",
       "      <td>2023-10-08</td>\n",
       "    </tr>\n",
       "    <tr>\n",
       "      <th>16</th>\n",
       "      <td>is_cloramina t-whole_period-sum</td>\n",
       "      <td>2023-10-08</td>\n",
       "    </tr>\n",
       "    <tr>\n",
       "      <th>19</th>\n",
       "      <td>temperature_cleared-transfer_feeding-median</td>\n",
       "      <td>2023-10-08</td>\n",
       "    </tr>\n",
       "    <tr>\n",
       "      <th>18</th>\n",
       "      <td>sfr-4_weeks_before_transfer-relative_lower_min...</td>\n",
       "      <td>NaT</td>\n",
       "    </tr>\n",
       "  </tbody>\n",
       "</table>\n",
       "</div>"
      ],
      "text/plain": [
       "                                              feature max_valid_date\n",
       "3                                 is_desinfected_mean     2022-06-24\n",
       "9                                            weight_M     2023-01-16\n",
       "12                 fw_cycle_length_first_mvmt_shipout     2023-02-28\n",
       "11      temperature_cleared-before_first_feeding-mean     2023-02-28\n",
       "7   mortality_rate-after_first_feeding-sum_Desadap...     2023-02-28\n",
       "0         mortality_rate-whole_period-sum_Embrionaria     2023-02-28\n",
       "4   temperature_cleared-before_first_feeding-degre...     2023-02-28\n",
       "1            number_of_weeks_with_summer_vac_transfer     2023-02-28\n",
       "5                                     is_luf_weighted     2023-02-28\n",
       "6                                 vac_fish_count_mean     2023-10-08\n",
       "8          mortality_rate-6_weeks_before_transfer-sum     2023-10-08\n",
       "17   temperature_cleared-transfer_feeding-degree_days     2023-10-08\n",
       "10                           is_nacl-whole_period-sum     2023-10-08\n",
       "2                     is_nacl-after_first_feeding-sum     2023-10-08\n",
       "13                       is_bronopol-whole_period-sum     2023-10-08\n",
       "14                                drop_count_coef=0.5     2023-10-08\n",
       "15                             temperature_fw_sw_diff     2023-10-08\n",
       "16                    is_cloramina t-whole_period-sum     2023-10-08\n",
       "19        temperature_cleared-transfer_feeding-median     2023-10-08\n",
       "18  sfr-4_weeks_before_transfer-relative_lower_min...            NaT"
      ]
     },
     "execution_count": 251,
     "metadata": {},
     "output_type": "execute_result"
    }
   ],
   "source": [
    "res = []\n",
    "for f in features:\n",
    "    res.append([f, data_targets.loc[data_targets[f].notna(), 'transfer_date'].max()])\n",
    "res = pd.DataFrame(res, columns=['feature', 'max_valid_date'])\n",
    "res.sort_values('max_valid_date')"
   ]
  },
  {
   "cell_type": "code",
   "execution_count": 223,
   "id": "dfd3da43-e61c-4418-b8d4-7d4abf54ba64",
   "metadata": {
    "tags": []
   },
   "outputs": [],
   "source": [
    "features = [\n",
    "    'is_nacl-after_first_feeding-sum',\n",
    "    'vac_fish_count_mean',\n",
    "    'mortality_rate-6_weeks_before_transfer-sum',\n",
    "    'is_nacl-whole_period-sum',\n",
    "    'is_bronopol-whole_period-sum',\n",
    "    'drop_count_coef=0.5',\n",
    "    'temperature_fw_sw_diff',\n",
    "    'temperature_cleared-transfer_feeding-degree_days',\n",
    "    'temperature_cleared-transfer_feeding-median'\n",
    "]"
   ]
  },
  {
   "cell_type": "markdown",
   "id": "bf2cd9e3",
   "metadata": {},
   "source": [
    "### Train"
   ]
  },
  {
   "cell_type": "code",
   "execution_count": 167,
   "id": "71b4a5d1",
   "metadata": {
    "tags": []
   },
   "outputs": [
    {
     "name": "stdout",
     "output_type": "stream",
     "text": [
      "-0.11191244762078212\n",
      "{'colsample_bytree': 0.7, 'learning_rate': 0.07, 'max_depth': 5, 'min_child_weight': 4, 'n_estimators': 500, 'nthread': 4, 'objective': 'reg:linear', 'silent': 1, 'subsample': 0.7, 'verbosity': 0}\n"
     ]
    },
    {
     "data": {
      "text/html": [
       "<div>\n",
       "<style scoped>\n",
       "    .dataframe tbody tr th:only-of-type {\n",
       "        vertical-align: middle;\n",
       "    }\n",
       "\n",
       "    .dataframe tbody tr th {\n",
       "        vertical-align: top;\n",
       "    }\n",
       "\n",
       "    .dataframe thead th {\n",
       "        text-align: right;\n",
       "    }\n",
       "</style>\n",
       "<table border=\"1\" class=\"dataframe\">\n",
       "  <thead>\n",
       "    <tr style=\"text-align: right;\">\n",
       "      <th></th>\n",
       "      <th>smape_acc_train</th>\n",
       "      <th>smape_acc_val</th>\n",
       "      <th>smape_acc_test</th>\n",
       "      <th>train/val_N</th>\n",
       "      <th>test_N</th>\n",
       "      <th>mae</th>\n",
       "      <th>median_true_average_value</th>\n",
       "      <th>median_pred_average_value</th>\n",
       "      <th>std_error</th>\n",
       "    </tr>\n",
       "  </thead>\n",
       "  <tbody>\n",
       "    <tr>\n",
       "      <th>0</th>\n",
       "      <td>91.323311</td>\n",
       "      <td>80.92084</td>\n",
       "      <td>71.856052</td>\n",
       "      <td>1375</td>\n",
       "      <td>142</td>\n",
       "      <td>0.007962</td>\n",
       "      <td>0.00852</td>\n",
       "      <td>0.010974</td>\n",
       "      <td>0.011816</td>\n",
       "    </tr>\n",
       "  </tbody>\n",
       "</table>\n",
       "</div>"
      ],
      "text/plain": [
       "   smape_acc_train  smape_acc_val  smape_acc_test  train/val_N  test_N  \\\n",
       "0        91.323311       80.92084       71.856052         1375     142   \n",
       "\n",
       "        mae  median_true_average_value  median_pred_average_value  std_error  \n",
       "0  0.007962                    0.00852                   0.010974   0.011816  "
      ]
     },
     "metadata": {},
     "output_type": "display_data"
    },
    {
     "data": {
      "image/png": "[encoded data removed]",
      "text/plain": [
       "<Figure size 1080x504 with 1 Axes>"
      ]
     },
     "metadata": {},
     "output_type": "display_data"
    },
    {
     "data": {
      "image/png": "[encoded data removed]",
      "text/plain": [
       "<Figure size 720x504 with 1 Axes>"
      ]
     },
     "metadata": {},
     "output_type": "display_data"
    },
    {
     "data": {
      "image/png": "[encoded data removed]",
      "text/plain": [
       "<Figure size 1440x504 with 1 Axes>"
      ]
     },
     "metadata": {},
     "output_type": "display_data"
    },
    {
     "data": {
      "image/png": "[encoded data removed]",
      "text/plain": [
       "<Figure size 1440x504 with 1 Axes>"
      ]
     },
     "metadata": {},
     "output_type": "display_data"
    }
   ],
   "source": [
    "sns.set_style('whitegrid')\n",
    "\n",
    "data = train_data_scaled.copy()\n",
    "target = 'log_mortality'\n",
    "#features = final_features.copy()\n",
    "# features = final_features_top10.copy()\n",
    "\n",
    "baseline = ModelPipeline(\n",
    "    data=data,\n",
    "    features=features,\n",
    "    target=target,\n",
    "    model = xgb.XGBRegressor\n",
    ")\n",
    "baseline.process()\n",
    "\n",
    "y_pred = np.exp(baseline.model_best.predict(test_data_scaled[features]))\n",
    "y_true = test_data['mortality']\n",
    "\n",
    "#y_pred = baseline.model_best.predict(test_data_scaled[features])\n",
    "#y_true = test_data['log_mortality']\n",
    "\n",
    "metrics = {\n",
    "    'smape_acc_train': 100-baseline.smape_train,\n",
    "    'smape_acc_val': 100-baseline.smape_val,\n",
    "    'smape_acc_test': 100-smape(y_true, y_pred),\n",
    "    'train/val_N': len(data),\n",
    "    'test_N': len(y_pred),\n",
    "    'mae': (y_true - y_pred).abs().mean(), #mean_absolute_error(y_true, y_pred),\n",
    "    #'mape': mape(y_true, y_pred),\n",
    "    'median_true_average_value': np.median(y_true),\n",
    "    'median_pred_average_value': np.median(y_pred),\n",
    "    'std_error': np.std(y_true - y_pred),\n",
    "}\n",
    "\n",
    "# y_true_perc = y_true * 100\n",
    "# y_pred_perc = y_pred * 100\n",
    "\n",
    "diff_original = y_true - y_pred\n",
    "# diff_perc = y_true_perc - y_pred_perc\n",
    "\n",
    "#save_path = img_path / 'predictive' / 'errors'\n",
    "#save_path.mkdir(exist_ok=True)\n",
    "\n",
    "fig = plt.figure(figsize=(10, 7))\n",
    "# plt.subplot(1, 2, 1)\n",
    "plt.title(f\"Original pred vs. true scatter (smape={round(smape(y_true, y_pred), 2)}%), test_min_date={test_min_date}, test_max_date={test_max_date}\")\n",
    "plt.scatter(x=y_true, y=y_pred)\n",
    "min_val = min(min(y_true), min(y_pred))\n",
    "max_val = max(max(y_true), max(y_pred))\n",
    "plt.plot([min_val, max_val], [min_val, max_val], linestyle='--', color='gray')\n",
    "plt.xlabel('True Values')\n",
    "plt.ylabel('Predicted Values')\n",
    "plt.tight_layout()\n",
    "fig.savefig(f'../data/images/{target}_prediction_scatter.jpg')\n",
    "\n",
    "fig = plt.figure(figsize=(20, 7))\n",
    "plt.title(f\"Original error distribution (smape={round(smape(y_true, y_pred), 2)}%), test_min_date={test_min_date}, test_max_date={test_max_date}\")\n",
    "plt.hist(diff_original, bins=20)\n",
    "plt.tight_layout()\n",
    "fig.savefig(f'../data/images/{target}_error_distribution.jpg')\n",
    "\n",
    "df_metrics = pd.DataFrame(metrics, index=[0])\n",
    "display(df_metrics)\n",
    "df_metrics.to_csv(f'../data/images/{target}_model_metrics.csv',index=False)\n",
    "\n",
    "save_stats(\n",
    "    baseline,\n",
    "    save_path='../data/images/',\n",
    "    img_save_path='../data/images/',\n",
    "    prefix=target\n",
    ")"
   ]
  },
  {
   "cell_type": "code",
   "execution_count": 172,
   "id": "9dc0276e",
   "metadata": {
    "tags": []
   },
   "outputs": [
    {
     "data": {
      "text/plain": [
       "temperature_fw_sw_diff                              0.197776\n",
       "temperature_cleared-transfer_feeding-degree_days    0.161113\n",
       "temperature_cleared-transfer_feeding-median         0.128132\n",
       "mortality_rate-6_weeks_before_transfer-sum          0.122488\n",
       "is_nacl-whole_period-sum                            0.122321\n",
       "vac_fish_count_mean                                 0.093122\n",
       "drop_count_coef=0.5                                 0.092494\n",
       "is_bronopol-whole_period-sum                        0.082554\n",
       "is_nacl-after_first_feeding-sum                     0.000000\n",
       "dtype: float32"
      ]
     },
     "execution_count": 172,
     "metadata": {},
     "output_type": "execute_result"
    }
   ],
   "source": [
    "baseline.model_factors.sort_values(ascending=False)"
   ]
  },
  {
   "cell_type": "code",
   "execution_count": 173,
   "id": "5378275f-de38-4c5b-a63e-c585292df72c",
   "metadata": {
    "tags": []
   },
   "outputs": [],
   "source": [
    "latest_pred = np.exp(baseline.model_best.predict(pred_data[features]))\n",
    "pred_data['prediction'] = latest_pred"
   ]
  },
  {
   "cell_type": "code",
   "execution_count": 174,
   "id": "5b7c473d-77cb-47d6-8514-c3bc70fad1f0",
   "metadata": {
    "tags": []
   },
   "outputs": [
    {
     "data": {
      "text/html": [
       "<div>\n",
       "<style scoped>\n",
       "    .dataframe tbody tr th:only-of-type {\n",
       "        vertical-align: middle;\n",
       "    }\n",
       "\n",
       "    .dataframe tbody tr th {\n",
       "        vertical-align: top;\n",
       "    }\n",
       "\n",
       "    .dataframe thead th {\n",
       "        text-align: right;\n",
       "    }\n",
       "</style>\n",
       "<table border=\"1\" class=\"dataframe\">\n",
       "  <thead>\n",
       "    <tr style=\"text-align: right;\">\n",
       "      <th></th>\n",
       "      <th>fish_group_id</th>\n",
       "      <th>locus_id</th>\n",
       "      <th>transfer_date</th>\n",
       "      <th>prediction</th>\n",
       "    </tr>\n",
       "  </thead>\n",
       "  <tbody>\n",
       "    <tr>\n",
       "      <th>1398</th>\n",
       "      <td>6973</td>\n",
       "      <td>6407852</td>\n",
       "      <td>2023-10-23</td>\n",
       "      <td>0.012953</td>\n",
       "    </tr>\n",
       "    <tr>\n",
       "      <th>1399</th>\n",
       "      <td>6973</td>\n",
       "      <td>6407853</td>\n",
       "      <td>2023-10-23</td>\n",
       "      <td>0.012953</td>\n",
       "    </tr>\n",
       "    <tr>\n",
       "      <th>1401</th>\n",
       "      <td>6973</td>\n",
       "      <td>6407854</td>\n",
       "      <td>2023-10-24</td>\n",
       "      <td>0.013158</td>\n",
       "    </tr>\n",
       "    <tr>\n",
       "      <th>1402</th>\n",
       "      <td>6973</td>\n",
       "      <td>6407860</td>\n",
       "      <td>2023-10-24</td>\n",
       "      <td>0.012953</td>\n",
       "    </tr>\n",
       "    <tr>\n",
       "      <th>1403</th>\n",
       "      <td>6973</td>\n",
       "      <td>6407861</td>\n",
       "      <td>2023-10-25</td>\n",
       "      <td>0.012953</td>\n",
       "    </tr>\n",
       "    <tr>\n",
       "      <th>1404</th>\n",
       "      <td>6973</td>\n",
       "      <td>6407862</td>\n",
       "      <td>2023-10-25</td>\n",
       "      <td>0.012953</td>\n",
       "    </tr>\n",
       "    <tr>\n",
       "      <th>1405</th>\n",
       "      <td>6973</td>\n",
       "      <td>6407863</td>\n",
       "      <td>2023-10-25</td>\n",
       "      <td>0.012956</td>\n",
       "    </tr>\n",
       "    <tr>\n",
       "      <th>1410</th>\n",
       "      <td>6982</td>\n",
       "      <td>7150091</td>\n",
       "      <td>2023-10-30</td>\n",
       "      <td>0.012956</td>\n",
       "    </tr>\n",
       "    <tr>\n",
       "      <th>1412</th>\n",
       "      <td>6987</td>\n",
       "      <td>7150092</td>\n",
       "      <td>2023-12-11</td>\n",
       "      <td>0.016756</td>\n",
       "    </tr>\n",
       "    <tr>\n",
       "      <th>1414</th>\n",
       "      <td>6982</td>\n",
       "      <td>7150093</td>\n",
       "      <td>2023-10-30</td>\n",
       "      <td>0.012956</td>\n",
       "    </tr>\n",
       "    <tr>\n",
       "      <th>1415</th>\n",
       "      <td>6987</td>\n",
       "      <td>7150094</td>\n",
       "      <td>2023-12-11</td>\n",
       "      <td>0.017482</td>\n",
       "    </tr>\n",
       "    <tr>\n",
       "      <th>1417</th>\n",
       "      <td>6987</td>\n",
       "      <td>7150095</td>\n",
       "      <td>2023-11-20</td>\n",
       "      <td>0.012956</td>\n",
       "    </tr>\n",
       "    <tr>\n",
       "      <th>1419</th>\n",
       "      <td>6987</td>\n",
       "      <td>7150096</td>\n",
       "      <td>2023-12-05</td>\n",
       "      <td>0.016470</td>\n",
       "    </tr>\n",
       "    <tr>\n",
       "      <th>1421</th>\n",
       "      <td>6987</td>\n",
       "      <td>7150097</td>\n",
       "      <td>2023-12-05</td>\n",
       "      <td>0.012345</td>\n",
       "    </tr>\n",
       "    <tr>\n",
       "      <th>1423</th>\n",
       "      <td>6987</td>\n",
       "      <td>7150098</td>\n",
       "      <td>2023-12-05</td>\n",
       "      <td>0.012956</td>\n",
       "    </tr>\n",
       "    <tr>\n",
       "      <th>1425</th>\n",
       "      <td>6987</td>\n",
       "      <td>7150099</td>\n",
       "      <td>2023-12-04</td>\n",
       "      <td>0.013161</td>\n",
       "    </tr>\n",
       "    <tr>\n",
       "      <th>1427</th>\n",
       "      <td>6987</td>\n",
       "      <td>7150100</td>\n",
       "      <td>2023-12-05</td>\n",
       "      <td>0.012956</td>\n",
       "    </tr>\n",
       "  </tbody>\n",
       "</table>\n",
       "</div>"
      ],
      "text/plain": [
       "      fish_group_id  locus_id transfer_date  prediction\n",
       "1398           6973   6407852    2023-10-23    0.012953\n",
       "1399           6973   6407853    2023-10-23    0.012953\n",
       "1401           6973   6407854    2023-10-24    0.013158\n",
       "1402           6973   6407860    2023-10-24    0.012953\n",
       "1403           6973   6407861    2023-10-25    0.012953\n",
       "1404           6973   6407862    2023-10-25    0.012953\n",
       "1405           6973   6407863    2023-10-25    0.012956\n",
       "1410           6982   7150091    2023-10-30    0.012956\n",
       "1412           6987   7150092    2023-12-11    0.016756\n",
       "1414           6982   7150093    2023-10-30    0.012956\n",
       "1415           6987   7150094    2023-12-11    0.017482\n",
       "1417           6987   7150095    2023-11-20    0.012956\n",
       "1419           6987   7150096    2023-12-05    0.016470\n",
       "1421           6987   7150097    2023-12-05    0.012345\n",
       "1423           6987   7150098    2023-12-05    0.012956\n",
       "1425           6987   7150099    2023-12-04    0.013161\n",
       "1427           6987   7150100    2023-12-05    0.012956"
      ]
     },
     "execution_count": 174,
     "metadata": {},
     "output_type": "execute_result"
    }
   ],
   "source": [
    "pred_data[['fish_group_id', 'locus_id', 'transfer_date', 'prediction']]"
   ]
  },
  {
   "cell_type": "code",
   "execution_count": 171,
   "id": "8c807ce4",
   "metadata": {
    "tags": []
   },
   "outputs": [],
   "source": [
    "from sklearn.metrics import confusion_matrix, precision_recall_fscore_support\n",
    "\n",
    "def confusion_df(true, pred):\n",
    "    classes = [c for c in BUCKET_LABELS if c in true.unique()]\n",
    "    cm = confusion_matrix(true, pred, labels=classes)\n",
    "    cm_df = pd.DataFrame(cm, index=classes, columns=classes)\n",
    "    cm_df.index.name = 'Actual'\n",
    "    cm_df.columns.name = 'Predicted'\n",
    "    return cm_df\n",
    "\n",
    "def create_confusion_matrix_and_metrics(true, pred):\n",
    "    classes = ['low', 'medium', 'high', 'extreme']\n",
    "    cm = confusion_matrix(true, pred, labels=classes)\n",
    "    cm_df = pd.DataFrame(cm, index=classes, columns=classes)\n",
    "    cm_df.index.name = 'Actual'\n",
    "    cm_df.columns.name = 'Predicted'\n",
    "\n",
    "    TPs, TNs, FPs, FNs = {}, {}, {}, {}\n",
    "    F_scores, FPRs = {}, {}\n",
    "\n",
    "    # Calculate TP, TN, FP, FN, F-score, FPR for each class\n",
    "    for i, class_name in enumerate(classes):\n",
    "        TP = cm[i, i]\n",
    "        FP = cm[:, i].sum() - TP\n",
    "        FN = cm[i, :].sum() - TP\n",
    "        TN = cm.sum().sum() - (TP + FP + FN)\n",
    "\n",
    "        TPs[class_name] = TP\n",
    "        TNs[class_name] = TN\n",
    "        FPs[class_name] = FP\n",
    "        FNs[class_name] = FN\n",
    "\n",
    "        precision, recall, f_score, _ = precision_recall_fscore_support(true, pred, labels=[class_name])\n",
    "        F_scores[class_name] = f_score[0]\n",
    "        FPRs[class_name] = FP / (FP + TN) if (FP + TN) != 0 else 0\n",
    "\n",
    "    metrics_df = pd.DataFrame({\n",
    "        'TP': TPs, 'TN': TNs, 'FP': FPs, 'FN': FNs,\n",
    "        'F-score': F_scores, 'FPR': FPRs\n",
    "    })\n",
    "\n",
    "    return cm_df, metrics_df"
   ]
  },
  {
   "cell_type": "code",
   "execution_count": null,
   "id": "7310651c-7bff-4d20-81ef-6941ecdca52b",
   "metadata": {},
   "outputs": [],
   "source": []
  },
  {
   "cell_type": "code",
   "execution_count": 173,
   "id": "2f1c4c7a-5187-41e7-ad9c-b4b8fdad55f9",
   "metadata": {
    "tags": []
   },
   "outputs": [
    {
     "data": {
      "text/plain": [
       "(Predicted  low  medium  high  extreme\n",
       " Actual                               \n",
       " low          9       9     2       12\n",
       " medium       9      20    11        6\n",
       " high         2      23    11        8\n",
       " extreme      1       2     0        0,\n",
       "          TP  TN  FP  FN   F-score       FPR\n",
       " low       9  81  12  23  0.339623  0.129032\n",
       " medium   20  45  34  26  0.400000  0.430380\n",
       " high     11  68  13  33  0.323529  0.160494\n",
       " extreme   0  96  26   3  0.000000  0.213115)"
      ]
     },
     "execution_count": 173,
     "metadata": {},
     "output_type": "execute_result"
    }
   ],
   "source": [
    "pred_group = pd.cut(y_pred, labels=BUCKET_LABELS, bins=[0,] + bins).astype(str)\n",
    "true_group = test_data['target_group'].astype(str)\n",
    "create_confusion_matrix_and_metrics(true_group, pred_group)"
   ]
  },
  {
   "cell_type": "code",
   "execution_count": null,
   "id": "cb6303e6-9052-4b9a-a5f3-f0b15459a529",
   "metadata": {
    "tags": []
   },
   "outputs": [],
   "source": []
  },
  {
   "cell_type": "code",
   "execution_count": null,
   "id": "247f73ed-107c-405d-92d5-c326c854b5c4",
   "metadata": {},
   "outputs": [],
   "source": []
  }
 ],
 "metadata": {
  "kernelspec": {
   "display_name": "Python 3 (ipykernel)",
   "language": "python",
   "name": "python3"
  },
  "language_info": {
   "codemirror_mode": {
    "name": "ipython",
    "version": 3
   },
   "file_extension": ".py",
   "mimetype": "text/x-python",
   "name": "python",
   "nbconvert_exporter": "python",
   "pygments_lexer": "ipython3",
   "version": "3.9.7"
  }
 },
 "nbformat": 4,
 "nbformat_minor": 5
}
