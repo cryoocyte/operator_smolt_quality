{
 "cells": [
  {
   "cell_type": "code",
   "execution_count": 1,
   "id": "7cc8e66c",
   "metadata": {
    "tags": []
   },
   "outputs": [],
   "source": [
    "# !pip install -U kaleido\n",
    "import pandas as pd\n",
    "import numpy as np\n",
    "from pathlib import Path\n",
    "from functools import reduce\n",
    "from matplotlib import pyplot as plt\n",
    "import seaborn as sns\n",
    "from matplotlib.ticker import MaxNLocator\n",
    "\n",
    "from sklearn.preprocessing import RobustScaler, StandardScaler\n",
    "from sklearn.decomposition import PCA\n",
    "from sklearn.cluster import KMeans, k_means\n",
    "from sklearn.manifold import TSNE\n",
    "from sklearn.model_selection import train_test_split\n",
    "\n",
    "import xgboost as xgb\n",
    "\n",
    "import plotly.express as px\n",
    "from sklearn.model_selection import GridSearchCV\n",
    "from sklearn.metrics import r2_score, mean_absolute_percentage_error, mean_squared_error\n",
    "from sklearn.metrics import SCORERS\n",
    "\n",
    "pd.set_option('display.max_rows', None)\n",
    "pd.set_option('display.max_columns', None)\n",
    "\n",
    "# To reset the option to its default value (e.g., to limit output again), you can use:\n",
    "# pd.reset_option('display.max_rows')"
   ]
  },
  {
   "cell_type": "markdown",
   "id": "5c902633",
   "metadata": {},
   "source": [
    "## Preprocessing"
   ]
  },
  {
   "cell_type": "code",
   "execution_count": 2,
   "id": "37c90976",
   "metadata": {
    "tags": []
   },
   "outputs": [],
   "source": [
    "TIME_FORMAT = '%Y-%m-%d'\n",
    "DROPNA = False\n",
    "key_columns = ['locus_id', 'fish_group_id', 'transfer_year']\n",
    "\n",
    "root_path = Path('../data/')\n",
    "\n",
    "targets = pd.read_csv(root_path / 'targets.csv')\n",
    "\n",
    "mortality = pd.read_csv('../data/smolt_dataset_transfers.csv') #_until2023Feb28_narrow\n",
    "mortality['transfer_date'] = pd.to_datetime(mortality['transfer_date'], format=TIME_FORMAT)\n",
    "mortality['transport_year']= mortality['transfer_date'].dt.year\n",
    "\n",
    "#tgc = pd.read_csv('../data/transfers_until2023Feb28_with_sw_growth_targets.csv')\n",
    "img_path = Path('./img')\n",
    "result_data_path = Path('./result_data')\n",
    "img_path.mkdir(exist_ok=True)\n",
    "result_data_path.mkdir(exist_ok=True)"
   ]
  },
  {
   "cell_type": "code",
   "execution_count": 3,
   "id": "f030d4b6-d6f8-4036-8fc8-349a156a0491",
   "metadata": {
    "tags": []
   },
   "outputs": [],
   "source": [
    "factors_ammonium = pd.read_csv(root_path / 'factors_ammonium_UPD.csv')\n",
    "features_ammonium = ['ammonium-4_weeks_before_transfer-std',\n",
    "                     'ammonium-8_weeks_before_transfer-max',\n",
    "                     'ammonium-2_weeks_before_transfer-mean',\n",
    "                     'ammonium-4_weeks_before_transfer-cv',\n",
    "                     'ammonium-6_weeks_before_transfer-relative_higher_max-1']\n",
    "factors_ammonium = factors_ammonium[key_columns + features_ammonium]"
   ]
  },
  {
   "cell_type": "code",
   "execution_count": 4,
   "id": "a627420f-b6ac-45ea-830a-4c08ca227a3c",
   "metadata": {
    "tags": []
   },
   "outputs": [
    {
     "data": {
      "text/plain": [
       "Index(['locus_id', 'fish_group_id', 'transfer_year',\n",
       "       'ammonium-4_weeks_before_transfer-std',\n",
       "       'ammonium-8_weeks_before_transfer-max',\n",
       "       'ammonium-2_weeks_before_transfer-mean',\n",
       "       'ammonium-4_weeks_before_transfer-cv',\n",
       "       'ammonium-6_weeks_before_transfer-relative_higher_max-1'],\n",
       "      dtype='object')"
      ]
     },
     "execution_count": 4,
     "metadata": {},
     "output_type": "execute_result"
    }
   ],
   "source": [
    "factors_ammonium.columns"
   ]
  },
  {
   "cell_type": "code",
   "execution_count": 5,
   "id": "fa734fe6-460f-4fac-af3e-5dbe27151777",
   "metadata": {
    "tags": []
   },
   "outputs": [],
   "source": [
    "factors_luf = pd.read_csv(root_path / 'feed_luf_factors.csv')\n",
    "features_luf = ['is_luf_weighted']\n",
    "factors_luf = factors_luf[key_columns + features_luf]"
   ]
  },
  {
   "cell_type": "code",
   "execution_count": 6,
   "id": "24fdf6cf-42a9-42fe-a879-9a9128e5be50",
   "metadata": {
    "tags": []
   },
   "outputs": [
    {
     "data": {
      "text/plain": [
       "Index(['locus_id', 'fish_group_id', 'transfer_year', 'is_luf_weighted'], dtype='object')"
      ]
     },
     "execution_count": 6,
     "metadata": {},
     "output_type": "execute_result"
    }
   ],
   "source": [
    "factors_luf.columns"
   ]
  },
  {
   "cell_type": "code",
   "execution_count": 7,
   "id": "d9662c13-ffe9-484d-82e2-027ab582a672",
   "metadata": {
    "tags": []
   },
   "outputs": [],
   "source": [
    "factors_feed_1 = pd.read_csv(root_path / 'significant_factors_feed_part1.csv')\n",
    "features_feed_1 = ['lower_mean_days_coef=0.33',\n",
    "                  'drop_count_coef=0.5']\n",
    "factors_feed_1 = factors_feed_1[key_columns + features_feed_1]\n",
    "\n",
    "factors_feed_2 = pd.read_csv(root_path / 'significant_factors_feed_part2.csv')\n",
    "features_feed_2 = ['eight_last_weeks-tgc']\n",
    "factors_feed_2 = factors_feed_2[key_columns + features_feed_2]\n",
    "\n",
    "factors_feed_3 = pd.read_csv(root_path / 'significant_factors_feed_part3.csv')\n",
    "features_feed_3 = ['eight_last_weeks-fcr',\n",
    "                 'eight_last_weeks-sfr']\n",
    "factors_feed_3 = factors_feed_3[key_columns + features_feed_3]"
   ]
  },
  {
   "cell_type": "code",
   "execution_count": 8,
   "id": "6f37260b-0458-4036-a692-a38861e386c2",
   "metadata": {
    "tags": []
   },
   "outputs": [
    {
     "data": {
      "text/plain": [
       "Index(['locus_id', 'fish_group_id', 'transfer_year',\n",
       "       'lower_mean_days_coef=0.33', 'drop_count_coef=0.5'],\n",
       "      dtype='object')"
      ]
     },
     "execution_count": 8,
     "metadata": {},
     "output_type": "execute_result"
    }
   ],
   "source": [
    "factors_feed_1.columns"
   ]
  },
  {
   "cell_type": "code",
   "execution_count": 9,
   "id": "7269ec55-91d3-4d4e-8720-261ea27eed1c",
   "metadata": {
    "tags": []
   },
   "outputs": [
    {
     "data": {
      "text/plain": [
       "Index(['locus_id', 'fish_group_id', 'transfer_year', 'eight_last_weeks-tgc'], dtype='object')"
      ]
     },
     "execution_count": 9,
     "metadata": {},
     "output_type": "execute_result"
    }
   ],
   "source": [
    "factors_feed_2.columns"
   ]
  },
  {
   "cell_type": "code",
   "execution_count": 10,
   "id": "fea0947c-2def-48ff-bdf1-f384780d59e6",
   "metadata": {
    "tags": []
   },
   "outputs": [
    {
     "data": {
      "text/plain": [
       "Index(['locus_id', 'fish_group_id', 'transfer_year', 'eight_last_weeks-fcr',\n",
       "       'eight_last_weeks-sfr'],\n",
       "      dtype='object')"
      ]
     },
     "execution_count": 10,
     "metadata": {},
     "output_type": "execute_result"
    }
   ],
   "source": [
    "factors_feed_3.columns"
   ]
  },
  {
   "cell_type": "code",
   "execution_count": 11,
   "id": "dac84f25-357d-4a1e-a13e-60e671ce98c0",
   "metadata": {
    "tags": []
   },
   "outputs": [],
   "source": [
    "factors_mortality = pd.read_csv(root_path / 'factors_mortality_rate_no_productiva.csv') #_UPD\n",
    "features_mortality = ['mortality_rate-6_weeks_before_transfer-sum']\n",
    "factors_mortality = factors_mortality[key_columns + features_mortality]\n",
    "\n",
    "factors_mortality_reasons = pd.read_csv(root_path / 'factors_mortality_rate_Desadaptado.csv')\n",
    "features_mortality_reasons = ['mortality_rate-after_first_feeding-sum',\n",
    "                              #'mortality_rate-whole_period-sum_Eliminación Deforme',\n",
    "                              #'mortality_rate-whole_period-sum_Eliminación Plateado',\n",
    "                              #'mortality_rate-whole_period-sum_Eliminación Opérculo',\n",
    "                              #'mortality_rate-whole_period-sum_Embrionaria'\n",
    "                             ]\n",
    "factors_mortality_reasons = factors_mortality_reasons[key_columns + features_mortality_reasons]\n",
    "factors_mortality_reasons = factors_mortality_reasons.rename({'mortality_rate-after_first_feeding-sum': 'mortality_rate-after_first_feeding-sum_Desadaptado'}, axis=1)"
   ]
  },
  {
   "cell_type": "code",
   "execution_count": 12,
   "id": "5e422a58-3b65-429d-b90c-399791592332",
   "metadata": {
    "tags": []
   },
   "outputs": [
    {
     "data": {
      "text/plain": [
       "transfer_year\n",
       "2019    276\n",
       "2018    232\n",
       "2017    224\n",
       "2020    214\n",
       "2023    183\n",
       "2021    154\n",
       "2022    124\n",
       "Name: count, dtype: int64"
      ]
     },
     "execution_count": 12,
     "metadata": {},
     "output_type": "execute_result"
    }
   ],
   "source": [
    "factors_mortality_reasons['transfer_year'].value_counts()"
   ]
  },
  {
   "cell_type": "code",
   "execution_count": 13,
   "id": "891a1701-c68a-46ca-974f-c964421661f4",
   "metadata": {
    "tags": []
   },
   "outputs": [
    {
     "data": {
      "text/plain": [
       "Index(['locus_id', 'fish_group_id', 'transfer_year',\n",
       "       'mortality_rate-6_weeks_before_transfer-sum'],\n",
       "      dtype='object')"
      ]
     },
     "execution_count": 13,
     "metadata": {},
     "output_type": "execute_result"
    }
   ],
   "source": [
    "factors_mortality.columns"
   ]
  },
  {
   "cell_type": "code",
   "execution_count": 14,
   "id": "b5326ce0-e485-4ba8-b851-fc2923989be6",
   "metadata": {
    "tags": []
   },
   "outputs": [
    {
     "data": {
      "text/plain": [
       "Index(['locus_id', 'fish_group_id', 'transfer_year',\n",
       "       'mortality_rate-after_first_feeding-sum_Desadaptado'],\n",
       "      dtype='object')"
      ]
     },
     "execution_count": 14,
     "metadata": {},
     "output_type": "execute_result"
    }
   ],
   "source": [
    "factors_mortality_reasons.columns"
   ]
  },
  {
   "cell_type": "code",
   "execution_count": 15,
   "id": "75305376-052b-47d2-80cb-029be715166c",
   "metadata": {
    "tags": []
   },
   "outputs": [],
   "source": [
    "factors_producer = pd.read_csv(root_path / 'feed_producer_significant_factors.csv')\n",
    "features_producer = ['weight_BI']\n",
    "factors_producer = factors_producer[key_columns + features_producer]"
   ]
  },
  {
   "cell_type": "code",
   "execution_count": 16,
   "id": "72cffa84-3ee9-403e-add5-80cd1a8f4b95",
   "metadata": {
    "tags": []
   },
   "outputs": [
    {
     "data": {
      "text/plain": [
       "Index(['locus_id', 'fish_group_id', 'transfer_year', 'weight_BI'], dtype='object')"
      ]
     },
     "execution_count": 16,
     "metadata": {},
     "output_type": "execute_result"
    }
   ],
   "source": [
    "factors_producer.columns"
   ]
  },
  {
   "cell_type": "code",
   "execution_count": 17,
   "id": "10727aa3-72bf-4917-b083-4fe279bbf86d",
   "metadata": {
    "tags": []
   },
   "outputs": [],
   "source": [
    "factors_ph = pd.read_csv(root_path / 'significant_factors_ph_smoothed.csv')\n",
    "features_ph = ['ph-8_weeks_before_transfer-std',\n",
    "#                'ph-8_weeks_before_transfer-max', #removed because of low interpretability\n",
    "               'ph-8_weeks_before_transfer-relative_higher_max-7.3',\n",
    "               'ph-8_weeks_before_transfer-relative_lower_min-6.9',\n",
    "               'ph-transfer_vaccination-std']\n",
    "factors_ph = factors_ph[key_columns + features_ph]"
   ]
  },
  {
   "cell_type": "code",
   "execution_count": 18,
   "id": "22fefece-0059-49ad-8663-001547ce94a4",
   "metadata": {
    "tags": []
   },
   "outputs": [
    {
     "data": {
      "text/plain": [
       "Index(['locus_id', 'fish_group_id', 'transfer_year',\n",
       "       'ph-8_weeks_before_transfer-std',\n",
       "       'ph-8_weeks_before_transfer-relative_higher_max-7.3',\n",
       "       'ph-8_weeks_before_transfer-relative_lower_min-6.9',\n",
       "       'ph-transfer_vaccination-std'],\n",
       "      dtype='object')"
      ]
     },
     "execution_count": 18,
     "metadata": {},
     "output_type": "execute_result"
    }
   ],
   "source": [
    "factors_ph.columns"
   ]
  },
  {
   "cell_type": "code",
   "execution_count": 19,
   "id": "9e7d5699-7959-44b0-97de-8beb5f5c7c66",
   "metadata": {
    "tags": []
   },
   "outputs": [],
   "source": [
    "factors_recambio = pd.read_csv(root_path / 'significant_factors_recambio_UPD.csv')\n",
    "features_recambio = ['recambio-transfer_vaccination-std',\n",
    "                     'recambio-vaccination_transfer-relative_lower_min-25',\n",
    "                     'recambio-transfer_vaccination-max']\n",
    "factors_recambio = factors_recambio[key_columns + features_recambio]"
   ]
  },
  {
   "cell_type": "code",
   "execution_count": 20,
   "id": "b87fd845-bca3-45c5-937b-62e3e24fb7b8",
   "metadata": {
    "tags": []
   },
   "outputs": [
    {
     "data": {
      "text/plain": [
       "Index(['locus_id', 'fish_group_id', 'transfer_year',\n",
       "       'recambio-transfer_vaccination-std',\n",
       "       'recambio-vaccination_transfer-relative_lower_min-25',\n",
       "       'recambio-transfer_vaccination-max'],\n",
       "      dtype='object')"
      ]
     },
     "execution_count": 20,
     "metadata": {},
     "output_type": "execute_result"
    }
   ],
   "source": [
    "factors_recambio.columns"
   ]
  },
  {
   "cell_type": "code",
   "execution_count": 21,
   "id": "e92c2d26-f749-449d-9557-a52f71d344b1",
   "metadata": {
    "tags": []
   },
   "outputs": [],
   "source": [
    "factors_sfr = pd.read_csv(root_path / 'factors_sfr.csv') #significant__UPD\n",
    "# features_sfr = ['sfr-first_feeding_transfer-relative_lower_min-0.01']\n",
    "features_sfr = [\n",
    "#        'sfr-first_feeding_transfer-relative_lower_min-0.01',\n",
    "       #'sfr-2_weeks_before_transfer-relative_lower_min-0.01',\n",
    "       #'sfr-4_weeks_before_transfer-relative_lower_min-0.01',\n",
    "        'sfr-6_weeks_before_transfer-relative_lower_min-0.01',\n",
    "#        'sfr-8_weeks_before_transfer-relative_lower_min-0.01',\n",
    "#        'sfr-vaccination_transfer-relative_lower_min-0.01'\n",
    "]\n",
    "factors_sfr = factors_sfr[key_columns + features_sfr]\n",
    "\n",
    "#Dmitrii: I have no idea why there is no sfr-4 in SFR factors, so selecting sfr-6 is just as similar to it\n",
    "factors_sfr = factors_sfr.rename({'sfr-6_weeks_before_transfer-relative_lower_min-0.01': 'sfr-4_weeks_before_transfer-relative_lower_min-0.01'},axis=1)"
   ]
  },
  {
   "cell_type": "code",
   "execution_count": 22,
   "id": "76962597-215d-4953-8db6-1c10163041f3",
   "metadata": {
    "tags": []
   },
   "outputs": [
    {
     "data": {
      "text/plain": [
       "Index(['locus_id', 'fish_group_id', 'transfer_year',\n",
       "       'sfr-4_weeks_before_transfer-relative_lower_min-0.01'],\n",
       "      dtype='object')"
      ]
     },
     "execution_count": 22,
     "metadata": {},
     "output_type": "execute_result"
    }
   ],
   "source": [
    "factors_sfr.columns"
   ]
  },
  {
   "cell_type": "code",
   "execution_count": 23,
   "id": "a7b32a07-37ed-4fac-b582-697b9b54f763",
   "metadata": {
    "tags": []
   },
   "outputs": [],
   "source": [
    "factors_temperature = pd.read_csv(root_path / 'significant_factors_temperature.csv') #_UPD\n",
    "factors_temperature2 = pd.read_csv(root_path / 'significant_factors_temperature_hatching.csv')\n",
    "factors_temperature = factors_temperature.merge(factors_temperature2, how='outer')\n",
    "\n",
    "features_temperature = ['temperature_fw_sw_diff',\n",
    "                        'temperature_cleared-before_first_feeding-mean',\n",
    "                        'temperature_cleared-before_first_feeding-degree_days',\n",
    "                       ]\n",
    "factors_temperature = factors_temperature[key_columns + features_temperature]"
   ]
  },
  {
   "cell_type": "code",
   "execution_count": 24,
   "id": "97a43f8d-e41f-4a60-b395-81d65676bd4a",
   "metadata": {
    "tags": []
   },
   "outputs": [
    {
     "data": {
      "text/plain": [
       "Index(['locus_id', 'fish_group_id', 'transfer_year', 'temperature_fw_sw_diff',\n",
       "       'temperature_cleared-before_first_feeding-mean',\n",
       "       'temperature_cleared-before_first_feeding-degree_days'],\n",
       "      dtype='object')"
      ]
     },
     "execution_count": 24,
     "metadata": {},
     "output_type": "execute_result"
    }
   ],
   "source": [
    "factors_temperature.columns"
   ]
  },
  {
   "cell_type": "code",
   "execution_count": 25,
   "id": "ca8e17fc-525c-47f9-ad0c-d8997eb9e799",
   "metadata": {
    "tags": []
   },
   "outputs": [],
   "source": [
    "factors_treatment = pd.read_csv(root_path / 'factors_treatments.csv') #_normalized\n",
    "features_treatment = [\n",
    "    'is_nacl_weighted-after_first_feeding-sum',\n",
    "    'is_nacl_weighted-whole_period-sum',\n",
    "    'is_bronopol_weighted-whole_period-sum',\n",
    "    'is_cloramina t_weighted-whole_period-sum'\n",
    "] #From feature importances\n",
    "\n",
    "# features_treatment = [\n",
    "#     'is_baño sin pmv-after_first_feeding-sum',\n",
    "#     'is_baño sin pmv-whole_period-sum',\n",
    "#     'is_bath-after_first_feeding-sum',\n",
    "#     'is_bath-whole_period-sum',\n",
    "#     'is_ipn-whole_period-sum',\n",
    "#     'is_nacl-after_first_feeding-sum',\n",
    "#     'is_nacl-whole_period-sum',\n",
    "#     'is_saprosafe aw-whole_period-sum',\n",
    "#     'is_cloramina t-whole_period-sum',\n",
    "# #     'is_lufenurón-whole_period-sum', #we have similar 'is_luf_weighted' feature from feed data source\n",
    "#     'is_bronopol-whole_period-sum',\n",
    "# ]\n",
    "factors_treatment = factors_treatment[key_columns + features_treatment]\n",
    "factors_treatment = factors_treatment.rename({\n",
    "    'is_nacl_weighted-after_first_feeding-sum': 'is_nacl-after_first_feeding-sum',\n",
    "    'is_nacl_weighted-whole_period-sum': 'is_nacl-whole_period-sum',\n",
    "    'is_bronopol_weighted-whole_period-sum': 'is_bronopol-whole_period-sum',\n",
    "    'is_cloramina t_weighted-whole_period-sum': 'is_cloramina t-whole_period-sum',\n",
    "    'is_Lufenurón_weighted': 'is_luf_weighted'\n",
    "},axis=1)\n",
    "\n",
    "\n"
   ]
  },
  {
   "cell_type": "code",
   "execution_count": 26,
   "id": "17993326-f4b7-4b63-bed4-7eb673c9d0de",
   "metadata": {
    "tags": []
   },
   "outputs": [],
   "source": [
    "factors_photoperiod = pd.read_csv(root_path / 'significant_factors_photoperiod_UPD.csv')\n",
    "features_photoperiod = [ \n",
    "    'light_days_transfer_vaccination',\n",
    "    'av.light_hours_per_day_vac',\n",
    "    'number_of_weeks_with_summer_vac_transfer_normalized',\n",
    "    'number_of_weeks_with_summer_vac_transfer'\n",
    "\n",
    "]\n",
    "factors_photoperiod = factors_photoperiod[key_columns + features_photoperiod]"
   ]
  },
  {
   "cell_type": "code",
   "execution_count": 27,
   "id": "c46b7bd0-a11f-4fc7-ade1-05faa0a08161",
   "metadata": {
    "tags": []
   },
   "outputs": [],
   "source": [
    "factors_cycle = pd.read_csv(root_path / 'factors_cycle.csv')\n",
    "factors_cycle['fw_cycle_length_first_mvmt_first_feeding']=factors_cycle['fw_cycle_length_first_mvmt_shipout']-factors_cycle['fw_cycle_length_first_feeding_shipout']\n",
    "features_cycle = [\n",
    "#     'fw_cycle_length_vac_shipout', #we have similar \"vac_conf_transfer_days\"\n",
    "    #'ups_length',\n",
    "    'fw_cycle_length_first_mvmt_shipout',\n",
    "    'fw_cycle_length_first_feeding_shipout',\n",
    "    'fw_cycle_length_first_mvmt_first_feeding'\n",
    "]\n",
    "factors_cycle = factors_cycle[key_columns + features_cycle]"
   ]
  },
  {
   "cell_type": "code",
   "execution_count": 28,
   "id": "c54691d6-ed90-4694-9cb7-35e67a9d1fd1",
   "metadata": {
    "tags": []
   },
   "outputs": [],
   "source": [
    "factors_transfer = pd.read_csv(root_path / 'factors_transfer.csv')\n",
    "factors_transfer = factors_transfer.merge(\n",
    "    mortality[key_columns+['days_btw_to_from']],\n",
    "    how='left'\n",
    ")\n",
    "features_transfer = [\n",
    "'to_avg_weight','density_FW','days_btw_to_from'#,'Dec-Feb','Jun-Aug','Mar-May','Sep-Nov'\n",
    "]\n",
    "factors_transfer = factors_transfer[key_columns + features_transfer]"
   ]
  },
  {
   "cell_type": "code",
   "execution_count": 29,
   "id": "a6560a65-2b0f-4ca5-8f52-45eb49829122",
   "metadata": {
    "tags": []
   },
   "outputs": [],
   "source": [
    "factors_lab = pd.read_csv(root_path / 'factors_lab.csv')\n",
    "factors_lab = factors_lab.merge(\n",
    "    factors_producer[key_columns],\n",
    "    left_on=['to_locus_id', 'to_fish_group_id'],\n",
    "    right_on=['locus_id', 'fish_group_id']\n",
    ")\n",
    "features_lab = [\n",
    "    #'atpasa_last',\n",
    "    #'k_factor_last',\n",
    "    'atpasa_derivative',\n",
    "    #'k_factor_derivative',\n",
    "    #'length_last',\n",
    "    #'weight_last'\n",
    "]\n",
    "factors_lab = factors_lab[key_columns + features_lab]"
   ]
  },
  {
   "cell_type": "code",
   "execution_count": 30,
   "id": "822691cc-e158-4f56-8fbd-1c8edea11fc3",
   "metadata": {
    "tags": []
   },
   "outputs": [],
   "source": [
    "factors_vaccination = pd.read_csv(root_path / 'significant_factors_vaccination.csv')\n",
    "features_vaccination = [\n",
    "'vac_weight','vac_uta','vac_fish_count_mean','vac_conf_transfer_days','vac_conf_days'\n",
    "]\n",
    "factors_vaccination = factors_vaccination[key_columns + features_vaccination]"
   ]
  },
  {
   "cell_type": "code",
   "execution_count": 31,
   "id": "e80edc24-03b1-4d53-90b9-96b99d354e13",
   "metadata": {
    "tags": []
   },
   "outputs": [
    {
     "data": {
      "text/plain": [
       "Index(['locus_id', 'fish_group_id', 'transfer_year', 'vac_weight', 'vac_uta',\n",
       "       'vac_fish_count_mean', 'vac_conf_transfer_days', 'vac_conf_days'],\n",
       "      dtype='object')"
      ]
     },
     "execution_count": 31,
     "metadata": {},
     "output_type": "execute_result"
    }
   ],
   "source": [
    "factors_vaccination.columns"
   ]
  },
  {
   "cell_type": "code",
   "execution_count": 32,
   "id": "efed01d6-eb07-4931-b66f-7f6e9b2545d8",
   "metadata": {
    "tags": []
   },
   "outputs": [],
   "source": [
    "factors_biofilter = pd.read_csv(root_path / 'factors_biofilter.csv')\n",
    "features_biofilter = [\n",
    "    'is_cleaned_mean',\n",
    "    'is_desinfected_mean'\n",
    "]\n",
    "factors_biofilter = factors_biofilter[key_columns + features_biofilter]\n",
    "\n",
    "factors_biofilter = pd.read_csv(root_path / 'factors_biofilter.csv')\n",
    "features_biofilter = [\n",
    "    'is_cleaned_mean',\n",
    "    'is_desinfected_mean'\n",
    "]\n",
    "factors_biofilter = factors_biofilter[key_columns + features_biofilter]"
   ]
  },
  {
   "cell_type": "code",
   "execution_count": 33,
   "id": "18d268b2-0c1e-4c16-8f6c-4d1fd8787807",
   "metadata": {
    "tags": []
   },
   "outputs": [],
   "source": [
    "factors_gender = pd.read_csv(root_path / 'factors_gender_dom.threshold=0.95.csv')\n",
    "factors_gender=pd.concat([factors_gender.drop(columns=['main_gender','dominating_gender']),pd.get_dummies(factors_gender[['main_gender','dominating_gender']])],axis=1)\n",
    "features_gender = [\n",
    "'weight_H', 'weight_M',\n",
    "       'main_gender_H', 'main_gender_M', 'dominating_gender_H',\n",
    "       'dominating_gender_M', 'dominating_gender_non_existing'\n",
    "]\n",
    "factors_gender = factors_gender[key_columns + features_gender]"
   ]
  },
  {
   "cell_type": "code",
   "execution_count": 34,
   "id": "01ca8037-01e4-45ec-9ce4-cc0f23a7aa7d",
   "metadata": {
    "tags": []
   },
   "outputs": [
    {
     "data": {
      "text/plain": [
       "Index(['locus_id', 'fish_group_id', 'transfer_year', 'weight_H', 'weight_M',\n",
       "       'main_gender_H', 'main_gender_M', 'dominating_gender_H',\n",
       "       'dominating_gender_M', 'dominating_gender_non_existing'],\n",
       "      dtype='object')"
      ]
     },
     "execution_count": 34,
     "metadata": {},
     "output_type": "execute_result"
    }
   ],
   "source": [
    "factors_gender.columns"
   ]
  },
  {
   "cell_type": "code",
   "execution_count": 35,
   "id": "ee475e68",
   "metadata": {
    "tags": []
   },
   "outputs": [],
   "source": [
    "# nan_idxs = factors_mortality_reasons[\n",
    "#     factors_mortality_reasons.isna()['mortality_rate-after_first_feeding-sum_Desadaptado']\n",
    "# ].index\n",
    "\n",
    "factors_dfs = {\n",
    "    'nh4': factors_ammonium,\n",
    "    'cycle': factors_cycle,\n",
    "    'transfer': factors_transfer,\n",
    "    'feed_1': factors_feed_1,\n",
    "    'feed_2': factors_feed_2,\n",
    "    'feed_3': factors_feed_3,\n",
    "    'lab': factors_lab,\n",
    "    'luf': factors_luf,\n",
    "    'mortality': factors_mortality,\n",
    "    'mortality_reasons': factors_mortality_reasons,\n",
    "    'ph': factors_ph,\n",
    "    'photoperiod': factors_photoperiod,\n",
    "    'producer': factors_producer,\n",
    "    'recambio': factors_recambio,\n",
    "    'sfr': factors_sfr,\n",
    "    'temperature': factors_temperature,\n",
    "    'treatment': factors_treatment,\n",
    "    'vaccination':factors_vaccination,\n",
    "    'biofilter': factors_biofilter,\n",
    "    'gender': factors_gender\n",
    "}\n",
    "\n",
    "nan_data = {'source': [], 'max_nan_feature': [], 'nan_count': [], 'sample_count': []}\n",
    "\n",
    "for title, df in factors_dfs.items():\n",
    "    max_nan_feature = df.isna().sum()[df.isna().sum() == df.isna().sum().max()].index[-1]\n",
    "    nan_count = df.isna().sum().max()\n",
    "    sample_count = df.shape[0]\n",
    "#     print(f'{title.capitalize()}:', max_nan_feature, end='; ')\n",
    "#     print('nan count:', nan_count, end=' ')\n",
    "#     print('out of ', sample_count)\n",
    "    \n",
    "    nan_data['source'].append(title)\n",
    "    nan_data['max_nan_feature'].append(max_nan_feature)\n",
    "    nan_data['nan_count'].append(nan_count)\n",
    "    nan_data['sample_count'].append(sample_count)\n",
    "\n",
    "nan_data = pd.DataFrame(nan_data)\n",
    "save_path = result_data_path / 'main'\n",
    "save_path.mkdir(exist_ok=True)\n",
    "# nan_data.to_csv(f'{save_path}/nan_count.csv', index=False)"
   ]
  },
  {
   "cell_type": "code",
   "execution_count": 97,
   "id": "a92663ea",
   "metadata": {
    "tags": []
   },
   "outputs": [
    {
     "name": "stdout",
     "output_type": "stream",
     "text": [
      "locus_id                                                     0\n",
      "fish_group_id                                                0\n",
      "transfer_year                                                0\n",
      "temperature_fw_sw_diff                                    1241\n",
      "temperature_cleared-before_first_feeding-mean             1111\n",
      "temperature_cleared-before_first_feeding-degree_days      1111\n",
      "lower_mean_days_coef=0.33                                  458\n",
      "drop_count_coef=0.5                                        458\n",
      "eight_last_weeks-tgc                                       460\n",
      "eight_last_weeks-fcr                                      1133\n",
      "eight_last_weeks-sfr                                      1133\n",
      "is_nacl-after_first_feeding-sum                            318\n",
      "is_nacl-whole_period-sum                                   318\n",
      "is_bronopol-whole_period-sum                               318\n",
      "is_cloramina t-whole_period-sum                            318\n",
      "mortality_rate-6_weeks_before_transfer-sum                 397\n",
      "mortality_rate-after_first_feeding-sum_Desadaptado         318\n",
      "vac_weight                                                 318\n",
      "vac_uta                                                    318\n",
      "vac_fish_count_mean                                        318\n",
      "vac_conf_transfer_days                                     318\n",
      "vac_conf_days                                              318\n",
      "to_avg_weight                                                4\n",
      "density_FW                                                   4\n",
      "days_btw_to_from                                             4\n",
      "sfr-4_weeks_before_transfer-relative_lower_min-0.01       2450\n",
      "fw_cycle_length_first_mvmt_shipout                         181\n",
      "fw_cycle_length_first_feeding_shipout                      181\n",
      "fw_cycle_length_first_mvmt_first_feeding                   181\n",
      "weight_BI                                                 2308\n",
      "is_luf_weighted                                            181\n",
      "ammonium-4_weeks_before_transfer-std                      1557\n",
      "ammonium-8_weeks_before_transfer-max                      1605\n",
      "ammonium-2_weeks_before_transfer-mean                     1549\n",
      "ammonium-4_weeks_before_transfer-cv                       1557\n",
      "ammonium-6_weeks_before_transfer-relative_higher_max-1    1549\n",
      "recambio-transfer_vaccination-std                         1665\n",
      "recambio-vaccination_transfer-relative_lower_min-25       1665\n",
      "recambio-transfer_vaccination-max                         1665\n",
      "ph-8_weeks_before_transfer-std                            1605\n",
      "ph-8_weeks_before_transfer-relative_higher_max-7.3        1605\n",
      "ph-8_weeks_before_transfer-relative_lower_min-6.9         1605\n",
      "ph-transfer_vaccination-std                               1665\n",
      "atpasa_derivative                                         1742\n",
      "light_days_transfer_vaccination                           1739\n",
      "av.light_hours_per_day_vac                                1739\n",
      "number_of_weeks_with_summer_vac_transfer_normalized       1739\n",
      "number_of_weeks_with_summer_vac_transfer                  1739\n",
      "is_cleaned_mean                                            860\n",
      "is_desinfected_mean                                        954\n",
      "weight_H                                                   926\n",
      "weight_M                                                   926\n",
      "main_gender_H                                              404\n",
      "main_gender_M                                              404\n",
      "dominating_gender_H                                        404\n",
      "dominating_gender_M                                        404\n",
      "dominating_gender_non_existing                             404\n",
      "dtype: int64\n",
      " out of 2450\n"
     ]
    }
   ],
   "source": [
    "#.merge(factors_transfer, on=key_columns, how='left')\\\n",
    "# fullest df (least nans)\n",
    "\n",
    "if True:\n",
    "    #luf selected here as representative feature for common nans (136 cycles)\n",
    "    nan_key = factors_luf[factors_luf['is_luf_weighted'].isna()][key_columns]\n",
    "    factors = factors_temperature\\\n",
    "        .merge(factors_feed_1, on=key_columns, how='outer')\\\n",
    "        .merge(factors_feed_2, on=key_columns, how='outer')\\\n",
    "        .merge(factors_feed_3, on=key_columns, how='outer')\\\n",
    "        .merge(factors_treatment, on=key_columns, how='outer')\\\n",
    "        .merge(factors_mortality, on=key_columns, how='outer')\\\n",
    "        .merge(factors_mortality_reasons, on=key_columns, how='outer')\\\n",
    "        .merge(factors_vaccination, on=key_columns, how='outer')\\\n",
    "        .merge(factors_transfer, on=key_columns, how='outer')\\\n",
    "        .merge(factors_sfr, on=key_columns, how='outer')\\\n",
    "        .merge(factors_cycle, on=key_columns, how='outer')\\\n",
    "        .merge(factors_producer, on=key_columns, how='outer')\\\n",
    "        .merge(factors_luf, on=key_columns, how='outer')\\\n",
    "        .merge(factors_ammonium, on=key_columns, how='outer')\\\n",
    "        .merge(factors_recambio, on=key_columns, how='outer')\\\n",
    "        .merge(factors_ph, on=key_columns, how='outer')\\\n",
    "        .merge(factors_lab, on=key_columns, how='outer')\\\n",
    "        .merge(factors_photoperiod, on=key_columns, how='outer')\\\n",
    "        .merge(factors_biofilter, on=key_columns, how='outer')\\\n",
    "        .merge(factors_gender, on=key_columns, how='outer')\n",
    "      \n",
    "\n",
    "\n",
    "    print(f'{factors.isna().sum()}\\n out of {factors.shape[0]}')\n",
    "    \n",
    "if False:\n",
    "    \n",
    "    factors = reduce(lambda left, right: pd.merge(left, right, on=key_columns, how='left'), factors_dfs)\n",
    "    for df in factors_dfs:\n",
    "        mask = df['locus_id'].isin(nan_key['locus_id']) \\\n",
    "        & df['fish_group_id'].isin(nan_key['fish_group_id']) \\\n",
    "        & df['transfer_year'].isin(nan_key['transfer_year'])\n",
    "        df = df[~mask]\n",
    "#         print(df.shape[0], end=' ')\n",
    "\n",
    "    factors.isna().sum()\n",
    "    \n",
    "    factors = factors_treatment\\\n",
    "    .merge(factors_sfr, on=key_columns, how='left')\\\n",
    "    .merge(factors_producer, on=key_columns, how='left')\\\n",
    "    .merge()"
   ]
  },
  {
   "cell_type": "code",
   "execution_count": 98,
   "id": "6b85703c-e33b-4c02-aea1-c30962b7682f",
   "metadata": {
    "tags": []
   },
   "outputs": [
    {
     "data": {
      "text/plain": [
       "<AxesSubplot:ylabel='Frequency'>"
      ]
     },
     "execution_count": 98,
     "metadata": {},
     "output_type": "execute_result"
    },
    {
     "data": {
      "image/png": "[encoded data removed]",
      "text/plain": [
       "<Figure size 432x288 with 1 Axes>"
      ]
     },
     "metadata": {
      "needs_background": "light"
     },
     "output_type": "display_data"
    }
   ],
   "source": [
    "factors['transfer_year'].plot.hist()"
   ]
  },
  {
   "cell_type": "code",
   "execution_count": 99,
   "id": "32f60826-f924-44b9-acfd-520fe1b0d70a",
   "metadata": {
    "tags": []
   },
   "outputs": [
    {
     "data": {
      "text/plain": [
       "<AxesSubplot:ylabel='Frequency'>"
      ]
     },
     "execution_count": 99,
     "metadata": {},
     "output_type": "execute_result"
    },
    {
     "data": {
      "image/png": "[encoded data removed]",
      "text/plain": [
       "<Figure size 432x288 with 1 Axes>"
      ]
     },
     "metadata": {
      "needs_background": "light"
     },
     "output_type": "display_data"
    }
   ],
   "source": [
    "targets['total_mortality_perc_90'].plot.hist(bins=100)"
   ]
  },
  {
   "cell_type": "code",
   "execution_count": 100,
   "id": "db46eb03",
   "metadata": {
    "tags": []
   },
   "outputs": [
    {
     "name": "stderr",
     "output_type": "stream",
     "text": [
      "C:\\Users\\dmitrii\\AppData\\Local\\Temp\\ipykernel_14904\\2085766741.py:3: RuntimeWarning: invalid value encountered in double_scalars\n",
      "  ratio = factors[c].max()/factors[c].mean()\n"
     ]
    }
   ],
   "source": [
    "#check this. if ratio is very high (e.g., 300) than PCA doesn't work well, probably, because of scaler issues\n",
    "for c in factors.columns.difference(key_columns):\n",
    "    ratio = factors[c].max()/factors[c].mean()\n",
    "    if ratio>100: print(c, int(ratio))"
   ]
  },
  {
   "cell_type": "code",
   "execution_count": 101,
   "id": "5c09f826",
   "metadata": {
    "tags": []
   },
   "outputs": [],
   "source": [
    "# #manualy remove outlier which is 300x times higher than mean\n",
    "# factors.loc[factors['density_FW_SW_ratio']>factors['density_FW_SW_ratio'].quantile(.9999),'density_FW_SW_ratio'] = np.nan"
   ]
  },
  {
   "cell_type": "code",
   "execution_count": 102,
   "id": "b7ef6b88",
   "metadata": {
    "tags": []
   },
   "outputs": [],
   "source": [
    "#we drop bano column as it wrongly defined as 0 where should be nan. Also we have similar feature 'is_nacl-after_first_feeding-sum'\n",
    "#we drop also wholeper features - these 2 features should be replaced with one isNacl. Now it's biased on transfer year, initially bath method was used, then bano sin pmv\n",
    "factors.drop(columns=['is_baño sin pmv-after_first_feeding-sum','is_bath-whole_period-sum','is_bath-after_first_feeding-sum',\n",
    "       'is_baño sin pmv-whole_period-sum'],inplace=True, errors='ignore')"
   ]
  },
  {
   "cell_type": "code",
   "execution_count": 103,
   "id": "f58a9e37",
   "metadata": {
    "tags": []
   },
   "outputs": [],
   "source": [
    "features = factors.columns.difference(key_columns)"
   ]
  },
  {
   "cell_type": "code",
   "execution_count": 104,
   "id": "fd96cb63",
   "metadata": {
    "tags": []
   },
   "outputs": [],
   "source": [
    "# total_count1720=factors.groupby('transfer_year')['locus_id'].count().loc[2017:2020].sum()\n",
    "# ratio_zeros_nan1720=factors[features.append(pd.Index(['transfer_year']))].groupby('transfer_year').apply(lambda x:((x==0)|(x.isna())).sum()).loc[2017:2020].sum()/total_count1720\n",
    "# ratio_zeros_nan1720[ratio_zeros_nan1720>.9].index"
   ]
  },
  {
   "cell_type": "code",
   "execution_count": 105,
   "id": "c59be596",
   "metadata": {
    "tags": []
   },
   "outputs": [],
   "source": [
    "total_count1719=factors.groupby('transfer_year')['locus_id'].count().loc[2017:2019].sum()\n",
    "ratio_zeros_nan1719=factors[features.append(pd.Index(['transfer_year']))].groupby('transfer_year').apply(lambda x:((x==0)|(x.isna())).sum()).loc[2017:2019].sum()/total_count1719#['is_baño sin pmv-after_first_feeding-sum']\n",
    "features_with_high_nan_zeros1719 = list(ratio_zeros_nan1719[ratio_zeros_nan1719>.9].index)"
   ]
  },
  {
   "cell_type": "code",
   "execution_count": 106,
   "id": "6429d1e2",
   "metadata": {
    "tags": []
   },
   "outputs": [],
   "source": [
    "#save_path = result_data_path / 'factor_ranking'\n",
    "#save_path.mkdir(exist_ok=True)\n",
    "#pd.Series(features_with_high_nan_zeros1719).to_csv(f'{save_path}/features_with_high_nan_zeros1719.csv', index=False)"
   ]
  },
  {
   "cell_type": "code",
   "execution_count": 107,
   "id": "1f9db9c9-b23c-4ce2-b84e-48ce9f861ea8",
   "metadata": {
    "tags": []
   },
   "outputs": [
    {
     "data": {
      "text/plain": [
       "<AxesSubplot:ylabel='Frequency'>"
      ]
     },
     "execution_count": 107,
     "metadata": {},
     "output_type": "execute_result"
    },
    {
     "data": {
      "image/png": "[encoded data removed]",
      "text/plain": [
       "<Figure size 432x288 with 1 Axes>"
      ]
     },
     "metadata": {
      "needs_background": "light"
     },
     "output_type": "display_data"
    }
   ],
   "source": [
    "mortality['total_mortality_perc_90'].plot.hist(bins=100)"
   ]
  },
  {
   "cell_type": "code",
   "execution_count": 108,
   "id": "3fedeef7-56e8-49ea-ad5e-28cca447b2dc",
   "metadata": {
    "tags": []
   },
   "outputs": [],
   "source": [
    "most_relevant_features = [\n",
    "    'temperature_fw_sw_diff',\n",
    "    'atpasa_derivative', \n",
    "    'number_of_weeks_with_summer_vac_transfer',\n",
    "    'temperature_cleared-before_first_feeding-mean', \n",
    "    'is_luf_weighted', \n",
    "    'fw_cycle_length_first_mvmt_shipout',\n",
    "    'temperature_cleared-before_first_feeding-degree_days',\n",
    "    'is_nacl-whole_period-sum',\n",
    "    'is_nacl-after_first_feeding-sum',\n",
    "    'mortality_rate-after_first_feeding-sum_Desadaptado'\n",
    "]"
   ]
  },
  {
   "cell_type": "code",
   "execution_count": 109,
   "id": "f63def47-9e22-4889-8011-81fc266b6198",
   "metadata": {
    "tags": []
   },
   "outputs": [],
   "source": [
    "factors = factors[key_columns + most_relevant_features]"
   ]
  },
  {
   "cell_type": "code",
   "execution_count": 110,
   "id": "02efd1b1-75f6-476f-9b2c-bbd56c36195e",
   "metadata": {
    "tags": []
   },
   "outputs": [],
   "source": [
    "#factors = factors[factors['transfer_year']==2023]"
   ]
  },
  {
   "cell_type": "code",
   "execution_count": 111,
   "id": "76cdff62",
   "metadata": {
    "tags": []
   },
   "outputs": [],
   "source": [
    "# factors_targets = factors.merge(\n",
    "#     mortality[key_columns + ['total_mortality_perc_90']],\n",
    "#     on=key_columns,\n",
    "#     how='inner'\n",
    "# )\n",
    "# #).merge(\n",
    "# #    targets[key_columns + ['nSFR']]\n",
    "# #).merge(\n",
    "# #     tgc[key_columns + ['TGC_SW']],\n",
    "# #     on=key_columns,\n",
    "# #     how='inner'\n",
    "# # )\n",
    "\n",
    "# factors_targets.drop(key_columns, inplace=True, axis=1)\n",
    "\n",
    "# factors_targets.rename(columns={'total_mortality_perc_90': 'mortality'}, inplace=True)\n",
    "# #factors_targets.rename(columns={'TGC_SW': 'tgc'}, inplace=True)\n",
    "# #factors_targets.rename(columns={'nSFR': 'nsfr'}, inplace=True)\n",
    "\n",
    "# factors_targets['log_mortality'] = np.log(factors_targets['mortality'])"
   ]
  },
  {
   "cell_type": "code",
   "execution_count": 112,
   "id": "8724e4b3",
   "metadata": {
    "tags": []
   },
   "outputs": [],
   "source": [
    "#save_path = result_data_path / 'main'\n",
    "#save_path.mkdir(exist_ok=True)\n",
    "factors.to_csv(f'../data/factors_main.csv', index=False,encoding='windows-1252')\n",
    "# factors"
   ]
  },
  {
   "cell_type": "markdown",
   "id": "2f4f1d9e",
   "metadata": {},
   "source": [
    "## Factor ranking\n"
   ]
  },
  {
   "cell_type": "markdown",
   "id": "d39e9955",
   "metadata": {},
   "source": [
    "### 1. Correlation analysis\n",
    "\n",
    "We perform correlation analysis on a raw (non-filled wih median, non dropped nan rows) dataframe since we care about correlations of all existing samples for all features.\n",
    "Normalizing also does not affect correlation, so no scaling yet."
   ]
  },
  {
   "cell_type": "code",
   "execution_count": 189,
   "id": "bc635fc2",
   "metadata": {
    "tags": []
   },
   "outputs": [],
   "source": [
    "#coef for outlier removal\n",
    "coef_std = 5"
   ]
  },
  {
   "cell_type": "code",
   "execution_count": 190,
   "id": "4fbc62f8",
   "metadata": {
    "tags": []
   },
   "outputs": [],
   "source": [
    "# factors_targets_no_outliers = factors_targets.copy()\n",
    "factors_targets_no_outliers = factors_targets\n",
    "\n",
    "for feature in features:\n",
    "    Q1 = factors_targets_no_outliers[feature].quantile(0.25)\n",
    "    Q3 = factors_targets_no_outliers[feature].quantile(0.75)\n",
    "    IQR = Q3 - Q1\n",
    "#     lower_bound = Q1 - 1.5 * IQR\n",
    "#     upper_bound = Q3 + 1.5 * IQR\n",
    "    lower_bound = factors_targets_no_outliers[feature].mean()-coef_std*factors_targets_no_outliers[feature].std()\n",
    "    upper_bound = factors_targets_no_outliers[feature].mean()+coef_std*factors_targets_no_outliers[feature].std()\n",
    "    \n",
    "    outliers = (factors_targets_no_outliers[feature] < lower_bound) | (factors_targets_no_outliers[feature] > upper_bound)\n",
    "    factors_targets_no_outliers.loc[outliers, feature] = factors_targets_no_outliers[feature].clip(lower=lower_bound, upper=upper_bound)"
   ]
  },
  {
   "cell_type": "code",
   "execution_count": 191,
   "id": "39167275",
   "metadata": {
    "tags": []
   },
   "outputs": [],
   "source": [
    "# factors_no_outliers = factors.copy()\n",
    "factors_no_outliers = factors\n",
    "\n",
    "for feature in features:\n",
    "#     Q1 = factors_targets_no_outliers[feature].quantile(0.25)\n",
    "#     Q3 = factors_targets_no_outliers[feature].quantile(0.75)\n",
    "#     IQR = Q3 - Q1\n",
    "#     lower_bound = Q1 - 1.5 * IQR\n",
    "#     upper_bound = Q3 + 1.5 * IQR\n",
    "    lower_bound = factors_no_outliers[feature].mean()-coef_std*factors_no_outliers[feature].std()\n",
    "    upper_bound = factors_no_outliers[feature].mean()+coef_std*factors_no_outliers[feature].std()\n",
    "    \n",
    "    outliers = (factors_no_outliers[feature] < lower_bound) | (factors_no_outliers[feature] > upper_bound)\n",
    "    factors_no_outliers.loc[outliers, feature] = factors_no_outliers[feature].clip(lower=lower_bound, upper=upper_bound)"
   ]
  },
  {
   "cell_type": "code",
   "execution_count": 1937,
   "id": "f01eb1cf",
   "metadata": {},
   "outputs": [
    {
     "name": "stdout",
     "output_type": "stream",
     "text": [
      "Number of outliers per feature:\n",
      "is_ipn-whole_period-sum                                    0\n",
      "is_nacl-after_first_feeding-sum                            0\n",
      "is_nacl-whole_period-sum                                   0\n",
      "is_saprosafe aw-whole_period-sum                           0\n",
      "is_cloramina t-whole_period-sum                            0\n",
      "is_bronopol-whole_period-sum                               0\n",
      "sfr-4_weeks_before_transfer-relative_lower_min-0.01        0\n",
      "ups_length                                                 0\n",
      "fw_cycle_length_first_mvmt_shipout                         0\n",
      "fw_cycle_length_first_feeding_shipout                      0\n",
      "fw_cycle_length_first_mvmt_first_feeding                   0\n",
      "to_avg_weight                                              0\n",
      "density_FW                                                 0\n",
      "days_btw_to_from                                           0\n",
      "weight_BI                                                  0\n",
      "mortality_rate-6_weeks_before_transfer-sum                 9\n",
      "mortality_rate-after_first_feeding-sum_Desadaptado         0\n",
      "mortality_rate-whole_period-sum_Eliminación Deforme        4\n",
      "mortality_rate-whole_period-sum_Eliminación Plateado       7\n",
      "mortality_rate-whole_period-sum_Eliminación Opérculo      18\n",
      "mortality_rate-whole_period-sum_Embrionaria                2\n",
      "is_luf_weighted                                            0\n",
      "temperature_fw_sw_diff                                     0\n",
      "temperature_cleared-transfer_feeding-median                0\n",
      "temperature_cleared-transfer_feeding-degree_days           0\n",
      "temperature_cleared-before_first_feeding-degree_days       0\n",
      "temperature_cleared-before_first_feeding-mean              0\n",
      "lower_mean_days_coef=0.33                                  0\n",
      "drop_count_coef=0.5                                        0\n",
      "eight_last_weeks-tgc                                       0\n",
      "eight_last_weeks-fcr                                       2\n",
      "eight_last_weeks-sfr                                       0\n",
      "ammonium-4_weeks_before_transfer-std                       0\n",
      "ammonium-8_weeks_before_transfer-max                       0\n",
      "ammonium-2_weeks_before_transfer-mean                      0\n",
      "ammonium-4_weeks_before_transfer-cv                        0\n",
      "ammonium-6_weeks_before_transfer-relative_higher_max-1     0\n",
      "recambio-transfer_vaccination-std                          0\n",
      "recambio-vaccination_transfer-relative_lower_min-25        0\n",
      "recambio-transfer_vaccination-max                          0\n",
      "ph-8_weeks_before_transfer-std                             1\n",
      "ph-8_weeks_before_transfer-relative_higher_max-7.3         0\n",
      "ph-8_weeks_before_transfer-relative_lower_min-6.9          6\n",
      "ph-transfer_vaccination-std                                0\n",
      "atpasa_last                                                0\n",
      "k_factor_last                                              0\n",
      "atpasa_derivative                                          0\n",
      "k_factor_derivative                                        0\n",
      "length_last                                                0\n",
      "weight_last                                                0\n",
      "light_days_transfer_vaccination                            0\n",
      "av.light_hours_per_day_vac                                 0\n",
      "number_of_weeks_with_summer_vac_transfer_normalized        0\n",
      "number_of_weeks_with_summer_vac_transfer                   0\n",
      "is_cleaned_mean                                            0\n",
      "is_desinfected_mean                                       17\n",
      "weight_H                                                   0\n",
      "weight_M                                                   0\n",
      "main_gender_H                                              0\n",
      "main_gender_M                                              0\n",
      "dominating_gender_H                                        0\n",
      "dominating_gender_M                                        0\n",
      "dominating_gender_non_existing                             0\n",
      "vac_weight                                                 3\n",
      "vac_uta                                                    0\n",
      "vac_fish_count_mean                                        2\n",
      "vac_conf_transfer_days                                     0\n",
      "vac_conf_days                                              6\n",
      "mortality                                                  4\n",
      "tgc                                                        0\n",
      "nsfr                                                       0\n",
      "log_mortality                                              0\n",
      "dtype: int64\n"
     ]
    }
   ],
   "source": [
    "def count_outliers(column):\n",
    "    Q1 = column.quantile(0.25)\n",
    "    Q3 = column.quantile(0.75)\n",
    "    IQR = Q3 - Q1\n",
    "    lower_bound = column.mean()-coef_std*column.std()\n",
    "    upper_bound = column.mean()+coef_std*column.std()\n",
    "#     lower_bound = Q1 - 1.5 * IQR\n",
    "#     upper_bound = Q3 + 1.5 * IQR\n",
    "    outliers = (column < lower_bound) | (column > upper_bound)\n",
    "    return outliers.sum()\n",
    "\n",
    "# Apply the function to each column (feature) and print the results\n",
    "outlier_counts = factors_targets.apply(count_outliers)\n",
    "print(\"Number of outliers per feature:\")\n",
    "print(outlier_counts)"
   ]
  },
  {
   "cell_type": "code",
   "execution_count": 1938,
   "id": "2193e29d",
   "metadata": {},
   "outputs": [],
   "source": [
    "# target_correlations = factors_targets[features].corrwith(factors_targets[target])\n",
    "# target_correlations = target_correlations.reindex(\n",
    "#     target_correlations.abs().sort_values(ascending=False).index)\n",
    "target_correlations = factors_targets_no_outliers[features].corrwith(factors_targets_no_outliers[target])\n",
    "target_correlations = target_correlations.reindex(\n",
    "    target_correlations.abs().sort_values(ascending=False).index)"
   ]
  },
  {
   "cell_type": "code",
   "execution_count": 1939,
   "id": "05534af1",
   "metadata": {},
   "outputs": [],
   "source": [
    "# ty_2021_index = factors[factors.transfer_year==2021].index\n",
    "# ty_2022_index = factors[factors.transfer_year==2022].index\n",
    "# target_correlations = factors_targets.loc[ty_2021_index][features].corrwith(factors_targets.loc[ty_2021_index][target])\n",
    "# target_correlations = target_correlations.reindex(\n",
    "#     target_correlations.abs().sort_values(ascending=False).index)"
   ]
  },
  {
   "cell_type": "code",
   "execution_count": 1940,
   "id": "b2cc0aad",
   "metadata": {},
   "outputs": [
    {
     "data": {
      "text/plain": [
       "'log_mortality'"
      ]
     },
     "execution_count": 1940,
     "metadata": {},
     "output_type": "execute_result"
    }
   ],
   "source": [
    "target"
   ]
  },
  {
   "cell_type": "code",
   "execution_count": 1941,
   "id": "e77fa9c9",
   "metadata": {},
   "outputs": [
    {
     "data": {
      "text/plain": [
       "av.light_hours_per_day_vac                                0.401972\n",
       "number_of_weeks_with_summer_vac_transfer_normalized       0.394876\n",
       "number_of_weeks_with_summer_vac_transfer                  0.301980\n",
       "mortality_rate-after_first_feeding-sum_Desadaptado       -0.263366\n",
       "temperature_fw_sw_diff                                    0.247707\n",
       "mortality_rate-6_weeks_before_transfer-sum                0.243626\n",
       "temperature_cleared-before_first_feeding-mean             0.225271\n",
       "eight_last_weeks-sfr                                     -0.224797\n",
       "ph-8_weeks_before_transfer-relative_higher_max-7.3       -0.203684\n",
       "drop_count_coef=0.5                                       0.198278\n",
       "sfr-4_weeks_before_transfer-relative_lower_min-0.01       0.197233\n",
       "temperature_cleared-transfer_feeding-degree_days          0.196035\n",
       "is_cloramina t-whole_period-sum                          -0.183267\n",
       "ammonium-4_weeks_before_transfer-cv                       0.176755\n",
       "is_nacl-after_first_feeding-sum                          -0.174807\n",
       "temperature_cleared-before_first_feeding-degree_days     -0.170937\n",
       "ammonium-4_weeks_before_transfer-std                      0.168944\n",
       "eight_last_weeks-fcr                                      0.168936\n",
       "temperature_cleared-transfer_feeding-median               0.154804\n",
       "ammonium-8_weeks_before_transfer-max                      0.151300\n",
       "days_btw_to_from                                          0.146954\n",
       "vac_fish_count_mean                                       0.143540\n",
       "eight_last_weeks-tgc                                     -0.143356\n",
       "weight_BI                                                 0.141673\n",
       "weight_last                                              -0.121791\n",
       "ph-8_weeks_before_transfer-std                           -0.121629\n",
       "density_FW                                                0.107145\n",
       "length_last                                              -0.103594\n",
       "is_saprosafe aw-whole_period-sum                          0.103082\n",
       "is_desinfected_mean                                       0.102664\n",
       "vac_weight                                                0.100682\n",
       "light_days_transfer_vaccination                          -0.099289\n",
       "recambio-transfer_vaccination-max                         0.092222\n",
       "fw_cycle_length_first_feeding_shipout                     0.091053\n",
       "dominating_gender_M                                      -0.087115\n",
       "ph-8_weeks_before_transfer-relative_lower_min-6.9         0.085674\n",
       "recambio-vaccination_transfer-relative_lower_min-25      -0.082686\n",
       "is_bronopol-whole_period-sum                             -0.082041\n",
       "fw_cycle_length_first_mvmt_first_feeding                 -0.080551\n",
       "mortality_rate-whole_period-sum_Eliminación Deforme       0.069413\n",
       "is_cleaned_mean                                           0.069118\n",
       "vac_conf_transfer_days                                    0.066838\n",
       "lower_mean_days_coef=0.33                                -0.063203\n",
       "atpasa_derivative                                        -0.061594\n",
       "vac_uta                                                   0.059774\n",
       "vac_conf_days                                            -0.055694\n",
       "is_luf_weighted                                           0.054043\n",
       "mortality_rate-whole_period-sum_Eliminación Plateado      0.048691\n",
       "recambio-transfer_vaccination-std                         0.047733\n",
       "main_gender_H                                             0.045571\n",
       "dominating_gender_non_existing                            0.044320\n",
       "main_gender_M                                             0.040520\n",
       "ups_length                                                0.038234\n",
       "mortality_rate-whole_period-sum_Eliminación Opérculo      0.037494\n",
       "ph-transfer_vaccination-std                              -0.033790\n",
       "k_factor_derivative                                       0.033210\n",
       "dominating_gender_H                                       0.026438\n",
       "weight_M                                                 -0.025223\n",
       "ammonium-2_weeks_before_transfer-mean                    -0.021325\n",
       "to_avg_weight                                             0.018275\n",
       "k_factor_last                                            -0.018214\n",
       "ammonium-6_weeks_before_transfer-relative_higher_max-1   -0.017699\n",
       "fw_cycle_length_first_mvmt_shipout                       -0.015893\n",
       "mortality_rate-whole_period-sum_Embrionaria              -0.015667\n",
       "atpasa_last                                               0.015548\n",
       "is_nacl-whole_period-sum                                  0.012327\n",
       "weight_H                                                  0.002067\n",
       "is_ipn-whole_period-sum                                  -0.001667\n",
       "dtype: float64"
      ]
     },
     "execution_count": 1941,
     "metadata": {},
     "output_type": "execute_result"
    }
   ],
   "source": [
    "target_correlations"
   ]
  },
  {
   "cell_type": "code",
   "execution_count": 1942,
   "id": "6b84e6f2",
   "metadata": {},
   "outputs": [],
   "source": [
    "# # fig = px.bar(target_correlations,\n",
    "# #              color=target_correlations,\n",
    "# #              color_continuous_scale=['red','blue'],\n",
    "# #              title=f'Features Correlation with {target}')\n",
    "# # fig.layout.xaxis.tickangle = 300\n",
    "# # fig.layout.xaxis.dtick = 0\n",
    "# # fig.layout.xaxis.title = 'feature'\n",
    "# # fig.layout.yaxis.title = 'correlation'\n",
    "# # fig.show()\n",
    "# arr_for_chart = pd.DataFrame(target_correlations).reset_index()\n",
    "# arr_for_chart.columns = ['feature','correlation']\n",
    "# # Create a custom color palette\n",
    "# colors = ['teal' if item < 0 else 'purple' for item in target_correlations]\n",
    "\n",
    "# # Create a bar plot\n",
    "# plt.figure(figsize=(10, 6))\n",
    "# sns.barplot(data=arr_for_chart, x='feature', y='correlation', palette=colors)\n",
    "\n",
    "# # Customize the plot\n",
    "# plt.title(f'Features Correlation with {target}')\n",
    "# plt.xlabel('Feature')\n",
    "# plt.ylabel('Correlation')\n",
    "\n",
    "# # Rotate x-axis labels\n",
    "# plt.xticks(rotation=60, ha='right')\n",
    "# plt.tight_layout()\n",
    "\n",
    "# save_path = img_path / 'correlation'\n",
    "# save_path.mkdir(exist_ok=True)\n",
    "# # fig.write_image(f'{save_path}/correlation_{target}.png')\n",
    "# # plt.savefig(f'{save_path}/correlation_{target}.png')"
   ]
  },
  {
   "cell_type": "code",
   "execution_count": 1943,
   "id": "5c60f564",
   "metadata": {
    "scrolled": true
   },
   "outputs": [
    {
     "data": {
      "text/plain": [
       "Index(['av.light_hours_per_day_vac',\n",
       "       'number_of_weeks_with_summer_vac_transfer_normalized',\n",
       "       'number_of_weeks_with_summer_vac_transfer',\n",
       "       'mortality_rate-after_first_feeding-sum_Desadaptado',\n",
       "       'temperature_fw_sw_diff', 'mortality_rate-6_weeks_before_transfer-sum',\n",
       "       'temperature_cleared-before_first_feeding-mean', 'eight_last_weeks-sfr',\n",
       "       'ph-8_weeks_before_transfer-relative_higher_max-7.3',\n",
       "       'drop_count_coef=0.5',\n",
       "       'sfr-4_weeks_before_transfer-relative_lower_min-0.01',\n",
       "       'temperature_cleared-transfer_feeding-degree_days',\n",
       "       'is_cloramina t-whole_period-sum',\n",
       "       'ammonium-4_weeks_before_transfer-cv',\n",
       "       'is_nacl-after_first_feeding-sum',\n",
       "       'temperature_cleared-before_first_feeding-degree_days',\n",
       "       'ammonium-4_weeks_before_transfer-std', 'eight_last_weeks-fcr',\n",
       "       'temperature_cleared-transfer_feeding-median',\n",
       "       'ammonium-8_weeks_before_transfer-max'],\n",
       "      dtype='object')"
      ]
     },
     "metadata": {},
     "output_type": "display_data"
    }
   ],
   "source": [
    "top_20_corr_factors = target_correlations.index[:20]\n",
    "display(top_20_corr_factors)"
   ]
  },
  {
   "cell_type": "code",
   "execution_count": 1944,
   "id": "2f7c90f6",
   "metadata": {},
   "outputs": [],
   "source": [
    "corr = factors_targets[features].corr()\n",
    "\n",
    "# plt.figure(figsize=(20, 15))\n",
    "# ax = plt.subplot(1,1,1)\n",
    "# fig = sns.heatmap(corr, ax=ax, cmap='coolwarm')\n",
    "# plt.tight_layout()\n",
    "\n",
    "# save_path = img_path / 'correlation'\n",
    "# save_path.mkdir(exist_ok=True)\n",
    "# # fig.get_figure().savefig(f'{save_path}/correlation_features.jpg')"
   ]
  },
  {
   "cell_type": "markdown",
   "id": "486784b9",
   "metadata": {},
   "source": [
    "#### Setting up correlation threshold to see highly-correlated features"
   ]
  },
  {
   "cell_type": "code",
   "execution_count": 1945,
   "id": "577c1768",
   "metadata": {},
   "outputs": [
    {
     "data": {
      "image/png": "[encoded data removed]",
      "text/plain": [
       "<Figure size 1296x864 with 2 Axes>"
      ]
     },
     "metadata": {
      "needs_background": "light"
     },
     "output_type": "display_data"
    }
   ],
   "source": [
    "CORRELATION_THRESHOLD = 0.5\n",
    "high_corr = corr[abs(corr) >= CORRELATION_THRESHOLD]\n",
    "\n",
    "plt.figure(figsize=(18,12))\n",
    "ax = plt.subplot(1,1,1)\n",
    "fig = sns.heatmap(high_corr, ax=ax, cmap='coolwarm')\n",
    "\n",
    "plt.tight_layout()\n",
    "\n",
    "save_path = img_path / 'correlation'\n",
    "save_path.mkdir(exist_ok=True)\n",
    "fig.get_figure().savefig(f'{save_path}/high_correlation_features.jpg')\n",
    "\n",
    "high_corr = high_corr[high_corr != 1]\n",
    "correlated_pairs = high_corr[high_corr.notnull()].stack().index\n",
    "correlated_pairs = correlated_pairs.to_frame().reset_index(drop=True)\n",
    "\n",
    "save_path = result_data_path / 'correlation'\n",
    "save_path.mkdir(exist_ok=True)\n",
    "# correlated_pairs.to_csv(f'{save_path}/highly_correlated_features.csv', index=False)"
   ]
  },
  {
   "cell_type": "markdown",
   "id": "f1410aa6",
   "metadata": {},
   "source": [
    "### 2. PCA"
   ]
  },
  {
   "cell_type": "code",
   "execution_count": 1946,
   "id": "6236d8e3",
   "metadata": {},
   "outputs": [],
   "source": [
    "mask = factors['locus_id'].isin(nan_key['locus_id']) \\\n",
    "        & factors['fish_group_id'].isin(nan_key['fish_group_id']) \\\n",
    "        & factors['transfer_year'].isin(nan_key['transfer_year'])\n",
    "factors = factors[~mask]  # removing common nans\n",
    "# factors.isna().sum()"
   ]
  },
  {
   "cell_type": "code",
   "execution_count": 1947,
   "id": "a690cf3a",
   "metadata": {},
   "outputs": [
    {
     "data": {
      "text/plain": [
       "Index(['locus_id', 'fish_group_id', 'transfer_year', 'is_ipn-whole_period-sum',\n",
       "       'is_nacl-after_first_feeding-sum', 'is_nacl-whole_period-sum',\n",
       "       'is_saprosafe aw-whole_period-sum', 'is_cloramina t-whole_period-sum',\n",
       "       'is_bronopol-whole_period-sum',\n",
       "       'sfr-4_weeks_before_transfer-relative_lower_min-0.01', 'ups_length',\n",
       "       'fw_cycle_length_first_mvmt_shipout',\n",
       "       'fw_cycle_length_first_feeding_shipout',\n",
       "       'fw_cycle_length_first_mvmt_first_feeding', 'to_avg_weight',\n",
       "       'density_FW', 'days_btw_to_from', 'weight_BI',\n",
       "       'mortality_rate-6_weeks_before_transfer-sum',\n",
       "       'mortality_rate-after_first_feeding-sum_Desadaptado',\n",
       "       'mortality_rate-whole_period-sum_Eliminación Deforme',\n",
       "       'mortality_rate-whole_period-sum_Eliminación Plateado',\n",
       "       'mortality_rate-whole_period-sum_Eliminación Opérculo',\n",
       "       'mortality_rate-whole_period-sum_Embrionaria', 'is_luf_weighted',\n",
       "       'temperature_fw_sw_diff', 'temperature_cleared-transfer_feeding-median',\n",
       "       'temperature_cleared-transfer_feeding-degree_days',\n",
       "       'temperature_cleared-before_first_feeding-degree_days',\n",
       "       'temperature_cleared-before_first_feeding-mean',\n",
       "       'lower_mean_days_coef=0.33', 'drop_count_coef=0.5',\n",
       "       'eight_last_weeks-tgc', 'eight_last_weeks-fcr', 'eight_last_weeks-sfr',\n",
       "       'ammonium-4_weeks_before_transfer-std',\n",
       "       'ammonium-8_weeks_before_transfer-max',\n",
       "       'ammonium-2_weeks_before_transfer-mean',\n",
       "       'ammonium-4_weeks_before_transfer-cv',\n",
       "       'ammonium-6_weeks_before_transfer-relative_higher_max-1',\n",
       "       'recambio-transfer_vaccination-std',\n",
       "       'recambio-vaccination_transfer-relative_lower_min-25',\n",
       "       'recambio-transfer_vaccination-max', 'ph-8_weeks_before_transfer-std',\n",
       "       'ph-8_weeks_before_transfer-relative_higher_max-7.3',\n",
       "       'ph-8_weeks_before_transfer-relative_lower_min-6.9',\n",
       "       'ph-transfer_vaccination-std', 'atpasa_last', 'k_factor_last',\n",
       "       'atpasa_derivative', 'k_factor_derivative', 'length_last',\n",
       "       'weight_last', 'light_days_transfer_vaccination',\n",
       "       'av.light_hours_per_day_vac',\n",
       "       'number_of_weeks_with_summer_vac_transfer_normalized',\n",
       "       'number_of_weeks_with_summer_vac_transfer', 'is_cleaned_mean',\n",
       "       'is_desinfected_mean', 'weight_H', 'weight_M', 'main_gender_H',\n",
       "       'main_gender_M', 'dominating_gender_H', 'dominating_gender_M',\n",
       "       'dominating_gender_non_existing', 'vac_weight', 'vac_uta',\n",
       "       'vac_fish_count_mean', 'vac_conf_transfer_days', 'vac_conf_days'],\n",
       "      dtype='object')"
      ]
     },
     "execution_count": 1947,
     "metadata": {},
     "output_type": "execute_result"
    }
   ],
   "source": [
    "factors.columns"
   ]
  },
  {
   "cell_type": "markdown",
   "id": "55442cc5",
   "metadata": {},
   "source": [
    "Splitting features based on how well they are represented (i.e. nan count). Then apply PCA on:\n",
    "1. all samples on well represented features only\n",
    "2. samples with both well and poorly represented features without nans\n",
    "\n",
    "and get 2 sets of important features"
   ]
  },
  {
   "cell_type": "code",
   "execution_count": 2033,
   "id": "a0934a1e",
   "metadata": {},
   "outputs": [],
   "source": [
    "save_path = result_data_path / 'main'\n",
    "save_path.mkdir(exist_ok=True)\n",
    "factors.to_csv(f'{save_path}/factors_main_for_clustering.csv', index=False,encoding='windows-1252')\n",
    "# factors"
   ]
  },
  {
   "cell_type": "code",
   "execution_count": 1949,
   "id": "cdc2ee5e",
   "metadata": {},
   "outputs": [],
   "source": [
    "# Setting up the threshold to split features by ratio of missing data\n",
    "\n",
    "NAN_THRESHOLD = 1 / 3\n",
    "\n",
    "represented_features = factors[features].columns[\n",
    "    factors[features].isna().sum() <= factors.shape[0] * NAN_THRESHOLD\n",
    "]\n",
    "\n",
    "#NEW\n",
    "represented_features=represented_features.difference(features_with_high_nan_zeros1719)\n",
    "\n",
    "represented_factors = factors[key_columns + represented_features.tolist()]\n",
    "\n",
    "represented_factors = represented_factors.fillna(represented_factors.median()) # Filling nans with median\n",
    "\n",
    "# plt.figure()\n",
    "# sns.countplot(\n",
    "#     data=represented_factors,\n",
    "#     x='transfer_year'\n",
    "# )\n",
    "# plt.title('Transfer years countplot for well represented values')\n",
    "# plt.show()\n",
    "\n",
    "# plt.figure()\n",
    "# plt.title('Transfer years countplot including poorly represented values')\n",
    "unrepresented_features = list(factors.columns.difference(key_columns+represented_features.to_list()))\n",
    "# unrepresented_factors = factors.dropna()  # Dropping all nans\n",
    "# unrepresented_factors = factors[factors.transfer_year>=2020][key_columns+unrepresented_features]\n",
    "unrepresented_factors = factors[factors.transfer_year>=2020][key_columns+list(features)]\n",
    "unrepresented_factors = unrepresented_factors.fillna(unrepresented_factors.median()) # Filling nans with median\n",
    "\n",
    "# sns.countplot(\n",
    "#     data=unrepresented_factors,\n",
    "#     x='transfer_year'\n",
    "# )\n",
    "# plt.show()"
   ]
  },
  {
   "cell_type": "code",
   "execution_count": 1950,
   "id": "b554b4e6",
   "metadata": {},
   "outputs": [],
   "source": [
    "# np.intersect1d(features_with_high_nan_zeros1719,represented_factors.columns)"
   ]
  },
  {
   "cell_type": "code",
   "execution_count": 1951,
   "id": "8e7fc556",
   "metadata": {},
   "outputs": [],
   "source": [
    "#filter out features with a lot of zeros (the same nature as NaN)\n",
    "represented_features=list(represented_factors.columns.difference(features_with_high_nan_zeros1719).difference(key_columns))\n",
    "# represented_features=represented_features.difference(['density_FW_SW_ratio'])\n",
    "represented_factors=represented_factors[key_columns+represented_features]"
   ]
  },
  {
   "cell_type": "code",
   "execution_count": 1952,
   "id": "a1775fdb",
   "metadata": {},
   "outputs": [],
   "source": [
    "# factors.groupby('transfer_year')['density_FW_SW_ratio'].mean()"
   ]
  },
  {
   "cell_type": "code",
   "execution_count": 1953,
   "id": "1c412bc0",
   "metadata": {},
   "outputs": [],
   "source": [
    "# factors[factors['density_FW_SW_ratio']>500]"
   ]
  },
  {
   "cell_type": "code",
   "execution_count": 1954,
   "id": "d417d851",
   "metadata": {},
   "outputs": [],
   "source": [
    "# factors_targets2=factors.merge(\n",
    "#     mortality[key_columns + ['total_mortality_perc_90']],\n",
    "#     on=key_columns,\n",
    "#     how='inner'\n",
    "# )\n",
    "# factors_targets2.groupby('transfer_year')['total_mortality_perc_90'].mean()"
   ]
  },
  {
   "cell_type": "code",
   "execution_count": 1955,
   "id": "ad396f1e",
   "metadata": {},
   "outputs": [],
   "source": [
    "# scaler = RobustScaler()\n",
    "scaler = StandardScaler()\n",
    "represented_factors_scaled = represented_factors.copy()\n",
    "represented_factors_scaled[represented_features] = scaler.fit_transform(\n",
    "    represented_factors_scaled[represented_features]\n",
    ")\n",
    "\n",
    "\n",
    "# scaler = RobustScaler()\n",
    "scaler = StandardScaler()\n",
    "unrepresented_factors_scaled = unrepresented_factors.copy()\n",
    "unrepresented_factors_scaled[features] = scaler.fit_transform(\n",
    "    unrepresented_factors[features]\n",
    ")\n",
    "\n",
    "save_path = result_data_path / 'split'\n",
    "save_path.mkdir(exist_ok=True)\n",
    "# represented_factors_scaled.to_csv(f'{save_path}/represented_factors.csv', index=False)\n",
    "# unrepresented_factors_scaled.to_csv(f'{save_path}/unrepresented_factors.csv', index=False)"
   ]
  },
  {
   "cell_type": "markdown",
   "id": "ac032e79",
   "metadata": {},
   "source": [
    "### 2.1 PCA on represented features"
   ]
  },
  {
   "cell_type": "code",
   "execution_count": 1956,
   "id": "40e6218e",
   "metadata": {},
   "outputs": [
    {
     "data": {
      "image/png": "[encoded data removed]",
      "text/plain": [
       "<Figure size 432x288 with 2 Axes>"
      ]
     },
     "metadata": {
      "needs_background": "light"
     },
     "output_type": "display_data"
    },
    {
     "data": {
      "image/png": "[encoded data removed]",
      "text/plain": [
       "<Figure size 432x288 with 1 Axes>"
      ]
     },
     "metadata": {
      "needs_background": "light"
     },
     "output_type": "display_data"
    }
   ],
   "source": [
    "n_components = len(represented_features)\n",
    "pca = PCA(n_components=n_components)\n",
    "pca.fit(represented_factors_scaled[represented_features])\n",
    "\n",
    "pca_represented = pd.DataFrame(pca.transform(represented_factors_scaled[represented_features]))\n",
    "pca_cols = [f'pc_{i+1}' for i in range(n_components)]\n",
    "pca_represented.columns = pca_cols\n",
    "\n",
    "plt.figure()\n",
    "sns.heatmap(pca_represented.corr(), cmap='coolwarm')\n",
    "\n",
    "plt.figure()\n",
    "plt.bar(\n",
    "    range(1, len(pca.explained_variance_ratio_) + 1),\n",
    "    pca.explained_variance_ratio_,\n",
    "    alpha=0.5,\n",
    "    align='center',\n",
    "    label='Individual explained variance'\n",
    ")\n",
    "plt.step(\n",
    "    range(1, len(pca.explained_variance_ratio_) + 1),\n",
    "    np.cumsum(pca.explained_variance_ratio_),\n",
    "    where='mid',\n",
    "    label='Cumulative explained variance'\n",
    ")\n",
    "plt.ylabel('Explained variance ratio')\n",
    "plt.xlabel('Principal component index')\n",
    "plt.legend(loc='best')\n",
    "plt.tight_layout()\n",
    "plt.show()"
   ]
  },
  {
   "cell_type": "code",
   "execution_count": 1957,
   "id": "e09e99fc",
   "metadata": {
    "scrolled": true
   },
   "outputs": [
    {
     "name": "stdout",
     "output_type": "stream",
     "text": [
      "26\n"
     ]
    }
   ],
   "source": [
    "EXPLAINED_VAR_THRESHOLD = 0.95\n",
    "\n",
    "PCA_COMPONENTS = np.where(np.cumsum(pca.explained_variance_ratio_) > EXPLAINED_VAR_THRESHOLD)[0][0] + 1\n",
    "print(PCA_COMPONENTS)\n",
    "pca = PCA(n_components=PCA_COMPONENTS)\n",
    "pca.fit(represented_factors_scaled[represented_features])\n",
    "\n",
    "pca_represented = pd.DataFrame(pca.transform(represented_factors_scaled[represented_features]))\n",
    "pca_cols = [f'pc_{i+1}' for i in range(PCA_COMPONENTS)]\n",
    "\n",
    "pca_represented.columns = pca_cols"
   ]
  },
  {
   "cell_type": "code",
   "execution_count": 1961,
   "id": "1e653179",
   "metadata": {},
   "outputs": [],
   "source": [
    "PCA_THRESHOLD = 0.25\n",
    "\n",
    "pca_components_represented = pd.DataFrame(pca.components_, columns=list(represented_features))\n",
    "pca_components_represented_=pca_components_represented.copy()\n",
    "\n",
    "pca_components_represented = pca_components_represented[pca_components_represented > PCA_THRESHOLD]\\\n",
    ".dropna(how='all', axis=1)\n",
    "assert pca_components_represented.notna().any(axis=1).all(), 'Not all components explained, lower threshold'\n",
    "pca_features_represented = pca_components_represented.columns"
   ]
  },
  {
   "cell_type": "code",
   "execution_count": 1962,
   "id": "b34217a3",
   "metadata": {},
   "outputs": [
    {
     "data": {
      "image/png": "[encoded data removed]",
      "text/plain": [
       "<Figure size 1296x864 with 2 Axes>"
      ]
     },
     "metadata": {
      "needs_background": "light"
     },
     "output_type": "display_data"
    }
   ],
   "source": [
    "#Features highlighted with red color doesn't explain any PCA component and should be treated as not important\n",
    "mask = pca_components_represented_[pca_components_represented_ > PCA_THRESHOLD].notna().any(axis=0) == False\n",
    "\n",
    "# Create a heatmap\n",
    "plt.figure(figsize=(18, 12))\n",
    "ax = plt.subplot(1, 1, 1)\n",
    "fig = sns.heatmap(pca_components_represented_[pca_components_represented_ > PCA_THRESHOLD].T, ax=ax, cmap='coolwarm')\n",
    "\n",
    "# Set the y-label colors\n",
    "for label in ax.get_yticklabels():\n",
    "    if mask[label.get_text()]:\n",
    "        label.set_color('red')\n",
    "    label.set_fontsize(14)\n",
    "    \n",
    "# Set the x-label colors\n",
    "for label in ax.get_xticklabels():\n",
    "    label.set_fontsize(14)\n",
    "\n",
    "# plt.show()\n",
    "\n",
    "save_path = img_path / 'pca'\n",
    "save_path.mkdir(exist_ok=True)\n",
    "plt.tight_layout()\n",
    "# fig.get_figure().savefig(f'{save_path}/represented_factors_selection.jpg')"
   ]
  },
  {
   "cell_type": "code",
   "execution_count": 1963,
   "id": "fc8a3bb1",
   "metadata": {},
   "outputs": [],
   "source": [
    "# mask = pca_components_represented_[pca_components_represented_ > PCA_THRESHOLD].notna().any(axis=0) == False\n",
    "\n",
    "# # Create a heatmap\n",
    "# plt.figure(figsize=(18, 12))\n",
    "# ax = plt.subplot(1, 1, 1)\n",
    "# fig = sns.heatmap(pca_components_represented_[pca_components_represented_ > PCA_THRESHOLD].T, ax=ax, cmap='coolwarm')\n",
    "\n",
    "# # Set the y-label colors\n",
    "# for label in ax.get_yticklabels():\n",
    "#     if mask[label.get_text()]:\n",
    "#         label.set_color('red')\n",
    "#     label.set_fontsize(14)\n",
    "    \n",
    "# # Set the x-label colors\n",
    "# for label in ax.get_xticklabels():\n",
    "#     label.set_fontsize(14)\n",
    "\n",
    "# # plt.show()\n",
    "\n",
    "# save_path = img_path / 'pca'\n",
    "# save_path.mkdir(exist_ok=True)\n",
    "# plt.tight_layout()\n",
    "# # fig.get_figure().savefig(f'{save_path}/represented_factors_selection.jpg')"
   ]
  },
  {
   "cell_type": "code",
   "execution_count": 1964,
   "id": "4cdb6856",
   "metadata": {},
   "outputs": [],
   "source": [
    "# x = factors['vac_weight']\n",
    "# y = factors['number_of_weeks_with_summer_vac_transfer']\n",
    "# # y = factors['number_of_weeks_with_summer_vac_transfer_normalized']\n",
    "\n",
    "# # Create the scatter plot\n",
    "# plt.figure(figsize=(10, 6))  # Adjust the figure size as needed\n",
    "# plt.scatter(x, y, alpha=0.5)  # 'alpha' controls the transparency of points\n",
    "\n",
    "# # Add labels and title\n",
    "# plt.xlabel('vac_weight (g)')\n",
    "# plt.ylabel('number_of_weeks_with_summer_vac_transfer')\n",
    "\n",
    "# # Show the plot\n",
    "# plt.grid(True)\n",
    "# plt.show()"
   ]
  },
  {
   "cell_type": "code",
   "execution_count": 1965,
   "id": "667d536d",
   "metadata": {},
   "outputs": [],
   "source": [
    "# x = factors['density_FW']\n",
    "# y = factors['density_FW_SW_ratio']\n",
    "# # y = factors['number_of_weeks_with_summer_vac_transfer_normalized']\n",
    "\n",
    "# # Create the scatter plot\n",
    "# plt.figure(figsize=(10, 6))  # Adjust the figure size as needed\n",
    "# plt.scatter(x, y, alpha=0.5)  # 'alpha' controls the transparency of points\n",
    "\n",
    "# # Add labels and title\n",
    "# # plt.xlabel('vac_weight (g)')\n",
    "# # plt.ylabel('number_of_weeks_with_summer_vac_transfer')\n",
    "\n",
    "# # Show the plot\n",
    "# plt.grid(True)\n",
    "# plt.show()"
   ]
  },
  {
   "cell_type": "code",
   "execution_count": 1966,
   "id": "a1e9e40d",
   "metadata": {},
   "outputs": [],
   "source": [
    "# factors_targets[factors_targets.density_FW_SW_ratio<factors_targets.density_FW_SW_ratio.quantile(.95)][['density_FW_SW_ratio','density_FW','density_SW','mortality','nsfr']].corr()"
   ]
  },
  {
   "cell_type": "code",
   "execution_count": 1967,
   "id": "2802cc27",
   "metadata": {},
   "outputs": [
    {
     "data": {
      "text/plain": [
       "Index(['is_ipn-whole_period-sum', 'is_nacl-after_first_feeding-sum',\n",
       "       'is_nacl-whole_period-sum', 'is_saprosafe aw-whole_period-sum',\n",
       "       'is_cloramina t-whole_period-sum', 'is_bronopol-whole_period-sum',\n",
       "       'sfr-4_weeks_before_transfer-relative_lower_min-0.01', 'ups_length',\n",
       "       'fw_cycle_length_first_mvmt_shipout',\n",
       "       'fw_cycle_length_first_feeding_shipout',\n",
       "       'fw_cycle_length_first_mvmt_first_feeding', 'to_avg_weight',\n",
       "       'density_FW', 'days_btw_to_from', 'weight_BI',\n",
       "       'mortality_rate-6_weeks_before_transfer-sum',\n",
       "       'mortality_rate-after_first_feeding-sum_Desadaptado',\n",
       "       'mortality_rate-whole_period-sum_Eliminación Deforme',\n",
       "       'mortality_rate-whole_period-sum_Eliminación Plateado',\n",
       "       'mortality_rate-whole_period-sum_Eliminación Opérculo',\n",
       "       'mortality_rate-whole_period-sum_Embrionaria', 'is_luf_weighted',\n",
       "       'temperature_fw_sw_diff', 'temperature_cleared-transfer_feeding-median',\n",
       "       'temperature_cleared-transfer_feeding-degree_days',\n",
       "       'temperature_cleared-before_first_feeding-degree_days',\n",
       "       'temperature_cleared-before_first_feeding-mean',\n",
       "       'lower_mean_days_coef=0.33', 'drop_count_coef=0.5',\n",
       "       'eight_last_weeks-tgc', 'eight_last_weeks-fcr', 'eight_last_weeks-sfr',\n",
       "       'ammonium-4_weeks_before_transfer-std',\n",
       "       'ammonium-8_weeks_before_transfer-max',\n",
       "       'ammonium-2_weeks_before_transfer-mean',\n",
       "       'ammonium-4_weeks_before_transfer-cv',\n",
       "       'ammonium-6_weeks_before_transfer-relative_higher_max-1',\n",
       "       'recambio-transfer_vaccination-std',\n",
       "       'recambio-vaccination_transfer-relative_lower_min-25',\n",
       "       'recambio-transfer_vaccination-max', 'ph-8_weeks_before_transfer-std',\n",
       "       'ph-8_weeks_before_transfer-relative_higher_max-7.3',\n",
       "       'ph-8_weeks_before_transfer-relative_lower_min-6.9',\n",
       "       'ph-transfer_vaccination-std', 'atpasa_last', 'k_factor_last',\n",
       "       'atpasa_derivative', 'k_factor_derivative', 'length_last',\n",
       "       'weight_last', 'light_days_transfer_vaccination',\n",
       "       'av.light_hours_per_day_vac',\n",
       "       'number_of_weeks_with_summer_vac_transfer_normalized',\n",
       "       'number_of_weeks_with_summer_vac_transfer', 'is_cleaned_mean',\n",
       "       'is_desinfected_mean', 'weight_H', 'weight_M', 'main_gender_H',\n",
       "       'main_gender_M', 'dominating_gender_H', 'dominating_gender_M',\n",
       "       'dominating_gender_non_existing', 'vac_weight', 'vac_uta',\n",
       "       'vac_fish_count_mean', 'vac_conf_transfer_days', 'vac_conf_days',\n",
       "       'mortality', 'tgc', 'nsfr', 'log_mortality'],\n",
       "      dtype='object')"
      ]
     },
     "execution_count": 1967,
     "metadata": {},
     "output_type": "execute_result"
    }
   ],
   "source": [
    "factors_targets.columns"
   ]
  },
  {
   "cell_type": "code",
   "execution_count": 1968,
   "id": "ac4f4961",
   "metadata": {},
   "outputs": [],
   "source": [
    "# factors[factors['density_FW_SW_ratio']>200]"
   ]
  },
  {
   "cell_type": "code",
   "execution_count": 1969,
   "id": "3ea3e901",
   "metadata": {},
   "outputs": [
    {
     "data": {
      "text/plain": [
       "Index(['days_btw_to_from', 'dominating_gender_H', 'dominating_gender_M',\n",
       "       'drop_count_coef=0.5', 'eight_last_weeks-tgc',\n",
       "       'fw_cycle_length_first_feeding_shipout',\n",
       "       'fw_cycle_length_first_mvmt_shipout', 'is_bronopol-whole_period-sum',\n",
       "       'is_cleaned_mean', 'is_cloramina t-whole_period-sum',\n",
       "       'is_desinfected_mean', 'is_luf_weighted',\n",
       "       'is_nacl-after_first_feeding-sum', 'is_nacl-whole_period-sum',\n",
       "       'lower_mean_days_coef=0.33', 'main_gender_M',\n",
       "       'mortality_rate-6_weeks_before_transfer-sum',\n",
       "       'mortality_rate-after_first_feeding-sum_Desadaptado',\n",
       "       'mortality_rate-whole_period-sum_Eliminación Deforme',\n",
       "       'mortality_rate-whole_period-sum_Embrionaria',\n",
       "       'sfr-4_weeks_before_transfer-relative_lower_min-0.01',\n",
       "       'temperature_cleared-before_first_feeding-degree_days',\n",
       "       'temperature_cleared-before_first_feeding-mean',\n",
       "       'temperature_cleared-transfer_feeding-degree_days',\n",
       "       'temperature_cleared-transfer_feeding-median', 'temperature_fw_sw_diff',\n",
       "       'to_avg_weight', 'ups_length', 'vac_conf_days',\n",
       "       'vac_conf_transfer_days', 'vac_fish_count_mean', 'vac_uta',\n",
       "       'vac_weight', 'weight_BI', 'weight_M'],\n",
       "      dtype='object')"
      ]
     },
     "metadata": {},
     "output_type": "display_data"
    },
    {
     "data": {
      "text/plain": [
       "35"
      ]
     },
     "metadata": {},
     "output_type": "display_data"
    }
   ],
   "source": [
    "display(pca_features_represented, pca_features_represented.shape[0])"
   ]
  },
  {
   "cell_type": "code",
   "execution_count": 1970,
   "id": "59e75efc",
   "metadata": {},
   "outputs": [
    {
     "data": {
      "text/plain": [
       "Index(['density_FW', 'dominating_gender_non_existing',\n",
       "       'fw_cycle_length_first_mvmt_first_feeding', 'main_gender_H',\n",
       "       'weight_H'],\n",
       "      dtype='object')"
      ]
     },
     "execution_count": 1970,
     "metadata": {},
     "output_type": "execute_result"
    }
   ],
   "source": [
    "pd.Index(represented_features).difference(pca_features_represented)"
   ]
  },
  {
   "cell_type": "code",
   "execution_count": 1971,
   "id": "7e361ca9",
   "metadata": {},
   "outputs": [
    {
     "data": {
      "text/plain": [
       "68"
      ]
     },
     "execution_count": 1971,
     "metadata": {},
     "output_type": "execute_result"
    }
   ],
   "source": [
    "len(features)"
   ]
  },
  {
   "cell_type": "markdown",
   "id": "6201e6c2",
   "metadata": {},
   "source": [
    "### 2.2 PCA on all features since 2020"
   ]
  },
  {
   "cell_type": "code",
   "execution_count": 1972,
   "id": "1ceea227",
   "metadata": {},
   "outputs": [
    {
     "data": {
      "image/png": "[encoded data removed]",
      "text/plain": [
       "<Figure size 432x288 with 2 Axes>"
      ]
     },
     "metadata": {
      "needs_background": "light"
     },
     "output_type": "display_data"
    },
    {
     "data": {
      "image/png": "[encoded data removed]",
      "text/plain": [
       "<Figure size 432x288 with 1 Axes>"
      ]
     },
     "metadata": {
      "needs_background": "light"
     },
     "output_type": "display_data"
    }
   ],
   "source": [
    "n_components = len(features)\n",
    "pca = PCA(n_components=n_components)\n",
    "# pca = PCA(n_components='auto')\n",
    "pca.fit(unrepresented_factors_scaled[features])\n",
    "\n",
    "pca_unrepresented = pd.DataFrame(pca.transform(unrepresented_factors_scaled[features]))\n",
    "pca_cols = [f'pc_{i+1}' for i in range(n_components)]\n",
    "pca_unrepresented.columns = pca_cols\n",
    "\n",
    "plt.figure()\n",
    "sns.heatmap(pca_unrepresented.corr(), cmap='coolwarm')\n",
    "\n",
    "plt.figure()\n",
    "plt.bar(\n",
    "    range(1, len(pca.explained_variance_ratio_) + 1),\n",
    "    pca.explained_variance_ratio_,\n",
    "    alpha=0.5,\n",
    "    align='center',\n",
    "    label='Individual explained variance'\n",
    ")\n",
    "plt.step(\n",
    "    range(1, len(pca.explained_variance_ratio_) + 1),\n",
    "    np.cumsum(pca.explained_variance_ratio_),\n",
    "    where='mid',\n",
    "    label='Cumulative explained variance'\n",
    ")\n",
    "plt.ylabel('Explained variance ratio')\n",
    "plt.xlabel('Principal component index')\n",
    "plt.legend(loc='best')\n",
    "plt.tight_layout()\n",
    "plt.show()"
   ]
  },
  {
   "cell_type": "code",
   "execution_count": 1973,
   "id": "6fa151ef",
   "metadata": {},
   "outputs": [
    {
     "name": "stdout",
     "output_type": "stream",
     "text": [
      "37\n"
     ]
    }
   ],
   "source": [
    "EXPLAINED_VAR_THRESHOLD = 0.95\n",
    "\n",
    "PCA_COMPONENTS = np.where(np.cumsum(pca.explained_variance_ratio_) > EXPLAINED_VAR_THRESHOLD)[0][0] + 1\n",
    "print(PCA_COMPONENTS)\n",
    "pca = PCA(n_components=PCA_COMPONENTS)\n",
    "pca.fit(unrepresented_factors_scaled[features])\n",
    "\n",
    "pca_unrepresented = pd.DataFrame(pca.transform(unrepresented_factors_scaled[features]))\n",
    "pca_cols = [f'pc_{i+1}' for i in range(PCA_COMPONENTS)]\n",
    "\n",
    "pca_unrepresented.columns = pca_cols"
   ]
  },
  {
   "cell_type": "code",
   "execution_count": 1974,
   "id": "3e664705",
   "metadata": {},
   "outputs": [],
   "source": [
    "PCA_THRESHOLD = 0.16\n",
    "\n",
    "pca_components_unrepresented = pd.DataFrame(pca.components_, columns=list(features))\n",
    "pca_components_unrepresented_=pca_components_unrepresented.copy()\n",
    "\n",
    "pca_components_unrepresented = pca_components_unrepresented[pca_components_unrepresented > PCA_THRESHOLD]\\\n",
    ".dropna(how='all', axis=1)\n",
    "assert pca_components_unrepresented.notna().any(axis=1).all(), 'Not all components explained, lower threshold'\n",
    "pca_features_unrepresented = pca_components_unrepresented.columns"
   ]
  },
  {
   "cell_type": "code",
   "execution_count": 1975,
   "id": "b5da536a",
   "metadata": {},
   "outputs": [
    {
     "data": {
      "image/png": "[encoded data removed]",
      "text/plain": [
       "<Figure size 1296x864 with 2 Axes>"
      ]
     },
     "metadata": {
      "needs_background": "light"
     },
     "output_type": "display_data"
    }
   ],
   "source": [
    "#Features highlighted with red color doesn't explain any PCA component and should be treated as not important\n",
    "mask = pca_components_unrepresented_[pca_components_unrepresented_ > PCA_THRESHOLD].notna().any(axis=0) == False\n",
    "\n",
    "# Create a heatmap\n",
    "plt.figure(figsize=(18, 12))\n",
    "ax = plt.subplot(1, 1, 1)\n",
    "fig = sns.heatmap(pca_components_unrepresented_[pca_components_unrepresented_ > PCA_THRESHOLD].T, ax=ax, cmap='coolwarm')\n",
    "\n",
    "# Set the y-label colors\n",
    "for label in ax.get_yticklabels():\n",
    "    if mask[label.get_text()]:\n",
    "        label.set_color('red')\n",
    "    label.set_fontsize(14)\n",
    "    \n",
    "# Set the x-label colors\n",
    "for label in ax.get_xticklabels():\n",
    "    label.set_fontsize(14)\n",
    "\n",
    "# plt.show()\n",
    "\n",
    "save_path = img_path / 'pca'\n",
    "save_path.mkdir(exist_ok=True)\n",
    "plt.tight_layout()\n",
    "# fig.get_figure().savefig(f'{save_path}/represented_factors_selection.jpg')"
   ]
  },
  {
   "cell_type": "code",
   "execution_count": 1976,
   "id": "5f8f23c9",
   "metadata": {
    "scrolled": true
   },
   "outputs": [
    {
     "data": {
      "text/plain": [
       "Index(['ammonium-2_weeks_before_transfer-mean',\n",
       "       'ammonium-4_weeks_before_transfer-cv',\n",
       "       'ammonium-4_weeks_before_transfer-std',\n",
       "       'ammonium-6_weeks_before_transfer-relative_higher_max-1',\n",
       "       'ammonium-8_weeks_before_transfer-max', 'atpasa_derivative',\n",
       "       'atpasa_last', 'av.light_hours_per_day_vac', 'days_btw_to_from',\n",
       "       'density_FW', 'dominating_gender_H', 'dominating_gender_M',\n",
       "       'dominating_gender_non_existing', 'drop_count_coef=0.5',\n",
       "       'eight_last_weeks-fcr', 'eight_last_weeks-sfr', 'eight_last_weeks-tgc',\n",
       "       'fw_cycle_length_first_feeding_shipout',\n",
       "       'fw_cycle_length_first_mvmt_first_feeding',\n",
       "       'fw_cycle_length_first_mvmt_shipout', 'is_bronopol-whole_period-sum',\n",
       "       'is_cleaned_mean', 'is_cloramina t-whole_period-sum',\n",
       "       'is_desinfected_mean', 'is_ipn-whole_period-sum', 'is_luf_weighted',\n",
       "       'is_nacl-after_first_feeding-sum', 'is_nacl-whole_period-sum',\n",
       "       'is_saprosafe aw-whole_period-sum', 'k_factor_derivative',\n",
       "       'k_factor_last', 'length_last', 'light_days_transfer_vaccination',\n",
       "       'lower_mean_days_coef=0.33', 'main_gender_H', 'main_gender_M',\n",
       "       'mortality_rate-6_weeks_before_transfer-sum',\n",
       "       'mortality_rate-after_first_feeding-sum_Desadaptado',\n",
       "       'mortality_rate-whole_period-sum_Eliminación Deforme',\n",
       "       'mortality_rate-whole_period-sum_Eliminación Opérculo',\n",
       "       'mortality_rate-whole_period-sum_Eliminación Plateado',\n",
       "       'mortality_rate-whole_period-sum_Embrionaria',\n",
       "       'number_of_weeks_with_summer_vac_transfer',\n",
       "       'number_of_weeks_with_summer_vac_transfer_normalized',\n",
       "       'ph-8_weeks_before_transfer-relative_higher_max-7.3',\n",
       "       'ph-8_weeks_before_transfer-relative_lower_min-6.9',\n",
       "       'ph-8_weeks_before_transfer-std', 'ph-transfer_vaccination-std',\n",
       "       'recambio-transfer_vaccination-max',\n",
       "       'recambio-transfer_vaccination-std',\n",
       "       'recambio-vaccination_transfer-relative_lower_min-25',\n",
       "       'sfr-4_weeks_before_transfer-relative_lower_min-0.01',\n",
       "       'temperature_cleared-before_first_feeding-degree_days',\n",
       "       'temperature_cleared-before_first_feeding-mean',\n",
       "       'temperature_cleared-transfer_feeding-degree_days',\n",
       "       'temperature_cleared-transfer_feeding-median', 'temperature_fw_sw_diff',\n",
       "       'to_avg_weight', 'ups_length', 'vac_conf_days',\n",
       "       'vac_conf_transfer_days', 'vac_fish_count_mean', 'vac_uta',\n",
       "       'vac_weight', 'weight_BI', 'weight_H', 'weight_M', 'weight_last'],\n",
       "      dtype='object')"
      ]
     },
     "metadata": {},
     "output_type": "display_data"
    },
    {
     "data": {
      "text/plain": [
       "68"
      ]
     },
     "metadata": {},
     "output_type": "display_data"
    }
   ],
   "source": [
    "display(pca_features_unrepresented, pca_features_unrepresented.shape[0])"
   ]
  },
  {
   "cell_type": "code",
   "execution_count": 1977,
   "id": "22b5c4a4",
   "metadata": {},
   "outputs": [
    {
     "data": {
      "text/plain": [
       "(35, 68, 68)"
      ]
     },
     "execution_count": 1977,
     "metadata": {},
     "output_type": "execute_result"
    }
   ],
   "source": [
    "len(pca_features_represented),len(pca_features_unrepresented),len(features)"
   ]
  },
  {
   "cell_type": "code",
   "execution_count": 1978,
   "id": "9956c49e",
   "metadata": {},
   "outputs": [
    {
     "data": {
      "text/plain": [
       "Index([], dtype='object')"
      ]
     },
     "execution_count": 1978,
     "metadata": {},
     "output_type": "execute_result"
    }
   ],
   "source": [
    "pca_features_represented.difference(pca_features_unrepresented)"
   ]
  },
  {
   "cell_type": "code",
   "execution_count": 1979,
   "id": "99fbb122",
   "metadata": {},
   "outputs": [
    {
     "data": {
      "text/plain": [
       "Index(['days_btw_to_from', 'dominating_gender_H', 'dominating_gender_M',\n",
       "       'drop_count_coef=0.5', 'eight_last_weeks-tgc',\n",
       "       'fw_cycle_length_first_feeding_shipout',\n",
       "       'fw_cycle_length_first_mvmt_shipout', 'is_bronopol-whole_period-sum',\n",
       "       'is_cleaned_mean', 'is_cloramina t-whole_period-sum',\n",
       "       'is_desinfected_mean', 'is_luf_weighted',\n",
       "       'is_nacl-after_first_feeding-sum', 'is_nacl-whole_period-sum',\n",
       "       'lower_mean_days_coef=0.33', 'main_gender_M',\n",
       "       'mortality_rate-6_weeks_before_transfer-sum',\n",
       "       'mortality_rate-after_first_feeding-sum_Desadaptado',\n",
       "       'mortality_rate-whole_period-sum_Eliminación Deforme',\n",
       "       'mortality_rate-whole_period-sum_Embrionaria',\n",
       "       'sfr-4_weeks_before_transfer-relative_lower_min-0.01',\n",
       "       'temperature_cleared-before_first_feeding-degree_days',\n",
       "       'temperature_cleared-before_first_feeding-mean',\n",
       "       'temperature_cleared-transfer_feeding-degree_days',\n",
       "       'temperature_cleared-transfer_feeding-median', 'temperature_fw_sw_diff',\n",
       "       'to_avg_weight', 'ups_length', 'vac_conf_days',\n",
       "       'vac_conf_transfer_days', 'vac_fish_count_mean', 'vac_uta',\n",
       "       'vac_weight', 'weight_BI', 'weight_M'],\n",
       "      dtype='object')"
      ]
     },
     "execution_count": 1979,
     "metadata": {},
     "output_type": "execute_result"
    }
   ],
   "source": [
    "pca_features_represented"
   ]
  },
  {
   "cell_type": "code",
   "execution_count": 1980,
   "id": "89313c32",
   "metadata": {},
   "outputs": [
    {
     "data": {
      "text/plain": [
       "Index(['ammonium-2_weeks_before_transfer-mean',\n",
       "       'ammonium-4_weeks_before_transfer-cv',\n",
       "       'ammonium-4_weeks_before_transfer-std',\n",
       "       'ammonium-6_weeks_before_transfer-relative_higher_max-1',\n",
       "       'ammonium-8_weeks_before_transfer-max', 'atpasa_derivative',\n",
       "       'atpasa_last', 'av.light_hours_per_day_vac', 'days_btw_to_from',\n",
       "       'density_FW', 'dominating_gender_H', 'dominating_gender_M',\n",
       "       'dominating_gender_non_existing', 'drop_count_coef=0.5',\n",
       "       'eight_last_weeks-fcr', 'eight_last_weeks-sfr', 'eight_last_weeks-tgc',\n",
       "       'fw_cycle_length_first_feeding_shipout',\n",
       "       'fw_cycle_length_first_mvmt_first_feeding',\n",
       "       'fw_cycle_length_first_mvmt_shipout', 'is_bronopol-whole_period-sum',\n",
       "       'is_cleaned_mean', 'is_cloramina t-whole_period-sum',\n",
       "       'is_desinfected_mean', 'is_ipn-whole_period-sum', 'is_luf_weighted',\n",
       "       'is_nacl-after_first_feeding-sum', 'is_nacl-whole_period-sum',\n",
       "       'is_saprosafe aw-whole_period-sum', 'k_factor_derivative',\n",
       "       'k_factor_last', 'length_last', 'light_days_transfer_vaccination',\n",
       "       'lower_mean_days_coef=0.33', 'main_gender_H', 'main_gender_M',\n",
       "       'mortality_rate-6_weeks_before_transfer-sum',\n",
       "       'mortality_rate-after_first_feeding-sum_Desadaptado',\n",
       "       'mortality_rate-whole_period-sum_Eliminación Deforme',\n",
       "       'mortality_rate-whole_period-sum_Eliminación Opérculo',\n",
       "       'mortality_rate-whole_period-sum_Eliminación Plateado',\n",
       "       'mortality_rate-whole_period-sum_Embrionaria',\n",
       "       'number_of_weeks_with_summer_vac_transfer',\n",
       "       'number_of_weeks_with_summer_vac_transfer_normalized',\n",
       "       'ph-8_weeks_before_transfer-relative_higher_max-7.3',\n",
       "       'ph-8_weeks_before_transfer-relative_lower_min-6.9',\n",
       "       'ph-8_weeks_before_transfer-std', 'ph-transfer_vaccination-std',\n",
       "       'recambio-transfer_vaccination-max',\n",
       "       'recambio-transfer_vaccination-std',\n",
       "       'recambio-vaccination_transfer-relative_lower_min-25',\n",
       "       'sfr-4_weeks_before_transfer-relative_lower_min-0.01',\n",
       "       'temperature_cleared-before_first_feeding-degree_days',\n",
       "       'temperature_cleared-before_first_feeding-mean',\n",
       "       'temperature_cleared-transfer_feeding-degree_days',\n",
       "       'temperature_cleared-transfer_feeding-median', 'temperature_fw_sw_diff',\n",
       "       'to_avg_weight', 'ups_length', 'vac_conf_days',\n",
       "       'vac_conf_transfer_days', 'vac_fish_count_mean', 'vac_uta',\n",
       "       'vac_weight', 'weight_BI', 'weight_H', 'weight_M', 'weight_last'],\n",
       "      dtype='object')"
      ]
     },
     "execution_count": 1980,
     "metadata": {},
     "output_type": "execute_result"
    }
   ],
   "source": [
    "pca_features_unrepresented"
   ]
  },
  {
   "cell_type": "markdown",
   "id": "41e80253",
   "metadata": {},
   "source": [
    "## 3. XGBoost"
   ]
  },
  {
   "cell_type": "code",
   "execution_count": 1981,
   "id": "03553061",
   "metadata": {},
   "outputs": [
    {
     "data": {
      "text/plain": [
       "['days_btw_to_from',\n",
       " 'density_FW',\n",
       " 'dominating_gender_H',\n",
       " 'dominating_gender_M',\n",
       " 'dominating_gender_non_existing',\n",
       " 'drop_count_coef=0.5',\n",
       " 'eight_last_weeks-tgc',\n",
       " 'fw_cycle_length_first_feeding_shipout',\n",
       " 'fw_cycle_length_first_mvmt_first_feeding',\n",
       " 'fw_cycle_length_first_mvmt_shipout',\n",
       " 'is_bronopol-whole_period-sum',\n",
       " 'is_cleaned_mean',\n",
       " 'is_cloramina t-whole_period-sum',\n",
       " 'is_desinfected_mean',\n",
       " 'is_luf_weighted',\n",
       " 'is_nacl-after_first_feeding-sum',\n",
       " 'is_nacl-whole_period-sum',\n",
       " 'lower_mean_days_coef=0.33',\n",
       " 'main_gender_H',\n",
       " 'main_gender_M',\n",
       " 'mortality_rate-6_weeks_before_transfer-sum',\n",
       " 'mortality_rate-after_first_feeding-sum_Desadaptado',\n",
       " 'mortality_rate-whole_period-sum_Eliminación Deforme',\n",
       " 'mortality_rate-whole_period-sum_Embrionaria',\n",
       " 'sfr-4_weeks_before_transfer-relative_lower_min-0.01',\n",
       " 'temperature_cleared-before_first_feeding-degree_days',\n",
       " 'temperature_cleared-before_first_feeding-mean',\n",
       " 'temperature_cleared-transfer_feeding-degree_days',\n",
       " 'temperature_cleared-transfer_feeding-median',\n",
       " 'temperature_fw_sw_diff',\n",
       " 'to_avg_weight',\n",
       " 'ups_length',\n",
       " 'vac_conf_days',\n",
       " 'vac_conf_transfer_days',\n",
       " 'vac_fish_count_mean',\n",
       " 'vac_uta',\n",
       " 'vac_weight',\n",
       " 'weight_BI',\n",
       " 'weight_H',\n",
       " 'weight_M']"
      ]
     },
     "execution_count": 1981,
     "metadata": {},
     "output_type": "execute_result"
    }
   ],
   "source": [
    "represented_features"
   ]
  },
  {
   "cell_type": "code",
   "execution_count": 1982,
   "id": "42aea10a",
   "metadata": {},
   "outputs": [],
   "source": [
    "# xgboost_features = represented_features+['number_of_weeks_with_summer_vac_transfer','eight_last_weeks-fcr']\n",
    "xgboost_features = represented_features+['number_of_weeks_with_summer_vac_transfer']\n",
    "\n",
    "# xgboost_features = represented_features\n",
    "\n",
    "# factors_targets = factors.merge(\n",
    "factors_targets = represented_factors.merge(\n",
    "    mortality[key_columns + ['total_mortality_perc_90']],\n",
    "    on=key_columns,\n",
    "    how='inner'\n",
    ").merge(\n",
    "    tgc[key_columns + ['TGC_SW']],\n",
    "    on=key_columns,\n",
    "    how='inner'\n",
    ").merge(\n",
    "    targets[key_columns + ['nSFR']]\n",
    ").merge(\n",
    "    unrepresented_factors[key_columns+['number_of_weeks_with_summer_vac_transfer','eight_last_weeks-fcr']])\n",
    "\n",
    "factors_targets.rename(columns={'total_mortality_perc_90': 'mortality'}, inplace=True)\n",
    "factors_targets.rename(columns={'TGC_SW': 'tgc'}, inplace=True)\n",
    "factors_targets.rename(columns={'nSFR': 'nsfr'}, inplace=True)\n",
    "factors_targets['log_mortality'] = np.log(factors_targets['mortality'])\n",
    "\n",
    "#should we use standard scaler here?\n",
    "scaler = RobustScaler()\n",
    "factors_targets_scaled = factors_targets.copy()\n",
    "factors_targets_scaled[xgboost_features] = scaler.fit_transform(\n",
    "    factors_targets_scaled[xgboost_features]\n",
    ")"
   ]
  },
  {
   "cell_type": "code",
   "execution_count": 1983,
   "id": "9d4a3a25",
   "metadata": {},
   "outputs": [],
   "source": [
    "# target = 'mortality'\n",
    "target = 'log_mortality'\n",
    "# target = 'nsfr'\n",
    "\n",
    "train_data = factors_targets_scaled[factors_targets_scaled['transfer_year'] != 2023]\n",
    "test_data = factors_targets_scaled[factors_targets_scaled['transfer_year'] == 2023]\n",
    "\n",
    "# save_path = result_data_path / 'split'\n",
    "# save_path.mkdir(exist_ok=True)\n",
    "# train_data.to_csv(f'{save_path}/train_data.csv', index=False)\n",
    "# test_data.to_csv(f'{save_path}/test_data.csv', index=False)\n",
    "\n",
    "# X_test, y_test = test_data[represented_features], test_data[target]\n",
    "X_test, y_test = test_data[xgboost_features], test_data[target]\n",
    "\n",
    "\n",
    "X_train, X_val, y_train, y_val = train_test_split(\n",
    "        train_data[xgboost_features],\n",
    "        train_data[target],\n",
    "        test_size=0.2,\n",
    "        random_state=1)"
   ]
  },
  {
   "cell_type": "code",
   "execution_count": 1984,
   "id": "1d6b9800",
   "metadata": {},
   "outputs": [
    {
     "name": "stdout",
     "output_type": "stream",
     "text": [
      "Fitting 2 folds for each of 1 candidates, totalling 2 fits\n",
      "[16:25:12] WARNING: C:/Users/Administrator/workspace/xgboost-win64_release_1.6.0/src/objective/regression_obj.cu:203: reg:linear is now deprecated in favor of reg:squarederror.\n",
      "[16:25:12] WARNING: C:/Users/Administrator/workspace/xgboost-win64_release_1.6.0/src/learner.cc:627: \n",
      "Parameters: { \"silent\" } might not be used.\n",
      "\n",
      "  This could be a false alarm, with some parameters getting used by language bindings but\n",
      "  then being mistakenly passed down to XGBoost core, or some parameter actually being used\n",
      "  but getting flagged wrongly here. Please open an issue if you find any such cases.\n",
      "\n",
      "\n",
      "-0.11272009781748413\n",
      "{'colsample_bytree': 0.7, 'learning_rate': 0.05, 'max_depth': 5, 'min_child_weight': 4, 'n_estimators': 500, 'nthread': 4, 'objective': 'reg:linear', 'silent': 1, 'subsample': 0.7}\n",
      "[16:25:12] WARNING: C:/Users/Administrator/workspace/xgboost-win64_release_1.6.0/src/objective/regression_obj.cu:203: reg:linear is now deprecated in favor of reg:squarederror.\n",
      "[16:25:12] WARNING: C:/Users/Administrator/workspace/xgboost-win64_release_1.6.0/src/learner.cc:627: \n",
      "Parameters: { \"silent\" } might not be used.\n",
      "\n",
      "  This could be a false alarm, with some parameters getting used by language bindings but\n",
      "  then being mistakenly passed down to XGBoost core, or some parameter actually being used\n",
      "  but getting flagged wrongly here. Please open an issue if you find any such cases.\n",
      "\n",
      "\n"
     ]
    }
   ],
   "source": [
    "xgb_regressor = xgb.XGBRegressor()\n",
    "parameters = {'nthread':[4], #when use hyperthread, xgboost may become slower\n",
    "              'objective':['reg:linear'],\n",
    "              'learning_rate': [0.05], #so called `eta` value\n",
    "              'max_depth': [5],\n",
    "              'min_child_weight': [4],\n",
    "              'silent': [1],\n",
    "              'subsample': [0.7],\n",
    "              'colsample_bytree': [0.7],\n",
    "              'n_estimators': [500]}\n",
    "\n",
    "xgb_grid = GridSearchCV(xgb_regressor,\n",
    "                        parameters,\n",
    "                        cv=2,\n",
    "                        n_jobs=5,\n",
    "                        scoring='neg_mean_absolute_percentage_error',\n",
    "                        verbose=True)\n",
    "xgb_grid.fit(X_train.to_numpy(), y_train.to_numpy())\n",
    "\n",
    "print(xgb_grid.best_score_)\n",
    "print(xgb_grid.best_params_)\n",
    "\n",
    "xgb_best = xgb.XGBRegressor(**xgb_grid.best_params_)\n",
    "\n",
    "xgb_best.fit(X_train, y_train)\n",
    "y_pred = xgb_best.predict(X_val.to_numpy())"
   ]
  },
  {
   "cell_type": "code",
   "execution_count": 1985,
   "id": "14b06f2a",
   "metadata": {},
   "outputs": [
    {
     "data": {
      "image/png": "[encoded data removed]",
      "text/plain": [
       "<Figure size 720x504 with 1 Axes>"
      ]
     },
     "metadata": {
      "needs_background": "light"
     },
     "output_type": "display_data"
    }
   ],
   "source": [
    "importance_high_cov = xgb_best.feature_importances_\n",
    "top_20_xgb_factors_high_cov = pd.Series(\n",
    "    importance_high_cov, index=xgboost_features).nlargest(20)\n",
    "plt.figure(figsize=(10,7))\n",
    "fig = top_20_xgb_factors_high_cov.sort_values(ascending=True).plot(kind='barh')\n",
    "fig.tick_params(axis='both', labelsize=14)\n",
    "save_path = img_path / 'importance'\n",
    "save_path.mkdir(exist_ok=True)\n",
    "# fig.get_figure().savefig(f'{save_path}/xgb_top_20_factors_UPD.jpg')"
   ]
  },
  {
   "cell_type": "code",
   "execution_count": 1986,
   "id": "26e18dfd",
   "metadata": {},
   "outputs": [
    {
     "data": {
      "text/plain": [
       "'r2:'"
      ]
     },
     "metadata": {},
     "output_type": "display_data"
    },
    {
     "data": {
      "text/plain": [
       "0.34142844160436103"
      ]
     },
     "metadata": {},
     "output_type": "display_data"
    },
    {
     "data": {
      "text/plain": [
       "'MAPE:'"
      ]
     },
     "metadata": {},
     "output_type": "display_data"
    },
    {
     "data": {
      "text/plain": [
       "0.10810460667404544"
      ]
     },
     "metadata": {},
     "output_type": "display_data"
    },
    {
     "data": {
      "text/plain": [
       "'MSE:'"
      ]
     },
     "metadata": {},
     "output_type": "display_data"
    },
    {
     "data": {
      "text/plain": [
       "0.3505926015690804"
      ]
     },
     "metadata": {},
     "output_type": "display_data"
    }
   ],
   "source": [
    "xgb_factors_target_corr_high_cov = factors_targets_scaled[top_20_xgb_factors_high_cov.index]\\\n",
    ".corrwith(factors_targets_scaled[target])\n",
    "\n",
    "save_path = result_data_path / 'correlation'\n",
    "save_path.mkdir(exist_ok=True)\n",
    "# xgb_factors_target_corr.to_csv(f'{save_path}/xgb_top_20_factors_{target}_corr.csv')\n",
    "\n",
    "display('r2:', r2_score(y_val, y_pred))\n",
    "\n",
    "display('MAPE:', mean_absolute_percentage_error(y_val, y_pred))\n",
    "\n",
    "display('MSE:', mean_squared_error(y_val, y_pred))"
   ]
  },
  {
   "cell_type": "code",
   "execution_count": 1987,
   "id": "4ee685a9",
   "metadata": {},
   "outputs": [],
   "source": [
    "# factors_targets = factors.merge(\n",
    "factors_targets = unrepresented_factors.merge(\n",
    "    mortality[key_columns + ['total_mortality_perc_90']],\n",
    "    on=key_columns,\n",
    "    how='inner'\n",
    ").merge(\n",
    "    tgc[key_columns + ['TGC_SW']],\n",
    "    on=key_columns,\n",
    "    how='inner'\n",
    ").merge(\n",
    "    targets[key_columns + ['nSFR']]\n",
    ")\n",
    "\n",
    "factors_targets.rename(columns={'total_mortality_perc_90': 'mortality'}, inplace=True)\n",
    "factors_targets.rename(columns={'TGC_SW': 'tgc'}, inplace=True)\n",
    "factors_targets.rename(columns={'nSFR': 'nsfr'}, inplace=True)\n",
    "factors_targets['log_mortality'] = np.log(factors_targets['mortality'])\n",
    "\n",
    "#should we use standard scaler here?\n",
    "scaler = RobustScaler()\n",
    "factors_targets_scaled = factors_targets.copy()\n",
    "factors_targets_scaled[features] = scaler.fit_transform(\n",
    "    factors_targets_scaled[features]\n",
    ")"
   ]
  },
  {
   "cell_type": "code",
   "execution_count": 1988,
   "id": "8b058734",
   "metadata": {},
   "outputs": [],
   "source": [
    "# target = 'mortality'\n",
    "target = 'log_mortality'\n",
    "\n",
    "train_data = factors_targets_scaled[factors_targets_scaled['transfer_year'] != 2023]\n",
    "test_data = factors_targets_scaled[factors_targets_scaled['transfer_year'] == 2023]\n",
    "\n",
    "save_path = result_data_path / 'split'\n",
    "save_path.mkdir(exist_ok=True)\n",
    "train_data.to_csv(f'{save_path}/{target}_train_data.csv', index=False)\n",
    "test_data.to_csv(f'{save_path}/{target}_test_data.csv', index=False)\n",
    "\n",
    "X_test, y_test = test_data[features], test_data[target]\n",
    "\n",
    "X_train, X_val, y_train, y_val = train_test_split(\n",
    "        train_data[features],\n",
    "        train_data[target],\n",
    "        test_size=0.2,\n",
    "        random_state=1)"
   ]
  },
  {
   "cell_type": "code",
   "execution_count": 1989,
   "id": "86368b78",
   "metadata": {},
   "outputs": [
    {
     "name": "stdout",
     "output_type": "stream",
     "text": [
      "Fitting 2 folds for each of 1 candidates, totalling 2 fits\n",
      "[16:25:35] WARNING: C:/Users/Administrator/workspace/xgboost-win64_release_1.6.0/src/objective/regression_obj.cu:203: reg:linear is now deprecated in favor of reg:squarederror.\n",
      "[16:25:35] WARNING: C:/Users/Administrator/workspace/xgboost-win64_release_1.6.0/src/learner.cc:627: \n",
      "Parameters: { \"silent\" } might not be used.\n",
      "\n",
      "  This could be a false alarm, with some parameters getting used by language bindings but\n",
      "  then being mistakenly passed down to XGBoost core, or some parameter actually being used\n",
      "  but getting flagged wrongly here. Please open an issue if you find any such cases.\n",
      "\n",
      "\n",
      "-0.11148565014353153\n",
      "{'colsample_bytree': 0.7, 'learning_rate': 0.05, 'max_depth': 5, 'min_child_weight': 4, 'n_estimators': 500, 'nthread': 4, 'objective': 'reg:linear', 'silent': 1, 'subsample': 0.7}\n",
      "[16:25:35] WARNING: C:/Users/Administrator/workspace/xgboost-win64_release_1.6.0/src/objective/regression_obj.cu:203: reg:linear is now deprecated in favor of reg:squarederror.\n",
      "[16:25:35] WARNING: C:/Users/Administrator/workspace/xgboost-win64_release_1.6.0/src/learner.cc:627: \n",
      "Parameters: { \"silent\" } might not be used.\n",
      "\n",
      "  This could be a false alarm, with some parameters getting used by language bindings but\n",
      "  then being mistakenly passed down to XGBoost core, or some parameter actually being used\n",
      "  but getting flagged wrongly here. Please open an issue if you find any such cases.\n",
      "\n",
      "\n"
     ]
    }
   ],
   "source": [
    "xgb_regressor = xgb.XGBRegressor()\n",
    "parameters = {'nthread':[4], #when use hyperthread, xgboost may become slower\n",
    "              'objective':['reg:linear'],\n",
    "              'learning_rate': [0.05], #so called `eta` value\n",
    "              'max_depth': [5],\n",
    "              'min_child_weight': [4],\n",
    "              'silent': [1],\n",
    "              'subsample': [0.7],\n",
    "              'colsample_bytree': [0.7],\n",
    "              'n_estimators': [500]}\n",
    "\n",
    "xgb_grid = GridSearchCV(xgb_regressor,\n",
    "                        parameters,\n",
    "                        cv=2,\n",
    "                        n_jobs=5,\n",
    "                        scoring='neg_mean_absolute_percentage_error',\n",
    "                        verbose=True)\n",
    "xgb_grid.fit(X_train.to_numpy(), y_train.to_numpy())\n",
    "\n",
    "print(xgb_grid.best_score_)\n",
    "print(xgb_grid.best_params_)\n",
    "\n",
    "xgb_best = xgb.XGBRegressor(**xgb_grid.best_params_)\n",
    "\n",
    "xgb_best.fit(X_train, y_train)\n",
    "y_pred = xgb_best.predict(X_val.to_numpy())"
   ]
  },
  {
   "cell_type": "code",
   "execution_count": 1990,
   "id": "9784dccb",
   "metadata": {},
   "outputs": [
    {
     "data": {
      "image/png": "[encoded data removed]",
      "text/plain": [
       "<Figure size 720x504 with 1 Axes>"
      ]
     },
     "metadata": {
      "needs_background": "light"
     },
     "output_type": "display_data"
    }
   ],
   "source": [
    "importance = xgb_best.feature_importances_\n",
    "top_20_xgb_factors = pd.Series(\n",
    "    importance, index=features).nlargest(20)\n",
    "\n",
    "plt.figure(figsize=(10,7))\n",
    "fig = top_20_xgb_factors.sort_values(ascending=True).plot(kind='barh')\n",
    "fig.tick_params(axis='both', labelsize=14)\n",
    "save_path = img_path / 'importance'\n",
    "save_path.mkdir(exist_ok=True)\n",
    "# fig.get_figure().savefig(f'{save_path}/xgb_top_20_factors_UPD.jpg')"
   ]
  },
  {
   "cell_type": "code",
   "execution_count": 1991,
   "id": "9a2ae6cb",
   "metadata": {},
   "outputs": [],
   "source": [
    "# importance = xgb_best.feature_importances_\n",
    "# top_20_xgb_factors = pd.Series(\n",
    "#     importance, index=features).nlargest(20)\n",
    "\n",
    "# fig = top_20_xgb_factors.sort_values(ascending=True).plot(kind='barh')\n",
    "# save_path = img_path / 'importance'\n",
    "# save_path.mkdir(exist_ok=True)\n",
    "# # fig.get_figure().savefig(f'{save_path}/xgb_top_20_factors_UPD.jpg')"
   ]
  },
  {
   "cell_type": "code",
   "execution_count": 1992,
   "id": "eba643a3",
   "metadata": {},
   "outputs": [
    {
     "data": {
      "text/plain": [
       "'r2:'"
      ]
     },
     "metadata": {},
     "output_type": "display_data"
    },
    {
     "data": {
      "text/plain": [
       "0.3613394921103402"
      ]
     },
     "metadata": {},
     "output_type": "display_data"
    },
    {
     "data": {
      "text/plain": [
       "'MAPE:'"
      ]
     },
     "metadata": {},
     "output_type": "display_data"
    },
    {
     "data": {
      "text/plain": [
       "0.1084983907344816"
      ]
     },
     "metadata": {},
     "output_type": "display_data"
    },
    {
     "data": {
      "text/plain": [
       "'MSE:'"
      ]
     },
     "metadata": {},
     "output_type": "display_data"
    },
    {
     "data": {
      "text/plain": [
       "0.33999289238353586"
      ]
     },
     "metadata": {},
     "output_type": "display_data"
    }
   ],
   "source": [
    "xgb_factors_target_corr = factors_targets_scaled[top_20_xgb_factors.index]\\\n",
    ".corrwith(factors_targets_scaled[target])\n",
    "\n",
    "save_path = result_data_path / 'correlation'\n",
    "save_path.mkdir(exist_ok=True)\n",
    "xgb_factors_target_corr.to_csv(f'{save_path}/xgb_top_20_factors_{target}_corr.csv')\n",
    "\n",
    "display('r2:', r2_score(y_val, y_pred))\n",
    "\n",
    "display('MAPE:', mean_absolute_percentage_error(y_val, y_pred))\n",
    "\n",
    "display('MSE:', mean_squared_error(y_val, y_pred))"
   ]
  },
  {
   "cell_type": "code",
   "execution_count": 1993,
   "id": "f5ccbbbc",
   "metadata": {},
   "outputs": [],
   "source": [
    "# xgb_factors_target_corr = factors_targets_scaled[top_20_xgb_factors.index]\\\n",
    "# .corrwith(factors_targets_scaled[target])\n",
    "\n",
    "# save_path = result_data_path / 'correlation'\n",
    "# save_path.mkdir(exist_ok=True)\n",
    "# xgb_factors_target_corr.to_csv(f'{save_path}/xgb_top_20_factors_{target}_corr.csv')\n",
    "\n",
    "# display('r2:', r2_score(y_val, y_pred))\n",
    "\n",
    "# display('MAPE:', mean_absolute_percentage_error(y_val, y_pred))\n",
    "\n",
    "# display('MSE:', mean_squared_error(y_val, y_pred))"
   ]
  },
  {
   "cell_type": "markdown",
   "id": "607fc82e",
   "metadata": {},
   "source": [
    "## 4. Finalization"
   ]
  },
  {
   "cell_type": "code",
   "execution_count": 1994,
   "id": "afd11203",
   "metadata": {},
   "outputs": [],
   "source": [
    "top_pca_factors = pca_features_represented.union(pca_features_unrepresented)"
   ]
  },
  {
   "cell_type": "code",
   "execution_count": 1995,
   "id": "18bf72c7",
   "metadata": {},
   "outputs": [
    {
     "data": {
      "text/plain": [
       "(26, 68, 68, 68)"
      ]
     },
     "execution_count": 1995,
     "metadata": {},
     "output_type": "execute_result"
    }
   ],
   "source": [
    "len(pca_components_represented),len(pca_features_unrepresented),len(top_pca_factors),len(features)"
   ]
  },
  {
   "cell_type": "code",
   "execution_count": 1996,
   "id": "6b37f9e8",
   "metadata": {},
   "outputs": [
    {
     "data": {
      "text/plain": [
       "fw_cycle_length_first_mvmt_first_feeding                0.071231\n",
       "number_of_weeks_with_summer_vac_transfer_normalized     0.048207\n",
       "temperature_cleared-before_first_feeding-degree_days    0.048051\n",
       "mortality_rate-whole_period-sum_Embrionaria             0.047280\n",
       "is_nacl-after_first_feeding-sum                         0.045453\n",
       "number_of_weeks_with_summer_vac_transfer                0.025080\n",
       "av.light_hours_per_day_vac                              0.023157\n",
       "is_desinfected_mean                                     0.022790\n",
       "weight_BI                                               0.021707\n",
       "mortality_rate-whole_period-sum_Eliminación Plateado    0.020384\n",
       "is_luf_weighted                                         0.018182\n",
       "mortality_rate-6_weeks_before_transfer-sum              0.017818\n",
       "fw_cycle_length_first_mvmt_shipout                      0.017472\n",
       "length_last                                             0.016355\n",
       "to_avg_weight                                           0.015336\n",
       "ph-8_weeks_before_transfer-std                          0.015067\n",
       "is_bronopol-whole_period-sum                            0.014679\n",
       "vac_fish_count_mean                                     0.014445\n",
       "recambio-transfer_vaccination-max                       0.014427\n",
       "mortality_rate-whole_period-sum_Eliminación Opérculo    0.014217\n",
       "dtype: float32"
      ]
     },
     "execution_count": 1996,
     "metadata": {},
     "output_type": "execute_result"
    }
   ],
   "source": [
    "top_20_xgb_factors"
   ]
  },
  {
   "cell_type": "code",
   "execution_count": 1997,
   "id": "268cb786",
   "metadata": {},
   "outputs": [],
   "source": [
    "# top_20_xgb_factors"
   ]
  },
  {
   "cell_type": "code",
   "execution_count": 1998,
   "id": "f172410d",
   "metadata": {},
   "outputs": [
    {
     "data": {
      "text/plain": [
       "Index(['av.light_hours_per_day_vac',\n",
       "       'number_of_weeks_with_summer_vac_transfer_normalized',\n",
       "       'number_of_weeks_with_summer_vac_transfer',\n",
       "       'mortality_rate-after_first_feeding-sum_Desadaptado',\n",
       "       'temperature_fw_sw_diff', 'mortality_rate-6_weeks_before_transfer-sum',\n",
       "       'temperature_cleared-before_first_feeding-mean', 'eight_last_weeks-sfr',\n",
       "       'ph-8_weeks_before_transfer-relative_higher_max-7.3',\n",
       "       'drop_count_coef=0.5',\n",
       "       'sfr-4_weeks_before_transfer-relative_lower_min-0.01',\n",
       "       'temperature_cleared-transfer_feeding-degree_days',\n",
       "       'is_cloramina t-whole_period-sum',\n",
       "       'ammonium-4_weeks_before_transfer-cv',\n",
       "       'is_nacl-after_first_feeding-sum',\n",
       "       'temperature_cleared-before_first_feeding-degree_days',\n",
       "       'ammonium-4_weeks_before_transfer-std', 'eight_last_weeks-fcr',\n",
       "       'temperature_cleared-transfer_feeding-median',\n",
       "       'ammonium-8_weeks_before_transfer-max'],\n",
       "      dtype='object')"
      ]
     },
     "execution_count": 1998,
     "metadata": {},
     "output_type": "execute_result"
    }
   ],
   "source": [
    "top_20_corr_factors"
   ]
  },
  {
   "cell_type": "code",
   "execution_count": 1999,
   "id": "f60098ad",
   "metadata": {},
   "outputs": [],
   "source": [
    "# top_20_corr_factors"
   ]
  },
  {
   "cell_type": "code",
   "execution_count": 2000,
   "id": "e775f982",
   "metadata": {},
   "outputs": [
    {
     "data": {
      "text/plain": [
       "Index(['ammonium-2_weeks_before_transfer-mean',\n",
       "       'ammonium-4_weeks_before_transfer-cv',\n",
       "       'ammonium-4_weeks_before_transfer-std',\n",
       "       'ammonium-6_weeks_before_transfer-relative_higher_max-1',\n",
       "       'ammonium-8_weeks_before_transfer-max', 'atpasa_derivative',\n",
       "       'atpasa_last', 'av.light_hours_per_day_vac', 'days_btw_to_from',\n",
       "       'density_FW', 'dominating_gender_H', 'dominating_gender_M',\n",
       "       'dominating_gender_non_existing', 'drop_count_coef=0.5',\n",
       "       'eight_last_weeks-fcr', 'eight_last_weeks-sfr', 'eight_last_weeks-tgc',\n",
       "       'fw_cycle_length_first_feeding_shipout',\n",
       "       'fw_cycle_length_first_mvmt_first_feeding',\n",
       "       'fw_cycle_length_first_mvmt_shipout', 'is_bronopol-whole_period-sum',\n",
       "       'is_cleaned_mean', 'is_cloramina t-whole_period-sum',\n",
       "       'is_desinfected_mean', 'is_ipn-whole_period-sum', 'is_luf_weighted',\n",
       "       'is_nacl-after_first_feeding-sum', 'is_nacl-whole_period-sum',\n",
       "       'is_saprosafe aw-whole_period-sum', 'k_factor_derivative',\n",
       "       'k_factor_last', 'length_last', 'light_days_transfer_vaccination',\n",
       "       'lower_mean_days_coef=0.33', 'main_gender_H', 'main_gender_M',\n",
       "       'mortality_rate-6_weeks_before_transfer-sum',\n",
       "       'mortality_rate-after_first_feeding-sum_Desadaptado',\n",
       "       'mortality_rate-whole_period-sum_Eliminación Deforme',\n",
       "       'mortality_rate-whole_period-sum_Eliminación Opérculo',\n",
       "       'mortality_rate-whole_period-sum_Eliminación Plateado',\n",
       "       'mortality_rate-whole_period-sum_Embrionaria',\n",
       "       'number_of_weeks_with_summer_vac_transfer',\n",
       "       'number_of_weeks_with_summer_vac_transfer_normalized',\n",
       "       'ph-8_weeks_before_transfer-relative_higher_max-7.3',\n",
       "       'ph-8_weeks_before_transfer-relative_lower_min-6.9',\n",
       "       'ph-8_weeks_before_transfer-std', 'ph-transfer_vaccination-std',\n",
       "       'recambio-transfer_vaccination-max',\n",
       "       'recambio-transfer_vaccination-std',\n",
       "       'recambio-vaccination_transfer-relative_lower_min-25',\n",
       "       'sfr-4_weeks_before_transfer-relative_lower_min-0.01',\n",
       "       'temperature_cleared-before_first_feeding-degree_days',\n",
       "       'temperature_cleared-before_first_feeding-mean',\n",
       "       'temperature_cleared-transfer_feeding-degree_days',\n",
       "       'temperature_cleared-transfer_feeding-median', 'temperature_fw_sw_diff',\n",
       "       'to_avg_weight', 'ups_length', 'vac_conf_days',\n",
       "       'vac_conf_transfer_days', 'vac_fish_count_mean', 'vac_uta',\n",
       "       'vac_weight', 'weight_BI', 'weight_H', 'weight_M', 'weight_last'],\n",
       "      dtype='object')"
      ]
     },
     "execution_count": 2000,
     "metadata": {},
     "output_type": "execute_result"
    }
   ],
   "source": [
    "top_pca_factors"
   ]
  },
  {
   "cell_type": "code",
   "execution_count": 2001,
   "id": "9da5ebea",
   "metadata": {},
   "outputs": [],
   "source": [
    "# top_pca_factors"
   ]
  },
  {
   "cell_type": "code",
   "execution_count": 2002,
   "id": "ee01fb28",
   "metadata": {},
   "outputs": [
    {
     "data": {
      "text/plain": [
       "Index(['number_of_weeks_with_summer_vac_transfer_normalized',\n",
       "       'temperature_cleared-before_first_feeding-degree_days',\n",
       "       'is_nacl-after_first_feeding-sum',\n",
       "       'number_of_weeks_with_summer_vac_transfer',\n",
       "       'av.light_hours_per_day_vac',\n",
       "       'mortality_rate-6_weeks_before_transfer-sum'],\n",
       "      dtype='object')"
      ]
     },
     "execution_count": 2002,
     "metadata": {},
     "output_type": "execute_result"
    }
   ],
   "source": [
    "top_20_xgb_factors.index\\\n",
    ".intersection(top_20_corr_factors)\\\n",
    ".intersection(top_pca_factors)"
   ]
  },
  {
   "cell_type": "code",
   "execution_count": 2003,
   "id": "ddd25124",
   "metadata": {},
   "outputs": [],
   "source": [
    "# top_20_xgb_factors.index\\\n",
    "# .intersection(top_20_corr_factors)\\\n",
    "# .intersection(top_pca_factors)"
   ]
  },
  {
   "cell_type": "code",
   "execution_count": 2004,
   "id": "77e5fc83",
   "metadata": {},
   "outputs": [],
   "source": [
    "# #2020 is under pressure\n",
    "# factors.groupby('transfer_year')['is_cleaned_mean'].mean()"
   ]
  },
  {
   "cell_type": "code",
   "execution_count": 2005,
   "id": "d864475b",
   "metadata": {},
   "outputs": [],
   "source": [
    "# strange here\n",
    "# factors[factors['is_cleaned_mean']==0]"
   ]
  },
  {
   "cell_type": "code",
   "execution_count": 2006,
   "id": "d4e44e1b",
   "metadata": {},
   "outputs": [],
   "source": [
    "intersect_1 = top_20_corr_factors.intersection(top_20_xgb_factors_high_cov.index)\n",
    "intersect_2 = top_20_corr_factors.intersection(pca_features_represented)\n",
    "intersect_3 = pca_features_represented.intersection(top_20_xgb_factors_high_cov.index)\n",
    "intersect_4 = top_20_corr_factors.intersection(top_20_xgb_factors.index)\n",
    "final_features = intersect_1.union(intersect_2).union(intersect_3).union(intersect_4)"
   ]
  },
  {
   "cell_type": "code",
   "execution_count": 2007,
   "id": "a968f005",
   "metadata": {
    "scrolled": true
   },
   "outputs": [
    {
     "data": {
      "text/plain": [
       "(26,)"
      ]
     },
     "execution_count": 2007,
     "metadata": {},
     "output_type": "execute_result"
    }
   ],
   "source": [
    "final_features.shape"
   ]
  },
  {
   "cell_type": "code",
   "execution_count": 2008,
   "id": "29a854bf",
   "metadata": {},
   "outputs": [
    {
     "data": {
      "text/plain": [
       "Index(['av.light_hours_per_day_vac', 'drop_count_coef=0.5',\n",
       "       'fw_cycle_length_first_mvmt_shipout', 'is_bronopol-whole_period-sum',\n",
       "       'is_cloramina t-whole_period-sum', 'is_desinfected_mean',\n",
       "       'is_luf_weighted', 'is_nacl-after_first_feeding-sum',\n",
       "       'is_nacl-whole_period-sum', 'main_gender_M',\n",
       "       'mortality_rate-6_weeks_before_transfer-sum',\n",
       "       'mortality_rate-after_first_feeding-sum_Desadaptado',\n",
       "       'mortality_rate-whole_period-sum_Embrionaria',\n",
       "       'number_of_weeks_with_summer_vac_transfer',\n",
       "       'number_of_weeks_with_summer_vac_transfer_normalized',\n",
       "       'sfr-4_weeks_before_transfer-relative_lower_min-0.01',\n",
       "       'temperature_cleared-before_first_feeding-degree_days',\n",
       "       'temperature_cleared-before_first_feeding-mean',\n",
       "       'temperature_cleared-transfer_feeding-degree_days',\n",
       "       'temperature_cleared-transfer_feeding-median', 'temperature_fw_sw_diff',\n",
       "       'to_avg_weight', 'vac_conf_transfer_days', 'vac_fish_count_mean',\n",
       "       'weight_BI', 'weight_M'],\n",
       "      dtype='object')"
      ]
     },
     "execution_count": 2008,
     "metadata": {},
     "output_type": "execute_result"
    }
   ],
   "source": [
    "final_features"
   ]
  },
  {
   "cell_type": "code",
   "execution_count": 2009,
   "id": "4a7492b7",
   "metadata": {},
   "outputs": [],
   "source": [
    "# factors[factors['is_luf_weighted']==0]"
   ]
  },
  {
   "cell_type": "code",
   "execution_count": 2010,
   "id": "05166feb",
   "metadata": {},
   "outputs": [],
   "source": [
    "correlated_pairs_dict = {}\n",
    "\n",
    "for i in range(len(final_features)):\n",
    "    for j in range(i + 1, len(final_features)):\n",
    "        first_feature = final_features[i]\n",
    "        second_feature = final_features[j]\n",
    "        if (first_feature, second_feature) not in correlated_pairs_dict and (second_feature, first_feature) not in correlated_pairs_dict:\n",
    "            for idx in correlated_pairs.index:\n",
    "                if correlated_pairs.iloc[idx][0] == first_feature and correlated_pairs.iloc[idx][1] == second_feature:\n",
    "                    correlated_pairs_dict[(first_feature, second_feature)] = high_corr.loc[first_feature,second_feature]\n",
    "# Now correlated_pairs_dict contains non-symmetric pairs and their correlation values"
   ]
  },
  {
   "cell_type": "code",
   "execution_count": 2011,
   "id": "12672123",
   "metadata": {},
   "outputs": [
    {
     "data": {
      "text/plain": [
       "{('av.light_hours_per_day_vac',\n",
       "  'fw_cycle_length_first_mvmt_shipout'): -0.6029124916472287,\n",
       " ('av.light_hours_per_day_vac',\n",
       "  'number_of_weeks_with_summer_vac_transfer'): 0.7933636400685794,\n",
       " ('av.light_hours_per_day_vac',\n",
       "  'number_of_weeks_with_summer_vac_transfer_normalized'): 0.9849825984731282,\n",
       " ('av.light_hours_per_day_vac',\n",
       "  'temperature_cleared-transfer_feeding-degree_days'): -0.6034784638845271,\n",
       " ('av.light_hours_per_day_vac', 'to_avg_weight'): -0.6683523725620123,\n",
       " ('av.light_hours_per_day_vac', 'vac_conf_transfer_days'): -0.7454496653782481,\n",
       " ('fw_cycle_length_first_mvmt_shipout',\n",
       "  'number_of_weeks_with_summer_vac_transfer_normalized'): -0.6047946835441729,\n",
       " ('fw_cycle_length_first_mvmt_shipout',\n",
       "  'temperature_cleared-before_first_feeding-mean'): -0.5389182435765587,\n",
       " ('fw_cycle_length_first_mvmt_shipout',\n",
       "  'temperature_cleared-transfer_feeding-degree_days'): 0.5428558564728964,\n",
       " ('main_gender_M', 'weight_M'): 0.955444329617712,\n",
       " ('mortality_rate-whole_period-sum_Embrionaria',\n",
       "  'temperature_cleared-transfer_feeding-median'): -0.5108335174796833,\n",
       " ('number_of_weeks_with_summer_vac_transfer',\n",
       "  'number_of_weeks_with_summer_vac_transfer_normalized'): 0.793272941642609,\n",
       " ('number_of_weeks_with_summer_vac_transfer',\n",
       "  'to_avg_weight'): -0.5155224079108853,\n",
       " ('number_of_weeks_with_summer_vac_transfer_normalized',\n",
       "  'temperature_cleared-transfer_feeding-degree_days'): -0.6226743764358263,\n",
       " ('number_of_weeks_with_summer_vac_transfer_normalized',\n",
       "  'to_avg_weight'): -0.6978209441174921,\n",
       " ('number_of_weeks_with_summer_vac_transfer_normalized',\n",
       "  'vac_conf_transfer_days'): -0.778579036107463,\n",
       " ('sfr-4_weeks_before_transfer-relative_lower_min-0.01',\n",
       "  'vac_conf_transfer_days'): 0.5193349952140035,\n",
       " ('temperature_cleared-transfer_feeding-degree_days',\n",
       "  'to_avg_weight'): 0.6029316153101852,\n",
       " ('temperature_cleared-transfer_feeding-degree_days',\n",
       "  'vac_conf_transfer_days'): 0.782518384992543,\n",
       " ('to_avg_weight', 'vac_conf_transfer_days'): 0.6246419693554608}"
      ]
     },
     "execution_count": 2011,
     "metadata": {},
     "output_type": "execute_result"
    }
   ],
   "source": [
    "correlated_pairs_dict"
   ]
  },
  {
   "cell_type": "markdown",
   "id": "61f1f9a2",
   "metadata": {},
   "source": [
    "Remove highly correlated features"
   ]
  },
  {
   "cell_type": "code",
   "execution_count": 2020,
   "id": "93e669ee",
   "metadata": {},
   "outputs": [],
   "source": [
    "to_exclude = [\n",
    "    'av.light_hours_per_day_vac', #because it's similar to number of weeks with summer photoperiod\n",
    "#     'is_baño sin pmv-whole_period-sum', #because first feeding is easier to control\n",
    "#     'light_days_transfer_vaccination', #because it's wrongly calculated (winter should be 9 hours)\n",
    "#     'temperature_cleared-transfer_feeding-degree_days',\n",
    "    'vac_uta',\n",
    "#     'ph-8_weeks_before_transfer-std' #because max feature is easier to interpret\n",
    "    'number_of_weeks_with_summer_vac_transfer_normalized',\n",
    "    'fw_cycle_length_first_feeding_shipout', #extreme correlation with 'temperature_cleared-transfer_feeding-degree_days'\n",
    "#     'fw_cycle_length_first_mvmt_shipout',\n",
    "#     'vac_conf_transfer_days',\n",
    "    'density_FW_SW_ratio', #low interpretability\n",
    "    'weight_BI' #sensitive to present\n",
    "#     ,'fw_cycle_length_vac_shipout'\n",
    "#     ,'is_luf_weighted' #we have to select one of the lufenuron feature\n",
    "    ,'to_avg_weight' #correalted with 'number_of_weeks_with_summer_vac_transfer' and 'number_of_weeks_with_summer_vac_transfer'\n",
    "#     ,'sfr-vaccination_transfer-relative_lower_min-0.01'\n",
    "#     ,'eight_last_weeks-tgc'\n",
    "    ,'vac_conf_transfer_days' #correlated with 'sfr-4_weeks_before_transfer-relative_lower_min-0.01', 'temperature_cleared-transfer_feeding-degree_days' and 'to_avg_weight'\n",
    "    ,'main_gender_M'\n",
    "    \n",
    "]"
   ]
  },
  {
   "cell_type": "code",
   "execution_count": 2021,
   "id": "92751de3",
   "metadata": {},
   "outputs": [],
   "source": [
    "# factors[['ups_length','vac_conf_transfer_days','fw_cycle_length_vac_shipout']].describe()"
   ]
  },
  {
   "cell_type": "code",
   "execution_count": 2022,
   "id": "58c4e5b4",
   "metadata": {},
   "outputs": [],
   "source": [
    "final_features = final_features[~final_features.isin(to_exclude)]"
   ]
  },
  {
   "cell_type": "code",
   "execution_count": 2023,
   "id": "a07e43f2",
   "metadata": {},
   "outputs": [
    {
     "data": {
      "text/plain": [
       "{('fw_cycle_length_first_mvmt_shipout',\n",
       "  'temperature_cleared-before_first_feeding-mean'): -0.5389182435765587,\n",
       " ('fw_cycle_length_first_mvmt_shipout',\n",
       "  'temperature_cleared-transfer_feeding-degree_days'): 0.5428558564728964,\n",
       " ('mortality_rate-whole_period-sum_Embrionaria',\n",
       "  'temperature_cleared-transfer_feeding-median'): -0.5108335174796833}"
      ]
     },
     "execution_count": 2023,
     "metadata": {},
     "output_type": "execute_result"
    }
   ],
   "source": [
    "correlated_pairs_dict = {}\n",
    "\n",
    "for i in range(len(final_features)):\n",
    "    for j in range(i + 1, len(final_features)):\n",
    "        first_feature = final_features[i]\n",
    "        second_feature = final_features[j]\n",
    "        if (first_feature, second_feature) not in correlated_pairs_dict and (second_feature, first_feature) not in correlated_pairs_dict:\n",
    "            for idx in correlated_pairs.index:\n",
    "                if correlated_pairs.iloc[idx][0] == first_feature and correlated_pairs.iloc[idx][1] == second_feature:\n",
    "                    correlated_pairs_dict[(first_feature, second_feature)] = high_corr.loc[first_feature,second_feature]\n",
    "correlated_pairs_dict\n",
    "# Now correlated_pairs_dict contains non-symmetric pairs and their correlation values"
   ]
  },
  {
   "cell_type": "code",
   "execution_count": 2024,
   "id": "5ba23ca5",
   "metadata": {},
   "outputs": [],
   "source": [
    "# corr.loc['ph-8_weeks_before_transfer-max','ph-8_weeks_before_transfer-relative_higher_max-7.3']"
   ]
  },
  {
   "cell_type": "code",
   "execution_count": 2025,
   "id": "cb7cb842",
   "metadata": {},
   "outputs": [
    {
     "name": "stdout",
     "output_type": "stream",
     "text": [
      "20\n"
     ]
    },
    {
     "data": {
      "text/plain": [
       "Index(['drop_count_coef=0.5', 'fw_cycle_length_first_mvmt_shipout',\n",
       "       'is_bronopol-whole_period-sum', 'is_cloramina t-whole_period-sum',\n",
       "       'is_desinfected_mean', 'is_luf_weighted',\n",
       "       'is_nacl-after_first_feeding-sum', 'is_nacl-whole_period-sum',\n",
       "       'mortality_rate-6_weeks_before_transfer-sum',\n",
       "       'mortality_rate-after_first_feeding-sum_Desadaptado',\n",
       "       'mortality_rate-whole_period-sum_Embrionaria',\n",
       "       'number_of_weeks_with_summer_vac_transfer',\n",
       "       'sfr-4_weeks_before_transfer-relative_lower_min-0.01',\n",
       "       'temperature_cleared-before_first_feeding-degree_days',\n",
       "       'temperature_cleared-before_first_feeding-mean',\n",
       "       'temperature_cleared-transfer_feeding-degree_days',\n",
       "       'temperature_cleared-transfer_feeding-median', 'temperature_fw_sw_diff',\n",
       "       'vac_fish_count_mean', 'weight_M'],\n",
       "      dtype='object')"
      ]
     },
     "execution_count": 2025,
     "metadata": {},
     "output_type": "execute_result"
    }
   ],
   "source": [
    "print(len(final_features))\n",
    "final_features"
   ]
  },
  {
   "cell_type": "code",
   "execution_count": 2026,
   "id": "153b638e",
   "metadata": {},
   "outputs": [
    {
     "data": {
      "text/plain": [
       "Index(['number_of_weeks_with_summer_vac_transfer'], dtype='object')"
      ]
     },
     "execution_count": 2026,
     "metadata": {},
     "output_type": "execute_result"
    }
   ],
   "source": [
    "#intersection of unrepresented with final features\n",
    "unrep_final = pd.Index(unrepresented_features).intersection(final_features)\n",
    "unrep_final"
   ]
  },
  {
   "cell_type": "code",
   "execution_count": 2027,
   "id": "058cede0",
   "metadata": {},
   "outputs": [
    {
     "data": {
      "text/plain": [
       "Index([], dtype='object')"
      ]
     },
     "execution_count": 2027,
     "metadata": {},
     "output_type": "execute_result"
    }
   ],
   "source": [
    "unrep_final.difference(final_features)"
   ]
  },
  {
   "cell_type": "code",
   "execution_count": 2028,
   "id": "c4d085d3",
   "metadata": {},
   "outputs": [],
   "source": [
    "# factors[final_features].corr()"
   ]
  },
  {
   "cell_type": "code",
   "execution_count": 2029,
   "id": "29c7f141",
   "metadata": {},
   "outputs": [],
   "source": [
    "save_path = result_data_path / 'factor_ranking'\n",
    "save_path.mkdir(exist_ok=True)\n",
    "pd.Series(final_features).to_csv(f'{save_path}/top_{final_features.shape[0]}_{target}_factors.csv', index=False)\n",
    "factors.to_csv(f'{save_path}/factors.csv', index=False)\n",
    "pd.Series(final_features).to_csv(f'{save_path}/{target}_final_features.csv', index=False)"
   ]
  },
  {
   "cell_type": "code",
   "execution_count": 2030,
   "id": "f196fe92",
   "metadata": {},
   "outputs": [
    {
     "data": {
      "text/html": [
       "<div>\n",
       "<style scoped>\n",
       "    .dataframe tbody tr th:only-of-type {\n",
       "        vertical-align: middle;\n",
       "    }\n",
       "\n",
       "    .dataframe tbody tr th {\n",
       "        vertical-align: top;\n",
       "    }\n",
       "\n",
       "    .dataframe thead th {\n",
       "        text-align: right;\n",
       "    }\n",
       "</style>\n",
       "<table border=\"1\" class=\"dataframe\">\n",
       "  <thead>\n",
       "    <tr style=\"text-align: right;\">\n",
       "      <th></th>\n",
       "      <th>IV</th>\n",
       "      <th>log_mortality</th>\n",
       "      <th>nsfr</th>\n",
       "    </tr>\n",
       "  </thead>\n",
       "  <tbody>\n",
       "    <tr>\n",
       "      <th>mortality_rate-whole_period-sum_Embrionaria</th>\n",
       "      <td>0.067486</td>\n",
       "      <td>0.032516</td>\n",
       "      <td>0.081132</td>\n",
       "    </tr>\n",
       "    <tr>\n",
       "      <th>number_of_weeks_with_summer_vac_transfer</th>\n",
       "      <td>0.058696</td>\n",
       "      <td>0.237694</td>\n",
       "      <td>-0.000887</td>\n",
       "    </tr>\n",
       "    <tr>\n",
       "      <th>is_nacl-after_first_feeding-sum</th>\n",
       "      <td>0.058584</td>\n",
       "      <td>-0.304738</td>\n",
       "      <td>0.032884</td>\n",
       "    </tr>\n",
       "    <tr>\n",
       "      <th>is_desinfected_mean</th>\n",
       "      <td>0.036518</td>\n",
       "      <td>0.103133</td>\n",
       "      <td>-0.003430</td>\n",
       "    </tr>\n",
       "    <tr>\n",
       "      <th>temperature_cleared-before_first_feeding-degree_days</th>\n",
       "      <td>0.032510</td>\n",
       "      <td>-0.225595</td>\n",
       "      <td>0.013255</td>\n",
       "    </tr>\n",
       "    <tr>\n",
       "      <th>is_luf_weighted</th>\n",
       "      <td>0.030207</td>\n",
       "      <td>0.047972</td>\n",
       "      <td>-0.051607</td>\n",
       "    </tr>\n",
       "    <tr>\n",
       "      <th>vac_fish_count_mean</th>\n",
       "      <td>0.028826</td>\n",
       "      <td>0.031058</td>\n",
       "      <td>-0.098108</td>\n",
       "    </tr>\n",
       "    <tr>\n",
       "      <th>mortality_rate-after_first_feeding-sum_Desadaptado</th>\n",
       "      <td>0.025687</td>\n",
       "      <td>-0.241010</td>\n",
       "      <td>-0.037320</td>\n",
       "    </tr>\n",
       "    <tr>\n",
       "      <th>mortality_rate-6_weeks_before_transfer-sum</th>\n",
       "      <td>0.023604</td>\n",
       "      <td>0.085991</td>\n",
       "      <td>0.164461</td>\n",
       "    </tr>\n",
       "    <tr>\n",
       "      <th>weight_M</th>\n",
       "      <td>0.023403</td>\n",
       "      <td>0.071321</td>\n",
       "      <td>0.136045</td>\n",
       "    </tr>\n",
       "    <tr>\n",
       "      <th>is_nacl-whole_period-sum</th>\n",
       "      <td>0.022730</td>\n",
       "      <td>0.061631</td>\n",
       "      <td>0.033512</td>\n",
       "    </tr>\n",
       "    <tr>\n",
       "      <th>temperature_cleared-before_first_feeding-mean</th>\n",
       "      <td>0.022273</td>\n",
       "      <td>0.343205</td>\n",
       "      <td>-0.021812</td>\n",
       "    </tr>\n",
       "    <tr>\n",
       "      <th>fw_cycle_length_first_mvmt_shipout</th>\n",
       "      <td>0.019912</td>\n",
       "      <td>-0.237306</td>\n",
       "      <td>-0.070267</td>\n",
       "    </tr>\n",
       "    <tr>\n",
       "      <th>is_bronopol-whole_period-sum</th>\n",
       "      <td>0.019898</td>\n",
       "      <td>0.050191</td>\n",
       "      <td>0.045069</td>\n",
       "    </tr>\n",
       "    <tr>\n",
       "      <th>drop_count_coef=0.5</th>\n",
       "      <td>0.019784</td>\n",
       "      <td>0.049761</td>\n",
       "      <td>-0.001849</td>\n",
       "    </tr>\n",
       "    <tr>\n",
       "      <th>temperature_fw_sw_diff</th>\n",
       "      <td>0.019148</td>\n",
       "      <td>0.186105</td>\n",
       "      <td>0.102883</td>\n",
       "    </tr>\n",
       "    <tr>\n",
       "      <th>is_cloramina t-whole_period-sum</th>\n",
       "      <td>0.017787</td>\n",
       "      <td>-0.149889</td>\n",
       "      <td>0.007569</td>\n",
       "    </tr>\n",
       "    <tr>\n",
       "      <th>temperature_cleared-transfer_feeding-degree_days</th>\n",
       "      <td>0.016129</td>\n",
       "      <td>0.012252</td>\n",
       "      <td>-0.057801</td>\n",
       "    </tr>\n",
       "    <tr>\n",
       "      <th>sfr-4_weeks_before_transfer-relative_lower_min-0.01</th>\n",
       "      <td>0.014642</td>\n",
       "      <td>-0.073807</td>\n",
       "      <td>0.157146</td>\n",
       "    </tr>\n",
       "    <tr>\n",
       "      <th>temperature_cleared-transfer_feeding-median</th>\n",
       "      <td>0.012594</td>\n",
       "      <td>-0.010142</td>\n",
       "      <td>-0.156841</td>\n",
       "    </tr>\n",
       "  </tbody>\n",
       "</table>\n",
       "</div>"
      ],
      "text/plain": [
       "                                                          IV  log_mortality  \\\n",
       "mortality_rate-whole_period-sum_Embrionaria         0.067486       0.032516   \n",
       "number_of_weeks_with_summer_vac_transfer            0.058696       0.237694   \n",
       "is_nacl-after_first_feeding-sum                     0.058584      -0.304738   \n",
       "is_desinfected_mean                                 0.036518       0.103133   \n",
       "temperature_cleared-before_first_feeding-degree...  0.032510      -0.225595   \n",
       "is_luf_weighted                                     0.030207       0.047972   \n",
       "vac_fish_count_mean                                 0.028826       0.031058   \n",
       "mortality_rate-after_first_feeding-sum_Desadaptado  0.025687      -0.241010   \n",
       "mortality_rate-6_weeks_before_transfer-sum          0.023604       0.085991   \n",
       "weight_M                                            0.023403       0.071321   \n",
       "is_nacl-whole_period-sum                            0.022730       0.061631   \n",
       "temperature_cleared-before_first_feeding-mean       0.022273       0.343205   \n",
       "fw_cycle_length_first_mvmt_shipout                  0.019912      -0.237306   \n",
       "is_bronopol-whole_period-sum                        0.019898       0.050191   \n",
       "drop_count_coef=0.5                                 0.019784       0.049761   \n",
       "temperature_fw_sw_diff                              0.019148       0.186105   \n",
       "is_cloramina t-whole_period-sum                     0.017787      -0.149889   \n",
       "temperature_cleared-transfer_feeding-degree_days    0.016129       0.012252   \n",
       "sfr-4_weeks_before_transfer-relative_lower_min-...  0.014642      -0.073807   \n",
       "temperature_cleared-transfer_feeding-median         0.012594      -0.010142   \n",
       "\n",
       "                                                        nsfr  \n",
       "mortality_rate-whole_period-sum_Embrionaria         0.081132  \n",
       "number_of_weeks_with_summer_vac_transfer           -0.000887  \n",
       "is_nacl-after_first_feeding-sum                     0.032884  \n",
       "is_desinfected_mean                                -0.003430  \n",
       "temperature_cleared-before_first_feeding-degree...  0.013255  \n",
       "is_luf_weighted                                    -0.051607  \n",
       "vac_fish_count_mean                                -0.098108  \n",
       "mortality_rate-after_first_feeding-sum_Desadaptado -0.037320  \n",
       "mortality_rate-6_weeks_before_transfer-sum          0.164461  \n",
       "weight_M                                            0.136045  \n",
       "is_nacl-whole_period-sum                            0.033512  \n",
       "temperature_cleared-before_first_feeding-mean      -0.021812  \n",
       "fw_cycle_length_first_mvmt_shipout                 -0.070267  \n",
       "is_bronopol-whole_period-sum                        0.045069  \n",
       "drop_count_coef=0.5                                -0.001849  \n",
       "temperature_fw_sw_diff                              0.102883  \n",
       "is_cloramina t-whole_period-sum                     0.007569  \n",
       "temperature_cleared-transfer_feeding-degree_days   -0.057801  \n",
       "sfr-4_weeks_before_transfer-relative_lower_min-...  0.157146  \n",
       "temperature_cleared-transfer_feeding-median        -0.156841  "
      ]
     },
     "execution_count": 2030,
     "metadata": {},
     "output_type": "execute_result"
    }
   ],
   "source": [
    "# s=pd.Series(importance_high_cov, index=represented_features+['number_of_weeks_with_summer_vac_transfer','eight_last_weeks-fcr'])\n",
    "s=pd.Series(importance_high_cov, index=represented_features+['number_of_weeks_with_summer_vac_transfer'])\n",
    "# s=pd.Series(importance, index=represented_features)\n",
    "final_features_importance=s[s.index.isin(final_features)].sort_values(ascending=False)\n",
    "# final_features_importance.to_csv(f'{save_path}/final_features_importance.csv')\n",
    "\n",
    "final_features_importance2=pd.concat([pd.DataFrame({'IV':final_features_importance})\n",
    "          ,factors_targets[list(final_features_importance.index)+['log_mortality','nsfr']].corr().loc['log_mortality']\n",
    "          ,factors_targets[list(final_features_importance.index)+['log_mortality','nsfr']].corr().loc['nsfr']\n",
    "          ],axis=1)\n",
    "final_features_importance2.iloc[:-2].to_csv(f'{save_path}/{target}_final_features_importance.csv')\n",
    "final_features_importance2.iloc[:-2]"
   ]
  },
  {
   "cell_type": "code",
   "execution_count": 1903,
   "id": "6ff7218c",
   "metadata": {},
   "outputs": [],
   "source": [
    "# factors_targets[['Jun-Aug','Mar-May','temperature_fw_sw_diff','log_mortality']].corr()"
   ]
  },
  {
   "cell_type": "code",
   "execution_count": 86,
   "id": "be1ee283",
   "metadata": {
    "collapsed": true,
    "jupyter": {
     "outputs_hidden": true
    }
   },
   "outputs": [
    {
     "data": {
      "text/html": [
       "<div>\n",
       "<style scoped>\n",
       "    .dataframe tbody tr th:only-of-type {\n",
       "        vertical-align: middle;\n",
       "    }\n",
       "\n",
       "    .dataframe tbody tr th {\n",
       "        vertical-align: top;\n",
       "    }\n",
       "\n",
       "    .dataframe thead th {\n",
       "        text-align: right;\n",
       "    }\n",
       "</style>\n",
       "<table border=\"1\" class=\"dataframe\">\n",
       "  <thead>\n",
       "    <tr style=\"text-align: right;\">\n",
       "      <th></th>\n",
       "      <th>weight_BI</th>\n",
       "      <th>log_mortality</th>\n",
       "      <th>nsfr</th>\n",
       "    </tr>\n",
       "  </thead>\n",
       "  <tbody>\n",
       "    <tr>\n",
       "      <th>weight_BI</th>\n",
       "      <td>1.000000</td>\n",
       "      <td>0.141673</td>\n",
       "      <td>0.058366</td>\n",
       "    </tr>\n",
       "    <tr>\n",
       "      <th>log_mortality</th>\n",
       "      <td>0.141673</td>\n",
       "      <td>1.000000</td>\n",
       "      <td>-0.105106</td>\n",
       "    </tr>\n",
       "    <tr>\n",
       "      <th>nsfr</th>\n",
       "      <td>0.058366</td>\n",
       "      <td>-0.105106</td>\n",
       "      <td>1.000000</td>\n",
       "    </tr>\n",
       "  </tbody>\n",
       "</table>\n",
       "</div>"
      ],
      "text/plain": [
       "               weight_BI  log_mortality      nsfr\n",
       "weight_BI       1.000000       0.141673  0.058366\n",
       "log_mortality   0.141673       1.000000 -0.105106\n",
       "nsfr            0.058366      -0.105106  1.000000"
      ]
     },
     "execution_count": 86,
     "metadata": {},
     "output_type": "execute_result"
    }
   ],
   "source": [
    "# factors_targets[['weight_BI','log_mortality','nsfr']].corr()"
   ]
  }
 ],
 "metadata": {
  "kernelspec": {
   "display_name": "Python 3 (ipykernel)",
   "language": "python",
   "name": "python3"
  },
  "language_info": {
   "codemirror_mode": {
    "name": "ipython",
    "version": 3
   },
   "file_extension": ".py",
   "mimetype": "text/x-python",
   "name": "python",
   "nbconvert_exporter": "python",
   "pygments_lexer": "ipython3",
   "version": "3.9.7"
  }
 },
 "nbformat": 4,
 "nbformat_minor": 5
}
