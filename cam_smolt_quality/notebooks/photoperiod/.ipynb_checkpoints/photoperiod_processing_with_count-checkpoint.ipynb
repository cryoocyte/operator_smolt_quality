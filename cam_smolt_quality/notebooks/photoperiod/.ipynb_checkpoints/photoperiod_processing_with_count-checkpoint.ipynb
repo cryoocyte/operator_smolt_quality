{
 "cells": [
  {
   "cell_type": "code",
   "execution_count": 1,
   "id": "668c6253",
   "metadata": {},
   "outputs": [],
   "source": [
    "import datetime\n",
    "from pathlib import Path\n",
    "from typing import Dict, List, Union\n",
    "\n",
    "import matplotlib.dates as mdates\n",
    "import matplotlib.pyplot as plt\n",
    "import matplotlib.pylab as pylab\n",
    "import matplotlib.ticker as ticker\n",
    "from matplotlib.patches import Patch\n",
    "import numpy as np\n",
    "import pandas as pd\n",
    "import seaborn as sns\n",
    "from tqdm import tqdm\n",
    "\n",
    "%matplotlib inline\n",
    "pd.options.mode.chained_assignment = None  # default='warn'\n",
    "plt.rcParams.update({'figure.max_open_warning': 0})\n",
    "PARAMS = {'legend.fontsize': 'xx-large',\n",
    "          'legend.title_fontsize': 'x-large',\n",
    "          'figure.figsize': (15, 5),\n",
    "         'axes.labelsize': 'x-large',\n",
    "         'axes.titlesize':'x-large',\n",
    "         'xtick.labelsize':'x-large',\n",
    "         'ytick.labelsize':'x-large'}\n",
    "pylab.rcParams.update(PARAMS)\n",
    "\n",
    "TIME_FORMAT = '%Y-%m-%d'\n",
    "INT_TYPE = 'int32'"
   ]
  },
  {
   "cell_type": "code",
   "execution_count": 2,
   "id": "a497ad18",
   "metadata": {},
   "outputs": [],
   "source": [
    "def weighted_avg(x, weight, factor):\n",
    "    with warnings.catch_warnings():\n",
    "        warnings.simplefilter('ignore')\n",
    "        tmp = x[[weight, factor]].dropna()\n",
    "        weighted_sum = (tmp[weight] * tmp[factor]).sum()\n",
    "        count_sum = tmp[weight].sum()\n",
    "        return weighted_sum / count_sum\n",
    "\n",
    "def load_data(locus_weights_path: Union[str, Path],\n",
    "              temperature_path: Union[str, Path],\n",
    "              locus_group_matching_path: Union[str, Path],\n",
    "              fresh_water_dates_path: Union[str, Path],\n",
    "              sw_fw_matching_path: Union[str, Path],\n",
    "              sw_fw_matching_path_with_cnt: Union[str, Path],\n",
    "              final_locus_weighted_path: Union[str, Path],\n",
    "              mortality_path: Union[str, Path]) -> Dict[str, pd.DataFrame]:\n",
    "    \n",
    "    locus_weights = pd.read_csv(locus_weights_path)\n",
    "    locus_weights.starttime = pd.to_datetime(locus_weights.starttime, format=TIME_FORMAT)\n",
    "    locus_weights.endtime = pd.to_datetime(locus_weights.endtime, format=TIME_FORMAT)\n",
    "    \n",
    "    temperature = pd.read_csv(temperature_path)\n",
    "#     temperature.event_date = pd.to_datetime(temperature.event_date, format=TIME_FORMAT)\n",
    "#     temperature.locus_group_id=temperature.locus_group_id.astype(INT_TYPE)\n",
    "#     temperature['event_year'] = temperature['event_date'].dt.year\n",
    "\n",
    "    locus_group_matching = pd.read_csv(locus_group_matching_path)\n",
    "    locus_group_matching = locus_group_matching.astype(INT_TYPE)\n",
    "\n",
    "    fresh_water_dates = pd.read_csv(fresh_water_dates_path)\n",
    "    for d in ['first_movement_date', 'first_feeding_date', 'shipout_date']:\n",
    "        fresh_water_dates[d] = pd.to_datetime(fresh_water_dates[d], format=TIME_FORMAT)\n",
    "\n",
    "    sw_fw_matching = pd.read_csv(sw_fw_matching_path)\n",
    "    sw_fw_matching_with_cnt = pd.read_csv(sw_fw_matching_path_with_cnt)\n",
    "\n",
    "    sw_fw_cols = ['target_seawater_locus_id',\n",
    "                  'transport_date',\n",
    "                  'ponding_date',\n",
    "                  'pretransfer_fw_locus_population_id',\n",
    "                  'fish_count_shipped_out',\n",
    "                  'avg_weight_g_stocked']\n",
    "    sw_fw_matching = sw_fw_matching[sw_fw_matching.origin_site_type == 'Freshwater'][sw_fw_cols]\n",
    "    sw_fw_matching.pretransfer_fw_locus_population_id = sw_fw_matching.\\\n",
    "    pretransfer_fw_locus_population_id.astype(INT_TYPE)\n",
    "\n",
    "    final_locus_weighted = pd.read_csv(final_locus_weighted_path)\n",
    "    final_locus_weighted.event_date = pd.to_datetime(final_locus_weighted.event_date)\n",
    "\n",
    "    mortality = pd.read_csv(mortality_path)\n",
    "    mortality['transfer_date'] = pd.to_datetime(mortality['transfer_date'], format=TIME_FORMAT)\n",
    "    mortality['transport_year']= mortality['transfer_date'].dt.year\n",
    "\n",
    "\n",
    "    dataframes = {\n",
    "        'temperature': temperature,\n",
    "        'locus_weigts': locus_weights,\n",
    "        'locus_group_matching': locus_group_matching,\n",
    "        'final_locus_weighted': final_locus_weighted,\n",
    "        'fresh_water_dates': fresh_water_dates,\n",
    "        'sw_fw_matching': sw_fw_matching,\n",
    "        'sw_fw_matching_with_cnt': sw_fw_matching_with_cnt,\n",
    "        'mortality': mortality\n",
    "    }\n",
    "    \n",
    "    return dataframes"
   ]
  },
  {
   "cell_type": "code",
   "execution_count": 3,
   "id": "64d06608",
   "metadata": {},
   "outputs": [],
   "source": [
    "dataframes = load_data(locus_weights_path='../data/evt_movement_ratio_with_dates.csv',\n",
    "                       temperature_path='../data/FW_temperature_cleared.csv',\n",
    "                       locus_group_matching_path='../data/locus_locus_group_matching.csv',\n",
    "                       fresh_water_dates_path='../data/FW_cycle_dates.csv',\n",
    "                       sw_fw_matching_path='../data/seawater_freshwater_matching.csv',\n",
    "                       sw_fw_matching_path_with_cnt='../data/sw_locus_fw_locus_population_with_counts.csv',\n",
    "                       final_locus_weighted_path='../data/lw_alldates_final_locus.csv',\n",
    "                       mortality_path='../data/smolt_dataset_transfers_until2023Feb28_narrow.csv')\n",
    "\n",
    "temperature = dataframes['temperature']\n",
    "temperature.event_date = pd.to_datetime(temperature.event_date, format=TIME_FORMAT)\n",
    "temperature['event_year'] = temperature['event_date'].dt.year\n",
    "\n",
    "locus_weights = dataframes['locus_weigts']\n",
    "locus_group_matching = dataframes['locus_group_matching']\n",
    "final_locus_weighted = dataframes['final_locus_weighted']\n",
    "fresh_water_dates = dataframes['fresh_water_dates']\n",
    "sw_fw_matching = dataframes['sw_fw_matching']\n",
    "mortality = dataframes['mortality']\n",
    "\n",
    "sw_fw_matching_with_cnt = dataframes['sw_fw_matching_with_cnt']\n",
    "sw_fw_matching.transport_date = pd.to_datetime(sw_fw_matching.transport_date, format=TIME_FORMAT)\n",
    "sw_fw_matching_with_cnt.transfer_date = pd.to_datetime(sw_fw_matching_with_cnt['transfer_date'], format=TIME_FORMAT)\n",
    "sw_fw_matching_with_cnt['transfer_year'] = sw_fw_matching_with_cnt['transfer_date'].dt.year"
   ]
  },
  {
   "cell_type": "code",
   "execution_count": 4,
   "id": "43c87f19",
   "metadata": {},
   "outputs": [],
   "source": [
    "lw_dates = locus_weights.groupby('final_locus_population_id').agg({'starttime': 'min', 'endtime': 'max'})\n",
    "lw_dates.starttime = pd.to_datetime(lw_dates.starttime, format=TIME_FORMAT)\n",
    "lw_dates.endtime = pd.to_datetime(lw_dates.endtime, format=TIME_FORMAT)\n",
    "lw_dates['FW_cycle_length'] = (lw_dates.endtime - lw_dates.starttime).dt.days + 1  # to be checked (?)\n",
    "lw_dates['starttime_year'] = lw_dates['starttime'].dt.year\n",
    "lw_dates = lw_dates[lw_dates.starttime_year>=2017]  # issues with temperature readings for 2015-2016"
   ]
  },
  {
   "cell_type": "code",
   "execution_count": 5,
   "id": "784a79b1",
   "metadata": {},
   "outputs": [],
   "source": [
    "final_locus_locus_group_weighted = final_locus_weighted.merge(locus_group_matching,\n",
    "                                                              left_on='historic_locus_id',\n",
    "                                                              right_on='locus_id',\n",
    "                                                              how='left')\n",
    "final_locus_locus_group_weighted.drop(columns='locus_id',inplace=True)"
   ]
  },
  {
   "cell_type": "code",
   "execution_count": 6,
   "id": "ed6c4542",
   "metadata": {},
   "outputs": [],
   "source": [
    "photoperiod = pd.read_csv('evt_light_regime_upd.csv')\n",
    "photoperiod['event_date'] = pd.to_datetime(photoperiod['event_date'])\n",
    "photoperiod.rename(columns={'light_regime_type_id': 'light'}, inplace=True)"
   ]
  },
  {
   "cell_type": "code",
   "execution_count": 18,
   "id": "1d719129",
   "metadata": {},
   "outputs": [],
   "source": [
    "inventory = pd.read_csv('../mortality/data/inventory_Petrohue_UPS.csv')\n",
    "inventory = inventory[inventory['close_count'] > 0]\n",
    "inventory['event_date'] = pd.to_datetime(inventory['event_date'])"
   ]
  },
  {
   "cell_type": "code",
   "execution_count": 19,
   "id": "50dd2d8d",
   "metadata": {},
   "outputs": [
    {
     "data": {
      "text/html": [
       "<div>\n",
       "<style scoped>\n",
       "    .dataframe tbody tr th:only-of-type {\n",
       "        vertical-align: middle;\n",
       "    }\n",
       "\n",
       "    .dataframe tbody tr th {\n",
       "        vertical-align: top;\n",
       "    }\n",
       "\n",
       "    .dataframe thead th {\n",
       "        text-align: right;\n",
       "    }\n",
       "</style>\n",
       "<table border=\"1\" class=\"dataframe\">\n",
       "  <thead>\n",
       "    <tr style=\"text-align: right;\">\n",
       "      <th></th>\n",
       "      <th>event_date</th>\n",
       "      <th>locus_id</th>\n",
       "      <th>open_count</th>\n",
       "      <th>open_weight</th>\n",
       "      <th>close_count</th>\n",
       "      <th>close_weight</th>\n",
       "      <th>degree_days</th>\n",
       "    </tr>\n",
       "  </thead>\n",
       "  <tbody>\n",
       "    <tr>\n",
       "      <th>0</th>\n",
       "      <td>2018-09-06</td>\n",
       "      <td>3046035</td>\n",
       "      <td>0</td>\n",
       "      <td>0.00</td>\n",
       "      <td>52344</td>\n",
       "      <td>65.00</td>\n",
       "      <td>12.3</td>\n",
       "    </tr>\n",
       "    <tr>\n",
       "      <th>3</th>\n",
       "      <td>2018-09-07</td>\n",
       "      <td>3046035</td>\n",
       "      <td>0</td>\n",
       "      <td>0.00</td>\n",
       "      <td>119438</td>\n",
       "      <td>65.00</td>\n",
       "      <td>11.9</td>\n",
       "    </tr>\n",
       "    <tr>\n",
       "      <th>4</th>\n",
       "      <td>2018-09-08</td>\n",
       "      <td>3046035</td>\n",
       "      <td>119438</td>\n",
       "      <td>65.00</td>\n",
       "      <td>119395</td>\n",
       "      <td>65.00</td>\n",
       "      <td>11.9</td>\n",
       "    </tr>\n",
       "    <tr>\n",
       "      <th>5</th>\n",
       "      <td>2018-09-09</td>\n",
       "      <td>3046035</td>\n",
       "      <td>119395</td>\n",
       "      <td>65.00</td>\n",
       "      <td>119362</td>\n",
       "      <td>65.00</td>\n",
       "      <td>11.9</td>\n",
       "    </tr>\n",
       "    <tr>\n",
       "      <th>6</th>\n",
       "      <td>2018-09-10</td>\n",
       "      <td>3046035</td>\n",
       "      <td>119362</td>\n",
       "      <td>65.00</td>\n",
       "      <td>119305</td>\n",
       "      <td>65.00</td>\n",
       "      <td>11.9</td>\n",
       "    </tr>\n",
       "    <tr>\n",
       "      <th>...</th>\n",
       "      <td>...</td>\n",
       "      <td>...</td>\n",
       "      <td>...</td>\n",
       "      <td>...</td>\n",
       "      <td>...</td>\n",
       "      <td>...</td>\n",
       "      <td>...</td>\n",
       "    </tr>\n",
       "    <tr>\n",
       "      <th>678999</th>\n",
       "      <td>2022-09-17</td>\n",
       "      <td>7184140</td>\n",
       "      <td>52301</td>\n",
       "      <td>152.06</td>\n",
       "      <td>52300</td>\n",
       "      <td>152.29</td>\n",
       "      <td>13.8</td>\n",
       "    </tr>\n",
       "    <tr>\n",
       "      <th>679000</th>\n",
       "      <td>2022-09-18</td>\n",
       "      <td>7184140</td>\n",
       "      <td>52300</td>\n",
       "      <td>152.29</td>\n",
       "      <td>52299</td>\n",
       "      <td>152.75</td>\n",
       "      <td>13.8</td>\n",
       "    </tr>\n",
       "    <tr>\n",
       "      <th>679001</th>\n",
       "      <td>2022-09-19</td>\n",
       "      <td>7184140</td>\n",
       "      <td>52299</td>\n",
       "      <td>152.75</td>\n",
       "      <td>52298</td>\n",
       "      <td>152.75</td>\n",
       "      <td>13.8</td>\n",
       "    </tr>\n",
       "    <tr>\n",
       "      <th>679002</th>\n",
       "      <td>2022-09-20</td>\n",
       "      <td>7184140</td>\n",
       "      <td>52298</td>\n",
       "      <td>152.75</td>\n",
       "      <td>52291</td>\n",
       "      <td>152.75</td>\n",
       "      <td>13.7</td>\n",
       "    </tr>\n",
       "    <tr>\n",
       "      <th>679003</th>\n",
       "      <td>2022-09-21</td>\n",
       "      <td>7184140</td>\n",
       "      <td>0</td>\n",
       "      <td>0.00</td>\n",
       "      <td>47785</td>\n",
       "      <td>152.75</td>\n",
       "      <td>13.8</td>\n",
       "    </tr>\n",
       "  </tbody>\n",
       "</table>\n",
       "<p>634906 rows × 7 columns</p>\n",
       "</div>"
      ],
      "text/plain": [
       "       event_date  locus_id  open_count  open_weight  close_count  \\\n",
       "0      2018-09-06   3046035           0         0.00        52344   \n",
       "3      2018-09-07   3046035           0         0.00       119438   \n",
       "4      2018-09-08   3046035      119438        65.00       119395   \n",
       "5      2018-09-09   3046035      119395        65.00       119362   \n",
       "6      2018-09-10   3046035      119362        65.00       119305   \n",
       "...           ...       ...         ...          ...          ...   \n",
       "678999 2022-09-17   7184140       52301       152.06        52300   \n",
       "679000 2022-09-18   7184140       52300       152.29        52299   \n",
       "679001 2022-09-19   7184140       52299       152.75        52298   \n",
       "679002 2022-09-20   7184140       52298       152.75        52291   \n",
       "679003 2022-09-21   7184140           0         0.00        47785   \n",
       "\n",
       "        close_weight  degree_days  \n",
       "0              65.00         12.3  \n",
       "3              65.00         11.9  \n",
       "4              65.00         11.9  \n",
       "5              65.00         11.9  \n",
       "6              65.00         11.9  \n",
       "...              ...          ...  \n",
       "678999        152.29         13.8  \n",
       "679000        152.75         13.8  \n",
       "679001        152.75         13.8  \n",
       "679002        152.75         13.7  \n",
       "679003        152.75         13.8  \n",
       "\n",
       "[634906 rows x 7 columns]"
      ]
     },
     "execution_count": 19,
     "metadata": {},
     "output_type": "execute_result"
    }
   ],
   "source": [
    "inventory"
   ]
  },
  {
   "cell_type": "markdown",
   "id": "af7fc061",
   "metadata": {},
   "source": [
    "### Photoperiod"
   ]
  },
  {
   "cell_type": "markdown",
   "id": "ff5c602a",
   "metadata": {},
   "source": [
    "### Processing"
   ]
  },
  {
   "cell_type": "code",
   "execution_count": 20,
   "id": "b5a7dab1",
   "metadata": {},
   "outputs": [],
   "source": [
    "filled_photoperiod = photoperiod.set_index('event_date').groupby('locus_id', sort=False)['light'].apply(\n",
    "    lambda x: x.reindex(\n",
    "        pd.date_range(x.index.min(), x.index.max(), name='event_date'),\n",
    "        method='ffill')\n",
    ").reset_index()"
   ]
  },
  {
   "cell_type": "code",
   "execution_count": 22,
   "id": "c340a55c",
   "metadata": {},
   "outputs": [],
   "source": [
    "filled_photoperiod = filled_photoperiod.merge(\n",
    "    inventory[['event_date', 'locus_id', 'close_count']],\n",
    "    how='inner',\n",
    "    on=['event_date', 'locus_id'])"
   ]
  },
  {
   "cell_type": "code",
   "execution_count": null,
   "id": "a8da9d1e",
   "metadata": {},
   "outputs": [],
   "source": [
    "fw_mortality_final_lp = fw_mortality.merge(final_locus_weighted,\n",
    "                   how='inner', \n",
    "                   left_on=['event_date', 'locus_id'],\n",
    "                   right_on=['event_date', 'historic_locus_id'])\n"
   ]
  },
  {
   "cell_type": "code",
   "execution_count": 24,
   "id": "4c48b73a",
   "metadata": {},
   "outputs": [],
   "source": [
    "filled_photoperiod_final_lp = filled_photoperiod.merge(final_locus_weighted,\n",
    "                                                       how='inner',\n",
    "                                                       left_on=['event_date', 'locus_id'],\n",
    "                                                       right_on=['event_date', 'historic_locus_id'])\n",
    "\n",
    "filled_photoperiod_final_lp.drop('historic_locus_id', axis=1, inplace=True)"
   ]
  },
  {
   "cell_type": "code",
   "execution_count": 26,
   "id": "e6abf7fb",
   "metadata": {},
   "outputs": [
    {
     "data": {
      "text/html": [
       "<div>\n",
       "<style scoped>\n",
       "    .dataframe tbody tr th:only-of-type {\n",
       "        vertical-align: middle;\n",
       "    }\n",
       "\n",
       "    .dataframe tbody tr th {\n",
       "        vertical-align: top;\n",
       "    }\n",
       "\n",
       "    .dataframe thead th {\n",
       "        text-align: right;\n",
       "    }\n",
       "</style>\n",
       "<table border=\"1\" class=\"dataframe\">\n",
       "  <thead>\n",
       "    <tr style=\"text-align: right;\">\n",
       "      <th></th>\n",
       "      <th>locus_id</th>\n",
       "      <th>event_date</th>\n",
       "      <th>close_count</th>\n",
       "      <th>final_locus_population_id</th>\n",
       "      <th>weight</th>\n",
       "      <th>light_1</th>\n",
       "      <th>light_2</th>\n",
       "      <th>light_3</th>\n",
       "    </tr>\n",
       "  </thead>\n",
       "  <tbody>\n",
       "    <tr>\n",
       "      <th>0</th>\n",
       "      <td>3046035</td>\n",
       "      <td>2019-02-13</td>\n",
       "      <td>33434</td>\n",
       "      <td>36792315</td>\n",
       "      <td>0.6675</td>\n",
       "      <td>0</td>\n",
       "      <td>1</td>\n",
       "      <td>0</td>\n",
       "    </tr>\n",
       "    <tr>\n",
       "      <th>1</th>\n",
       "      <td>3046035</td>\n",
       "      <td>2019-02-13</td>\n",
       "      <td>33434</td>\n",
       "      <td>36793542</td>\n",
       "      <td>0.0712</td>\n",
       "      <td>0</td>\n",
       "      <td>1</td>\n",
       "      <td>0</td>\n",
       "    </tr>\n",
       "    <tr>\n",
       "      <th>2</th>\n",
       "      <td>3046035</td>\n",
       "      <td>2019-02-13</td>\n",
       "      <td>33434</td>\n",
       "      <td>36793936</td>\n",
       "      <td>0.0712</td>\n",
       "      <td>0</td>\n",
       "      <td>1</td>\n",
       "      <td>0</td>\n",
       "    </tr>\n",
       "    <tr>\n",
       "      <th>3</th>\n",
       "      <td>3046035</td>\n",
       "      <td>2019-02-14</td>\n",
       "      <td>79641</td>\n",
       "      <td>36792315</td>\n",
       "      <td>0.6333</td>\n",
       "      <td>0</td>\n",
       "      <td>1</td>\n",
       "      <td>0</td>\n",
       "    </tr>\n",
       "    <tr>\n",
       "      <th>4</th>\n",
       "      <td>3046035</td>\n",
       "      <td>2019-02-14</td>\n",
       "      <td>79641</td>\n",
       "      <td>36793542</td>\n",
       "      <td>0.0742</td>\n",
       "      <td>0</td>\n",
       "      <td>1</td>\n",
       "      <td>0</td>\n",
       "    </tr>\n",
       "  </tbody>\n",
       "</table>\n",
       "</div>"
      ],
      "text/plain": [
       "   locus_id event_date  close_count  final_locus_population_id  weight  \\\n",
       "0   3046035 2019-02-13        33434                   36792315  0.6675   \n",
       "1   3046035 2019-02-13        33434                   36793542  0.0712   \n",
       "2   3046035 2019-02-13        33434                   36793936  0.0712   \n",
       "3   3046035 2019-02-14        79641                   36792315  0.6333   \n",
       "4   3046035 2019-02-14        79641                   36793542  0.0742   \n",
       "\n",
       "   light_1  light_2  light_3  \n",
       "0        0        1        0  \n",
       "1        0        1        0  \n",
       "2        0        1        0  \n",
       "3        0        1        0  \n",
       "4        0        1        0  "
      ]
     },
     "execution_count": 26,
     "metadata": {},
     "output_type": "execute_result"
    }
   ],
   "source": [
    "filled_photoperiod_final_lp = pd.get_dummies(filled_photoperiod_final_lp, columns=['light'], prefix='light_', prefix_sep='')\n",
    "filled_photoperiod_final_lp.head()"
   ]
  },
  {
   "cell_type": "code",
   "execution_count": 27,
   "id": "b157bc12",
   "metadata": {},
   "outputs": [],
   "source": [
    "light_cols = [col for col in filled_photoperiod_final_lp.columns if 'light' in col]\n",
    "for col in light_cols:\n",
    "    filled_photoperiod_final_lp[col] = filled_photoperiod_final_lp['weight'] * filled_photoperiod_final_lp[col]\n",
    "    filled_photoperiod_final_lp.rename(columns={col: f'weighted_{col}'}, inplace=True)\n",
    "    \n",
    "light_cols = [col for col in filled_photoperiod_final_lp.columns if 'light' in col]"
   ]
  },
  {
   "cell_type": "code",
   "execution_count": 28,
   "id": "98e14369",
   "metadata": {},
   "outputs": [],
   "source": [
    "filled_photoperiod_final_lp_grouped = filled_photoperiod_final_lp.\\\n",
    "groupby(['final_locus_population_id', 'event_date'])[light_cols]\\\n",
    ".agg(lambda x: x.sum(skipna=False)).reset_index()\n",
    "\n",
    "for col in light_cols:\n",
    "    filled_photoperiod_final_lp_grouped.rename(columns={col: col.replace('weighted_', '')},inplace=True)\n",
    "\n",
    "light_cols = [col for col in filled_photoperiod_final_lp_grouped.columns if 'light' in col]"
   ]
  },
  {
   "cell_type": "code",
   "execution_count": 29,
   "id": "3b4cbca9",
   "metadata": {
    "scrolled": false
   },
   "outputs": [],
   "source": [
    "filled_photoperiod_final_lp_grouped.to_csv('photoperiod_final_lp_close_count.csv', index=False)"
   ]
  },
  {
   "cell_type": "code",
   "execution_count": 31,
   "id": "64aa87b5",
   "metadata": {},
   "outputs": [],
   "source": [
    "full_cycles = [\n",
    "    194527129, \n",
    "    194497496,\n",
    "    193247058,\n",
    "    194516980,\n",
    "    194546436,\n",
    "    38193840,\n",
    "    194352023,\n",
    "    194503079,\n",
    "    193343886,\n",
    "    194530157,\n",
    "    194497483,\n",
    "    194503096,\n",
    "    194522881,\n",
    "    193249474,\n",
    "    193247433,\n",
    "    194523185,\n",
    "    194512165\n",
    "]"
   ]
  },
  {
   "cell_type": "code",
   "execution_count": 33,
   "id": "506182e8",
   "metadata": {},
   "outputs": [],
   "source": [
    "filled_photoperiod['event_year'] = filled_photoperiod['event_date'].dt.year\n",
    "filled_photoperiod['event_season'] = filled_photoperiod['event_date'].dt.month%12 // 3 + 1"
   ]
  },
  {
   "cell_type": "code",
   "execution_count": 34,
   "id": "15b23a29",
   "metadata": {},
   "outputs": [
    {
     "data": {
      "image/png": "[encoded data removed]",
      "text/plain": [
       "<Figure size 1080x360 with 1 Axes>"
      ]
     },
     "metadata": {
      "needs_background": "light"
     },
     "output_type": "display_data"
    },
    {
     "data": {
      "image/png": "[encoded data removed]",
      "text/plain": [
       "<Figure size 1080x360 with 1 Axes>"
      ]
     },
     "metadata": {
      "needs_background": "light"
     },
     "output_type": "display_data"
    },
    {
     "data": {
      "image/png": "[encoded data removed]",
      "text/plain": [
       "<Figure size 1080x360 with 1 Axes>"
      ]
     },
     "metadata": {
      "needs_background": "light"
     },
     "output_type": "display_data"
    }
   ],
   "source": [
    "plt.figure()\n",
    "fig = sns.countplot(data=filled_photoperiod, x='light')\n",
    "fig.set_xticklabels(['Winter', 'Off', 'Summer'])\n",
    "plt.show()\n",
    "\n",
    "plt.figure()\n",
    "fig = sns.countplot(data=filled_photoperiod, x='light', hue='event_year')\n",
    "fig.set_xticklabels(['Winter', 'Off', 'Summer'])\n",
    "plt.show()\n",
    "\n",
    "plt.figure()\n",
    "fig = sns.countplot(data=filled_photoperiod, x='event_year', hue='light')\n",
    "fig.legend(['Winter', 'Off', 'Summer'])\n",
    "plt.show()"
   ]
  },
  {
   "cell_type": "code",
   "execution_count": 35,
   "id": "5277240a",
   "metadata": {},
   "outputs": [],
   "source": [
    "_ =filled_photoperiod_final_lp_grouped.groupby('event_date')[['light_1', 'light_2', 'light_3']].sum()"
   ]
  },
  {
   "cell_type": "code",
   "execution_count": 36,
   "id": "d60a43d7",
   "metadata": {},
   "outputs": [],
   "source": [
    "_ = _.reset_index()\n",
    "\n",
    "_['event_year'] = _['event_date'].dt.year\n",
    "_['event_season'] = _['event_date'].dt.month%12 // 3 + 1\n",
    "\n",
    "pivot_by_year = pd.pivot_table(\n",
    "    data=_,\n",
    "    values=['light_1', 'light_2', 'light_3'],\n",
    "    columns=['event_year'],\n",
    "aggfunc=np.sum)\n",
    "\n",
    "pivot_by_year = pivot_by_year.T.reset_index()\n",
    "\n",
    "pivot_by_season = pd.pivot_table(\n",
    "    data=_,\n",
    "    values=['light_1', 'light_2', 'light_3'],\n",
    "    columns=['event_season'],\n",
    "aggfunc=np.sum)\n",
    "\n",
    "pivot_by_season = pivot_by_season.T.reset_index()"
   ]
  },
  {
   "cell_type": "code",
   "execution_count": 37,
   "id": "54cf7f9f",
   "metadata": {},
   "outputs": [
    {
     "data": {
      "text/html": [
       "<div>\n",
       "<style scoped>\n",
       "    .dataframe tbody tr th:only-of-type {\n",
       "        vertical-align: middle;\n",
       "    }\n",
       "\n",
       "    .dataframe tbody tr th {\n",
       "        vertical-align: top;\n",
       "    }\n",
       "\n",
       "    .dataframe thead th {\n",
       "        text-align: right;\n",
       "    }\n",
       "</style>\n",
       "<table border=\"1\" class=\"dataframe\">\n",
       "  <thead>\n",
       "    <tr style=\"text-align: right;\">\n",
       "      <th></th>\n",
       "      <th>event_year</th>\n",
       "      <th>light_1</th>\n",
       "      <th>light_2</th>\n",
       "      <th>light_3</th>\n",
       "    </tr>\n",
       "  </thead>\n",
       "  <tbody>\n",
       "    <tr>\n",
       "      <th>0</th>\n",
       "      <td>2015</td>\n",
       "      <td>0.000000</td>\n",
       "      <td>5375.969158</td>\n",
       "      <td>0.000000</td>\n",
       "    </tr>\n",
       "    <tr>\n",
       "      <th>1</th>\n",
       "      <td>2016</td>\n",
       "      <td>0.000000</td>\n",
       "      <td>52342.861585</td>\n",
       "      <td>0.000000</td>\n",
       "    </tr>\n",
       "    <tr>\n",
       "      <th>2</th>\n",
       "      <td>2017</td>\n",
       "      <td>0.000000</td>\n",
       "      <td>59731.996757</td>\n",
       "      <td>0.000000</td>\n",
       "    </tr>\n",
       "    <tr>\n",
       "      <th>3</th>\n",
       "      <td>2018</td>\n",
       "      <td>0.000000</td>\n",
       "      <td>59263.526569</td>\n",
       "      <td>0.000000</td>\n",
       "    </tr>\n",
       "    <tr>\n",
       "      <th>4</th>\n",
       "      <td>2019</td>\n",
       "      <td>0.000000</td>\n",
       "      <td>119428.466609</td>\n",
       "      <td>0.000000</td>\n",
       "    </tr>\n",
       "    <tr>\n",
       "      <th>5</th>\n",
       "      <td>2020</td>\n",
       "      <td>15259.314156</td>\n",
       "      <td>140237.659707</td>\n",
       "      <td>34092.889200</td>\n",
       "    </tr>\n",
       "    <tr>\n",
       "      <th>6</th>\n",
       "      <td>2021</td>\n",
       "      <td>78800.813073</td>\n",
       "      <td>267938.356419</td>\n",
       "      <td>40766.915912</td>\n",
       "    </tr>\n",
       "    <tr>\n",
       "      <th>7</th>\n",
       "      <td>2022</td>\n",
       "      <td>135263.127554</td>\n",
       "      <td>167162.568365</td>\n",
       "      <td>48793.902902</td>\n",
       "    </tr>\n",
       "    <tr>\n",
       "      <th>8</th>\n",
       "      <td>2023</td>\n",
       "      <td>4016.001160</td>\n",
       "      <td>105.000000</td>\n",
       "      <td>5656.000000</td>\n",
       "    </tr>\n",
       "  </tbody>\n",
       "</table>\n",
       "</div>"
      ],
      "text/plain": [
       "   event_year        light_1        light_2       light_3\n",
       "0        2015       0.000000    5375.969158      0.000000\n",
       "1        2016       0.000000   52342.861585      0.000000\n",
       "2        2017       0.000000   59731.996757      0.000000\n",
       "3        2018       0.000000   59263.526569      0.000000\n",
       "4        2019       0.000000  119428.466609      0.000000\n",
       "5        2020   15259.314156  140237.659707  34092.889200\n",
       "6        2021   78800.813073  267938.356419  40766.915912\n",
       "7        2022  135263.127554  167162.568365  48793.902902\n",
       "8        2023    4016.001160     105.000000   5656.000000"
      ]
     },
     "execution_count": 37,
     "metadata": {},
     "output_type": "execute_result"
    }
   ],
   "source": [
    "pivot_by_year"
   ]
  },
  {
   "cell_type": "code",
   "execution_count": 38,
   "id": "0414555c",
   "metadata": {},
   "outputs": [
    {
     "data": {
      "text/plain": [
       "<matplotlib.legend.Legend at 0x12879c3a0>"
      ]
     },
     "execution_count": 38,
     "metadata": {},
     "output_type": "execute_result"
    },
    {
     "data": {
      "image/png": "[encoded data removed]",
      "text/plain": [
       "<Figure size 1080x360 with 1 Axes>"
      ]
     },
     "metadata": {
      "needs_background": "light"
     },
     "output_type": "display_data"
    }
   ],
   "source": [
    "pivot_by_year.plot(kind='bar', x='event_year', y=['light_1', 'light_2', 'light_3'])\n",
    "plt.legend(['Winter', 'Off', 'Summer'])"
   ]
  },
  {
   "cell_type": "code",
   "execution_count": 39,
   "id": "3f600ed5",
   "metadata": {},
   "outputs": [
    {
     "data": {
      "text/html": [
       "<div>\n",
       "<style scoped>\n",
       "    .dataframe tbody tr th:only-of-type {\n",
       "        vertical-align: middle;\n",
       "    }\n",
       "\n",
       "    .dataframe tbody tr th {\n",
       "        vertical-align: top;\n",
       "    }\n",
       "\n",
       "    .dataframe thead th {\n",
       "        text-align: right;\n",
       "    }\n",
       "</style>\n",
       "<table border=\"1\" class=\"dataframe\">\n",
       "  <thead>\n",
       "    <tr style=\"text-align: right;\">\n",
       "      <th></th>\n",
       "      <th>event_season</th>\n",
       "      <th>light_1</th>\n",
       "      <th>light_2</th>\n",
       "      <th>light_3</th>\n",
       "    </tr>\n",
       "  </thead>\n",
       "  <tbody>\n",
       "    <tr>\n",
       "      <th>0</th>\n",
       "      <td>1</td>\n",
       "      <td>46155.282455</td>\n",
       "      <td>228912.215911</td>\n",
       "      <td>37193.608668</td>\n",
       "    </tr>\n",
       "    <tr>\n",
       "      <th>1</th>\n",
       "      <td>2</td>\n",
       "      <td>45827.792107</td>\n",
       "      <td>246259.618227</td>\n",
       "      <td>17532.113187</td>\n",
       "    </tr>\n",
       "    <tr>\n",
       "      <th>2</th>\n",
       "      <td>3</td>\n",
       "      <td>59936.307792</td>\n",
       "      <td>216072.730687</td>\n",
       "      <td>23789.595126</td>\n",
       "    </tr>\n",
       "    <tr>\n",
       "      <th>3</th>\n",
       "      <td>4</td>\n",
       "      <td>81419.873590</td>\n",
       "      <td>180341.840345</td>\n",
       "      <td>50794.391033</td>\n",
       "    </tr>\n",
       "  </tbody>\n",
       "</table>\n",
       "</div>"
      ],
      "text/plain": [
       "   event_season       light_1        light_2       light_3\n",
       "0             1  46155.282455  228912.215911  37193.608668\n",
       "1             2  45827.792107  246259.618227  17532.113187\n",
       "2             3  59936.307792  216072.730687  23789.595126\n",
       "3             4  81419.873590  180341.840345  50794.391033"
      ]
     },
     "execution_count": 39,
     "metadata": {},
     "output_type": "execute_result"
    }
   ],
   "source": [
    "pivot_by_season"
   ]
  },
  {
   "cell_type": "code",
   "execution_count": 40,
   "id": "488aae8a",
   "metadata": {},
   "outputs": [
    {
     "data": {
      "text/plain": [
       "<matplotlib.legend.Legend at 0x1289d6100>"
      ]
     },
     "execution_count": 40,
     "metadata": {},
     "output_type": "execute_result"
    },
    {
     "data": {
      "image/png": "[encoded data removed]",
      "text/plain": [
       "<Figure size 1080x360 with 1 Axes>"
      ]
     },
     "metadata": {
      "needs_background": "light"
     },
     "output_type": "display_data"
    }
   ],
   "source": [
    "pivot_by_season.plot(kind='bar', x='event_season', y=['light_1', 'light_2', 'light_3'])\n",
    "plt.legend(['Winter', 'Off', 'Summer'])"
   ]
  },
  {
   "cell_type": "code",
   "execution_count": null,
   "id": "39853040",
   "metadata": {},
   "outputs": [],
   "source": []
  }
 ],
 "metadata": {
  "kernelspec": {
   "display_name": "Python 3 (ipykernel)",
   "language": "python",
   "name": "python3"
  },
  "language_info": {
   "codemirror_mode": {
    "name": "ipython",
    "version": 3
   },
   "file_extension": ".py",
   "mimetype": "text/x-python",
   "name": "python",
   "nbconvert_exporter": "python",
   "pygments_lexer": "ipython3",
   "version": "3.9.12"
  }
 },
 "nbformat": 4,
 "nbformat_minor": 5
}
