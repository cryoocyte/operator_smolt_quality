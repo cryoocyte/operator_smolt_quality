{
 "cells": [
  {
   "cell_type": "code",
   "execution_count": 2,
   "id": "668c6253",
   "metadata": {
    "tags": []
   },
   "outputs": [],
   "source": [
    "import datetime\n",
    "from pathlib import Path\n",
    "from typing import Dict, List, Union\n",
    "\n",
    "import matplotlib.dates as mdates\n",
    "import matplotlib.pyplot as plt\n",
    "import matplotlib.pylab as pylab\n",
    "import matplotlib.ticker as ticker\n",
    "from matplotlib.patches import Patch\n",
    "from sklearn.preprocessing import LabelEncoder, OneHotEncoder\n",
    "import numpy as np\n",
    "import pandas as pd\n",
    "import seaborn as sns\n",
    "from tqdm import tqdm\n",
    "\n",
    "import warnings\n",
    "warnings.filterwarnings(\"ignore\")\n",
    "\n",
    "\n",
    "%matplotlib inline\n",
    "pd.options.mode.chained_assignment = None  # default='warn'\n",
    "plt.rcParams.update({'figure.max_open_warning': 0})\n",
    "PARAMS = {'legend.fontsize': 'xx-large',\n",
    "          'legend.title_fontsize': 'x-large',\n",
    "          'figure.figsize': (15, 5),\n",
    "         'axes.labelsize': 'x-large',\n",
    "         'axes.titlesize':'x-large',\n",
    "         'xtick.labelsize':'x-large',\n",
    "         'ytick.labelsize':'x-large'}\n",
    "pylab.rcParams.update(PARAMS)\n",
    "\n",
    "TIME_FORMAT = '%Y-%m-%d'\n",
    "INT_TYPE = 'int32'"
   ]
  },
  {
   "cell_type": "code",
   "execution_count": 3,
   "id": "72f07587",
   "metadata": {
    "tags": []
   },
   "outputs": [],
   "source": [
    "def weighted_avg(x, weight, factor):\n",
    "    with warnings.catch_warnings():\n",
    "        warnings.simplefilter('ignore')\n",
    "        tmp = x[[weight, factor]].dropna()\n",
    "        weighted_sum = (tmp[weight] * tmp[factor]).sum()\n",
    "        count_sum = tmp[weight].sum()\n",
    "        return weighted_sum / count_sum\n",
    "\n",
    "def load_data(locus_weights_path: Union[str, Path],\n",
    "              temperature_path: Union[str, Path],\n",
    "              locus_group_matching_path: Union[str, Path],\n",
    "              fresh_water_dates_path: Union[str, Path],\n",
    "              sw_fw_matching_path: Union[str, Path],\n",
    "              sw_fw_matching_path_with_cnt: Union[str, Path],\n",
    "              final_locus_weighted_path: Union[str, Path],\n",
    "              mortality_path: Union[str, Path]) -> Dict[str, pd.DataFrame]:\n",
    "    \n",
    "    locus_weights = pd.read_csv(locus_weights_path)\n",
    "    locus_weights.starttime = pd.to_datetime(locus_weights.starttime, format=TIME_FORMAT)\n",
    "    locus_weights.endtime = pd.to_datetime(locus_weights.endtime, format=TIME_FORMAT)\n",
    "    \n",
    "    temperature = pd.read_csv(temperature_path)\n",
    "    temperature.event_date = pd.to_datetime(temperature.event_date, format=TIME_FORMAT)\n",
    "    temperature.locus_group_id=temperature.locus_group_id.astype(INT_TYPE)\n",
    "    temperature['event_year'] = temperature['event_date'].dt.year\n",
    "\n",
    "    locus_group_matching = pd.read_csv(locus_group_matching_path)\n",
    "    locus_group_matching = locus_group_matching.astype(INT_TYPE)\n",
    "\n",
    "    fresh_water_dates = pd.read_csv(fresh_water_dates_path)\n",
    "    for d in ['first_movement_date', 'first_feeding_date', 'shipout_date']:\n",
    "        fresh_water_dates[d] = pd.to_datetime(fresh_water_dates[d], format=TIME_FORMAT)\n",
    "\n",
    "    sw_fw_matching = pd.read_csv(sw_fw_matching_path)\n",
    "    sw_fw_matching_with_cnt = pd.read_csv(sw_fw_matching_path_with_cnt)\n",
    "\n",
    "    sw_fw_cols = ['target_seawater_locus_id',\n",
    "                  'transport_date',\n",
    "                  'ponding_date',\n",
    "                  'pretransfer_fw_locus_population_id',\n",
    "                  'fish_count_shipped_out',\n",
    "                  'avg_weight_g_stocked']\n",
    "    sw_fw_matching = sw_fw_matching[sw_fw_matching.origin_site_type == 'Freshwater'][sw_fw_cols]\n",
    "    sw_fw_matching.pretransfer_fw_locus_population_id = sw_fw_matching.\\\n",
    "    pretransfer_fw_locus_population_id.astype(INT_TYPE)\n",
    "\n",
    "    final_locus_weighted = pd.read_csv(final_locus_weighted_path)\n",
    "    final_locus_weighted.event_date = pd.to_datetime(final_locus_weighted.event_date)\n",
    "\n",
    "    mortality = pd.read_csv(mortality_path)\n",
    "    mortality['transfer_date'] = pd.to_datetime(mortality['transfer_date'], format=TIME_FORMAT)\n",
    "    mortality['transport_year']= mortality['transfer_date'].dt.year\n",
    "\n",
    "\n",
    "    dataframes = {\n",
    "        'temperature': temperature,\n",
    "        'locus_weigts': locus_weights,\n",
    "        'locus_group_matching': locus_group_matching,\n",
    "        'final_locus_weighted': final_locus_weighted,\n",
    "        'fresh_water_dates': fresh_water_dates,\n",
    "        'sw_fw_matching': sw_fw_matching,\n",
    "        'sw_fw_matching_with_cnt': sw_fw_matching_with_cnt,\n",
    "        'mortality': mortality\n",
    "    }\n",
    "    \n",
    "    return dataframes\n",
    "\n",
    "def create_factors_df(agg_ph_df, factors, key_columns, weight_column, weighted_func):\n",
    "    \"\"\"Creates factors df on key_columns level using weight_column to calculate weighted average\"\"\"\n",
    "    factors_dfs = []\n",
    "    print('Weighting factors')\n",
    "    for factor in tqdm(factors):\n",
    "        tmp = agg_ph_df.groupby(key_columns)\\\n",
    "        .apply(weighted_func, weight_column, factor).reset_index().rename(columns={0: factor})\n",
    "        factors_dfs.append(tmp)\n",
    "\n",
    "    factor_df = factors_dfs[0]\n",
    "    for df in factors_dfs[1:]:\n",
    "        factor_df = factor_df.merge(df, on=key_columns, how='inner')\n",
    "    return factor_df"
   ]
  },
  {
   "cell_type": "code",
   "execution_count": 4,
   "id": "64d06608",
   "metadata": {
    "tags": []
   },
   "outputs": [],
   "source": [
    "dataframes = load_data(locus_weights_path='../data/evt_movement_ratio_with_dates.csv',\n",
    "                       temperature_path='../data/temperature_for_CAM.csv',\n",
    "                       locus_group_matching_path='../data/locus_locus_group_matching.csv',\n",
    "                       fresh_water_dates_path='../data/FW_cycle_dates.csv',\n",
    "                       sw_fw_matching_path='../data/seawater_freshwater_matching.csv',\n",
    "                       sw_fw_matching_path_with_cnt='../data/sw_locus_fw_locus_population_with_counts.csv',\n",
    "                       final_locus_weighted_path='../data/lw_alldates_final.csv', #_locus\n",
    "                       mortality_path='../data/smolt_dataset_transfers.csv') #_until2023Feb28_narrow\n",
    "\n",
    "temperature = dataframes['temperature']\n",
    "locus_weights = dataframes['locus_weigts']\n",
    "locus_group_matching = dataframes['locus_group_matching']\n",
    "final_locus_weighted = dataframes['final_locus_weighted']\n",
    "fresh_water_dates = dataframes['fresh_water_dates']\n",
    "sw_fw_matching = dataframes['sw_fw_matching']\n",
    "mortality = dataframes['mortality']\n",
    "sw_fw_matching_with_cnt = dataframes['sw_fw_matching_with_cnt']\n",
    "\n",
    "sw_fw_matching_with_cnt['transfer_date'] = pd.to_datetime(sw_fw_matching_with_cnt['transfer_date'], format=TIME_FORMAT)\n",
    "sw_fw_matching_with_cnt['transfer_year'] = sw_fw_matching_with_cnt['transfer_date'].dt.year\n",
    "\n",
    "#tgc = pd.read_csv('../data/transfers_until2023Feb28_with_sw_growth_targets.csv')"
   ]
  },
  {
   "cell_type": "code",
   "execution_count": 5,
   "id": "43c87f19",
   "metadata": {
    "tags": []
   },
   "outputs": [],
   "source": [
    "lw_dates = locus_weights.groupby('final_locus_population_id').agg({'starttime': 'min', 'endtime': 'max'})\n",
    "lw_dates.starttime = pd.to_datetime(lw_dates.starttime, format=TIME_FORMAT)\n",
    "lw_dates.endtime = pd.to_datetime(lw_dates.endtime, format=TIME_FORMAT)\n",
    "lw_dates['FW_cycle_length'] = (lw_dates.endtime - lw_dates.starttime).dt.days + 1  # to be checked (?)\n",
    "lw_dates['starttime_year'] = lw_dates['starttime'].dt.year\n",
    "lw_dates = lw_dates[lw_dates.starttime_year>=2017]  # issues with temperature readings for 2015-2016"
   ]
  },
  {
   "cell_type": "code",
   "execution_count": 6,
   "id": "784a79b1",
   "metadata": {
    "tags": []
   },
   "outputs": [],
   "source": [
    "final_locus_locus_group_weighted = final_locus_weighted.merge(locus_group_matching,\n",
    "                                                              left_on='historic_locus_id',\n",
    "                                                              right_on='locus_id',\n",
    "                                                              how='left')\n",
    "final_locus_locus_group_weighted.drop(columns='locus_id',inplace=True)"
   ]
  },
  {
   "cell_type": "code",
   "execution_count": 10,
   "id": "e9db7ddd",
   "metadata": {
    "tags": []
   },
   "outputs": [
    {
     "data": {
      "text/html": [
       "<div>\n",
       "<style scoped>\n",
       "    .dataframe tbody tr th:only-of-type {\n",
       "        vertical-align: middle;\n",
       "    }\n",
       "\n",
       "    .dataframe tbody tr th {\n",
       "        vertical-align: top;\n",
       "    }\n",
       "\n",
       "    .dataframe thead th {\n",
       "        text-align: right;\n",
       "    }\n",
       "</style>\n",
       "<table border=\"1\" class=\"dataframe\">\n",
       "  <thead>\n",
       "    <tr style=\"text-align: right;\">\n",
       "      <th></th>\n",
       "      <th>final_locus_population_id</th>\n",
       "      <th>event_date</th>\n",
       "      <th>historic_locus_id</th>\n",
       "      <th>weight</th>\n",
       "      <th>locus_group_id</th>\n",
       "    </tr>\n",
       "  </thead>\n",
       "  <tbody>\n",
       "    <tr>\n",
       "      <th>0</th>\n",
       "      <td>36770651</td>\n",
       "      <td>2015-05-15</td>\n",
       "      <td>3050549</td>\n",
       "      <td>1.0</td>\n",
       "      <td>535</td>\n",
       "    </tr>\n",
       "    <tr>\n",
       "      <th>1</th>\n",
       "      <td>36770651</td>\n",
       "      <td>2015-05-15</td>\n",
       "      <td>3050549</td>\n",
       "      <td>1.0</td>\n",
       "      <td>536</td>\n",
       "    </tr>\n",
       "    <tr>\n",
       "      <th>2</th>\n",
       "      <td>36770651</td>\n",
       "      <td>2015-05-16</td>\n",
       "      <td>3050549</td>\n",
       "      <td>1.0</td>\n",
       "      <td>535</td>\n",
       "    </tr>\n",
       "    <tr>\n",
       "      <th>3</th>\n",
       "      <td>36770651</td>\n",
       "      <td>2015-05-16</td>\n",
       "      <td>3050549</td>\n",
       "      <td>1.0</td>\n",
       "      <td>536</td>\n",
       "    </tr>\n",
       "    <tr>\n",
       "      <th>4</th>\n",
       "      <td>36770651</td>\n",
       "      <td>2015-05-17</td>\n",
       "      <td>3050549</td>\n",
       "      <td>1.0</td>\n",
       "      <td>535</td>\n",
       "    </tr>\n",
       "    <tr>\n",
       "      <th>...</th>\n",
       "      <td>...</td>\n",
       "      <td>...</td>\n",
       "      <td>...</td>\n",
       "      <td>...</td>\n",
       "      <td>...</td>\n",
       "    </tr>\n",
       "    <tr>\n",
       "      <th>104787572</th>\n",
       "      <td>194761283</td>\n",
       "      <td>2023-12-09</td>\n",
       "      <td>3048141</td>\n",
       "      <td>1.0</td>\n",
       "      <td>554</td>\n",
       "    </tr>\n",
       "    <tr>\n",
       "      <th>104787573</th>\n",
       "      <td>194761283</td>\n",
       "      <td>2023-12-09</td>\n",
       "      <td>3048141</td>\n",
       "      <td>1.0</td>\n",
       "      <td>559</td>\n",
       "    </tr>\n",
       "    <tr>\n",
       "      <th>104787574</th>\n",
       "      <td>194761283</td>\n",
       "      <td>2023-12-10</td>\n",
       "      <td>3048141</td>\n",
       "      <td>1.0</td>\n",
       "      <td>552</td>\n",
       "    </tr>\n",
       "    <tr>\n",
       "      <th>104787575</th>\n",
       "      <td>194761283</td>\n",
       "      <td>2023-12-10</td>\n",
       "      <td>3048141</td>\n",
       "      <td>1.0</td>\n",
       "      <td>554</td>\n",
       "    </tr>\n",
       "    <tr>\n",
       "      <th>104787576</th>\n",
       "      <td>194761283</td>\n",
       "      <td>2023-12-10</td>\n",
       "      <td>3048141</td>\n",
       "      <td>1.0</td>\n",
       "      <td>559</td>\n",
       "    </tr>\n",
       "  </tbody>\n",
       "</table>\n",
       "<p>104787577 rows × 5 columns</p>\n",
       "</div>"
      ],
      "text/plain": [
       "           final_locus_population_id event_date  historic_locus_id  weight  \\\n",
       "0                           36770651 2015-05-15            3050549     1.0   \n",
       "1                           36770651 2015-05-15            3050549     1.0   \n",
       "2                           36770651 2015-05-16            3050549     1.0   \n",
       "3                           36770651 2015-05-16            3050549     1.0   \n",
       "4                           36770651 2015-05-17            3050549     1.0   \n",
       "...                              ...        ...                ...     ...   \n",
       "104787572                  194761283 2023-12-09            3048141     1.0   \n",
       "104787573                  194761283 2023-12-09            3048141     1.0   \n",
       "104787574                  194761283 2023-12-10            3048141     1.0   \n",
       "104787575                  194761283 2023-12-10            3048141     1.0   \n",
       "104787576                  194761283 2023-12-10            3048141     1.0   \n",
       "\n",
       "           locus_group_id  \n",
       "0                     535  \n",
       "1                     536  \n",
       "2                     535  \n",
       "3                     536  \n",
       "4                     535  \n",
       "...                   ...  \n",
       "104787572             554  \n",
       "104787573             559  \n",
       "104787574             552  \n",
       "104787575             554  \n",
       "104787576             559  \n",
       "\n",
       "[104787577 rows x 5 columns]"
      ]
     },
     "execution_count": 10,
     "metadata": {},
     "output_type": "execute_result"
    }
   ],
   "source": [
    "final_locus_locus_group_weighted"
   ]
  },
  {
   "cell_type": "markdown",
   "id": "af7fc061",
   "metadata": {},
   "source": [
    "### Feed data"
   ]
  },
  {
   "cell_type": "code",
   "execution_count": 11,
   "id": "eb9c0dff",
   "metadata": {
    "tags": []
   },
   "outputs": [],
   "source": [
    "feed_data = pd.read_csv('../data/feed_UPS_Petrohue.csv')\n",
    "feed_data.rename(columns={'start_reg_time': 'event_date'}, inplace=True)\n",
    "feed_data['event_date'] = pd.to_datetime(feed_data['event_date'], utc=True) #format=TIME_FORMAT\n",
    "feed_data['event_year'] = feed_data['event_date'].dt.year"
   ]
  },
  {
   "cell_type": "code",
   "execution_count": 12,
   "id": "28bbc001",
   "metadata": {
    "tags": []
   },
   "outputs": [
    {
     "data": {
      "text/plain": [
       "Timestamp('2024-01-02 00:00:00+0000', tz='UTC')"
      ]
     },
     "execution_count": 12,
     "metadata": {},
     "output_type": "execute_result"
    }
   ],
   "source": [
    "feed_data['event_date'].max()"
   ]
  },
  {
   "cell_type": "markdown",
   "id": "4286d229",
   "metadata": {},
   "source": [
    "#### Feed producer catalog"
   ]
  },
  {
   "cell_type": "code",
   "execution_count": 13,
   "id": "d66d52db",
   "metadata": {
    "tags": []
   },
   "outputs": [],
   "source": [
    "feed_catalog = pd.read_csv('../data/dict_feed_name.csv') #, delimiter=','\n",
    "feed_catalog['producer'] = feed_catalog['feed_name'].apply(lambda x: x.split()[0])\n",
    "\n",
    "assert np.all(feed_catalog['producer'].apply(lambda x: len(x)) == 2)"
   ]
  },
  {
   "cell_type": "code",
   "execution_count": 14,
   "id": "ad43b98a-6040-4cdc-93d7-ad350cc09b8c",
   "metadata": {
    "tags": []
   },
   "outputs": [
    {
     "data": {
      "text/html": [
       "<div>\n",
       "<style scoped>\n",
       "    .dataframe tbody tr th:only-of-type {\n",
       "        vertical-align: middle;\n",
       "    }\n",
       "\n",
       "    .dataframe tbody tr th {\n",
       "        vertical-align: top;\n",
       "    }\n",
       "\n",
       "    .dataframe thead th {\n",
       "        text-align: right;\n",
       "    }\n",
       "</style>\n",
       "<table border=\"1\" class=\"dataframe\">\n",
       "  <thead>\n",
       "    <tr style=\"text-align: right;\">\n",
       "      <th></th>\n",
       "      <th>mrts_feed_id</th>\n",
       "      <th>feed_name</th>\n",
       "      <th>producer</th>\n",
       "    </tr>\n",
       "  </thead>\n",
       "  <tbody>\n",
       "    <tr>\n",
       "      <th>0</th>\n",
       "      <td>11492</td>\n",
       "      <td>EW MICRO START 0,18\\t\\t\\t\\t\\t\\t\\t\\t</td>\n",
       "      <td>EW</td>\n",
       "    </tr>\n",
       "    <tr>\n",
       "      <th>1</th>\n",
       "      <td>12345</td>\n",
       "      <td>SK NUTRA SUPREME HE RCX 30 PF</td>\n",
       "      <td>SK</td>\n",
       "    </tr>\n",
       "    <tr>\n",
       "      <th>2</th>\n",
       "      <td>11348</td>\n",
       "      <td>BI ORBIT 1.5MM</td>\n",
       "      <td>BI</td>\n",
       "    </tr>\n",
       "    <tr>\n",
       "      <th>3</th>\n",
       "      <td>12087</td>\n",
       "      <td>EW MICRO START 0,18 DERMIC FW</td>\n",
       "      <td>EW</td>\n",
       "    </tr>\n",
       "    <tr>\n",
       "      <th>4</th>\n",
       "      <td>11013</td>\n",
       "      <td>EW TRANSFER BOOST MED 50 FLO</td>\n",
       "      <td>EW</td>\n",
       "    </tr>\n",
       "    <tr>\n",
       "      <th>...</th>\n",
       "      <td>...</td>\n",
       "      <td>...</td>\n",
       "      <td>...</td>\n",
       "    </tr>\n",
       "    <tr>\n",
       "      <th>211</th>\n",
       "      <td>10960</td>\n",
       "      <td>EW TRANSFER BOOST 100 BIOP ZN 0,5K/T</td>\n",
       "      <td>EW</td>\n",
       "    </tr>\n",
       "    <tr>\n",
       "      <th>212</th>\n",
       "      <td>11595</td>\n",
       "      <td>BI ORBIT INTRO 4MM QUICK VAC SRS</td>\n",
       "      <td>BI</td>\n",
       "    </tr>\n",
       "    <tr>\n",
       "      <th>213</th>\n",
       "      <td>11238</td>\n",
       "      <td>AS TRANSFER BOOST 100</td>\n",
       "      <td>AS</td>\n",
       "    </tr>\n",
       "    <tr>\n",
       "      <th>214</th>\n",
       "      <td>10802</td>\n",
       "      <td>BI GOLDEN PRIMA PRO 0,3</td>\n",
       "      <td>BI</td>\n",
       "    </tr>\n",
       "    <tr>\n",
       "      <th>215</th>\n",
       "      <td>12209</td>\n",
       "      <td>EW MICRO START + 0,15</td>\n",
       "      <td>EW</td>\n",
       "    </tr>\n",
       "  </tbody>\n",
       "</table>\n",
       "<p>216 rows × 3 columns</p>\n",
       "</div>"
      ],
      "text/plain": [
       "     mrts_feed_id                             feed_name producer\n",
       "0           11492   EW MICRO START 0,18\\t\\t\\t\\t\\t\\t\\t\\t       EW\n",
       "1           12345         SK NUTRA SUPREME HE RCX 30 PF       SK\n",
       "2           11348                        BI ORBIT 1.5MM       BI\n",
       "3           12087         EW MICRO START 0,18 DERMIC FW       EW\n",
       "4           11013          EW TRANSFER BOOST MED 50 FLO       EW\n",
       "..            ...                                   ...      ...\n",
       "211         10960  EW TRANSFER BOOST 100 BIOP ZN 0,5K/T       EW\n",
       "212         11595      BI ORBIT INTRO 4MM QUICK VAC SRS       BI\n",
       "213         11238                 AS TRANSFER BOOST 100       AS\n",
       "214         10802               BI GOLDEN PRIMA PRO 0,3       BI\n",
       "215         12209                 EW MICRO START + 0,15       EW\n",
       "\n",
       "[216 rows x 3 columns]"
      ]
     },
     "execution_count": 14,
     "metadata": {},
     "output_type": "execute_result"
    }
   ],
   "source": [
    "feed_catalog"
   ]
  },
  {
   "cell_type": "code",
   "execution_count": 15,
   "id": "95d789f9",
   "metadata": {
    "scrolled": true,
    "tags": []
   },
   "outputs": [],
   "source": [
    "feed_data = feed_data.merge(feed_catalog[['mrts_feed_id', 'producer']], how='inner', on='mrts_feed_id')"
   ]
  },
  {
   "cell_type": "code",
   "execution_count": 16,
   "id": "05ed4199",
   "metadata": {
    "tags": []
   },
   "outputs": [],
   "source": [
    "feed_data\n",
    "\n",
    "pivot = pd.pivot_table(feed_data[feed_data['event_date'] > '2017-01-01'],\n",
    "                       values='amount',\n",
    "                       index=['event_year'],\n",
    "                       columns=['producer'],\n",
    "                       aggfunc=np.sum)\n",
    "\n",
    "pivot /= 1000\n",
    "\n",
    "pivot.fillna(0, inplace=True)\n",
    "\n",
    "# pivot.to_csv('producer_by_year_feed_amount.csv', index=False)"
   ]
  },
  {
   "cell_type": "code",
   "execution_count": 17,
   "id": "cbd3945f",
   "metadata": {
    "tags": []
   },
   "outputs": [
    {
     "data": {
      "text/html": [
       "<div>\n",
       "<style scoped>\n",
       "    .dataframe tbody tr th:only-of-type {\n",
       "        vertical-align: middle;\n",
       "    }\n",
       "\n",
       "    .dataframe tbody tr th {\n",
       "        vertical-align: top;\n",
       "    }\n",
       "\n",
       "    .dataframe thead th {\n",
       "        text-align: right;\n",
       "    }\n",
       "</style>\n",
       "<table border=\"1\" class=\"dataframe\">\n",
       "  <thead>\n",
       "    <tr style=\"text-align: right;\">\n",
       "      <th>producer</th>\n",
       "      <th>BI</th>\n",
       "      <th>EU</th>\n",
       "      <th>EW</th>\n",
       "      <th>SK</th>\n",
       "      <th>ST</th>\n",
       "    </tr>\n",
       "    <tr>\n",
       "      <th>event_year</th>\n",
       "      <th></th>\n",
       "      <th></th>\n",
       "      <th></th>\n",
       "      <th></th>\n",
       "      <th></th>\n",
       "    </tr>\n",
       "  </thead>\n",
       "  <tbody>\n",
       "    <tr>\n",
       "      <th>2017</th>\n",
       "      <td>650.219795</td>\n",
       "      <td>1.456</td>\n",
       "      <td>741.203501</td>\n",
       "      <td>22.085351</td>\n",
       "      <td>0.00</td>\n",
       "    </tr>\n",
       "    <tr>\n",
       "      <th>2018</th>\n",
       "      <td>1074.581116</td>\n",
       "      <td>0.000</td>\n",
       "      <td>649.969519</td>\n",
       "      <td>29.735427</td>\n",
       "      <td>0.00</td>\n",
       "    </tr>\n",
       "    <tr>\n",
       "      <th>2019</th>\n",
       "      <td>1113.034000</td>\n",
       "      <td>0.000</td>\n",
       "      <td>850.073870</td>\n",
       "      <td>13.167134</td>\n",
       "      <td>0.00</td>\n",
       "    </tr>\n",
       "    <tr>\n",
       "      <th>2020</th>\n",
       "      <td>1370.289090</td>\n",
       "      <td>0.000</td>\n",
       "      <td>638.323172</td>\n",
       "      <td>31.490255</td>\n",
       "      <td>0.00</td>\n",
       "    </tr>\n",
       "    <tr>\n",
       "      <th>2021</th>\n",
       "      <td>1070.936000</td>\n",
       "      <td>0.000</td>\n",
       "      <td>853.753389</td>\n",
       "      <td>10.779921</td>\n",
       "      <td>25.52</td>\n",
       "    </tr>\n",
       "    <tr>\n",
       "      <th>2022</th>\n",
       "      <td>1016.449995</td>\n",
       "      <td>0.000</td>\n",
       "      <td>691.538928</td>\n",
       "      <td>53.592945</td>\n",
       "      <td>0.46</td>\n",
       "    </tr>\n",
       "    <tr>\n",
       "      <th>2023</th>\n",
       "      <td>597.040000</td>\n",
       "      <td>0.000</td>\n",
       "      <td>651.163515</td>\n",
       "      <td>523.077254</td>\n",
       "      <td>75.12</td>\n",
       "    </tr>\n",
       "    <tr>\n",
       "      <th>2024</th>\n",
       "      <td>2.980000</td>\n",
       "      <td>0.000</td>\n",
       "      <td>3.455795</td>\n",
       "      <td>1.865990</td>\n",
       "      <td>0.00</td>\n",
       "    </tr>\n",
       "  </tbody>\n",
       "</table>\n",
       "</div>"
      ],
      "text/plain": [
       "producer             BI     EU          EW          SK     ST\n",
       "event_year                                                   \n",
       "2017         650.219795  1.456  741.203501   22.085351   0.00\n",
       "2018        1074.581116  0.000  649.969519   29.735427   0.00\n",
       "2019        1113.034000  0.000  850.073870   13.167134   0.00\n",
       "2020        1370.289090  0.000  638.323172   31.490255   0.00\n",
       "2021        1070.936000  0.000  853.753389   10.779921  25.52\n",
       "2022        1016.449995  0.000  691.538928   53.592945   0.46\n",
       "2023         597.040000  0.000  651.163515  523.077254  75.12\n",
       "2024           2.980000  0.000    3.455795    1.865990   0.00"
      ]
     },
     "execution_count": 17,
     "metadata": {},
     "output_type": "execute_result"
    }
   ],
   "source": [
    "pivot"
   ]
  },
  {
   "cell_type": "code",
   "execution_count": 18,
   "id": "c5c73df7",
   "metadata": {
    "tags": []
   },
   "outputs": [
    {
     "data": {
      "text/plain": [
       "<AxesSubplot:xlabel='event_year'>"
      ]
     },
     "execution_count": 18,
     "metadata": {},
     "output_type": "execute_result"
    },
    {
     "data": {
      "image/png": "[encoded data removed]",
      "text/plain": [
       "<Figure size 1080x360 with 1 Axes>"
      ]
     },
     "metadata": {
      "needs_background": "light"
     },
     "output_type": "display_data"
    }
   ],
   "source": [
    "pivot.plot(kind='bar')"
   ]
  },
  {
   "cell_type": "code",
   "execution_count": 19,
   "id": "e5863fda",
   "metadata": {
    "tags": []
   },
   "outputs": [],
   "source": [
    "# change before merging\n",
    "\n",
    "if True: # reduce number of locus_ids to 10 since OOM \n",
    "    locus_fix = np.array([3050332, 3047666, 3047806, 3050820, 3049901, 3051154, 3047034,\n",
    "           3048582, 3049742, 3048644])\n",
    "\n",
    "    feed_data = feed_data[feed_data['locus_id'].isin(locus_fix)]"
   ]
  },
  {
   "cell_type": "code",
   "execution_count": 20,
   "id": "e64bde06",
   "metadata": {
    "tags": []
   },
   "outputs": [
    {
     "data": {
      "text/plain": [
       "Timestamp('2024-01-02 00:00:00+0000', tz='UTC')"
      ]
     },
     "execution_count": 20,
     "metadata": {},
     "output_type": "execute_result"
    }
   ],
   "source": [
    "feed_data['event_date'].max()"
   ]
  },
  {
   "cell_type": "code",
   "execution_count": 21,
   "id": "a78d1f5b",
   "metadata": {
    "tags": []
   },
   "outputs": [],
   "source": [
    "vaccines = pd.read_csv('../data/vaccines_with_final_locus_population_id.csv')\n",
    "vaccines['VAC_EVENT_DATE'] = pd.to_datetime(vaccines['VAC_EVENT_DATE'] , format=TIME_FORMAT)\n",
    "#DE: changed to max here\n",
    "vaccines_agg = vaccines.groupby('FINAL_LOCUS_POPULATION_ID')[['VAC_EVENT_DATE']].max(numeric_only=False)"
   ]
  },
  {
   "cell_type": "code",
   "execution_count": 22,
   "id": "d08b9c76",
   "metadata": {
    "tags": []
   },
   "outputs": [
    {
     "data": {
      "text/html": [
       "<div>\n",
       "<style scoped>\n",
       "    .dataframe tbody tr th:only-of-type {\n",
       "        vertical-align: middle;\n",
       "    }\n",
       "\n",
       "    .dataframe tbody tr th {\n",
       "        vertical-align: top;\n",
       "    }\n",
       "\n",
       "    .dataframe thead th {\n",
       "        text-align: right;\n",
       "    }\n",
       "</style>\n",
       "<table border=\"1\" class=\"dataframe\">\n",
       "  <thead>\n",
       "    <tr style=\"text-align: right;\">\n",
       "      <th></th>\n",
       "      <th>VAC_EVENT_DATE</th>\n",
       "    </tr>\n",
       "    <tr>\n",
       "      <th>FINAL_LOCUS_POPULATION_ID</th>\n",
       "      <th></th>\n",
       "    </tr>\n",
       "  </thead>\n",
       "  <tbody>\n",
       "    <tr>\n",
       "      <th>36778733</th>\n",
       "      <td>2017-07-12</td>\n",
       "    </tr>\n",
       "    <tr>\n",
       "      <th>36778768</th>\n",
       "      <td>2017-07-14</td>\n",
       "    </tr>\n",
       "    <tr>\n",
       "      <th>36778791</th>\n",
       "      <td>2017-07-18</td>\n",
       "    </tr>\n",
       "    <tr>\n",
       "      <th>36778910</th>\n",
       "      <td>2017-07-25</td>\n",
       "    </tr>\n",
       "    <tr>\n",
       "      <th>36778931</th>\n",
       "      <td>2017-07-25</td>\n",
       "    </tr>\n",
       "    <tr>\n",
       "      <th>...</th>\n",
       "      <td>...</td>\n",
       "    </tr>\n",
       "    <tr>\n",
       "      <th>194762173</th>\n",
       "      <td>2023-10-23</td>\n",
       "    </tr>\n",
       "    <tr>\n",
       "      <th>194762174</th>\n",
       "      <td>2023-10-23</td>\n",
       "    </tr>\n",
       "    <tr>\n",
       "      <th>194762175</th>\n",
       "      <td>2023-10-19</td>\n",
       "    </tr>\n",
       "    <tr>\n",
       "      <th>194762177</th>\n",
       "      <td>2023-10-19</td>\n",
       "    </tr>\n",
       "    <tr>\n",
       "      <th>194762180</th>\n",
       "      <td>2023-10-19</td>\n",
       "    </tr>\n",
       "  </tbody>\n",
       "</table>\n",
       "<p>4059 rows × 1 columns</p>\n",
       "</div>"
      ],
      "text/plain": [
       "                          VAC_EVENT_DATE\n",
       "FINAL_LOCUS_POPULATION_ID               \n",
       "36778733                      2017-07-12\n",
       "36778768                      2017-07-14\n",
       "36778791                      2017-07-18\n",
       "36778910                      2017-07-25\n",
       "36778931                      2017-07-25\n",
       "...                                  ...\n",
       "194762173                     2023-10-23\n",
       "194762174                     2023-10-23\n",
       "194762175                     2023-10-19\n",
       "194762177                     2023-10-19\n",
       "194762180                     2023-10-19\n",
       "\n",
       "[4059 rows x 1 columns]"
      ]
     },
     "execution_count": 22,
     "metadata": {},
     "output_type": "execute_result"
    }
   ],
   "source": [
    "vaccines_agg"
   ]
  },
  {
   "cell_type": "code",
   "execution_count": 23,
   "id": "fb14b1a3",
   "metadata": {
    "tags": []
   },
   "outputs": [
    {
     "data": {
      "text/html": [
       "<div>\n",
       "<style scoped>\n",
       "    .dataframe tbody tr th:only-of-type {\n",
       "        vertical-align: middle;\n",
       "    }\n",
       "\n",
       "    .dataframe tbody tr th {\n",
       "        vertical-align: top;\n",
       "    }\n",
       "\n",
       "    .dataframe thead th {\n",
       "        text-align: right;\n",
       "    }\n",
       "</style>\n",
       "<table border=\"1\" class=\"dataframe\">\n",
       "  <thead>\n",
       "    <tr style=\"text-align: right;\">\n",
       "      <th></th>\n",
       "      <th>final_locus_population_id</th>\n",
       "      <th>event_date</th>\n",
       "      <th>historic_locus_id</th>\n",
       "      <th>weight</th>\n",
       "      <th>locus_group_id</th>\n",
       "    </tr>\n",
       "  </thead>\n",
       "  <tbody>\n",
       "    <tr>\n",
       "      <th>0</th>\n",
       "      <td>36770651</td>\n",
       "      <td>2015-05-15</td>\n",
       "      <td>3050549</td>\n",
       "      <td>1.0</td>\n",
       "      <td>535</td>\n",
       "    </tr>\n",
       "    <tr>\n",
       "      <th>1</th>\n",
       "      <td>36770651</td>\n",
       "      <td>2015-05-15</td>\n",
       "      <td>3050549</td>\n",
       "      <td>1.0</td>\n",
       "      <td>536</td>\n",
       "    </tr>\n",
       "    <tr>\n",
       "      <th>2</th>\n",
       "      <td>36770651</td>\n",
       "      <td>2015-05-16</td>\n",
       "      <td>3050549</td>\n",
       "      <td>1.0</td>\n",
       "      <td>535</td>\n",
       "    </tr>\n",
       "    <tr>\n",
       "      <th>3</th>\n",
       "      <td>36770651</td>\n",
       "      <td>2015-05-16</td>\n",
       "      <td>3050549</td>\n",
       "      <td>1.0</td>\n",
       "      <td>536</td>\n",
       "    </tr>\n",
       "    <tr>\n",
       "      <th>4</th>\n",
       "      <td>36770651</td>\n",
       "      <td>2015-05-17</td>\n",
       "      <td>3050549</td>\n",
       "      <td>1.0</td>\n",
       "      <td>535</td>\n",
       "    </tr>\n",
       "    <tr>\n",
       "      <th>...</th>\n",
       "      <td>...</td>\n",
       "      <td>...</td>\n",
       "      <td>...</td>\n",
       "      <td>...</td>\n",
       "      <td>...</td>\n",
       "    </tr>\n",
       "    <tr>\n",
       "      <th>104787572</th>\n",
       "      <td>194761283</td>\n",
       "      <td>2023-12-09</td>\n",
       "      <td>3048141</td>\n",
       "      <td>1.0</td>\n",
       "      <td>554</td>\n",
       "    </tr>\n",
       "    <tr>\n",
       "      <th>104787573</th>\n",
       "      <td>194761283</td>\n",
       "      <td>2023-12-09</td>\n",
       "      <td>3048141</td>\n",
       "      <td>1.0</td>\n",
       "      <td>559</td>\n",
       "    </tr>\n",
       "    <tr>\n",
       "      <th>104787574</th>\n",
       "      <td>194761283</td>\n",
       "      <td>2023-12-10</td>\n",
       "      <td>3048141</td>\n",
       "      <td>1.0</td>\n",
       "      <td>552</td>\n",
       "    </tr>\n",
       "    <tr>\n",
       "      <th>104787575</th>\n",
       "      <td>194761283</td>\n",
       "      <td>2023-12-10</td>\n",
       "      <td>3048141</td>\n",
       "      <td>1.0</td>\n",
       "      <td>554</td>\n",
       "    </tr>\n",
       "    <tr>\n",
       "      <th>104787576</th>\n",
       "      <td>194761283</td>\n",
       "      <td>2023-12-10</td>\n",
       "      <td>3048141</td>\n",
       "      <td>1.0</td>\n",
       "      <td>559</td>\n",
       "    </tr>\n",
       "  </tbody>\n",
       "</table>\n",
       "<p>104787577 rows × 5 columns</p>\n",
       "</div>"
      ],
      "text/plain": [
       "           final_locus_population_id event_date  historic_locus_id  weight  \\\n",
       "0                           36770651 2015-05-15            3050549     1.0   \n",
       "1                           36770651 2015-05-15            3050549     1.0   \n",
       "2                           36770651 2015-05-16            3050549     1.0   \n",
       "3                           36770651 2015-05-16            3050549     1.0   \n",
       "4                           36770651 2015-05-17            3050549     1.0   \n",
       "...                              ...        ...                ...     ...   \n",
       "104787572                  194761283 2023-12-09            3048141     1.0   \n",
       "104787573                  194761283 2023-12-09            3048141     1.0   \n",
       "104787574                  194761283 2023-12-10            3048141     1.0   \n",
       "104787575                  194761283 2023-12-10            3048141     1.0   \n",
       "104787576                  194761283 2023-12-10            3048141     1.0   \n",
       "\n",
       "           locus_group_id  \n",
       "0                     535  \n",
       "1                     536  \n",
       "2                     535  \n",
       "3                     536  \n",
       "4                     535  \n",
       "...                   ...  \n",
       "104787572             554  \n",
       "104787573             559  \n",
       "104787574             552  \n",
       "104787575             554  \n",
       "104787576             559  \n",
       "\n",
       "[104787577 rows x 5 columns]"
      ]
     },
     "execution_count": 23,
     "metadata": {},
     "output_type": "execute_result"
    }
   ],
   "source": [
    "final_locus_locus_group_weighted"
   ]
  },
  {
   "cell_type": "code",
   "execution_count": 24,
   "id": "112ed159",
   "metadata": {
    "tags": []
   },
   "outputs": [],
   "source": [
    "#len(set(final_locus_locus_group_weighted.historic_locus_id)), len(set(feed_data.locus_id))"
   ]
  },
  {
   "cell_type": "code",
   "execution_count": 25,
   "id": "fdb44071-b2ca-4c0d-b1c4-a722b522200c",
   "metadata": {
    "tags": []
   },
   "outputs": [],
   "source": [
    "final_locus_locus_group_weighted['event_date'] = pd.to_datetime(final_locus_locus_group_weighted['event_date'], utc=True)\n",
    "feed_data['event_date'] = pd.to_datetime(feed_data['event_date'], utc=True)"
   ]
  },
  {
   "cell_type": "markdown",
   "id": "e5229948",
   "metadata": {},
   "source": [
    "### To Final locus population level"
   ]
  },
  {
   "cell_type": "code",
   "execution_count": 26,
   "id": "97d57b35",
   "metadata": {
    "tags": []
   },
   "outputs": [],
   "source": [
    "if True:  # OOM, merge and save result to csv\n",
    "    feed_data_final_lp = feed_data.merge(final_locus_locus_group_weighted,\n",
    "                                         how='inner',\n",
    "                                         left_on=['event_date', 'locus_id'],\n",
    "                                         right_on=['event_date', 'historic_locus_id'])"
   ]
  },
  {
   "cell_type": "code",
   "execution_count": 27,
   "id": "7574a9e3",
   "metadata": {
    "tags": []
   },
   "outputs": [],
   "source": [
    "feed_data_final_lp = feed_data_final_lp.merge(vaccines_agg,\n",
    "                                              how='left',\n",
    "                                              left_on='final_locus_population_id',\n",
    "                                              right_index=True)"
   ]
  },
  {
   "cell_type": "code",
   "execution_count": 28,
   "id": "bdac39c4",
   "metadata": {
    "tags": []
   },
   "outputs": [],
   "source": [
    "final_locus_population_transfer_dates = sw_fw_matching_with_cnt[['from_locus_population_id','transfer_date']]\\\n",
    ".groupby('from_locus_population_id').max()\n",
    "\n",
    "feed_data_final_lp = feed_data_final_lp.merge(final_locus_population_transfer_dates,\n",
    "                                     how='left',\n",
    "                                     left_on='final_locus_population_id',\n",
    "#                                      right_on='from_locus_population_id'\n",
    "                                     right_index=True)"
   ]
  },
  {
   "cell_type": "code",
   "execution_count": 29,
   "id": "72b867f3",
   "metadata": {
    "tags": []
   },
   "outputs": [],
   "source": [
    "feed_data_final_lp['eight_weeks_before_transfer'] = feed_data_final_lp['transfer_date'] - pd.Timedelta(8,'w')"
   ]
  },
  {
   "cell_type": "code",
   "execution_count": 30,
   "id": "2fc1cd0f",
   "metadata": {
    "tags": []
   },
   "outputs": [],
   "source": [
    "if False:\n",
    "    label_enc = LabelEncoder()\n",
    "    one_hot_enc = OneHotEncoder(sparse=False)\n",
    "    encoded_manufacturer = one_hot_enc.fit_transform(\n",
    "        label_enc.fit_transform(feed_data_final_lp['manufacturer']).reshape(-1, 1)\n",
    ")"
   ]
  },
  {
   "cell_type": "code",
   "execution_count": 31,
   "id": "5fd965fb",
   "metadata": {
    "tags": []
   },
   "outputs": [],
   "source": [
    "encoded_producer = pd.get_dummies(feed_data_final_lp['producer'])\n",
    "feed_data_final_lp = feed_data_final_lp.drop('producer', axis=1)\n",
    "feed_data_final_lp = feed_data_final_lp.join(encoded_producer)"
   ]
  },
  {
   "cell_type": "code",
   "execution_count": 32,
   "id": "53b6a9ee",
   "metadata": {
    "tags": []
   },
   "outputs": [
    {
     "data": {
      "text/plain": [
       "count    411193.000000\n",
       "mean          0.088477\n",
       "std           0.519396\n",
       "min           0.000000\n",
       "25%           0.000000\n",
       "50%           0.000000\n",
       "75%           0.000000\n",
       "max           6.000000\n",
       "Name: weight, dtype: float64"
      ]
     },
     "execution_count": 32,
     "metadata": {},
     "output_type": "execute_result"
    }
   ],
   "source": [
    "feed_data_final_lp.groupby(['final_locus_population_id','event_date'])['weight'].sum().describe()"
   ]
  },
  {
   "cell_type": "code",
   "execution_count": 33,
   "id": "3985688f",
   "metadata": {
    "tags": []
   },
   "outputs": [
    {
     "name": "stderr",
     "output_type": "stream",
     "text": [
      "100%|██████████| 3/3 [00:00<00:00, 80.80it/s]\n"
     ]
    }
   ],
   "source": [
    "feed_data_final_lp['event_year'] = feed_data_final_lp['event_date'].dt.year\n",
    "\n",
    "for col in tqdm(encoded_producer.columns):\n",
    "    feed_data_final_lp[f'weight_{col}'] = feed_data_final_lp['weight'] * feed_data_final_lp[col]\n",
    "\n",
    "weighted_producer_cols = ['weight_' + col for col in encoded_producer.columns]\n",
    "    \n",
    "feed_data_final_lp_grouped = feed_data_final_lp.\\\n",
    "groupby(['final_locus_population_id','event_date'])[weighted_producer_cols].sum()"
   ]
  },
  {
   "cell_type": "code",
   "execution_count": 34,
   "id": "873d89e4-06e9-4e2d-88cb-062f3e4fa04f",
   "metadata": {
    "tags": []
   },
   "outputs": [],
   "source": [
    "feed_data_final_lp['VAC_EVENT_DATE'] = pd.to_datetime(feed_data_final_lp['VAC_EVENT_DATE'], utc=True)\n",
    "feed_data_final_lp['transfer_date'] = pd.to_datetime(feed_data_final_lp['transfer_date'], utc=True)\n",
    "feed_data_final_lp['eight_weeks_before_transfer'] = pd.to_datetime(feed_data_final_lp['eight_weeks_before_transfer'], utc=True)"
   ]
  },
  {
   "cell_type": "code",
   "execution_count": 35,
   "id": "bb047cea",
   "metadata": {
    "tags": []
   },
   "outputs": [],
   "source": [
    "feed_data_final_lp_eight_last_weeks = feed_data_final_lp[\n",
    "    feed_data_final_lp.event_date.between(\n",
    "        feed_data_final_lp['eight_weeks_before_transfer'], feed_data_final_lp['transfer_date'])\n",
    "]\n",
    "feed_data_final_lp_vacc_transfer = feed_data_final_lp[\n",
    "    feed_data_final_lp.event_date.between(\n",
    "        feed_data_final_lp['VAC_EVENT_DATE'], feed_data_final_lp['transfer_date'])\n",
    "]\n",
    "\n",
    "feed_data_final_lp_grouped = feed_data_final_lp_grouped.reset_index()"
   ]
  },
  {
   "cell_type": "code",
   "execution_count": 36,
   "id": "a62f1793",
   "metadata": {
    "tags": []
   },
   "outputs": [],
   "source": [
    "feed_data_final_lp_grouped['weight_sum'] = feed_data_final_lp_grouped[weighted_producer_cols].sum(axis=1)\n",
    "\n",
    "for col in weighted_producer_cols:\n",
    "    feed_data_final_lp_grouped[col] = feed_data_final_lp_grouped[col] / feed_data_final_lp_grouped['weight_sum']"
   ]
  },
  {
   "cell_type": "code",
   "execution_count": 37,
   "id": "faa65e2e",
   "metadata": {
    "tags": []
   },
   "outputs": [],
   "source": [
    "# for col in weighted_producer_cols:\n",
    "#     sns.lineplot(data=feed_data_final_lp_grouped[feed_data_final_lp_grouped['final_locus_population_id'] == 36770651],\n",
    "#                  x='event_date',\n",
    "#                  y=col)\n",
    "\n",
    "# plt.legend(weighted_producer_cols)"
   ]
  },
  {
   "cell_type": "code",
   "execution_count": 38,
   "id": "df472850",
   "metadata": {
    "tags": []
   },
   "outputs": [],
   "source": [
    "feed_data_final_lp_grouped['low_feeding_flag'] = (feed_data_final_lp_grouped['weight_sum'] < 0.5).astype(int)\n",
    "\n",
    "#if have two records on feed with different mrts_feed_id in the same date\n",
    "feed_data_final_lp_grouped['double_feeding_flag'] = (feed_data_final_lp_grouped['weight_sum'] > 1.5).astype(int)\n",
    "feed_data_final_lp_grouped['multiple_feedings'] = ((feed_data_final_lp_grouped[weighted_producer_cols] != 0)\\\n",
    ".sum(axis=1) > 1).astype(int)"
   ]
  },
  {
   "cell_type": "code",
   "execution_count": 40,
   "id": "0a047746",
   "metadata": {
    "tags": []
   },
   "outputs": [
    {
     "data": {
      "text/plain": [
       "Timestamp('2023-10-20 00:00:00+0000', tz='UTC')"
      ]
     },
     "execution_count": 40,
     "metadata": {},
     "output_type": "execute_result"
    }
   ],
   "source": [
    "feed_data_final_lp_grouped['event_date'].max()"
   ]
  },
  {
   "cell_type": "code",
   "execution_count": 41,
   "id": "52d49dfb",
   "metadata": {
    "tags": []
   },
   "outputs": [],
   "source": [
    "feed_producer_final_lp = feed_data_final_lp_grouped.groupby('final_locus_population_id').mean()"
   ]
  },
  {
   "cell_type": "code",
   "execution_count": 42,
   "id": "38b7cccb",
   "metadata": {
    "tags": []
   },
   "outputs": [
    {
     "data": {
      "text/html": [
       "<div>\n",
       "<style scoped>\n",
       "    .dataframe tbody tr th:only-of-type {\n",
       "        vertical-align: middle;\n",
       "    }\n",
       "\n",
       "    .dataframe tbody tr th {\n",
       "        vertical-align: top;\n",
       "    }\n",
       "\n",
       "    .dataframe thead th {\n",
       "        text-align: right;\n",
       "    }\n",
       "</style>\n",
       "<table border=\"1\" class=\"dataframe\">\n",
       "  <thead>\n",
       "    <tr style=\"text-align: right;\">\n",
       "      <th></th>\n",
       "      <th>event_date</th>\n",
       "      <th>weight_BI</th>\n",
       "      <th>weight_EW</th>\n",
       "      <th>weight_SK</th>\n",
       "      <th>weight_sum</th>\n",
       "      <th>low_feeding_flag</th>\n",
       "      <th>double_feeding_flag</th>\n",
       "      <th>multiple_feedings</th>\n",
       "    </tr>\n",
       "    <tr>\n",
       "      <th>final_locus_population_id</th>\n",
       "      <th></th>\n",
       "      <th></th>\n",
       "      <th></th>\n",
       "      <th></th>\n",
       "      <th></th>\n",
       "      <th></th>\n",
       "      <th></th>\n",
       "      <th></th>\n",
       "    </tr>\n",
       "  </thead>\n",
       "  <tbody>\n",
       "    <tr>\n",
       "      <th>36770651</th>\n",
       "      <td>2015-12-22 00:00:00+00:00</td>\n",
       "      <td>NaN</td>\n",
       "      <td>NaN</td>\n",
       "      <td>NaN</td>\n",
       "      <td>0.0</td>\n",
       "      <td>1.0</td>\n",
       "      <td>0.0</td>\n",
       "      <td>1.0</td>\n",
       "    </tr>\n",
       "    <tr>\n",
       "      <th>36770663</th>\n",
       "      <td>2015-12-22 00:00:00+00:00</td>\n",
       "      <td>NaN</td>\n",
       "      <td>NaN</td>\n",
       "      <td>NaN</td>\n",
       "      <td>0.0</td>\n",
       "      <td>1.0</td>\n",
       "      <td>0.0</td>\n",
       "      <td>1.0</td>\n",
       "    </tr>\n",
       "    <tr>\n",
       "      <th>36770708</th>\n",
       "      <td>2015-12-22 00:00:00+00:00</td>\n",
       "      <td>NaN</td>\n",
       "      <td>NaN</td>\n",
       "      <td>NaN</td>\n",
       "      <td>0.0</td>\n",
       "      <td>1.0</td>\n",
       "      <td>0.0</td>\n",
       "      <td>1.0</td>\n",
       "    </tr>\n",
       "    <tr>\n",
       "      <th>36770798</th>\n",
       "      <td>2015-12-22 00:00:00+00:00</td>\n",
       "      <td>NaN</td>\n",
       "      <td>NaN</td>\n",
       "      <td>NaN</td>\n",
       "      <td>0.0</td>\n",
       "      <td>1.0</td>\n",
       "      <td>0.0</td>\n",
       "      <td>1.0</td>\n",
       "    </tr>\n",
       "    <tr>\n",
       "      <th>36770840</th>\n",
       "      <td>2015-12-22 00:00:00+00:00</td>\n",
       "      <td>NaN</td>\n",
       "      <td>NaN</td>\n",
       "      <td>NaN</td>\n",
       "      <td>0.0</td>\n",
       "      <td>1.0</td>\n",
       "      <td>0.0</td>\n",
       "      <td>1.0</td>\n",
       "    </tr>\n",
       "    <tr>\n",
       "      <th>...</th>\n",
       "      <td>...</td>\n",
       "      <td>...</td>\n",
       "      <td>...</td>\n",
       "      <td>...</td>\n",
       "      <td>...</td>\n",
       "      <td>...</td>\n",
       "      <td>...</td>\n",
       "      <td>...</td>\n",
       "    </tr>\n",
       "    <tr>\n",
       "      <th>194761270</th>\n",
       "      <td>2023-06-03 12:00:00+00:00</td>\n",
       "      <td>NaN</td>\n",
       "      <td>NaN</td>\n",
       "      <td>NaN</td>\n",
       "      <td>0.0</td>\n",
       "      <td>1.0</td>\n",
       "      <td>0.0</td>\n",
       "      <td>1.0</td>\n",
       "    </tr>\n",
       "    <tr>\n",
       "      <th>194761272</th>\n",
       "      <td>2023-06-21 16:48:00+00:00</td>\n",
       "      <td>NaN</td>\n",
       "      <td>NaN</td>\n",
       "      <td>NaN</td>\n",
       "      <td>0.0</td>\n",
       "      <td>1.0</td>\n",
       "      <td>0.0</td>\n",
       "      <td>1.0</td>\n",
       "    </tr>\n",
       "    <tr>\n",
       "      <th>194761274</th>\n",
       "      <td>2023-06-03 12:00:00+00:00</td>\n",
       "      <td>NaN</td>\n",
       "      <td>NaN</td>\n",
       "      <td>NaN</td>\n",
       "      <td>0.0</td>\n",
       "      <td>1.0</td>\n",
       "      <td>0.0</td>\n",
       "      <td>1.0</td>\n",
       "    </tr>\n",
       "    <tr>\n",
       "      <th>194761275</th>\n",
       "      <td>2023-06-03 12:00:00+00:00</td>\n",
       "      <td>NaN</td>\n",
       "      <td>NaN</td>\n",
       "      <td>NaN</td>\n",
       "      <td>0.0</td>\n",
       "      <td>1.0</td>\n",
       "      <td>0.0</td>\n",
       "      <td>1.0</td>\n",
       "    </tr>\n",
       "    <tr>\n",
       "      <th>194761283</th>\n",
       "      <td>2023-06-03 12:00:00+00:00</td>\n",
       "      <td>NaN</td>\n",
       "      <td>NaN</td>\n",
       "      <td>NaN</td>\n",
       "      <td>0.0</td>\n",
       "      <td>1.0</td>\n",
       "      <td>0.0</td>\n",
       "      <td>1.0</td>\n",
       "    </tr>\n",
       "  </tbody>\n",
       "</table>\n",
       "<p>4251 rows × 8 columns</p>\n",
       "</div>"
      ],
      "text/plain": [
       "                                         event_date  weight_BI  weight_EW  \\\n",
       "final_locus_population_id                                                   \n",
       "36770651                  2015-12-22 00:00:00+00:00        NaN        NaN   \n",
       "36770663                  2015-12-22 00:00:00+00:00        NaN        NaN   \n",
       "36770708                  2015-12-22 00:00:00+00:00        NaN        NaN   \n",
       "36770798                  2015-12-22 00:00:00+00:00        NaN        NaN   \n",
       "36770840                  2015-12-22 00:00:00+00:00        NaN        NaN   \n",
       "...                                             ...        ...        ...   \n",
       "194761270                 2023-06-03 12:00:00+00:00        NaN        NaN   \n",
       "194761272                 2023-06-21 16:48:00+00:00        NaN        NaN   \n",
       "194761274                 2023-06-03 12:00:00+00:00        NaN        NaN   \n",
       "194761275                 2023-06-03 12:00:00+00:00        NaN        NaN   \n",
       "194761283                 2023-06-03 12:00:00+00:00        NaN        NaN   \n",
       "\n",
       "                           weight_SK  weight_sum  low_feeding_flag  \\\n",
       "final_locus_population_id                                            \n",
       "36770651                         NaN         0.0               1.0   \n",
       "36770663                         NaN         0.0               1.0   \n",
       "36770708                         NaN         0.0               1.0   \n",
       "36770798                         NaN         0.0               1.0   \n",
       "36770840                         NaN         0.0               1.0   \n",
       "...                              ...         ...               ...   \n",
       "194761270                        NaN         0.0               1.0   \n",
       "194761272                        NaN         0.0               1.0   \n",
       "194761274                        NaN         0.0               1.0   \n",
       "194761275                        NaN         0.0               1.0   \n",
       "194761283                        NaN         0.0               1.0   \n",
       "\n",
       "                           double_feeding_flag  multiple_feedings  \n",
       "final_locus_population_id                                          \n",
       "36770651                                   0.0                1.0  \n",
       "36770663                                   0.0                1.0  \n",
       "36770708                                   0.0                1.0  \n",
       "36770798                                   0.0                1.0  \n",
       "36770840                                   0.0                1.0  \n",
       "...                                        ...                ...  \n",
       "194761270                                  0.0                1.0  \n",
       "194761272                                  0.0                1.0  \n",
       "194761274                                  0.0                1.0  \n",
       "194761275                                  0.0                1.0  \n",
       "194761283                                  0.0                1.0  \n",
       "\n",
       "[4251 rows x 8 columns]"
      ]
     },
     "execution_count": 42,
     "metadata": {},
     "output_type": "execute_result"
    }
   ],
   "source": [
    "feed_producer_final_lp"
   ]
  },
  {
   "cell_type": "markdown",
   "id": "b5000ae6",
   "metadata": {},
   "source": [
    "### To locus_id level"
   ]
  },
  {
   "cell_type": "code",
   "execution_count": 43,
   "id": "ce5de8a9",
   "metadata": {
    "scrolled": true,
    "tags": []
   },
   "outputs": [],
   "source": [
    "key_columns = ['locus_id','fish_group_id','transfer_year']\n",
    "\n",
    "mortality_cols = ['locus_id',\n",
    "                  'fish_group_id',\n",
    "                  'transfer_year',\n",
    "                  'transfer_month',\n",
    "                  'transfer_month_year',\n",
    "                  'transfer_season',\n",
    "                  'transfer_season2',\n",
    "                  'total_count',\n",
    "                  'total_mortality_perc_90']\n",
    "\n",
    "sw_cols = ['to_locus_id',\n",
    "           'to_fish_group_id',\n",
    "           'transfer_date',\n",
    "           'from_locus_population_id',\n",
    "           'from_count_stocking',\n",
    "           'transfer_year']\n",
    "\n",
    "mortality_final_locus = mortality[mortality_cols].merge(\n",
    "    sw_fw_matching_with_cnt[sw_cols],\n",
    "    left_on=['fish_group_id', 'locus_id','transfer_year'],\n",
    "    right_on=['to_fish_group_id', 'to_locus_id','transfer_year'],\n",
    "    how='left'\n",
    ")\n",
    "\n",
    "\n",
    "mortality_final_locus['from_locus_population_id'] = mortality_final_locus['from_locus_population_id'].fillna(0).astype('int32')"
   ]
  },
  {
   "cell_type": "code",
   "execution_count": 44,
   "id": "f6a2c58b-617a-43ac-8b2c-4e6222d7a6ce",
   "metadata": {
    "tags": []
   },
   "outputs": [],
   "source": [
    "feed_producer_final_lp = feed_producer_final_lp.merge(\n",
    "    mortality_final_locus[['from_locus_population_id', 'locus_id','fish_group_id', 'transfer_year', 'from_count_stocking']],\n",
    "    left_index=True,\n",
    "    right_on=['from_locus_population_id',],\n",
    "    how='right')\n",
    "factors = feed_producer_final_lp.columns.difference(\n",
    "    ['from_locus_population_id', 'locus_id', 'fish_group_id', 'transfer_year', 'from_count_stocking']\n",
    ")"
   ]
  },
  {
   "cell_type": "code",
   "execution_count": 45,
   "id": "375a1edf-a34d-41a6-b1b1-b79a491d40b8",
   "metadata": {
    "tags": []
   },
   "outputs": [
    {
     "data": {
      "text/plain": [
       "Index(['double_feeding_flag', 'event_date', 'low_feeding_flag',\n",
       "       'multiple_feedings', 'weight_BI', 'weight_EW', 'weight_SK',\n",
       "       'weight_sum'],\n",
       "      dtype='object')"
      ]
     },
     "execution_count": 45,
     "metadata": {},
     "output_type": "execute_result"
    }
   ],
   "source": [
    "factors"
   ]
  },
  {
   "cell_type": "code",
   "execution_count": 46,
   "id": "c10f4b53",
   "metadata": {
    "tags": []
   },
   "outputs": [
    {
     "name": "stdout",
     "output_type": "stream",
     "text": [
      "Weighting factors\n"
     ]
    },
    {
     "name": "stderr",
     "output_type": "stream",
     "text": [
      "100%|██████████| 7/7 [00:19<00:00,  2.75s/it]\n"
     ]
    }
   ],
   "source": [
    "\n",
    "feed_producer = create_factors_df(feed_producer_final_lp,\n",
    "                                     factors.drop(['event_date']),\n",
    "                                     key_columns, \n",
    "                                     weight_column='from_count_stocking',\n",
    "                                     weighted_func=weighted_avg)\n",
    "feed_producer = feed_producer.merge(\n",
    "    pd.DataFrame(mortality_final_locus.groupby(key_columns)['total_mortality_perc_90'].mean()),\n",
    "    on=key_columns,\n",
    "    how='inner')\n",
    "\n",
    "#feed_producer = feed_producer.merge(\n",
    "#    pd.DataFrame(tgc.groupby(key_columns)['TGC_SW'].mean()),\n",
    "#    on=key_columns,\n",
    "#    how='inner'\n",
    "#)\n"
   ]
  },
  {
   "cell_type": "code",
   "execution_count": 47,
   "id": "1c084f88-32db-419f-8186-f85d684692e7",
   "metadata": {
    "tags": []
   },
   "outputs": [],
   "source": [
    "feed_producer.rename(columns={'total_mortality_perc_90': 'mortality'}, inplace=True)\n",
    "feed_producer.to_csv(f'../data/feed_producer_significant_factors.csv', index=False)"
   ]
  },
  {
   "cell_type": "code",
   "execution_count": 48,
   "id": "4800ae85",
   "metadata": {
    "tags": []
   },
   "outputs": [
    {
     "data": {
      "text/html": [
       "<div>\n",
       "<style scoped>\n",
       "    .dataframe tbody tr th:only-of-type {\n",
       "        vertical-align: middle;\n",
       "    }\n",
       "\n",
       "    .dataframe tbody tr th {\n",
       "        vertical-align: top;\n",
       "    }\n",
       "\n",
       "    .dataframe thead th {\n",
       "        text-align: right;\n",
       "    }\n",
       "</style>\n",
       "<table border=\"1\" class=\"dataframe\">\n",
       "  <thead>\n",
       "    <tr style=\"text-align: right;\">\n",
       "      <th></th>\n",
       "      <th>locus_id</th>\n",
       "      <th>fish_group_id</th>\n",
       "      <th>transfer_year</th>\n",
       "      <th>double_feeding_flag</th>\n",
       "      <th>low_feeding_flag</th>\n",
       "      <th>multiple_feedings</th>\n",
       "      <th>weight_BI</th>\n",
       "      <th>weight_EW</th>\n",
       "      <th>weight_SK</th>\n",
       "      <th>weight_sum</th>\n",
       "      <th>mortality</th>\n",
       "    </tr>\n",
       "  </thead>\n",
       "  <tbody>\n",
       "    <tr>\n",
       "      <th>0</th>\n",
       "      <td>3046036</td>\n",
       "      <td>11</td>\n",
       "      <td>2017</td>\n",
       "      <td>NaN</td>\n",
       "      <td>NaN</td>\n",
       "      <td>NaN</td>\n",
       "      <td>NaN</td>\n",
       "      <td>NaN</td>\n",
       "      <td>NaN</td>\n",
       "      <td>NaN</td>\n",
       "      <td>0.007496</td>\n",
       "    </tr>\n",
       "    <tr>\n",
       "      <th>1</th>\n",
       "      <td>3046036</td>\n",
       "      <td>1052</td>\n",
       "      <td>2019</td>\n",
       "      <td>0.0</td>\n",
       "      <td>1.0</td>\n",
       "      <td>1.0</td>\n",
       "      <td>NaN</td>\n",
       "      <td>NaN</td>\n",
       "      <td>NaN</td>\n",
       "      <td>0.0</td>\n",
       "      <td>0.003943</td>\n",
       "    </tr>\n",
       "    <tr>\n",
       "      <th>2</th>\n",
       "      <td>3046036</td>\n",
       "      <td>3918</td>\n",
       "      <td>2020</td>\n",
       "      <td>0.0</td>\n",
       "      <td>1.0</td>\n",
       "      <td>1.0</td>\n",
       "      <td>NaN</td>\n",
       "      <td>NaN</td>\n",
       "      <td>NaN</td>\n",
       "      <td>0.0</td>\n",
       "      <td>0.007676</td>\n",
       "    </tr>\n",
       "    <tr>\n",
       "      <th>3</th>\n",
       "      <td>3046036</td>\n",
       "      <td>6165</td>\n",
       "      <td>2023</td>\n",
       "      <td>0.0</td>\n",
       "      <td>1.0</td>\n",
       "      <td>1.0</td>\n",
       "      <td>NaN</td>\n",
       "      <td>NaN</td>\n",
       "      <td>NaN</td>\n",
       "      <td>0.0</td>\n",
       "      <td>0.005902</td>\n",
       "    </tr>\n",
       "    <tr>\n",
       "      <th>4</th>\n",
       "      <td>3046043</td>\n",
       "      <td>310</td>\n",
       "      <td>2017</td>\n",
       "      <td>0.0</td>\n",
       "      <td>1.0</td>\n",
       "      <td>1.0</td>\n",
       "      <td>NaN</td>\n",
       "      <td>NaN</td>\n",
       "      <td>NaN</td>\n",
       "      <td>0.0</td>\n",
       "      <td>0.018394</td>\n",
       "    </tr>\n",
       "    <tr>\n",
       "      <th>...</th>\n",
       "      <td>...</td>\n",
       "      <td>...</td>\n",
       "      <td>...</td>\n",
       "      <td>...</td>\n",
       "      <td>...</td>\n",
       "      <td>...</td>\n",
       "      <td>...</td>\n",
       "      <td>...</td>\n",
       "      <td>...</td>\n",
       "      <td>...</td>\n",
       "      <td>...</td>\n",
       "    </tr>\n",
       "    <tr>\n",
       "      <th>1402</th>\n",
       "      <td>7205278</td>\n",
       "      <td>6914</td>\n",
       "      <td>2023</td>\n",
       "      <td>0.0</td>\n",
       "      <td>1.0</td>\n",
       "      <td>1.0</td>\n",
       "      <td>NaN</td>\n",
       "      <td>NaN</td>\n",
       "      <td>NaN</td>\n",
       "      <td>0.0</td>\n",
       "      <td>0.009679</td>\n",
       "    </tr>\n",
       "    <tr>\n",
       "      <th>1403</th>\n",
       "      <td>7205279</td>\n",
       "      <td>6909</td>\n",
       "      <td>2023</td>\n",
       "      <td>0.0</td>\n",
       "      <td>1.0</td>\n",
       "      <td>1.0</td>\n",
       "      <td>NaN</td>\n",
       "      <td>NaN</td>\n",
       "      <td>NaN</td>\n",
       "      <td>0.0</td>\n",
       "      <td>0.007952</td>\n",
       "    </tr>\n",
       "    <tr>\n",
       "      <th>1404</th>\n",
       "      <td>7205280</td>\n",
       "      <td>6909</td>\n",
       "      <td>2023</td>\n",
       "      <td>0.0</td>\n",
       "      <td>1.0</td>\n",
       "      <td>1.0</td>\n",
       "      <td>NaN</td>\n",
       "      <td>NaN</td>\n",
       "      <td>NaN</td>\n",
       "      <td>0.0</td>\n",
       "      <td>0.015256</td>\n",
       "    </tr>\n",
       "    <tr>\n",
       "      <th>1405</th>\n",
       "      <td>7205281</td>\n",
       "      <td>6909</td>\n",
       "      <td>2023</td>\n",
       "      <td>0.0</td>\n",
       "      <td>1.0</td>\n",
       "      <td>1.0</td>\n",
       "      <td>NaN</td>\n",
       "      <td>NaN</td>\n",
       "      <td>NaN</td>\n",
       "      <td>0.0</td>\n",
       "      <td>0.007381</td>\n",
       "    </tr>\n",
       "    <tr>\n",
       "      <th>1406</th>\n",
       "      <td>7205282</td>\n",
       "      <td>6909</td>\n",
       "      <td>2023</td>\n",
       "      <td>0.0</td>\n",
       "      <td>1.0</td>\n",
       "      <td>1.0</td>\n",
       "      <td>NaN</td>\n",
       "      <td>NaN</td>\n",
       "      <td>NaN</td>\n",
       "      <td>0.0</td>\n",
       "      <td>0.013162</td>\n",
       "    </tr>\n",
       "  </tbody>\n",
       "</table>\n",
       "<p>1407 rows × 11 columns</p>\n",
       "</div>"
      ],
      "text/plain": [
       "      locus_id  fish_group_id  transfer_year  double_feeding_flag  \\\n",
       "0      3046036             11           2017                  NaN   \n",
       "1      3046036           1052           2019                  0.0   \n",
       "2      3046036           3918           2020                  0.0   \n",
       "3      3046036           6165           2023                  0.0   \n",
       "4      3046043            310           2017                  0.0   \n",
       "...        ...            ...            ...                  ...   \n",
       "1402   7205278           6914           2023                  0.0   \n",
       "1403   7205279           6909           2023                  0.0   \n",
       "1404   7205280           6909           2023                  0.0   \n",
       "1405   7205281           6909           2023                  0.0   \n",
       "1406   7205282           6909           2023                  0.0   \n",
       "\n",
       "      low_feeding_flag  multiple_feedings  weight_BI  weight_EW  weight_SK  \\\n",
       "0                  NaN                NaN        NaN        NaN        NaN   \n",
       "1                  1.0                1.0        NaN        NaN        NaN   \n",
       "2                  1.0                1.0        NaN        NaN        NaN   \n",
       "3                  1.0                1.0        NaN        NaN        NaN   \n",
       "4                  1.0                1.0        NaN        NaN        NaN   \n",
       "...                ...                ...        ...        ...        ...   \n",
       "1402               1.0                1.0        NaN        NaN        NaN   \n",
       "1403               1.0                1.0        NaN        NaN        NaN   \n",
       "1404               1.0                1.0        NaN        NaN        NaN   \n",
       "1405               1.0                1.0        NaN        NaN        NaN   \n",
       "1406               1.0                1.0        NaN        NaN        NaN   \n",
       "\n",
       "      weight_sum  mortality  \n",
       "0            NaN   0.007496  \n",
       "1            0.0   0.003943  \n",
       "2            0.0   0.007676  \n",
       "3            0.0   0.005902  \n",
       "4            0.0   0.018394  \n",
       "...          ...        ...  \n",
       "1402         0.0   0.009679  \n",
       "1403         0.0   0.007952  \n",
       "1404         0.0   0.015256  \n",
       "1405         0.0   0.007381  \n",
       "1406         0.0   0.013162  \n",
       "\n",
       "[1407 rows x 11 columns]"
      ]
     },
     "execution_count": 48,
     "metadata": {},
     "output_type": "execute_result"
    }
   ],
   "source": [
    "feed_producer"
   ]
  },
  {
   "cell_type": "code",
   "execution_count": 49,
   "id": "768928a0",
   "metadata": {
    "tags": []
   },
   "outputs": [],
   "source": [
    "feed_producer.dropna(inplace=True)\n",
    "\n",
    "feed_producer['highest_type'] = feed_producer[weighted_producer_cols].idxmax(axis=1)\n",
    "feed_producer['highest_type'] = feed_producer['highest_type'].apply(lambda x: x.split('_')[-1])"
   ]
  },
  {
   "cell_type": "code",
   "execution_count": 50,
   "id": "feabe267",
   "metadata": {
    "tags": []
   },
   "outputs": [
    {
     "data": {
      "text/plain": [
       "<AxesSubplot:xlabel='highest_type', ylabel='mortality'>"
      ]
     },
     "execution_count": 50,
     "metadata": {},
     "output_type": "execute_result"
    },
    {
     "data": {
      "image/png": "[encoded data removed]",
      "text/plain": [
       "<Figure size 1080x360 with 1 Axes>"
      ]
     },
     "metadata": {
      "needs_background": "light"
     },
     "output_type": "display_data"
    }
   ],
   "source": [
    "sns.boxplot(data=feed_producer, x='highest_type', y='mortality')"
   ]
  },
  {
   "cell_type": "code",
   "execution_count": null,
   "id": "e34a52d7-a99e-4594-9dd7-ea8f4c4723dc",
   "metadata": {},
   "outputs": [],
   "source": []
  }
 ],
 "metadata": {
  "kernelspec": {
   "display_name": "Python 3 (ipykernel)",
   "language": "python",
   "name": "python3"
  },
  "language_info": {
   "codemirror_mode": {
    "name": "ipython",
    "version": 3
   },
   "file_extension": ".py",
   "mimetype": "text/x-python",
   "name": "python",
   "nbconvert_exporter": "python",
   "pygments_lexer": "ipython3",
   "version": "3.9.7"
  }
 },
 "nbformat": 4,
 "nbformat_minor": 5
}
