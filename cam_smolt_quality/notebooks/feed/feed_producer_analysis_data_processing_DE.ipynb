{
 "cells": [
  {
   "cell_type": "code",
   "execution_count": 1,
   "id": "YjCdlzc7xaC4",
   "metadata": {
    "id": "YjCdlzc7xaC4",
    "tags": []
   },
   "outputs": [],
   "source": [
    "import datetime\n",
    "from pathlib import Path\n",
    "from typing import Dict, List, Union\n",
    "\n",
    "import matplotlib.dates as mdates\n",
    "import matplotlib.pyplot as plt\n",
    "import matplotlib.pylab as pylab\n",
    "import matplotlib.ticker as ticker\n",
    "from matplotlib.patches import Patch\n",
    "from sklearn.preprocessing import LabelEncoder, OneHotEncoder\n",
    "import numpy as np\n",
    "import pandas as pd\n",
    "import seaborn as sns\n",
    "from tqdm import tqdm\n",
    "\n",
    "import warnings\n",
    "warnings.filterwarnings(\"ignore\")\n",
    "\n",
    "\n",
    "%matplotlib inline\n",
    "pd.options.mode.chained_assignment = None  # default='warn'\n",
    "plt.rcParams.update({'figure.max_open_warning': 0})\n",
    "PARAMS = {'legend.fontsize': 'xx-large',\n",
    "          'legend.title_fontsize': 'x-large',\n",
    "          'figure.figsize': (15, 5),\n",
    "         'axes.labelsize': 'x-large',\n",
    "         'axes.titlesize':'x-large',\n",
    "         'xtick.labelsize':'x-large',\n",
    "         'ytick.labelsize':'x-large'}\n",
    "pylab.rcParams.update(PARAMS)\n",
    "\n",
    "TIME_FORMAT = '%Y-%m-%d'\n",
    "INT_TYPE = 'int32'"
   ]
  },
  {
   "cell_type": "code",
   "execution_count": 2,
   "id": "yCNMuX3NxaC_",
   "metadata": {
    "id": "yCNMuX3NxaC_",
    "tags": []
   },
   "outputs": [],
   "source": [
    "def weighted_avg(x, weight, factor):\n",
    "    with warnings.catch_warnings():\n",
    "        warnings.simplefilter('ignore')\n",
    "        tmp = x[[weight, factor]].dropna()\n",
    "        weighted_sum = (tmp[weight] * tmp[factor]).sum()\n",
    "        count_sum = tmp[weight].sum()\n",
    "        return weighted_sum / count_sum"
   ]
  },
  {
   "cell_type": "code",
   "execution_count": 3,
   "id": "gCQS1nvpxaC_",
   "metadata": {
    "id": "gCQS1nvpxaC_",
    "tags": []
   },
   "outputs": [],
   "source": [
    "def load_data(locus_weights_path: Union[str, Path],\n",
    "              temperature_path: Union[str, Path],\n",
    "              locus_group_matching_path: Union[str, Path],\n",
    "              fresh_water_dates_path: Union[str, Path],\n",
    "              sw_fw_matching_path: Union[str, Path],\n",
    "              sw_fw_matching_path_with_cnt: Union[str, Path],\n",
    "              final_locus_weighted_path: Union[str, Path],\n",
    "              mortality_path: Union[str, Path]) -> Dict[str, pd.DataFrame]:\n",
    "\n",
    "    locus_weights = pd.read_csv(locus_weights_path)\n",
    "    locus_weights.starttime = pd.to_datetime(locus_weights.starttime, format=TIME_FORMAT)\n",
    "    locus_weights.endtime = pd.to_datetime(locus_weights.endtime, format=TIME_FORMAT)\n",
    "\n",
    "    temperature = pd.read_csv(temperature_path)\n",
    "    temperature.event_date = pd.to_datetime(temperature.event_date, format=TIME_FORMAT)\n",
    "    temperature.locus_group_id=temperature.locus_group_id.astype(INT_TYPE)\n",
    "    temperature['event_year'] = temperature['event_date'].dt.year\n",
    "\n",
    "    locus_group_matching = pd.read_csv(locus_group_matching_path)\n",
    "    locus_group_matching = locus_group_matching.astype(INT_TYPE)\n",
    "\n",
    "    fresh_water_dates = pd.read_csv(fresh_water_dates_path)\n",
    "    for d in ['first_movement_date', 'first_feeding_date', 'shipout_date']:\n",
    "        fresh_water_dates[d] = pd.to_datetime(fresh_water_dates[d], format=TIME_FORMAT)\n",
    "\n",
    "    sw_fw_matching = pd.read_csv(sw_fw_matching_path)\n",
    "    sw_fw_matching_with_cnt = pd.read_csv(sw_fw_matching_path_with_cnt)\n",
    "\n",
    "    sw_fw_cols = ['target_seawater_locus_id',\n",
    "                  'transport_date',\n",
    "                  'ponding_date',\n",
    "                  'pretransfer_fw_locus_population_id',\n",
    "                  'fish_count_shipped_out',\n",
    "                  'avg_weight_g_stocked']\n",
    "    sw_fw_matching = sw_fw_matching[sw_fw_matching.origin_site_type == 'Freshwater'][sw_fw_cols]\n",
    "    sw_fw_matching.pretransfer_fw_locus_population_id = sw_fw_matching.\\\n",
    "    pretransfer_fw_locus_population_id.astype(INT_TYPE)\n",
    "\n",
    "    final_locus_weighted = pd.read_csv(final_locus_weighted_path)\n",
    "    final_locus_weighted.event_date = pd.to_datetime(final_locus_weighted.event_date)\n",
    "\n",
    "    mortality = pd.read_csv(mortality_path)\n",
    "    mortality['transfer_date'] = pd.to_datetime(mortality['transfer_date'], format=TIME_FORMAT)\n",
    "    mortality['transport_year']= mortality['transfer_date'].dt.year\n",
    "\n",
    "\n",
    "    dataframes = {\n",
    "        'temperature': temperature,\n",
    "        'locus_weigts': locus_weights,\n",
    "        'locus_group_matching': locus_group_matching,\n",
    "        'final_locus_weighted': final_locus_weighted,\n",
    "        'fresh_water_dates': fresh_water_dates,\n",
    "        'sw_fw_matching': sw_fw_matching,\n",
    "        'sw_fw_matching_with_cnt': sw_fw_matching_with_cnt,\n",
    "        'mortality': mortality\n",
    "    }\n",
    "\n",
    "    return dataframes\n",
    "\n",
    "def create_factors_df(agg_ph_df, factors, key_columns, weight_column, weighted_func):\n",
    "    \"\"\"Creates factors df on key_columns level using weight_column to calculate weighted average\"\"\"\n",
    "    factors_dfs = []\n",
    "    print('Weighting factors')\n",
    "    for factor in tqdm(factors):\n",
    "        tmp = agg_ph_df.groupby(key_columns)\\\n",
    "        .apply(weighted_func, weight_column, factor).reset_index().rename(columns={0: factor})\n",
    "        factors_dfs.append(tmp)\n",
    "\n",
    "    factor_df = factors_dfs[0]\n",
    "    for df in factors_dfs[1:]:\n",
    "        factor_df = factor_df.merge(df, on=key_columns, how='inner')\n",
    "    return factor_df"
   ]
  },
  {
   "cell_type": "code",
   "execution_count": 4,
   "id": "9sRg8_M3xaDA",
   "metadata": {
    "id": "9sRg8_M3xaDA",
    "tags": []
   },
   "outputs": [],
   "source": [
    "dataframes = load_data(locus_weights_path='../data/evt_movement_ratio_with_dates.csv',\n",
    "                       temperature_path='../data/temperature_for_CAM.csv',\n",
    "                       locus_group_matching_path='../data/locus_locus_group_matching.csv',\n",
    "                       fresh_water_dates_path='../data/FW_cycle_dates.csv',\n",
    "                       sw_fw_matching_path='../data/seawater_freshwater_matching.csv',\n",
    "                       sw_fw_matching_path_with_cnt='../data/sw_locus_fw_locus_population_with_counts.csv',\n",
    "                       final_locus_weighted_path='../data/lw_alldates_final.csv', #_locus\n",
    "                       mortality_path='../data/smolt_dataset_transfers.csv') #_until2023Feb28_narrow\n",
    "\n",
    "temperature = dataframes['temperature']\n",
    "locus_weights = dataframes['locus_weigts']\n",
    "locus_group_matching = dataframes['locus_group_matching']\n",
    "final_locus_weighted = dataframes['final_locus_weighted']\n",
    "fresh_water_dates = dataframes['fresh_water_dates']\n",
    "sw_fw_matching = dataframes['sw_fw_matching']\n",
    "mortality = dataframes['mortality']\n",
    "sw_fw_matching_with_cnt = dataframes['sw_fw_matching_with_cnt']\n",
    "\n",
    "sw_fw_matching_with_cnt['transfer_date'] = pd.to_datetime(sw_fw_matching_with_cnt['transfer_date'], format=TIME_FORMAT)\n",
    "sw_fw_matching_with_cnt['transfer_year'] = sw_fw_matching_with_cnt['transfer_date'].dt.year\n",
    "\n",
    "#tgc = pd.read_csv('data/transfers_until2023Feb28_with_sw_growth_targets.csv')"
   ]
  },
  {
   "cell_type": "code",
   "execution_count": 5,
   "id": "H8s3coilxaDB",
   "metadata": {
    "id": "H8s3coilxaDB",
    "tags": []
   },
   "outputs": [],
   "source": [
    "lw_dates = locus_weights.groupby('final_locus_population_id').agg({'starttime': 'min', 'endtime': 'max'})\n",
    "lw_dates.starttime = pd.to_datetime(lw_dates.starttime, format=TIME_FORMAT)\n",
    "lw_dates.endtime = pd.to_datetime(lw_dates.endtime, format=TIME_FORMAT)\n",
    "lw_dates['FW_cycle_length'] = (lw_dates.endtime - lw_dates.starttime).dt.days + 1  # to be checked (?)\n",
    "lw_dates['starttime_year'] = lw_dates['starttime'].dt.year\n",
    "lw_dates = lw_dates[lw_dates.starttime_year>=2017]  # issues with temperature readings for 2015-2016"
   ]
  },
  {
   "cell_type": "code",
   "execution_count": 6,
   "id": "l2YuZTXuxaDC",
   "metadata": {
    "id": "l2YuZTXuxaDC",
    "tags": []
   },
   "outputs": [],
   "source": [
    "final_locus_locus_group_weighted = final_locus_weighted\n",
    "# final_locus_locus_group_weighted = final_locus_weighted.merge(locus_group_matching,\n",
    "#                                                               left_on='historic_locus_id',\n",
    "#                                                               right_on='locus_id',\n",
    "#                                                               how='left')\n",
    "# final_locus_locus_group_weighted.drop(columns='locus_id',inplace=True)"
   ]
  },
  {
   "cell_type": "code",
   "execution_count": 7,
   "id": "2d2ZmnbhxaDC",
   "metadata": {
    "id": "2d2ZmnbhxaDC",
    "outputId": "30f5a428-3ba5-40ca-b1f0-341e8701acb2",
    "tags": []
   },
   "outputs": [
    {
     "data": {
      "text/html": [
       "<div>\n",
       "<style scoped>\n",
       "    .dataframe tbody tr th:only-of-type {\n",
       "        vertical-align: middle;\n",
       "    }\n",
       "\n",
       "    .dataframe tbody tr th {\n",
       "        vertical-align: top;\n",
       "    }\n",
       "\n",
       "    .dataframe thead th {\n",
       "        text-align: right;\n",
       "    }\n",
       "</style>\n",
       "<table border=\"1\" class=\"dataframe\">\n",
       "  <thead>\n",
       "    <tr style=\"text-align: right;\">\n",
       "      <th></th>\n",
       "      <th>final_locus_population_id</th>\n",
       "      <th>event_date</th>\n",
       "      <th>historic_locus_id</th>\n",
       "      <th>weight</th>\n",
       "    </tr>\n",
       "  </thead>\n",
       "  <tbody>\n",
       "    <tr>\n",
       "      <th>0</th>\n",
       "      <td>36770651</td>\n",
       "      <td>2015-05-15</td>\n",
       "      <td>3050549</td>\n",
       "      <td>1.0</td>\n",
       "    </tr>\n",
       "    <tr>\n",
       "      <th>1</th>\n",
       "      <td>36770651</td>\n",
       "      <td>2015-05-16</td>\n",
       "      <td>3050549</td>\n",
       "      <td>1.0</td>\n",
       "    </tr>\n",
       "    <tr>\n",
       "      <th>2</th>\n",
       "      <td>36770651</td>\n",
       "      <td>2015-05-17</td>\n",
       "      <td>3050549</td>\n",
       "      <td>1.0</td>\n",
       "    </tr>\n",
       "    <tr>\n",
       "      <th>3</th>\n",
       "      <td>36770651</td>\n",
       "      <td>2015-05-18</td>\n",
       "      <td>3050549</td>\n",
       "      <td>1.0</td>\n",
       "    </tr>\n",
       "    <tr>\n",
       "      <th>4</th>\n",
       "      <td>36770651</td>\n",
       "      <td>2015-05-19</td>\n",
       "      <td>3050549</td>\n",
       "      <td>1.0</td>\n",
       "    </tr>\n",
       "    <tr>\n",
       "      <th>...</th>\n",
       "      <td>...</td>\n",
       "      <td>...</td>\n",
       "      <td>...</td>\n",
       "      <td>...</td>\n",
       "    </tr>\n",
       "    <tr>\n",
       "      <th>41797572</th>\n",
       "      <td>194761283</td>\n",
       "      <td>2023-12-06</td>\n",
       "      <td>3048141</td>\n",
       "      <td>1.0</td>\n",
       "    </tr>\n",
       "    <tr>\n",
       "      <th>41797573</th>\n",
       "      <td>194761283</td>\n",
       "      <td>2023-12-07</td>\n",
       "      <td>3048141</td>\n",
       "      <td>1.0</td>\n",
       "    </tr>\n",
       "    <tr>\n",
       "      <th>41797574</th>\n",
       "      <td>194761283</td>\n",
       "      <td>2023-12-08</td>\n",
       "      <td>3048141</td>\n",
       "      <td>1.0</td>\n",
       "    </tr>\n",
       "    <tr>\n",
       "      <th>41797575</th>\n",
       "      <td>194761283</td>\n",
       "      <td>2023-12-09</td>\n",
       "      <td>3048141</td>\n",
       "      <td>1.0</td>\n",
       "    </tr>\n",
       "    <tr>\n",
       "      <th>41797576</th>\n",
       "      <td>194761283</td>\n",
       "      <td>2023-12-10</td>\n",
       "      <td>3048141</td>\n",
       "      <td>1.0</td>\n",
       "    </tr>\n",
       "  </tbody>\n",
       "</table>\n",
       "<p>41797577 rows × 4 columns</p>\n",
       "</div>"
      ],
      "text/plain": [
       "          final_locus_population_id event_date  historic_locus_id  weight\n",
       "0                          36770651 2015-05-15            3050549     1.0\n",
       "1                          36770651 2015-05-16            3050549     1.0\n",
       "2                          36770651 2015-05-17            3050549     1.0\n",
       "3                          36770651 2015-05-18            3050549     1.0\n",
       "4                          36770651 2015-05-19            3050549     1.0\n",
       "...                             ...        ...                ...     ...\n",
       "41797572                  194761283 2023-12-06            3048141     1.0\n",
       "41797573                  194761283 2023-12-07            3048141     1.0\n",
       "41797574                  194761283 2023-12-08            3048141     1.0\n",
       "41797575                  194761283 2023-12-09            3048141     1.0\n",
       "41797576                  194761283 2023-12-10            3048141     1.0\n",
       "\n",
       "[41797577 rows x 4 columns]"
      ]
     },
     "execution_count": 7,
     "metadata": {},
     "output_type": "execute_result"
    }
   ],
   "source": [
    "final_locus_locus_group_weighted"
   ]
  },
  {
   "cell_type": "markdown",
   "id": "82K6vcaTxaDE",
   "metadata": {
    "id": "82K6vcaTxaDE"
   },
   "source": [
    "### Feed data"
   ]
  },
  {
   "cell_type": "code",
   "execution_count": 8,
   "id": "wygO-FYPxaDG",
   "metadata": {
    "id": "wygO-FYPxaDG",
    "outputId": "970ab2ac-58e6-4fbd-c3b0-b5867f681278",
    "tags": []
   },
   "outputs": [
    {
     "name": "stdout",
     "output_type": "stream",
     "text": [
      "Rows count before merge: 910765\n"
     ]
    },
    {
     "data": {
      "text/html": [
       "<div>\n",
       "<style scoped>\n",
       "    .dataframe tbody tr th:only-of-type {\n",
       "        vertical-align: middle;\n",
       "    }\n",
       "\n",
       "    .dataframe tbody tr th {\n",
       "        vertical-align: top;\n",
       "    }\n",
       "\n",
       "    .dataframe thead th {\n",
       "        text-align: right;\n",
       "    }\n",
       "</style>\n",
       "<table border=\"1\" class=\"dataframe\">\n",
       "  <thead>\n",
       "    <tr style=\"text-align: right;\">\n",
       "      <th></th>\n",
       "      <th>locus_id</th>\n",
       "      <th>mrts_feed_id</th>\n",
       "      <th>event_date</th>\n",
       "      <th>amount</th>\n",
       "      <th>locus_population_id</th>\n",
       "      <th>event_year</th>\n",
       "    </tr>\n",
       "  </thead>\n",
       "  <tbody>\n",
       "    <tr>\n",
       "      <th>0</th>\n",
       "      <td>3046183</td>\n",
       "      <td>11416</td>\n",
       "      <td>2022-12-06</td>\n",
       "      <td>3.300</td>\n",
       "      <td>194526796</td>\n",
       "      <td>2022</td>\n",
       "    </tr>\n",
       "    <tr>\n",
       "      <th>1</th>\n",
       "      <td>3046598</td>\n",
       "      <td>11365</td>\n",
       "      <td>2022-12-06</td>\n",
       "      <td>5.200</td>\n",
       "      <td>194522458</td>\n",
       "      <td>2022</td>\n",
       "    </tr>\n",
       "    <tr>\n",
       "      <th>2</th>\n",
       "      <td>3046733</td>\n",
       "      <td>11416</td>\n",
       "      <td>2022-12-06</td>\n",
       "      <td>2.670</td>\n",
       "      <td>194524700</td>\n",
       "      <td>2022</td>\n",
       "    </tr>\n",
       "    <tr>\n",
       "      <th>3</th>\n",
       "      <td>3046802</td>\n",
       "      <td>11416</td>\n",
       "      <td>2022-12-06</td>\n",
       "      <td>2.278</td>\n",
       "      <td>194524704</td>\n",
       "      <td>2022</td>\n",
       "    </tr>\n",
       "    <tr>\n",
       "      <th>4</th>\n",
       "      <td>3047045</td>\n",
       "      <td>11416</td>\n",
       "      <td>2022-12-06</td>\n",
       "      <td>2.110</td>\n",
       "      <td>194524401</td>\n",
       "      <td>2022</td>\n",
       "    </tr>\n",
       "    <tr>\n",
       "      <th>...</th>\n",
       "      <td>...</td>\n",
       "      <td>...</td>\n",
       "      <td>...</td>\n",
       "      <td>...</td>\n",
       "      <td>...</td>\n",
       "      <td>...</td>\n",
       "    </tr>\n",
       "    <tr>\n",
       "      <th>910760</th>\n",
       "      <td>3051310</td>\n",
       "      <td>11403</td>\n",
       "      <td>2020-12-24</td>\n",
       "      <td>20.000</td>\n",
       "      <td>194274792</td>\n",
       "      <td>2020</td>\n",
       "    </tr>\n",
       "    <tr>\n",
       "      <th>910761</th>\n",
       "      <td>3051384</td>\n",
       "      <td>11661</td>\n",
       "      <td>2020-12-24</td>\n",
       "      <td>1.500</td>\n",
       "      <td>194276064</td>\n",
       "      <td>2020</td>\n",
       "    </tr>\n",
       "    <tr>\n",
       "      <th>910762</th>\n",
       "      <td>3051426</td>\n",
       "      <td>11940</td>\n",
       "      <td>2020-12-24</td>\n",
       "      <td>60.000</td>\n",
       "      <td>194272761</td>\n",
       "      <td>2020</td>\n",
       "    </tr>\n",
       "    <tr>\n",
       "      <th>910763</th>\n",
       "      <td>3051426</td>\n",
       "      <td>11366</td>\n",
       "      <td>2020-12-24</td>\n",
       "      <td>80.000</td>\n",
       "      <td>194272761</td>\n",
       "      <td>2020</td>\n",
       "    </tr>\n",
       "    <tr>\n",
       "      <th>910764</th>\n",
       "      <td>3051474</td>\n",
       "      <td>11661</td>\n",
       "      <td>2020-12-24</td>\n",
       "      <td>1.400</td>\n",
       "      <td>194276065</td>\n",
       "      <td>2020</td>\n",
       "    </tr>\n",
       "  </tbody>\n",
       "</table>\n",
       "<p>910765 rows × 6 columns</p>\n",
       "</div>"
      ],
      "text/plain": [
       "        locus_id  mrts_feed_id event_date  amount  locus_population_id  \\\n",
       "0        3046183         11416 2022-12-06   3.300            194526796   \n",
       "1        3046598         11365 2022-12-06   5.200            194522458   \n",
       "2        3046733         11416 2022-12-06   2.670            194524700   \n",
       "3        3046802         11416 2022-12-06   2.278            194524704   \n",
       "4        3047045         11416 2022-12-06   2.110            194524401   \n",
       "...          ...           ...        ...     ...                  ...   \n",
       "910760   3051310         11403 2020-12-24  20.000            194274792   \n",
       "910761   3051384         11661 2020-12-24   1.500            194276064   \n",
       "910762   3051426         11940 2020-12-24  60.000            194272761   \n",
       "910763   3051426         11366 2020-12-24  80.000            194272761   \n",
       "910764   3051474         11661 2020-12-24   1.400            194276065   \n",
       "\n",
       "        event_year  \n",
       "0             2022  \n",
       "1             2022  \n",
       "2             2022  \n",
       "3             2022  \n",
       "4             2022  \n",
       "...            ...  \n",
       "910760        2020  \n",
       "910761        2020  \n",
       "910762        2020  \n",
       "910763        2020  \n",
       "910764        2020  \n",
       "\n",
       "[910765 rows x 6 columns]"
      ]
     },
     "execution_count": 8,
     "metadata": {},
     "output_type": "execute_result"
    }
   ],
   "source": [
    "feed_data = pd.read_csv('../data/feed_UPS_Petrohue.csv')\n",
    "print('Rows count before merge:', feed_data.shape[0])\n",
    "# feed_data = feed_data.merge(locus_group_matching, how='inner', on='locus_id')\n",
    "# print('Rows count after merge:', feed_data.shape[0])\n",
    "feed_data.rename(columns={'start_reg_time': 'event_date'}, inplace=True)\n",
    "feed_data['event_date'] = pd.to_datetime(feed_data['event_date']) #, format=TIME_FORMAT\n",
    "feed_data['event_year'] = feed_data['event_date'].dt.year\n",
    "feed_data"
   ]
  },
  {
   "cell_type": "code",
   "execution_count": 9,
   "id": "QXK7_8zKxaDH",
   "metadata": {
    "id": "QXK7_8zKxaDH",
    "tags": []
   },
   "outputs": [],
   "source": [
    "# multiple_matching_ids = feed_data[\n",
    "#     feed_data.groupby('locus_id')['locus_group_id'].transform('nunique') > 1\n",
    "# ]['locus_id'].unique()"
   ]
  },
  {
   "cell_type": "code",
   "execution_count": 10,
   "id": "sPvkkKnZxaDI",
   "metadata": {
    "id": "sPvkkKnZxaDI",
    "outputId": "712ec04c-95a2-428b-b7dd-4143c219f02b",
    "scrolled": true,
    "tags": []
   },
   "outputs": [],
   "source": [
    "# feed_data[feed_data['locus_id'].isin(multiple_matching_ids)]"
   ]
  },
  {
   "cell_type": "code",
   "execution_count": 11,
   "id": "ZuhMTgqlxaDI",
   "metadata": {
    "id": "ZuhMTgqlxaDI",
    "tags": []
   },
   "outputs": [],
   "source": [
    "# # decided not to exclude this we work on locus_id level\n",
    "\n",
    "# if False:\n",
    "#     feed_data = feed_data[~feed_data['locus_id'].isin(multiple_matching_ids)]"
   ]
  },
  {
   "cell_type": "code",
   "execution_count": null,
   "id": "8ruX0099xaDJ",
   "metadata": {
    "id": "8ruX0099xaDJ",
    "outputId": "c45272bd-9250-4996-e999-5344a57c84b4"
   },
   "outputs": [],
   "source": []
  },
  {
   "cell_type": "markdown",
   "id": "xqKA0xGRxaDJ",
   "metadata": {
    "id": "xqKA0xGRxaDJ"
   },
   "source": [
    "#### Feed producer catalog"
   ]
  },
  {
   "cell_type": "code",
   "execution_count": 12,
   "id": "V61MG1PtxaDJ",
   "metadata": {
    "id": "V61MG1PtxaDJ",
    "tags": []
   },
   "outputs": [],
   "source": [
    "feed_catalog = pd.read_csv('../data\\\\dict_feed_name.csv')\n",
    "feed_catalog['producer'] = feed_catalog['feed_name'].apply(lambda x: x.split()[0])\n",
    "\n",
    "assert np.all(feed_catalog['producer'].apply(lambda x: len(x)) == 2)"
   ]
  },
  {
   "cell_type": "code",
   "execution_count": 13,
   "id": "e4bd9249-007c-4ada-9b7d-ca8fbac0f8df",
   "metadata": {
    "tags": []
   },
   "outputs": [
    {
     "data": {
      "text/html": [
       "<div>\n",
       "<style scoped>\n",
       "    .dataframe tbody tr th:only-of-type {\n",
       "        vertical-align: middle;\n",
       "    }\n",
       "\n",
       "    .dataframe tbody tr th {\n",
       "        vertical-align: top;\n",
       "    }\n",
       "\n",
       "    .dataframe thead th {\n",
       "        text-align: right;\n",
       "    }\n",
       "</style>\n",
       "<table border=\"1\" class=\"dataframe\">\n",
       "  <thead>\n",
       "    <tr style=\"text-align: right;\">\n",
       "      <th></th>\n",
       "      <th>mrts_feed_id</th>\n",
       "      <th>feed_name</th>\n",
       "      <th>producer</th>\n",
       "    </tr>\n",
       "  </thead>\n",
       "  <tbody>\n",
       "    <tr>\n",
       "      <th>0</th>\n",
       "      <td>11492</td>\n",
       "      <td>EW MICRO START 0,18\\t\\t\\t\\t\\t\\t\\t\\t</td>\n",
       "      <td>EW</td>\n",
       "    </tr>\n",
       "    <tr>\n",
       "      <th>1</th>\n",
       "      <td>12345</td>\n",
       "      <td>SK NUTRA SUPREME HE RCX 30 PF</td>\n",
       "      <td>SK</td>\n",
       "    </tr>\n",
       "    <tr>\n",
       "      <th>2</th>\n",
       "      <td>11348</td>\n",
       "      <td>BI ORBIT 1.5MM</td>\n",
       "      <td>BI</td>\n",
       "    </tr>\n",
       "    <tr>\n",
       "      <th>3</th>\n",
       "      <td>12087</td>\n",
       "      <td>EW MICRO START 0,18 DERMIC FW</td>\n",
       "      <td>EW</td>\n",
       "    </tr>\n",
       "    <tr>\n",
       "      <th>4</th>\n",
       "      <td>11013</td>\n",
       "      <td>EW TRANSFER BOOST MED 50 FLO</td>\n",
       "      <td>EW</td>\n",
       "    </tr>\n",
       "    <tr>\n",
       "      <th>...</th>\n",
       "      <td>...</td>\n",
       "      <td>...</td>\n",
       "      <td>...</td>\n",
       "    </tr>\n",
       "    <tr>\n",
       "      <th>211</th>\n",
       "      <td>10960</td>\n",
       "      <td>EW TRANSFER BOOST 100 BIOP ZN 0,5K/T</td>\n",
       "      <td>EW</td>\n",
       "    </tr>\n",
       "    <tr>\n",
       "      <th>212</th>\n",
       "      <td>11595</td>\n",
       "      <td>BI ORBIT INTRO 4MM QUICK VAC SRS</td>\n",
       "      <td>BI</td>\n",
       "    </tr>\n",
       "    <tr>\n",
       "      <th>213</th>\n",
       "      <td>11238</td>\n",
       "      <td>AS TRANSFER BOOST 100</td>\n",
       "      <td>AS</td>\n",
       "    </tr>\n",
       "    <tr>\n",
       "      <th>214</th>\n",
       "      <td>10802</td>\n",
       "      <td>BI GOLDEN PRIMA PRO 0,3</td>\n",
       "      <td>BI</td>\n",
       "    </tr>\n",
       "    <tr>\n",
       "      <th>215</th>\n",
       "      <td>12209</td>\n",
       "      <td>EW MICRO START + 0,15</td>\n",
       "      <td>EW</td>\n",
       "    </tr>\n",
       "  </tbody>\n",
       "</table>\n",
       "<p>216 rows × 3 columns</p>\n",
       "</div>"
      ],
      "text/plain": [
       "     mrts_feed_id                             feed_name producer\n",
       "0           11492   EW MICRO START 0,18\\t\\t\\t\\t\\t\\t\\t\\t       EW\n",
       "1           12345         SK NUTRA SUPREME HE RCX 30 PF       SK\n",
       "2           11348                        BI ORBIT 1.5MM       BI\n",
       "3           12087         EW MICRO START 0,18 DERMIC FW       EW\n",
       "4           11013          EW TRANSFER BOOST MED 50 FLO       EW\n",
       "..            ...                                   ...      ...\n",
       "211         10960  EW TRANSFER BOOST 100 BIOP ZN 0,5K/T       EW\n",
       "212         11595      BI ORBIT INTRO 4MM QUICK VAC SRS       BI\n",
       "213         11238                 AS TRANSFER BOOST 100       AS\n",
       "214         10802               BI GOLDEN PRIMA PRO 0,3       BI\n",
       "215         12209                 EW MICRO START + 0,15       EW\n",
       "\n",
       "[216 rows x 3 columns]"
      ]
     },
     "execution_count": 13,
     "metadata": {},
     "output_type": "execute_result"
    }
   ],
   "source": [
    "feed_catalog"
   ]
  },
  {
   "cell_type": "code",
   "execution_count": 14,
   "id": "Jo_VXYuFxaDK",
   "metadata": {
    "id": "Jo_VXYuFxaDK",
    "outputId": "4037047d-b7aa-4226-ab18-b25d70ea71bb",
    "scrolled": true,
    "tags": []
   },
   "outputs": [],
   "source": [
    "feed_data = feed_data.merge(feed_catalog[['mrts_feed_id', 'producer']], how='inner', on='mrts_feed_id')"
   ]
  },
  {
   "cell_type": "code",
   "execution_count": 15,
   "id": "2j3SA938xaDK",
   "metadata": {
    "id": "2j3SA938xaDK",
    "tags": []
   },
   "outputs": [],
   "source": [
    "# # change before merging\n",
    "\n",
    "# if True: # reduce number of locus_ids to 10 since OOM\n",
    "#     locus_fix = np.array([3050332, 3047666, 3047806, 3050820, 3049901, 3051154, 3047034,\n",
    "#            3048582, 3049742, 3048644])\n",
    "\n",
    "#     feed_data = feed_data[feed_data['locus_id'].isin(locus_fix)]"
   ]
  },
  {
   "cell_type": "code",
   "execution_count": 16,
   "id": "UVEQLyZvxaDK",
   "metadata": {
    "id": "UVEQLyZvxaDK",
    "tags": []
   },
   "outputs": [],
   "source": [
    "vaccines = pd.read_csv('../data/vaccines_with_final_locus_population_id.csv')\n",
    "vaccines['VAC_EVENT_DATE'] = pd.to_datetime(vaccines['VAC_EVENT_DATE'] , format=TIME_FORMAT)\n",
    "#DE: changed to max here\n",
    "vaccines_agg = vaccines.groupby('FINAL_LOCUS_POPULATION_ID')[['VAC_EVENT_DATE']].max(numeric_only=False)"
   ]
  },
  {
   "cell_type": "code",
   "execution_count": 17,
   "id": "VR0nhAt1xaDL",
   "metadata": {
    "id": "VR0nhAt1xaDL",
    "outputId": "031ca963-a93f-40e4-b9a8-7236f394aebf",
    "tags": []
   },
   "outputs": [
    {
     "data": {
      "text/html": [
       "<div>\n",
       "<style scoped>\n",
       "    .dataframe tbody tr th:only-of-type {\n",
       "        vertical-align: middle;\n",
       "    }\n",
       "\n",
       "    .dataframe tbody tr th {\n",
       "        vertical-align: top;\n",
       "    }\n",
       "\n",
       "    .dataframe thead th {\n",
       "        text-align: right;\n",
       "    }\n",
       "</style>\n",
       "<table border=\"1\" class=\"dataframe\">\n",
       "  <thead>\n",
       "    <tr style=\"text-align: right;\">\n",
       "      <th></th>\n",
       "      <th>final_locus_population_id</th>\n",
       "      <th>event_date</th>\n",
       "      <th>historic_locus_id</th>\n",
       "      <th>weight</th>\n",
       "    </tr>\n",
       "  </thead>\n",
       "  <tbody>\n",
       "    <tr>\n",
       "      <th>0</th>\n",
       "      <td>36770651</td>\n",
       "      <td>2015-05-15</td>\n",
       "      <td>3050549</td>\n",
       "      <td>1.0</td>\n",
       "    </tr>\n",
       "    <tr>\n",
       "      <th>1</th>\n",
       "      <td>36770651</td>\n",
       "      <td>2015-05-16</td>\n",
       "      <td>3050549</td>\n",
       "      <td>1.0</td>\n",
       "    </tr>\n",
       "    <tr>\n",
       "      <th>2</th>\n",
       "      <td>36770651</td>\n",
       "      <td>2015-05-17</td>\n",
       "      <td>3050549</td>\n",
       "      <td>1.0</td>\n",
       "    </tr>\n",
       "    <tr>\n",
       "      <th>3</th>\n",
       "      <td>36770651</td>\n",
       "      <td>2015-05-18</td>\n",
       "      <td>3050549</td>\n",
       "      <td>1.0</td>\n",
       "    </tr>\n",
       "    <tr>\n",
       "      <th>4</th>\n",
       "      <td>36770651</td>\n",
       "      <td>2015-05-19</td>\n",
       "      <td>3050549</td>\n",
       "      <td>1.0</td>\n",
       "    </tr>\n",
       "    <tr>\n",
       "      <th>...</th>\n",
       "      <td>...</td>\n",
       "      <td>...</td>\n",
       "      <td>...</td>\n",
       "      <td>...</td>\n",
       "    </tr>\n",
       "    <tr>\n",
       "      <th>41797572</th>\n",
       "      <td>194761283</td>\n",
       "      <td>2023-12-06</td>\n",
       "      <td>3048141</td>\n",
       "      <td>1.0</td>\n",
       "    </tr>\n",
       "    <tr>\n",
       "      <th>41797573</th>\n",
       "      <td>194761283</td>\n",
       "      <td>2023-12-07</td>\n",
       "      <td>3048141</td>\n",
       "      <td>1.0</td>\n",
       "    </tr>\n",
       "    <tr>\n",
       "      <th>41797574</th>\n",
       "      <td>194761283</td>\n",
       "      <td>2023-12-08</td>\n",
       "      <td>3048141</td>\n",
       "      <td>1.0</td>\n",
       "    </tr>\n",
       "    <tr>\n",
       "      <th>41797575</th>\n",
       "      <td>194761283</td>\n",
       "      <td>2023-12-09</td>\n",
       "      <td>3048141</td>\n",
       "      <td>1.0</td>\n",
       "    </tr>\n",
       "    <tr>\n",
       "      <th>41797576</th>\n",
       "      <td>194761283</td>\n",
       "      <td>2023-12-10</td>\n",
       "      <td>3048141</td>\n",
       "      <td>1.0</td>\n",
       "    </tr>\n",
       "  </tbody>\n",
       "</table>\n",
       "<p>41797577 rows × 4 columns</p>\n",
       "</div>"
      ],
      "text/plain": [
       "          final_locus_population_id event_date  historic_locus_id  weight\n",
       "0                          36770651 2015-05-15            3050549     1.0\n",
       "1                          36770651 2015-05-16            3050549     1.0\n",
       "2                          36770651 2015-05-17            3050549     1.0\n",
       "3                          36770651 2015-05-18            3050549     1.0\n",
       "4                          36770651 2015-05-19            3050549     1.0\n",
       "...                             ...        ...                ...     ...\n",
       "41797572                  194761283 2023-12-06            3048141     1.0\n",
       "41797573                  194761283 2023-12-07            3048141     1.0\n",
       "41797574                  194761283 2023-12-08            3048141     1.0\n",
       "41797575                  194761283 2023-12-09            3048141     1.0\n",
       "41797576                  194761283 2023-12-10            3048141     1.0\n",
       "\n",
       "[41797577 rows x 4 columns]"
      ]
     },
     "execution_count": 17,
     "metadata": {},
     "output_type": "execute_result"
    }
   ],
   "source": [
    "final_locus_locus_group_weighted#.dtypes"
   ]
  },
  {
   "cell_type": "code",
   "execution_count": 18,
   "id": "kD_pzVdBxaDL",
   "metadata": {
    "id": "kD_pzVdBxaDL",
    "outputId": "1dd7f3ba-2e7d-4745-acab-3f2577010572",
    "tags": []
   },
   "outputs": [
    {
     "data": {
      "text/plain": [
       "502"
      ]
     },
     "execution_count": 18,
     "metadata": {},
     "output_type": "execute_result"
    }
   ],
   "source": [
    "len(set(final_locus_locus_group_weighted.historic_locus_id))"
   ]
  },
  {
   "cell_type": "code",
   "execution_count": 19,
   "id": "JdSDQE5FxaDL",
   "metadata": {
    "id": "JdSDQE5FxaDL",
    "outputId": "f4158c3b-0311-443d-d711-d91c9c45b22c",
    "tags": []
   },
   "outputs": [
    {
     "data": {
      "text/plain": [
       "419"
      ]
     },
     "execution_count": 19,
     "metadata": {},
     "output_type": "execute_result"
    }
   ],
   "source": [
    "len(set(feed_data.locus_id))"
   ]
  },
  {
   "cell_type": "markdown",
   "id": "jL6qUUTIxaDM",
   "metadata": {
    "id": "jL6qUUTIxaDM"
   },
   "source": [
    "### To Final locus population level"
   ]
  },
  {
   "cell_type": "code",
   "execution_count": 20,
   "id": "alTAX_zsxaDM",
   "metadata": {
    "id": "alTAX_zsxaDM",
    "outputId": "202f1315-0f89-4344-8109-a6739239ec80",
    "tags": []
   },
   "outputs": [
    {
     "name": "stdout",
     "output_type": "stream",
     "text": [
      "25786908\n"
     ]
    }
   ],
   "source": [
    "if True:  # OOM, merge and save result to csv\n",
    "    feed_data_final_lp = feed_data.merge(final_locus_locus_group_weighted,\n",
    "                                         how='inner',\n",
    "                                         left_on=['event_date', 'locus_id'],\n",
    "                                         right_on=['event_date', 'historic_locus_id'])\n",
    "    print(len(feed_data_final_lp))"
   ]
  },
  {
   "cell_type": "code",
   "execution_count": 21,
   "id": "JzI9c3eVxaDM",
   "metadata": {
    "id": "JzI9c3eVxaDM",
    "outputId": "467a6d24-1b29-4dc6-f6b9-82dd7f3636d6",
    "tags": []
   },
   "outputs": [
    {
     "name": "stdout",
     "output_type": "stream",
     "text": [
      "25786908\n"
     ]
    }
   ],
   "source": [
    "feed_data_final_lp = feed_data_final_lp.merge(vaccines_agg,\n",
    "                                              how='left',\n",
    "                                              left_on='final_locus_population_id',\n",
    "                                              right_index=True)\n",
    "print(len(feed_data_final_lp))"
   ]
  },
  {
   "cell_type": "code",
   "execution_count": 22,
   "id": "83msz4qQxaDN",
   "metadata": {
    "id": "83msz4qQxaDN",
    "outputId": "3def1f16-8c37-4762-a3b8-7cf97a4a647a",
    "tags": []
   },
   "outputs": [
    {
     "name": "stdout",
     "output_type": "stream",
     "text": [
      "25786908\n"
     ]
    }
   ],
   "source": [
    "final_locus_population_transfer_dates = sw_fw_matching_with_cnt[['from_locus_population_id','transfer_date']].groupby('from_locus_population_id').max()\n",
    "feed_data_final_lp = feed_data_final_lp.merge(final_locus_population_transfer_dates,\n",
    "                                     how='left',\n",
    "                                     left_on='final_locus_population_id',\n",
    "#                                      right_on='from_locus_population_id'\n",
    "                                     right_index=True\n",
    "                                             )\n",
    "print(len(feed_data_final_lp))"
   ]
  },
  {
   "cell_type": "code",
   "execution_count": 23,
   "id": "G-3-GqAqxaDP",
   "metadata": {
    "id": "G-3-GqAqxaDP",
    "outputId": "9b21c7d4-2db7-43fe-9eea-03e30987943d",
    "tags": []
   },
   "outputs": [],
   "source": [
    "# (feed_data_final_lp['transfer_date'] - feed_data_final_lp['VAC_EVENT_DATE']).dt.days.hist()"
   ]
  },
  {
   "cell_type": "code",
   "execution_count": 24,
   "id": "97vW-rPCxaDP",
   "metadata": {
    "id": "97vW-rPCxaDP",
    "tags": []
   },
   "outputs": [],
   "source": [
    "feed_data_final_lp['eight_weeks_before_transfer'] = feed_data_final_lp['transfer_date'] - pd.Timedelta(8,'w')"
   ]
  },
  {
   "cell_type": "code",
   "execution_count": 33,
   "id": "k2b4FqK-xaDQ",
   "metadata": {
    "id": "k2b4FqK-xaDQ",
    "outputId": "ac58d455-625f-4bae-b372-741accc50ad0",
    "tags": []
   },
   "outputs": [],
   "source": [
    "# locus_group_id_x, locus_group_id_y occur when merging with final_locus_locus_group_weighted not on locus_group_id\n",
    "# np.all(feed_data_final_lp['locus_group_id_x'] == feed_data_final_lp['locus_group_id_y'])"
   ]
  },
  {
   "cell_type": "code",
   "execution_count": 27,
   "id": "B6p0pEJfxaDQ",
   "metadata": {
    "id": "B6p0pEJfxaDQ",
    "tags": []
   },
   "outputs": [],
   "source": [
    "if False:\n",
    "    label_enc = LabelEncoder()\n",
    "    one_hot_enc = OneHotEncoder(sparse=False)\n",
    "    encoded_manufacturer = one_hot_enc.fit_transform(\n",
    "        label_enc.fit_transform(feed_data_final_lp['manufacturer']).reshape(-1, 1)\n",
    ")"
   ]
  },
  {
   "cell_type": "code",
   "execution_count": 49,
   "id": "1f625eee-6981-452f-8bac-b9d6e81238e3",
   "metadata": {
    "tags": []
   },
   "outputs": [],
   "source": [
    "#feed_data_final_lp = pd.read_csv('../data\\\\feed_data_final_lp.csv')"
   ]
  },
  {
   "cell_type": "code",
   "execution_count": 50,
   "id": "IbUX7eysxaDQ",
   "metadata": {
    "id": "IbUX7eysxaDQ",
    "tags": []
   },
   "outputs": [],
   "source": [
    "encoded_producer = pd.get_dummies(feed_data_final_lp['producer'])\n",
    "feed_data_final_lp = feed_data_final_lp.drop('producer', axis=1)\n",
    "feed_data_final_lp = feed_data_final_lp.join(encoded_producer)"
   ]
  },
  {
   "cell_type": "code",
   "execution_count": 51,
   "id": "Qblls3l_xaDQ",
   "metadata": {
    "id": "Qblls3l_xaDQ",
    "outputId": "15d00fca-1b0c-477b-bb61-42f13a0c74a8",
    "tags": []
   },
   "outputs": [],
   "source": [
    "feed_data_final_lp.to_csv('../data\\\\feed_data_final_lp.csv',index=False)"
   ]
  },
  {
   "cell_type": "code",
   "execution_count": 29,
   "id": "8iwTiv8mxaDR",
   "metadata": {
    "id": "8iwTiv8mxaDR",
    "outputId": "0f172201-1ab9-4adf-ee4e-df183ad7ecd9",
    "tags": []
   },
   "outputs": [],
   "source": [
    "# feed_data_final_lp[feed_data_final_lp.final_locus_population_id==36770651].sort_values(by='event_date').tail(10)"
   ]
  },
  {
   "cell_type": "code",
   "execution_count": 30,
   "id": "aVwEjHTyxaDR",
   "metadata": {
    "id": "aVwEjHTyxaDR",
    "tags": []
   },
   "outputs": [],
   "source": [
    "# _ = feed_data_final_lp[feed_data_final_lp['final_locus_population_id'] == 36778733][\n",
    "#     feed_data_final_lp['event_date'] == '2016-12-22']"
   ]
  },
  {
   "cell_type": "code",
   "execution_count": 31,
   "id": "ZtTE4EuvxaDR",
   "metadata": {
    "id": "ZtTE4EuvxaDR",
    "outputId": "7333f853-27db-4504-8064-43af9b1cf046",
    "tags": []
   },
   "outputs": [
    {
     "data": {
      "text/plain": [
       "count    1.263657e+06\n",
       "mean     2.548793e-01\n",
       "std      4.592931e-01\n",
       "min      0.000000e+00\n",
       "25%      0.000000e+00\n",
       "50%      0.000000e+00\n",
       "75%      0.000000e+00\n",
       "max      3.000000e+00\n",
       "Name: weight, dtype: float64"
      ]
     },
     "execution_count": 31,
     "metadata": {},
     "output_type": "execute_result"
    }
   ],
   "source": [
    "feed_data_final_lp.\\\n",
    "groupby(['final_locus_population_id','event_date'])['weight'].sum().describe()"
   ]
  },
  {
   "cell_type": "code",
   "execution_count": 32,
   "id": "od6Ax0O7xaDR",
   "metadata": {
    "collapsed": true,
    "id": "od6Ax0O7xaDR",
    "jupyter": {
     "outputs_hidden": true
    },
    "outputId": "f48108a0-75d0-40da-b2ff-cc494fe5be76",
    "scrolled": true,
    "tags": []
   },
   "outputs": [],
   "source": [
    "# _"
   ]
  },
  {
   "cell_type": "code",
   "execution_count": 33,
   "id": "cg_XCvkexaDS",
   "metadata": {
    "id": "cg_XCvkexaDS",
    "outputId": "2f916126-cc13-424a-afbd-1eb33e19c95b",
    "tags": []
   },
   "outputs": [
    {
     "name": "stderr",
     "output_type": "stream",
     "text": [
      "100%|██████████| 5/5 [00:00<00:00,  9.76it/s]\n"
     ]
    }
   ],
   "source": [
    "feed_data_final_lp['event_year'] = feed_data_final_lp['event_date'].dt.year\n",
    "\n",
    "for col in tqdm(encoded_producer.columns):\n",
    "    feed_data_final_lp[f'weight_{col}'] = feed_data_final_lp['weight'] * feed_data_final_lp[col]\n",
    "\n",
    "weighted_producer_cols = ['weight_' + col for col in encoded_producer.columns]\n",
    "\n",
    "feed_data_final_lp_grouped = feed_data_final_lp.\\\n",
    "groupby(['final_locus_population_id','event_date'])[weighted_producer_cols].sum()"
   ]
  },
  {
   "cell_type": "code",
   "execution_count": 34,
   "id": "eJeSOJT8xaDS",
   "metadata": {
    "id": "eJeSOJT8xaDS",
    "tags": []
   },
   "outputs": [],
   "source": [
    "feed_data_final_lp_eight_last_weeks=feed_data_final_lp[feed_data_final_lp.event_date.between(feed_data_final_lp['eight_weeks_before_transfer'],feed_data_final_lp['transfer_date'])]\n",
    "# feed_data_final_lp_eight_last_weeks.to_csv('data\\\\feed_data_final_lp_eight_last_weeks.csv',index=False)\n",
    "feed_data_final_lp_vacc_transfer=feed_data_final_lp[feed_data_final_lp.event_date.between(feed_data_final_lp['VAC_EVENT_DATE'],feed_data_final_lp['transfer_date'])]\n",
    "# feed_data_final_lp_vacc_transfer.to_csv('data\\\\feed_data_final_lp_vaccination_transfer.csv',index=False)"
   ]
  },
  {
   "cell_type": "code",
   "execution_count": 35,
   "id": "Mza1gtIfxaDS",
   "metadata": {
    "id": "Mza1gtIfxaDS",
    "tags": []
   },
   "outputs": [],
   "source": [
    "# feed_data_final_lp[['locus_id', 'mrts_feed_id', 'event_date', 'amount',\n",
    "#        'locus_population_id', 'final_locus_population_id', 'weight', 'VAC_EVENT_DATE', 'transfer_date',\n",
    "#        'eight_weeks_before_transfer', 'BI', 'EU', 'EW', 'SK', 'ST']].to_csv('data\\\\feed_data_final_lp.csv',index=False)"
   ]
  },
  {
   "cell_type": "code",
   "execution_count": 36,
   "id": "acoONxPPxaDS",
   "metadata": {
    "id": "acoONxPPxaDS",
    "tags": []
   },
   "outputs": [],
   "source": [
    "feed_data_final_lp_grouped = feed_data_final_lp_grouped.reset_index()"
   ]
  },
  {
   "cell_type": "code",
   "execution_count": 37,
   "id": "2IRun8-MxaDY",
   "metadata": {
    "collapsed": true,
    "id": "2IRun8-MxaDY",
    "jupyter": {
     "outputs_hidden": true
    },
    "outputId": "649c7a64-5ac7-4ea0-d866-e2d322ddd3e9",
    "tags": []
   },
   "outputs": [],
   "source": [
    "# feed_data_final_lp_grouped[feed_data_final_lp_grouped['final_locus_population_id'] == 36770651][\n",
    "#     feed_data_final_lp_grouped['event_date'] == '2015-11-18']"
   ]
  },
  {
   "cell_type": "code",
   "execution_count": 38,
   "id": "6XV8R5roxaDY",
   "metadata": {
    "id": "6XV8R5roxaDY",
    "tags": []
   },
   "outputs": [],
   "source": [
    "#DE: changed filter columns on weighted_producer_cols\n",
    "feed_data_final_lp_grouped['weight_sum'] = feed_data_final_lp_grouped[weighted_producer_cols].sum(axis=1)"
   ]
  },
  {
   "cell_type": "code",
   "execution_count": 39,
   "id": "wtQvU_96xaDY",
   "metadata": {
    "id": "wtQvU_96xaDY",
    "tags": []
   },
   "outputs": [],
   "source": [
    "for col in weighted_producer_cols:\n",
    "    feed_data_final_lp_grouped[col] = feed_data_final_lp_grouped[col] / feed_data_final_lp_grouped['weight_sum']\n",
    "\n",
    "# feed_data_final_lp_grouped.drop('weight_sum', axis=1, inplace=True)"
   ]
  },
  {
   "cell_type": "code",
   "execution_count": 40,
   "id": "teHFfzlIxaDZ",
   "metadata": {
    "id": "teHFfzlIxaDZ",
    "tags": []
   },
   "outputs": [],
   "source": [
    "#if at least 50% of tanks were without feeding info\n",
    "feed_data_final_lp_grouped['low_feeding_flag']=np.zeros(len(feed_data_final_lp_grouped))\n",
    "feed_data_final_lp_grouped.loc[feed_data_final_lp_grouped['weight_sum']<0.5,'low_feeding_flag']=1\n",
    "#if have two records on feed with different mrts_feed_id in the same date\n",
    "feed_data_final_lp_grouped['double_feeding_flag']=np.zeros(len(feed_data_final_lp_grouped))\n",
    "feed_data_final_lp_grouped.loc[feed_data_final_lp_grouped['weight_sum']>1.5,'double_feeding_flag']=1\n",
    "\n",
    "feed_data_final_lp_grouped['low_feeding_flag']=feed_data_final_lp_grouped.low_feeding_flag.astype('int')\n",
    "feed_data_final_lp_grouped['double_feeding_flag']=feed_data_final_lp_grouped.double_feeding_flag.astype('int')"
   ]
  },
  {
   "cell_type": "code",
   "execution_count": 41,
   "id": "typxU4DkxaDZ",
   "metadata": {
    "collapsed": true,
    "id": "typxU4DkxaDZ",
    "jupyter": {
     "outputs_hidden": true
    },
    "outputId": "731e09c5-c6fb-4252-cc9b-c87d47eb60ba",
    "tags": []
   },
   "outputs": [],
   "source": [
    "# # feed_data_final_lp_grouped[feed_data_final_lp_grouped['final_locus_population_id']==36770651]\n",
    "# plt.plot(feed_data_final_lp_grouped[feed_data_final_lp_grouped['final_locus_population_id']==36770651].event_date,\n",
    "#          feed_data_final_lp_grouped[feed_data_final_lp_grouped['final_locus_population_id']==36770651].weight_sum)"
   ]
  },
  {
   "cell_type": "code",
   "execution_count": 42,
   "id": "O8PKpFyZxaDZ",
   "metadata": {
    "collapsed": true,
    "id": "O8PKpFyZxaDZ",
    "jupyter": {
     "outputs_hidden": true
    },
    "outputId": "3dd69964-5d80-4df7-ef36-57fd65b7ad52",
    "tags": []
   },
   "outputs": [],
   "source": [
    "# feed_data_final_lp_grouped[feed_data_final_lp_grouped['final_locus_population_id'] == 36770651][\n",
    "#     feed_data_final_lp_grouped['event_date'] == '2015-11-18']"
   ]
  },
  {
   "cell_type": "code",
   "execution_count": 43,
   "id": "YBUL65MaxaDa",
   "metadata": {
    "collapsed": true,
    "id": "YBUL65MaxaDa",
    "jupyter": {
     "outputs_hidden": true
    },
    "outputId": "e145dee8-05a3-4548-8dee-4da99a6b8ebf",
    "tags": []
   },
   "outputs": [],
   "source": [
    "# for col in weighted_producer_cols:\n",
    "#     sns.lineplot(data=feed_data_final_lp_grouped[feed_data_final_lp_grouped['final_locus_population_id'] == 36770651],\n",
    "#                  x='event_date',\n",
    "#                  y=col)\n",
    "\n",
    "# plt.legend(weighted_producer_cols)"
   ]
  },
  {
   "cell_type": "code",
   "execution_count": 44,
   "id": "4_FMP40lxaDa",
   "metadata": {
    "id": "4_FMP40lxaDa",
    "outputId": "da24a742-5ee4-40c0-9caf-0625570bb9c2",
    "tags": []
   },
   "outputs": [
    {
     "data": {
      "text/html": [
       "<div>\n",
       "<style scoped>\n",
       "    .dataframe tbody tr th:only-of-type {\n",
       "        vertical-align: middle;\n",
       "    }\n",
       "\n",
       "    .dataframe tbody tr th {\n",
       "        vertical-align: top;\n",
       "    }\n",
       "\n",
       "    .dataframe thead th {\n",
       "        text-align: right;\n",
       "    }\n",
       "</style>\n",
       "<table border=\"1\" class=\"dataframe\">\n",
       "  <thead>\n",
       "    <tr style=\"text-align: right;\">\n",
       "      <th></th>\n",
       "      <th>event_date</th>\n",
       "      <th>weight_BI</th>\n",
       "      <th>weight_EU</th>\n",
       "      <th>weight_EW</th>\n",
       "      <th>weight_SK</th>\n",
       "      <th>weight_ST</th>\n",
       "      <th>weight_sum</th>\n",
       "      <th>low_feeding_flag</th>\n",
       "      <th>double_feeding_flag</th>\n",
       "    </tr>\n",
       "    <tr>\n",
       "      <th>final_locus_population_id</th>\n",
       "      <th></th>\n",
       "      <th></th>\n",
       "      <th></th>\n",
       "      <th></th>\n",
       "      <th></th>\n",
       "      <th></th>\n",
       "      <th></th>\n",
       "      <th></th>\n",
       "      <th></th>\n",
       "    </tr>\n",
       "  </thead>\n",
       "  <tbody>\n",
       "    <tr>\n",
       "      <th>36770651</th>\n",
       "      <td>2016-03-08 13:20:43.049327360</td>\n",
       "      <td>1.000000</td>\n",
       "      <td>0.0</td>\n",
       "      <td>0.000000</td>\n",
       "      <td>0.000000</td>\n",
       "      <td>0.0</td>\n",
       "      <td>0.224215</td>\n",
       "      <td>0.802691</td>\n",
       "      <td>0.026906</td>\n",
       "    </tr>\n",
       "    <tr>\n",
       "      <th>36770663</th>\n",
       "      <td>2016-03-08 12:48:25.829596416</td>\n",
       "      <td>1.000000</td>\n",
       "      <td>0.0</td>\n",
       "      <td>0.000000</td>\n",
       "      <td>0.000000</td>\n",
       "      <td>0.0</td>\n",
       "      <td>0.197309</td>\n",
       "      <td>0.802691</td>\n",
       "      <td>0.000000</td>\n",
       "    </tr>\n",
       "    <tr>\n",
       "      <th>36770708</th>\n",
       "      <td>2016-03-12 13:20:41.379310336</td>\n",
       "      <td>1.000000</td>\n",
       "      <td>0.0</td>\n",
       "      <td>0.000000</td>\n",
       "      <td>0.000000</td>\n",
       "      <td>0.0</td>\n",
       "      <td>0.219828</td>\n",
       "      <td>0.788793</td>\n",
       "      <td>0.008621</td>\n",
       "    </tr>\n",
       "    <tr>\n",
       "      <th>36770798</th>\n",
       "      <td>2016-03-13 17:32:18.461538560</td>\n",
       "      <td>0.906250</td>\n",
       "      <td>0.0</td>\n",
       "      <td>0.093750</td>\n",
       "      <td>0.000000</td>\n",
       "      <td>0.0</td>\n",
       "      <td>0.243590</td>\n",
       "      <td>0.794872</td>\n",
       "      <td>0.038462</td>\n",
       "    </tr>\n",
       "    <tr>\n",
       "      <th>36770840</th>\n",
       "      <td>2016-03-14 09:17:37.021276672</td>\n",
       "      <td>0.914894</td>\n",
       "      <td>0.0</td>\n",
       "      <td>0.085106</td>\n",
       "      <td>0.000000</td>\n",
       "      <td>0.0</td>\n",
       "      <td>0.234043</td>\n",
       "      <td>0.800000</td>\n",
       "      <td>0.034043</td>\n",
       "    </tr>\n",
       "    <tr>\n",
       "      <th>...</th>\n",
       "      <td>...</td>\n",
       "      <td>...</td>\n",
       "      <td>...</td>\n",
       "      <td>...</td>\n",
       "      <td>...</td>\n",
       "      <td>...</td>\n",
       "      <td>...</td>\n",
       "      <td>...</td>\n",
       "      <td>...</td>\n",
       "    </tr>\n",
       "    <tr>\n",
       "      <th>194761270</th>\n",
       "      <td>2023-07-29 11:37:19.370078720</td>\n",
       "      <td>0.612903</td>\n",
       "      <td>0.0</td>\n",
       "      <td>0.000000</td>\n",
       "      <td>0.387097</td>\n",
       "      <td>0.0</td>\n",
       "      <td>0.248031</td>\n",
       "      <td>0.755906</td>\n",
       "      <td>0.003937</td>\n",
       "    </tr>\n",
       "    <tr>\n",
       "      <th>194761272</th>\n",
       "      <td>2023-07-30 00:00:00.000000000</td>\n",
       "      <td>1.000000</td>\n",
       "      <td>0.0</td>\n",
       "      <td>0.000000</td>\n",
       "      <td>0.000000</td>\n",
       "      <td>0.0</td>\n",
       "      <td>0.163424</td>\n",
       "      <td>0.836576</td>\n",
       "      <td>0.000000</td>\n",
       "    </tr>\n",
       "    <tr>\n",
       "      <th>194761274</th>\n",
       "      <td>2023-07-29 11:37:19.370078720</td>\n",
       "      <td>0.612903</td>\n",
       "      <td>0.0</td>\n",
       "      <td>0.000000</td>\n",
       "      <td>0.387097</td>\n",
       "      <td>0.0</td>\n",
       "      <td>0.248031</td>\n",
       "      <td>0.755906</td>\n",
       "      <td>0.003937</td>\n",
       "    </tr>\n",
       "    <tr>\n",
       "      <th>194761275</th>\n",
       "      <td>2023-07-29 11:37:19.370078720</td>\n",
       "      <td>0.612903</td>\n",
       "      <td>0.0</td>\n",
       "      <td>0.000000</td>\n",
       "      <td>0.387097</td>\n",
       "      <td>0.0</td>\n",
       "      <td>0.248031</td>\n",
       "      <td>0.755906</td>\n",
       "      <td>0.003937</td>\n",
       "    </tr>\n",
       "    <tr>\n",
       "      <th>194761283</th>\n",
       "      <td>2023-07-29 11:37:19.370078720</td>\n",
       "      <td>0.612903</td>\n",
       "      <td>0.0</td>\n",
       "      <td>0.000000</td>\n",
       "      <td>0.387097</td>\n",
       "      <td>0.0</td>\n",
       "      <td>0.248031</td>\n",
       "      <td>0.755906</td>\n",
       "      <td>0.003937</td>\n",
       "    </tr>\n",
       "  </tbody>\n",
       "</table>\n",
       "<p>4512 rows × 9 columns</p>\n",
       "</div>"
      ],
      "text/plain": [
       "                                             event_date  weight_BI  weight_EU  \\\n",
       "final_locus_population_id                                                       \n",
       "36770651                  2016-03-08 13:20:43.049327360   1.000000        0.0   \n",
       "36770663                  2016-03-08 12:48:25.829596416   1.000000        0.0   \n",
       "36770708                  2016-03-12 13:20:41.379310336   1.000000        0.0   \n",
       "36770798                  2016-03-13 17:32:18.461538560   0.906250        0.0   \n",
       "36770840                  2016-03-14 09:17:37.021276672   0.914894        0.0   \n",
       "...                                                 ...        ...        ...   \n",
       "194761270                 2023-07-29 11:37:19.370078720   0.612903        0.0   \n",
       "194761272                 2023-07-30 00:00:00.000000000   1.000000        0.0   \n",
       "194761274                 2023-07-29 11:37:19.370078720   0.612903        0.0   \n",
       "194761275                 2023-07-29 11:37:19.370078720   0.612903        0.0   \n",
       "194761283                 2023-07-29 11:37:19.370078720   0.612903        0.0   \n",
       "\n",
       "                           weight_EW  weight_SK  weight_ST  weight_sum  \\\n",
       "final_locus_population_id                                                \n",
       "36770651                    0.000000   0.000000        0.0    0.224215   \n",
       "36770663                    0.000000   0.000000        0.0    0.197309   \n",
       "36770708                    0.000000   0.000000        0.0    0.219828   \n",
       "36770798                    0.093750   0.000000        0.0    0.243590   \n",
       "36770840                    0.085106   0.000000        0.0    0.234043   \n",
       "...                              ...        ...        ...         ...   \n",
       "194761270                   0.000000   0.387097        0.0    0.248031   \n",
       "194761272                   0.000000   0.000000        0.0    0.163424   \n",
       "194761274                   0.000000   0.387097        0.0    0.248031   \n",
       "194761275                   0.000000   0.387097        0.0    0.248031   \n",
       "194761283                   0.000000   0.387097        0.0    0.248031   \n",
       "\n",
       "                           low_feeding_flag  double_feeding_flag  \n",
       "final_locus_population_id                                         \n",
       "36770651                           0.802691             0.026906  \n",
       "36770663                           0.802691             0.000000  \n",
       "36770708                           0.788793             0.008621  \n",
       "36770798                           0.794872             0.038462  \n",
       "36770840                           0.800000             0.034043  \n",
       "...                                     ...                  ...  \n",
       "194761270                          0.755906             0.003937  \n",
       "194761272                          0.836576             0.000000  \n",
       "194761274                          0.755906             0.003937  \n",
       "194761275                          0.755906             0.003937  \n",
       "194761283                          0.755906             0.003937  \n",
       "\n",
       "[4512 rows x 9 columns]"
      ]
     },
     "execution_count": 44,
     "metadata": {},
     "output_type": "execute_result"
    }
   ],
   "source": [
    "feed_producer_final_lp = feed_data_final_lp_grouped.groupby('final_locus_population_id').mean()\n",
    "feed_producer_final_lp"
   ]
  },
  {
   "cell_type": "code",
   "execution_count": 45,
   "id": "NkhEwysDxaDa",
   "metadata": {
    "id": "NkhEwysDxaDa",
    "tags": []
   },
   "outputs": [],
   "source": [
    "feed_producer_final_lp.to_csv('../data\\\\feed_producer_final_lp_ALL_DATES.csv')"
   ]
  },
  {
   "cell_type": "code",
   "execution_count": null,
   "id": "43186a52-e8f2-431d-9b5d-704395de6b6d",
   "metadata": {},
   "outputs": [],
   "source": [
    "feed_producer_final_lp = pd.read_c"
   ]
  },
  {
   "cell_type": "markdown",
   "id": "heirrOR9xaDa",
   "metadata": {
    "id": "heirrOR9xaDa"
   },
   "source": [
    "### To locus_id level"
   ]
  },
  {
   "cell_type": "code",
   "execution_count": 49,
   "id": "ETKvReC4xaDb",
   "metadata": {
    "id": "ETKvReC4xaDb",
    "scrolled": true,
    "tags": []
   },
   "outputs": [],
   "source": [
    "key_columns = ['locus_id','fish_group_id','transfer_year']\n",
    "\n",
    "mortality_cols = ['locus_id',\n",
    "                  'fish_group_id',\n",
    "                  'transfer_year',\n",
    "                  'transfer_month',\n",
    "                  'transfer_month_year',\n",
    "                  'transfer_season',\n",
    "                  'transfer_season2',\n",
    "                  'total_count',\n",
    "                  'total_mortality_perc_90']\n",
    "\n",
    "sw_cols = ['to_locus_id',\n",
    "           'to_fish_group_id',\n",
    "           'transfer_date',\n",
    "           'from_locus_population_id',\n",
    "           'from_count_stocking',\n",
    "           'transfer_year']\n",
    "\n",
    "mortality_final_locus = mortality[mortality_cols].merge(\n",
    "    sw_fw_matching_with_cnt[sw_cols],\n",
    "    left_on=['fish_group_id', 'locus_id','transfer_year'],\n",
    "    right_on=['to_fish_group_id', 'to_locus_id','transfer_year'],\n",
    "    how='left'\n",
    ")\n",
    "\n",
    "\n",
    "mortality_final_locus['from_locus_population_id'] = mortality_final_locus['from_locus_population_id'].fillna(0).astype('int32')"
   ]
  },
  {
   "cell_type": "code",
   "execution_count": 59,
   "id": "i3vu-DZsxaDb",
   "metadata": {
    "id": "i3vu-DZsxaDb",
    "outputId": "c423ef74-2680-4a70-bfa8-34d545f67d06",
    "tags": []
   },
   "outputs": [],
   "source": [
    "factors = factors.drop(['event_date'])"
   ]
  },
  {
   "cell_type": "code",
   "execution_count": 60,
   "id": "9b44ea58-90b3-4104-b98d-1600e698f21e",
   "metadata": {
    "tags": []
   },
   "outputs": [
    {
     "data": {
      "text/plain": [
       "Index(['double_feeding_flag', 'fish_group_id_x', 'fish_group_id_y',\n",
       "       'from_count_stocking_x', 'from_count_stocking_y',\n",
       "       'from_locus_population_id_x', 'from_locus_population_id_y',\n",
       "       'locus_id_x', 'locus_id_y', 'low_feeding_flag', 'transfer_year_x',\n",
       "       'transfer_year_y', 'weight_BI', 'weight_EU', 'weight_EW', 'weight_SK',\n",
       "       'weight_ST', 'weight_sum'],\n",
       "      dtype='object')"
      ]
     },
     "execution_count": 60,
     "metadata": {},
     "output_type": "execute_result"
    }
   ],
   "source": [
    "factors"
   ]
  },
  {
   "cell_type": "code",
   "execution_count": 57,
   "id": "3b864590-035a-4a03-9962-c4ab79a1a118",
   "metadata": {
    "tags": []
   },
   "outputs": [],
   "source": [
    "key_columns.append('event_date')"
   ]
  },
  {
   "cell_type": "code",
   "execution_count": 58,
   "id": "2cc3c195-10c7-4d0c-997b-9140c1e5c263",
   "metadata": {
    "tags": []
   },
   "outputs": [
    {
     "data": {
      "text/plain": [
       "['locus_id', 'fish_group_id', 'transfer_year', 'event_date']"
      ]
     },
     "execution_count": 58,
     "metadata": {},
     "output_type": "execute_result"
    }
   ],
   "source": [
    "key_columns"
   ]
  },
  {
   "cell_type": "code",
   "execution_count": 55,
   "id": "fsHICok4xaDb",
   "metadata": {
    "id": "fsHICok4xaDb",
    "outputId": "ce8d8498-cf94-49f2-e313-b6a1ff53e0b9",
    "tags": []
   },
   "outputs": [
    {
     "name": "stdout",
     "output_type": "stream",
     "text": [
      "Weighting factors\n"
     ]
    },
    {
     "name": "stderr",
     "output_type": "stream",
     "text": [
      "  0%|          | 0/19 [00:00<?, ?it/s]\n"
     ]
    },
    {
     "ename": "KeyError",
     "evalue": "'locus_id'",
     "output_type": "error",
     "traceback": [
      "\u001b[1;31m---------------------------------------------------------------------------\u001b[0m",
      "\u001b[1;31mKeyError\u001b[0m                                  Traceback (most recent call last)",
      "Input \u001b[1;32mIn [55]\u001b[0m, in \u001b[0;36m<cell line: 11>\u001b[1;34m()\u001b[0m\n\u001b[0;32m      1\u001b[0m feed_producer_final_lp \u001b[38;5;241m=\u001b[39m feed_producer_final_lp\u001b[38;5;241m.\u001b[39mmerge(\n\u001b[0;32m      2\u001b[0m     mortality_final_locus[[\u001b[38;5;124m'\u001b[39m\u001b[38;5;124mfrom_locus_population_id\u001b[39m\u001b[38;5;124m'\u001b[39m, \u001b[38;5;124m'\u001b[39m\u001b[38;5;124mlocus_id\u001b[39m\u001b[38;5;124m'\u001b[39m,\u001b[38;5;124m'\u001b[39m\u001b[38;5;124mfish_group_id\u001b[39m\u001b[38;5;124m'\u001b[39m, \u001b[38;5;124m'\u001b[39m\u001b[38;5;124mtransfer_year\u001b[39m\u001b[38;5;124m'\u001b[39m, \u001b[38;5;124m'\u001b[39m\u001b[38;5;124mfrom_count_stocking\u001b[39m\u001b[38;5;124m'\u001b[39m]],\n\u001b[0;32m      3\u001b[0m     left_index\u001b[38;5;241m=\u001b[39m\u001b[38;5;28;01mTrue\u001b[39;00m,\n\u001b[0;32m      4\u001b[0m     right_on\u001b[38;5;241m=\u001b[39m[\u001b[38;5;124m'\u001b[39m\u001b[38;5;124mfrom_locus_population_id\u001b[39m\u001b[38;5;124m'\u001b[39m,],\n\u001b[0;32m      5\u001b[0m     how\u001b[38;5;241m=\u001b[39m\u001b[38;5;124m'\u001b[39m\u001b[38;5;124mright\u001b[39m\u001b[38;5;124m'\u001b[39m)\n\u001b[0;32m      7\u001b[0m factors \u001b[38;5;241m=\u001b[39m feed_producer_final_lp\u001b[38;5;241m.\u001b[39mcolumns\u001b[38;5;241m.\u001b[39mdifference(\n\u001b[0;32m      8\u001b[0m     [\u001b[38;5;124m'\u001b[39m\u001b[38;5;124mfrom_locus_population_id\u001b[39m\u001b[38;5;124m'\u001b[39m, \u001b[38;5;124m'\u001b[39m\u001b[38;5;124mlocus_id\u001b[39m\u001b[38;5;124m'\u001b[39m, \u001b[38;5;124m'\u001b[39m\u001b[38;5;124mfish_group_id\u001b[39m\u001b[38;5;124m'\u001b[39m, \u001b[38;5;124m'\u001b[39m\u001b[38;5;124mtransfer_year\u001b[39m\u001b[38;5;124m'\u001b[39m, \u001b[38;5;124m'\u001b[39m\u001b[38;5;124mfrom_count_stocking\u001b[39m\u001b[38;5;124m'\u001b[39m]\n\u001b[0;32m      9\u001b[0m )\n\u001b[1;32m---> 11\u001b[0m feed_producer \u001b[38;5;241m=\u001b[39m \u001b[43mcreate_factors_df\u001b[49m\u001b[43m(\u001b[49m\u001b[43mfeed_producer_final_lp\u001b[49m\u001b[43m,\u001b[49m\n\u001b[0;32m     12\u001b[0m \u001b[43m                                     \u001b[49m\u001b[43mfactors\u001b[49m\u001b[43m,\u001b[49m\n\u001b[0;32m     13\u001b[0m \u001b[43m                                     \u001b[49m\u001b[43mkey_columns\u001b[49m\u001b[43m,\u001b[49m\n\u001b[0;32m     14\u001b[0m \u001b[43m                                     \u001b[49m\u001b[43mweight_column\u001b[49m\u001b[38;5;241;43m=\u001b[39;49m\u001b[38;5;124;43m'\u001b[39;49m\u001b[38;5;124;43mfrom_count_stocking\u001b[39;49m\u001b[38;5;124;43m'\u001b[39;49m\u001b[43m,\u001b[49m\n\u001b[0;32m     15\u001b[0m \u001b[43m                                     \u001b[49m\u001b[43mweighted_func\u001b[49m\u001b[38;5;241;43m=\u001b[39;49m\u001b[43mweighted_avg\u001b[49m\u001b[43m)\u001b[49m\n\u001b[0;32m     16\u001b[0m feed_producer \u001b[38;5;241m=\u001b[39m feed_producer\u001b[38;5;241m.\u001b[39mmerge(\n\u001b[0;32m     17\u001b[0m     pd\u001b[38;5;241m.\u001b[39mDataFrame(mortality_final_locus\u001b[38;5;241m.\u001b[39mgroupby(key_columns)[\u001b[38;5;124m'\u001b[39m\u001b[38;5;124mtotal_mortality_perc_90\u001b[39m\u001b[38;5;124m'\u001b[39m]\u001b[38;5;241m.\u001b[39mmean()),\n\u001b[0;32m     18\u001b[0m     on\u001b[38;5;241m=\u001b[39mkey_columns,\n\u001b[0;32m     19\u001b[0m     how\u001b[38;5;241m=\u001b[39m\u001b[38;5;124m'\u001b[39m\u001b[38;5;124minner\u001b[39m\u001b[38;5;124m'\u001b[39m)\n\u001b[0;32m     21\u001b[0m \u001b[38;5;66;03m#feed_producer = feed_producer.merge(\u001b[39;00m\n\u001b[0;32m     22\u001b[0m \u001b[38;5;66;03m#    pd.DataFrame(tgc.groupby(key_columns)['TGC_SW'].mean()),\u001b[39;00m\n\u001b[0;32m     23\u001b[0m \u001b[38;5;66;03m#    on=key_columns,\u001b[39;00m\n\u001b[0;32m     24\u001b[0m \u001b[38;5;66;03m#    how='inner'\u001b[39;00m\n\u001b[0;32m     25\u001b[0m \u001b[38;5;66;03m#)\u001b[39;00m\n",
      "Input \u001b[1;32mIn [4]\u001b[0m, in \u001b[0;36mcreate_factors_df\u001b[1;34m(agg_ph_df, factors, key_columns, weight_column, weighted_func)\u001b[0m\n\u001b[0;32m     63\u001b[0m \u001b[38;5;28mprint\u001b[39m(\u001b[38;5;124m'\u001b[39m\u001b[38;5;124mWeighting factors\u001b[39m\u001b[38;5;124m'\u001b[39m)\n\u001b[0;32m     64\u001b[0m \u001b[38;5;28;01mfor\u001b[39;00m factor \u001b[38;5;129;01min\u001b[39;00m tqdm(factors):\n\u001b[1;32m---> 65\u001b[0m     tmp \u001b[38;5;241m=\u001b[39m \u001b[43magg_ph_df\u001b[49m\u001b[38;5;241;43m.\u001b[39;49m\u001b[43mgroupby\u001b[49m\u001b[43m(\u001b[49m\u001b[43mkey_columns\u001b[49m\u001b[43m)\u001b[49m\\\n\u001b[0;32m     66\u001b[0m     \u001b[38;5;241m.\u001b[39mapply(weighted_func, weight_column, factor)\u001b[38;5;241m.\u001b[39mreset_index()\u001b[38;5;241m.\u001b[39mrename(columns\u001b[38;5;241m=\u001b[39m{\u001b[38;5;241m0\u001b[39m: factor})\n\u001b[0;32m     67\u001b[0m     factors_dfs\u001b[38;5;241m.\u001b[39mappend(tmp)\n\u001b[0;32m     69\u001b[0m factor_df \u001b[38;5;241m=\u001b[39m factors_dfs[\u001b[38;5;241m0\u001b[39m]\n",
      "File \u001b[1;32mC:\\Python\\Anaconda\\envs\\ecto\\lib\\site-packages\\pandas\\core\\frame.py:8252\u001b[0m, in \u001b[0;36mDataFrame.groupby\u001b[1;34m(self, by, axis, level, as_index, sort, group_keys, observed, dropna)\u001b[0m\n\u001b[0;32m   8249\u001b[0m     \u001b[38;5;28;01mraise\u001b[39;00m \u001b[38;5;167;01mTypeError\u001b[39;00m(\u001b[38;5;124m\"\u001b[39m\u001b[38;5;124mYou have to supply one of \u001b[39m\u001b[38;5;124m'\u001b[39m\u001b[38;5;124mby\u001b[39m\u001b[38;5;124m'\u001b[39m\u001b[38;5;124m and \u001b[39m\u001b[38;5;124m'\u001b[39m\u001b[38;5;124mlevel\u001b[39m\u001b[38;5;124m'\u001b[39m\u001b[38;5;124m\"\u001b[39m)\n\u001b[0;32m   8250\u001b[0m axis \u001b[38;5;241m=\u001b[39m \u001b[38;5;28mself\u001b[39m\u001b[38;5;241m.\u001b[39m_get_axis_number(axis)\n\u001b[1;32m-> 8252\u001b[0m \u001b[38;5;28;01mreturn\u001b[39;00m \u001b[43mDataFrameGroupBy\u001b[49m\u001b[43m(\u001b[49m\n\u001b[0;32m   8253\u001b[0m \u001b[43m    \u001b[49m\u001b[43mobj\u001b[49m\u001b[38;5;241;43m=\u001b[39;49m\u001b[38;5;28;43mself\u001b[39;49m\u001b[43m,\u001b[49m\n\u001b[0;32m   8254\u001b[0m \u001b[43m    \u001b[49m\u001b[43mkeys\u001b[49m\u001b[38;5;241;43m=\u001b[39;49m\u001b[43mby\u001b[49m\u001b[43m,\u001b[49m\n\u001b[0;32m   8255\u001b[0m \u001b[43m    \u001b[49m\u001b[43maxis\u001b[49m\u001b[38;5;241;43m=\u001b[39;49m\u001b[43maxis\u001b[49m\u001b[43m,\u001b[49m\n\u001b[0;32m   8256\u001b[0m \u001b[43m    \u001b[49m\u001b[43mlevel\u001b[49m\u001b[38;5;241;43m=\u001b[39;49m\u001b[43mlevel\u001b[49m\u001b[43m,\u001b[49m\n\u001b[0;32m   8257\u001b[0m \u001b[43m    \u001b[49m\u001b[43mas_index\u001b[49m\u001b[38;5;241;43m=\u001b[39;49m\u001b[43mas_index\u001b[49m\u001b[43m,\u001b[49m\n\u001b[0;32m   8258\u001b[0m \u001b[43m    \u001b[49m\u001b[43msort\u001b[49m\u001b[38;5;241;43m=\u001b[39;49m\u001b[43msort\u001b[49m\u001b[43m,\u001b[49m\n\u001b[0;32m   8259\u001b[0m \u001b[43m    \u001b[49m\u001b[43mgroup_keys\u001b[49m\u001b[38;5;241;43m=\u001b[39;49m\u001b[43mgroup_keys\u001b[49m\u001b[43m,\u001b[49m\n\u001b[0;32m   8260\u001b[0m \u001b[43m    \u001b[49m\u001b[43mobserved\u001b[49m\u001b[38;5;241;43m=\u001b[39;49m\u001b[43mobserved\u001b[49m\u001b[43m,\u001b[49m\n\u001b[0;32m   8261\u001b[0m \u001b[43m    \u001b[49m\u001b[43mdropna\u001b[49m\u001b[38;5;241;43m=\u001b[39;49m\u001b[43mdropna\u001b[49m\u001b[43m,\u001b[49m\n\u001b[0;32m   8262\u001b[0m \u001b[43m\u001b[49m\u001b[43m)\u001b[49m\n",
      "File \u001b[1;32mC:\\Python\\Anaconda\\envs\\ecto\\lib\\site-packages\\pandas\\core\\groupby\\groupby.py:931\u001b[0m, in \u001b[0;36mGroupBy.__init__\u001b[1;34m(self, obj, keys, axis, level, grouper, exclusions, selection, as_index, sort, group_keys, observed, dropna)\u001b[0m\n\u001b[0;32m    928\u001b[0m \u001b[38;5;28mself\u001b[39m\u001b[38;5;241m.\u001b[39mdropna \u001b[38;5;241m=\u001b[39m dropna\n\u001b[0;32m    930\u001b[0m \u001b[38;5;28;01mif\u001b[39;00m grouper \u001b[38;5;129;01mis\u001b[39;00m \u001b[38;5;28;01mNone\u001b[39;00m:\n\u001b[1;32m--> 931\u001b[0m     grouper, exclusions, obj \u001b[38;5;241m=\u001b[39m \u001b[43mget_grouper\u001b[49m\u001b[43m(\u001b[49m\n\u001b[0;32m    932\u001b[0m \u001b[43m        \u001b[49m\u001b[43mobj\u001b[49m\u001b[43m,\u001b[49m\n\u001b[0;32m    933\u001b[0m \u001b[43m        \u001b[49m\u001b[43mkeys\u001b[49m\u001b[43m,\u001b[49m\n\u001b[0;32m    934\u001b[0m \u001b[43m        \u001b[49m\u001b[43maxis\u001b[49m\u001b[38;5;241;43m=\u001b[39;49m\u001b[43maxis\u001b[49m\u001b[43m,\u001b[49m\n\u001b[0;32m    935\u001b[0m \u001b[43m        \u001b[49m\u001b[43mlevel\u001b[49m\u001b[38;5;241;43m=\u001b[39;49m\u001b[43mlevel\u001b[49m\u001b[43m,\u001b[49m\n\u001b[0;32m    936\u001b[0m \u001b[43m        \u001b[49m\u001b[43msort\u001b[49m\u001b[38;5;241;43m=\u001b[39;49m\u001b[43msort\u001b[49m\u001b[43m,\u001b[49m\n\u001b[0;32m    937\u001b[0m \u001b[43m        \u001b[49m\u001b[43mobserved\u001b[49m\u001b[38;5;241;43m=\u001b[39;49m\u001b[43mobserved\u001b[49m\u001b[43m,\u001b[49m\n\u001b[0;32m    938\u001b[0m \u001b[43m        \u001b[49m\u001b[43mdropna\u001b[49m\u001b[38;5;241;43m=\u001b[39;49m\u001b[38;5;28;43mself\u001b[39;49m\u001b[38;5;241;43m.\u001b[39;49m\u001b[43mdropna\u001b[49m\u001b[43m,\u001b[49m\n\u001b[0;32m    939\u001b[0m \u001b[43m    \u001b[49m\u001b[43m)\u001b[49m\n\u001b[0;32m    941\u001b[0m \u001b[38;5;28mself\u001b[39m\u001b[38;5;241m.\u001b[39mobj \u001b[38;5;241m=\u001b[39m obj\n\u001b[0;32m    942\u001b[0m \u001b[38;5;28mself\u001b[39m\u001b[38;5;241m.\u001b[39maxis \u001b[38;5;241m=\u001b[39m obj\u001b[38;5;241m.\u001b[39m_get_axis_number(axis)\n",
      "File \u001b[1;32mC:\\Python\\Anaconda\\envs\\ecto\\lib\\site-packages\\pandas\\core\\groupby\\grouper.py:985\u001b[0m, in \u001b[0;36mget_grouper\u001b[1;34m(obj, key, axis, level, sort, observed, validate, dropna)\u001b[0m\n\u001b[0;32m    983\u001b[0m         in_axis, level, gpr \u001b[38;5;241m=\u001b[39m \u001b[38;5;28;01mFalse\u001b[39;00m, gpr, \u001b[38;5;28;01mNone\u001b[39;00m\n\u001b[0;32m    984\u001b[0m     \u001b[38;5;28;01melse\u001b[39;00m:\n\u001b[1;32m--> 985\u001b[0m         \u001b[38;5;28;01mraise\u001b[39;00m \u001b[38;5;167;01mKeyError\u001b[39;00m(gpr)\n\u001b[0;32m    986\u001b[0m \u001b[38;5;28;01melif\u001b[39;00m \u001b[38;5;28misinstance\u001b[39m(gpr, Grouper) \u001b[38;5;129;01mand\u001b[39;00m gpr\u001b[38;5;241m.\u001b[39mkey \u001b[38;5;129;01mis\u001b[39;00m \u001b[38;5;129;01mnot\u001b[39;00m \u001b[38;5;28;01mNone\u001b[39;00m:\n\u001b[0;32m    987\u001b[0m     \u001b[38;5;66;03m# Add key to exclusions\u001b[39;00m\n\u001b[0;32m    988\u001b[0m     exclusions\u001b[38;5;241m.\u001b[39madd(gpr\u001b[38;5;241m.\u001b[39mkey)\n",
      "\u001b[1;31mKeyError\u001b[0m: 'locus_id'"
     ]
    }
   ],
   "source": [
    "feed_producer_final_lp = feed_producer_final_lp.merge(\n",
    "    mortality_final_locus[['from_locus_population_id', 'locus_id','fish_group_id', 'transfer_year', 'from_count_stocking']],\n",
    "    left_index=True,\n",
    "    right_on=['from_locus_population_id',],\n",
    "    how='right')\n",
    "\n",
    "factors = feed_producer_final_lp.columns.difference(\n",
    "    ['from_locus_population_id', 'locus_id', 'fish_group_id', 'transfer_year', 'from_count_stocking']\n",
    ")\n",
    "\n",
    "feed_producer = create_factors_df(feed_producer_final_lp,\n",
    "                                     factors,\n",
    "                                     key_columns,\n",
    "                                     weight_column='from_count_stocking',\n",
    "                                     weighted_func=weighted_avg)\n",
    "feed_producer = feed_producer.merge(\n",
    "    pd.DataFrame(mortality_final_locus.groupby(key_columns)['total_mortality_perc_90'].mean()),\n",
    "    on=key_columns,\n",
    "    how='inner')\n",
    "\n",
    "#feed_producer = feed_producer.merge(\n",
    "#    pd.DataFrame(tgc.groupby(key_columns)['TGC_SW'].mean()),\n",
    "#    on=key_columns,\n",
    "#    how='inner'\n",
    "#)\n"
   ]
  },
  {
   "cell_type": "code",
   "execution_count": null,
   "id": "f6e89c07-c00a-447c-a939-fba03fc9c9ca",
   "metadata": {},
   "outputs": [],
   "source": [
    "feed_producer"
   ]
  },
  {
   "cell_type": "code",
   "execution_count": null,
   "id": "78ccd165-c7f4-4d31-b038-bf4107a5f6c5",
   "metadata": {},
   "outputs": [],
   "source": [
    "\n",
    "feed_producer.rename(columns={'total_mortality_perc_90': 'mortality'}, inplace=True)\n",
    "sgr_factors.to_csv(f'../data/factors_{main_factor.lower()}.csv', index=False)"
   ]
  },
  {
   "cell_type": "code",
   "execution_count": null,
   "id": "9eOILPozxaDc",
   "metadata": {
    "id": "9eOILPozxaDc"
   },
   "outputs": [],
   "source": [
    "feed_producer.dropna(inplace=True)"
   ]
  },
  {
   "cell_type": "code",
   "execution_count": null,
   "id": "JjN4qjSLxaDc",
   "metadata": {
    "id": "JjN4qjSLxaDc",
    "outputId": "1c560ad6-98ee-4ab8-f2b4-99f383eac5f1"
   },
   "outputs": [
    {
     "data": {
      "text/html": [
       "<div>\n",
       "<style scoped>\n",
       "    .dataframe tbody tr th:only-of-type {\n",
       "        vertical-align: middle;\n",
       "    }\n",
       "\n",
       "    .dataframe tbody tr th {\n",
       "        vertical-align: top;\n",
       "    }\n",
       "\n",
       "    .dataframe thead th {\n",
       "        text-align: right;\n",
       "    }\n",
       "</style>\n",
       "<table border=\"1\" class=\"dataframe\">\n",
       "  <thead>\n",
       "    <tr style=\"text-align: right;\">\n",
       "      <th></th>\n",
       "      <th>locus_id</th>\n",
       "      <th>fish_group_id</th>\n",
       "      <th>transfer_year</th>\n",
       "      <th>weight_BI</th>\n",
       "      <th>weight_EW</th>\n",
       "      <th>weight_SK</th>\n",
       "      <th>mortality</th>\n",
       "      <th>TGC_SW</th>\n",
       "    </tr>\n",
       "  </thead>\n",
       "  <tbody>\n",
       "  </tbody>\n",
       "</table>\n",
       "</div>"
      ],
      "text/plain": [
       "Empty DataFrame\n",
       "Columns: [locus_id, fish_group_id, transfer_year, weight_BI, weight_EW, weight_SK, mortality, TGC_SW]\n",
       "Index: []"
      ]
     },
     "execution_count": 76,
     "metadata": {},
     "output_type": "execute_result"
    }
   ],
   "source": [
    "feed_producer"
   ]
  },
  {
   "cell_type": "code",
   "execution_count": null,
   "id": "RL0_-uLBxaDc",
   "metadata": {
    "id": "RL0_-uLBxaDc"
   },
   "outputs": [],
   "source": [
    "feed_producer['highest_type'] = feed_producer[weighted_producer_cols].idxmax(axis=1)\n",
    "feed_producer['highest_type'] = feed_producer['highest_type'].apply(lambda x: x.split('_')[-1])"
   ]
  },
  {
   "cell_type": "code",
   "execution_count": null,
   "id": "0bMFMFtxxaDd",
   "metadata": {
    "id": "0bMFMFtxxaDd",
    "outputId": "2628f226-a802-4225-b4e0-87bd65c22e20"
   },
   "outputs": [
    {
     "data": {
      "text/plain": [
       "<AxesSubplot:xlabel='highest_type', ylabel='mortality'>"
      ]
     },
     "execution_count": 149,
     "metadata": {},
     "output_type": "execute_result"
    },
    {
     "data": {
      "image/png": "[encoded data removed]",
      "text/plain": [
       "<Figure size 1080x360 with 1 Axes>"
      ]
     },
     "metadata": {
      "needs_background": "light"
     },
     "output_type": "display_data"
    }
   ],
   "source": [
    "sns.boxplot(data=feed_producer, x='highest_type', y='mortality')"
   ]
  },
  {
   "cell_type": "code",
   "execution_count": null,
   "id": "oXPvXn6OxaDd",
   "metadata": {
    "id": "oXPvXn6OxaDd"
   },
   "outputs": [],
   "source": []
  }
 ],
 "metadata": {
  "colab": {
   "provenance": []
  },
  "kernelspec": {
   "display_name": "Python 3 (ipykernel)",
   "language": "python",
   "name": "python3"
  },
  "language_info": {
   "codemirror_mode": {
    "name": "ipython",
    "version": 3
   },
   "file_extension": ".py",
   "mimetype": "text/x-python",
   "name": "python",
   "nbconvert_exporter": "python",
   "pygments_lexer": "ipython3",
   "version": "3.9.7"
  }
 },
 "nbformat": 4,
 "nbformat_minor": 5
}
