{
 "cells": [
  {
   "cell_type": "code",
   "execution_count": 67,
   "id": "668c6253",
   "metadata": {
    "tags": []
   },
   "outputs": [],
   "source": [
    "import datetime\n",
    "from pathlib import Path\n",
    "from typing import Dict, List, Union\n",
    "\n",
    "import matplotlib.dates as mdates\n",
    "import matplotlib.pyplot as plt\n",
    "import matplotlib.pylab as pylab\n",
    "import matplotlib.ticker as ticker\n",
    "from matplotlib.patches import Patch\n",
    "import numpy as np\n",
    "import pandas as pd\n",
    "import seaborn as sns\n",
    "from tqdm import tqdm\n",
    "\n",
    "%matplotlib inline\n",
    "pd.options.mode.chained_assignment = None  # default='warn'\n",
    "plt.rcParams.update({'figure.max_open_warning': 0})\n",
    "PARAMS = {'legend.fontsize': 'xx-large',\n",
    "          'legend.title_fontsize': 'x-large',\n",
    "          'figure.figsize': (15, 5),\n",
    "         'axes.labelsize': 'x-large',\n",
    "         'axes.titlesize':'x-large',\n",
    "         'xtick.labelsize':'x-large',\n",
    "         'ytick.labelsize':'x-large'}\n",
    "pylab.rcParams.update(PARAMS)\n",
    "\n",
    "TIME_FORMAT = '%Y-%m-%d'\n",
    "INT_TYPE = 'int32'"
   ]
  },
  {
   "cell_type": "code",
   "execution_count": 68,
   "id": "a497ad18",
   "metadata": {
    "tags": []
   },
   "outputs": [],
   "source": [
    "def weighted_avg(x, weight, factor):\n",
    "    with warnings.catch_warnings():\n",
    "        warnings.simplefilter('ignore')\n",
    "        tmp = x[[weight, factor]].dropna()\n",
    "        weighted_sum = (tmp[weight] * tmp[factor]).sum()\n",
    "        count_sum = tmp[weight].sum()\n",
    "        return weighted_sum / count_sum\n",
    "\n",
    "def load_data(locus_weights_path: Union[str, Path],\n",
    "              temperature_path: Union[str, Path],\n",
    "              locus_group_matching_path: Union[str, Path],\n",
    "              fresh_water_dates_path: Union[str, Path],\n",
    "              sw_fw_matching_path: Union[str, Path],\n",
    "              sw_fw_matching_path_with_cnt: Union[str, Path],\n",
    "              final_locus_weighted_path: Union[str, Path],\n",
    "              mortality_path: Union[str, Path]) -> Dict[str, pd.DataFrame]:\n",
    "    \n",
    "    locus_weights = pd.read_csv(locus_weights_path)\n",
    "    locus_weights.starttime = pd.to_datetime(locus_weights.starttime, format=TIME_FORMAT)\n",
    "    locus_weights.endtime = pd.to_datetime(locus_weights.endtime, format=TIME_FORMAT)\n",
    "    \n",
    "    temperature = pd.read_csv(temperature_path)\n",
    "#     temperature.event_date = pd.to_datetime(temperature.event_date, format=TIME_FORMAT)\n",
    "#     temperature.locus_group_id=temperature.locus_group_id.astype(INT_TYPE)\n",
    "#     temperature['event_year'] = temperature['event_date'].dt.year\n",
    "\n",
    "    locus_group_matching = pd.read_csv(locus_group_matching_path)\n",
    "    locus_group_matching = locus_group_matching.astype(INT_TYPE)\n",
    "\n",
    "    fresh_water_dates = pd.read_csv(fresh_water_dates_path)\n",
    "    for d in ['first_movement_date', 'first_feeding_date', 'shipout_date']:\n",
    "        fresh_water_dates[d] = pd.to_datetime(fresh_water_dates[d], format=TIME_FORMAT)\n",
    "\n",
    "    sw_fw_matching = pd.read_csv(sw_fw_matching_path)\n",
    "    sw_fw_matching_with_cnt = pd.read_csv(sw_fw_matching_path_with_cnt)\n",
    "\n",
    "    sw_fw_cols = ['target_seawater_locus_id',\n",
    "                  'transport_date',\n",
    "                  'ponding_date',\n",
    "                  'pretransfer_fw_locus_population_id',\n",
    "                  'fish_count_shipped_out',\n",
    "                  'avg_weight_g_stocked']\n",
    "    sw_fw_matching = sw_fw_matching[sw_fw_matching.origin_site_type == 'Freshwater'][sw_fw_cols]\n",
    "    sw_fw_matching.pretransfer_fw_locus_population_id = sw_fw_matching.\\\n",
    "    pretransfer_fw_locus_population_id.astype(INT_TYPE)\n",
    "\n",
    "    final_locus_weighted = pd.read_csv(final_locus_weighted_path)\n",
    "    final_locus_weighted.event_date = pd.to_datetime(final_locus_weighted.event_date)\n",
    "    #final_locus_weighted = None\n",
    "\n",
    "    mortality = pd.read_csv(mortality_path)\n",
    "    mortality['transfer_date'] = pd.to_datetime(mortality['transfer_date'], format=TIME_FORMAT)\n",
    "    mortality['transport_year']= mortality['transfer_date'].dt.year\n",
    "\n",
    "\n",
    "    dataframes = {\n",
    "        'temperature': temperature,\n",
    "        'locus_weigts': locus_weights,\n",
    "        'locus_group_matching': locus_group_matching,\n",
    "        'final_locus_weighted': final_locus_weighted,\n",
    "        'fresh_water_dates': fresh_water_dates,\n",
    "        'sw_fw_matching': sw_fw_matching,\n",
    "        'sw_fw_matching_with_cnt': sw_fw_matching_with_cnt,\n",
    "        'mortality': mortality\n",
    "    }\n",
    "    \n",
    "    return dataframes"
   ]
  },
  {
   "cell_type": "code",
   "execution_count": 69,
   "id": "64d06608",
   "metadata": {
    "tags": []
   },
   "outputs": [],
   "source": [
    "dataframes = load_data(locus_weights_path='../data/evt_movement_ratio_with_dates.csv',\n",
    "                       temperature_path='../data/FW_temperature_cleared.csv',\n",
    "                       locus_group_matching_path='../data/locus_locus_group_matching.csv',\n",
    "                       fresh_water_dates_path='../data/FW_cycle_dates.csv',\n",
    "                       sw_fw_matching_path='../data/seawater_freshwater_matching.csv',\n",
    "                       sw_fw_matching_path_with_cnt='../data/sw_locus_fw_locus_population_with_counts.csv',\n",
    "                       final_locus_weighted_path='../data/lw_alldates_final.csv',\n",
    "                       mortality_path='../data/smolt_dataset_transfers.csv') #_until2023Feb28_narrow\n",
    "\n",
    "temperature = dataframes['temperature']\n",
    "temperature.event_date = pd.to_datetime(temperature.event_date, format=TIME_FORMAT)\n",
    "temperature['event_year'] = temperature['event_date'].dt.year\n",
    "\n",
    "locus_weights = dataframes['locus_weigts']\n",
    "locus_group_matching = dataframes['locus_group_matching']\n",
    "final_locus_weighted = dataframes['final_locus_weighted']\n",
    "fresh_water_dates = dataframes['fresh_water_dates']\n",
    "sw_fw_matching = dataframes['sw_fw_matching']\n",
    "mortality = dataframes['mortality']\n",
    "\n",
    "sw_fw_matching_with_cnt = dataframes['sw_fw_matching_with_cnt']\n",
    "sw_fw_matching.transport_date = pd.to_datetime(sw_fw_matching.transport_date, format=TIME_FORMAT)\n",
    "sw_fw_matching_with_cnt.transfer_date = pd.to_datetime(sw_fw_matching_with_cnt['transfer_date'], format=TIME_FORMAT)\n",
    "sw_fw_matching_with_cnt['transfer_year'] = sw_fw_matching_with_cnt['transfer_date'].dt.year"
   ]
  },
  {
   "cell_type": "code",
   "execution_count": 70,
   "id": "43c87f19",
   "metadata": {
    "tags": []
   },
   "outputs": [],
   "source": [
    "lw_dates = locus_weights.groupby('final_locus_population_id').agg({'starttime': 'min', 'endtime': 'max'})\n",
    "lw_dates.starttime = pd.to_datetime(lw_dates.starttime, format=TIME_FORMAT)\n",
    "lw_dates.endtime = pd.to_datetime(lw_dates.endtime, format=TIME_FORMAT)\n",
    "lw_dates['FW_cycle_length'] = (lw_dates.endtime - lw_dates.starttime).dt.days + 1  # to be checked (?)\n",
    "lw_dates['starttime_year'] = lw_dates['starttime'].dt.year\n",
    "lw_dates = lw_dates[lw_dates.starttime_year>=2017]  # issues with temperature readings for 2015-2016"
   ]
  },
  {
   "cell_type": "code",
   "execution_count": 6,
   "id": "784a79b1",
   "metadata": {
    "tags": []
   },
   "outputs": [],
   "source": [
    "# final_locus_locus_group_weighted = final_locus_weighted.merge(locus_group_matching,\n",
    "#                                                               left_on='historic_locus_id',\n",
    "#                                                               right_on='locus_id',\n",
    "#                                                               how='left')\n",
    "# final_locus_locus_group_weighted.drop(columns='locus_id',inplace=True)"
   ]
  },
  {
   "cell_type": "markdown",
   "id": "af7fc061",
   "metadata": {},
   "source": [
    "### Mortality"
   ]
  },
  {
   "cell_type": "code",
   "execution_count": 44,
   "id": "b00121f8",
   "metadata": {
    "tags": []
   },
   "outputs": [],
   "source": [
    "fw_mortality = pd.read_csv('../data/fw_mortality.csv')\n",
    "mortality_ref = pd.read_csv('../data/dict_mortality.csv', encoding=\"ISO-8859-1\")\n",
    "inventory = pd.read_csv('../data/inventory_Petrohue_UPS.csv')\n",
    "\n",
    "inventory = inventory.groupby(['event_date', 'locus_id']).max().reset_index()"
   ]
  },
  {
   "cell_type": "code",
   "execution_count": 45,
   "id": "b923cd8c",
   "metadata": {
    "tags": []
   },
   "outputs": [],
   "source": [
    "if False:\n",
    "    fw_mortality = fw_mortality.merge(mortality_ref,\n",
    "                                      left_on='mortality_reason_id',\n",
    "                                      right_on='id',\n",
    "                                      how='left')"
   ]
  },
  {
   "cell_type": "code",
   "execution_count": 46,
   "id": "d7bd91ea",
   "metadata": {
    "tags": []
   },
   "outputs": [
    {
     "data": {
      "text/html": [
       "<div>\n",
       "<style scoped>\n",
       "    .dataframe tbody tr th:only-of-type {\n",
       "        vertical-align: middle;\n",
       "    }\n",
       "\n",
       "    .dataframe tbody tr th {\n",
       "        vertical-align: top;\n",
       "    }\n",
       "\n",
       "    .dataframe thead th {\n",
       "        text-align: right;\n",
       "    }\n",
       "</style>\n",
       "<table border=\"1\" class=\"dataframe\">\n",
       "  <thead>\n",
       "    <tr style=\"text-align: right;\">\n",
       "      <th></th>\n",
       "      <th>site_id</th>\n",
       "      <th>locus_id</th>\n",
       "      <th>locus_population_id</th>\n",
       "      <th>mortality_reason_id</th>\n",
       "      <th>event_date</th>\n",
       "      <th>mortality_count</th>\n",
       "      <th>mortality_weight</th>\n",
       "      <th>id</th>\n",
       "      <th>mortality_reason</th>\n",
       "      <th>mortality_reason_code</th>\n",
       "      <th>mrts_mortality_reason_id</th>\n",
       "      <th>open_count</th>\n",
       "      <th>open_weight</th>\n",
       "      <th>close_count</th>\n",
       "      <th>close_weight</th>\n",
       "      <th>degree_days</th>\n",
       "      <th>mortality_rate</th>\n",
       "    </tr>\n",
       "  </thead>\n",
       "  <tbody>\n",
       "    <tr>\n",
       "      <th>0</th>\n",
       "      <td>63827</td>\n",
       "      <td>3047045</td>\n",
       "      <td>194524401</td>\n",
       "      <td>13</td>\n",
       "      <td>2023-01-04</td>\n",
       "      <td>6</td>\n",
       "      <td>3.58</td>\n",
       "      <td>13</td>\n",
       "      <td>Desadaptado</td>\n",
       "      <td>DESADA</td>\n",
       "      <td>130</td>\n",
       "      <td>45901.0</td>\n",
       "      <td>3.584349</td>\n",
       "      <td>45895.0</td>\n",
       "      <td>3.755513</td>\n",
       "      <td>14.2</td>\n",
       "      <td>0.000131</td>\n",
       "    </tr>\n",
       "    <tr>\n",
       "      <th>1</th>\n",
       "      <td>63827</td>\n",
       "      <td>3046733</td>\n",
       "      <td>194524700</td>\n",
       "      <td>13</td>\n",
       "      <td>2023-01-04</td>\n",
       "      <td>42</td>\n",
       "      <td>3.30</td>\n",
       "      <td>13</td>\n",
       "      <td>Desadaptado</td>\n",
       "      <td>DESADA</td>\n",
       "      <td>130</td>\n",
       "      <td>45701.0</td>\n",
       "      <td>3.297303</td>\n",
       "      <td>45659.0</td>\n",
       "      <td>3.436012</td>\n",
       "      <td>14.2</td>\n",
       "      <td>0.000919</td>\n",
       "    </tr>\n",
       "    <tr>\n",
       "      <th>2</th>\n",
       "      <td>63827</td>\n",
       "      <td>3050450</td>\n",
       "      <td>194524394</td>\n",
       "      <td>54</td>\n",
       "      <td>2023-01-04</td>\n",
       "      <td>19</td>\n",
       "      <td>3.44</td>\n",
       "      <td>54</td>\n",
       "      <td>Sin Causa Aparente</td>\n",
       "      <td>S/CAUS</td>\n",
       "      <td>107</td>\n",
       "      <td>46593.0</td>\n",
       "      <td>3.437077</td>\n",
       "      <td>46567.0</td>\n",
       "      <td>3.539677</td>\n",
       "      <td>14.2</td>\n",
       "      <td>0.000408</td>\n",
       "    </tr>\n",
       "    <tr>\n",
       "      <th>3</th>\n",
       "      <td>63827</td>\n",
       "      <td>3050450</td>\n",
       "      <td>194524394</td>\n",
       "      <td>13</td>\n",
       "      <td>2023-01-04</td>\n",
       "      <td>6</td>\n",
       "      <td>3.44</td>\n",
       "      <td>13</td>\n",
       "      <td>Desadaptado</td>\n",
       "      <td>DESADA</td>\n",
       "      <td>130</td>\n",
       "      <td>46593.0</td>\n",
       "      <td>3.437077</td>\n",
       "      <td>46567.0</td>\n",
       "      <td>3.539677</td>\n",
       "      <td>14.2</td>\n",
       "      <td>0.000129</td>\n",
       "    </tr>\n",
       "    <tr>\n",
       "      <th>4</th>\n",
       "      <td>63827</td>\n",
       "      <td>3050450</td>\n",
       "      <td>194524394</td>\n",
       "      <td>38</td>\n",
       "      <td>2023-01-04</td>\n",
       "      <td>1</td>\n",
       "      <td>3.44</td>\n",
       "      <td>38</td>\n",
       "      <td>Micosis</td>\n",
       "      <td>MICOSI</td>\n",
       "      <td>123</td>\n",
       "      <td>46593.0</td>\n",
       "      <td>3.437077</td>\n",
       "      <td>46567.0</td>\n",
       "      <td>3.539677</td>\n",
       "      <td>14.2</td>\n",
       "      <td>0.000021</td>\n",
       "    </tr>\n",
       "  </tbody>\n",
       "</table>\n",
       "</div>"
      ],
      "text/plain": [
       "   site_id  locus_id  locus_population_id  mortality_reason_id  event_date  \\\n",
       "0    63827   3047045            194524401                   13  2023-01-04   \n",
       "1    63827   3046733            194524700                   13  2023-01-04   \n",
       "2    63827   3050450            194524394                   54  2023-01-04   \n",
       "3    63827   3050450            194524394                   13  2023-01-04   \n",
       "4    63827   3050450            194524394                   38  2023-01-04   \n",
       "\n",
       "   mortality_count  mortality_weight  id    mortality_reason  \\\n",
       "0                6              3.58  13         Desadaptado   \n",
       "1               42              3.30  13         Desadaptado   \n",
       "2               19              3.44  54  Sin Causa Aparente   \n",
       "3                6              3.44  13         Desadaptado   \n",
       "4                1              3.44  38             Micosis   \n",
       "\n",
       "  mortality_reason_code  mrts_mortality_reason_id  open_count  open_weight  \\\n",
       "0                DESADA                       130     45901.0     3.584349   \n",
       "1                DESADA                       130     45701.0     3.297303   \n",
       "2                S/CAUS                       107     46593.0     3.437077   \n",
       "3                DESADA                       130     46593.0     3.437077   \n",
       "4                MICOSI                       123     46593.0     3.437077   \n",
       "\n",
       "   close_count  close_weight  degree_days  mortality_rate  \n",
       "0      45895.0      3.755513         14.2        0.000131  \n",
       "1      45659.0      3.436012         14.2        0.000919  \n",
       "2      46567.0      3.539677         14.2        0.000408  \n",
       "3      46567.0      3.539677         14.2        0.000129  \n",
       "4      46567.0      3.539677         14.2        0.000021  "
      ]
     },
     "metadata": {},
     "output_type": "display_data"
    },
    {
     "data": {
      "text/plain": [
       "'Shape:'"
      ]
     },
     "metadata": {},
     "output_type": "display_data"
    },
    {
     "data": {
      "text/plain": [
       "(785677, 17)"
      ]
     },
     "metadata": {},
     "output_type": "display_data"
    }
   ],
   "source": [
    "display(fw_mortality.head())\n",
    "display('Shape:', fw_mortality.shape)"
   ]
  },
  {
   "cell_type": "code",
   "execution_count": 47,
   "id": "c1518a0f",
   "metadata": {
    "tags": []
   },
   "outputs": [],
   "source": [
    "reason_exclude = 'Eliminación Productiva'"
   ]
  },
  {
   "cell_type": "code",
   "execution_count": 48,
   "id": "33ff4446-3ae7-4e76-998e-4a77036329d3",
   "metadata": {
    "tags": []
   },
   "outputs": [
    {
     "data": {
      "text/plain": [
       "Index(['site_id', 'locus_id', 'locus_population_id', 'mortality_reason_id',\n",
       "       'event_date', 'mortality_count', 'mortality_weight', 'id',\n",
       "       'mortality_reason', 'mortality_reason_code', 'mrts_mortality_reason_id',\n",
       "       'open_count', 'open_weight', 'close_count', 'close_weight',\n",
       "       'degree_days', 'mortality_rate'],\n",
       "      dtype='object')"
      ]
     },
     "execution_count": 48,
     "metadata": {},
     "output_type": "execute_result"
    }
   ],
   "source": [
    "fw_mortality.columns"
   ]
  },
  {
   "cell_type": "code",
   "execution_count": 49,
   "id": "905091ba",
   "metadata": {
    "tags": []
   },
   "outputs": [],
   "source": [
    "fw_mortality = fw_mortality[fw_mortality['mortality_reason'] != reason_exclude]"
   ]
  },
  {
   "cell_type": "code",
   "execution_count": 50,
   "id": "14a72d78",
   "metadata": {
    "tags": []
   },
   "outputs": [
    {
     "data": {
      "text/plain": [
       "'Shape:'"
      ]
     },
     "metadata": {},
     "output_type": "display_data"
    },
    {
     "data": {
      "text/plain": [
       "(785677, 17)"
      ]
     },
     "metadata": {},
     "output_type": "display_data"
    }
   ],
   "source": [
    "fw_mortality.head()\n",
    "display('Shape:', fw_mortality.shape)"
   ]
  },
  {
   "cell_type": "code",
   "execution_count": 43,
   "id": "560a6c5d-a941-47a9-8114-3806818342e4",
   "metadata": {
    "tags": []
   },
   "outputs": [
    {
     "data": {
      "text/plain": [
       "Index(['event_date', 'locus_id', 'open_count', 'open_weight', 'close_count',\n",
       "       'close_weight', 'degree_days'],\n",
       "      dtype='object')"
      ]
     },
     "execution_count": 43,
     "metadata": {},
     "output_type": "execute_result"
    }
   ],
   "source": [
    "inventory.columns"
   ]
  },
  {
   "cell_type": "code",
   "execution_count": 40,
   "id": "54c5a548",
   "metadata": {
    "scrolled": true,
    "tags": []
   },
   "outputs": [],
   "source": [
    "fw_mortality = fw_mortality.merge(inventory,\n",
    "                                  on=['event_date', 'locus_id'],\n",
    "                                  how='left')\n",
    "fw_mortality['event_date'] = pd.to_datetime(fw_mortality['event_date'])"
   ]
  },
  {
   "cell_type": "code",
   "execution_count": 41,
   "id": "b975e035",
   "metadata": {
    "tags": []
   },
   "outputs": [
    {
     "data": {
      "text/plain": [
       "'Shape:'"
      ]
     },
     "metadata": {},
     "output_type": "display_data"
    },
    {
     "data": {
      "text/plain": [
       "(785677, 22)"
      ]
     },
     "metadata": {},
     "output_type": "display_data"
    }
   ],
   "source": [
    "fw_mortality.head()\n",
    "display('Shape:', fw_mortality.shape)"
   ]
  },
  {
   "cell_type": "code",
   "execution_count": 42,
   "id": "15da6342-2deb-4eb2-9fa4-6b9eb6cab57d",
   "metadata": {
    "tags": []
   },
   "outputs": [
    {
     "data": {
      "text/plain": [
       "Index(['site_id', 'locus_id', 'locus_population_id', 'mortality_reason_id',\n",
       "       'event_date', 'mortality_count', 'mortality_weight', 'id',\n",
       "       'mortality_reason', 'mortality_reason_code', 'mrts_mortality_reason_id',\n",
       "       'open_count_x', 'open_weight_x', 'close_count_x', 'close_weight_x',\n",
       "       'degree_days_x', 'mortality_rate', 'open_count_y', 'open_weight_y',\n",
       "       'close_count_y', 'close_weight_y', 'degree_days_y'],\n",
       "      dtype='object')"
      ]
     },
     "execution_count": 42,
     "metadata": {},
     "output_type": "execute_result"
    }
   ],
   "source": [
    "fw_mortality.columns"
   ]
  },
  {
   "cell_type": "code",
   "execution_count": 31,
   "id": "a3fb79a7",
   "metadata": {
    "tags": []
   },
   "outputs": [
    {
     "data": {
      "text/plain": [
       "'Mortality nan counts: 0'"
      ]
     },
     "metadata": {},
     "output_type": "display_data"
    },
    {
     "ename": "AttributeError",
     "evalue": "'DataFrame' object has no attribute 'open_count'",
     "output_type": "error",
     "traceback": [
      "\u001b[1;31m---------------------------------------------------------------------------\u001b[0m",
      "\u001b[1;31mAttributeError\u001b[0m                            Traceback (most recent call last)",
      "Input \u001b[1;32mIn [31]\u001b[0m, in \u001b[0;36m<cell line: 2>\u001b[1;34m()\u001b[0m\n\u001b[0;32m      1\u001b[0m display(\u001b[38;5;124mf\u001b[39m\u001b[38;5;124m'\u001b[39m\u001b[38;5;124mMortality nan counts: \u001b[39m\u001b[38;5;132;01m{\u001b[39;00mfw_mortality\u001b[38;5;241m.\u001b[39mmortality_count\u001b[38;5;241m.\u001b[39misna()\u001b[38;5;241m.\u001b[39msum()\u001b[38;5;132;01m}\u001b[39;00m\u001b[38;5;124m'\u001b[39m)\n\u001b[1;32m----> 2\u001b[0m display(\u001b[38;5;124mf\u001b[39m\u001b[38;5;124m'\u001b[39m\u001b[38;5;124mOpen count nan counts: \u001b[39m\u001b[38;5;132;01m{\u001b[39;00m\u001b[43mfw_mortality\u001b[49m\u001b[38;5;241;43m.\u001b[39;49m\u001b[43mopen_count\u001b[49m\u001b[38;5;241m.\u001b[39misna()\u001b[38;5;241m.\u001b[39msum()\u001b[38;5;132;01m}\u001b[39;00m\u001b[38;5;124m'\u001b[39m)\n",
      "File \u001b[1;32mC:\\Python\\Anaconda\\envs\\ecto\\lib\\site-packages\\pandas\\core\\generic.py:5989\u001b[0m, in \u001b[0;36mNDFrame.__getattr__\u001b[1;34m(self, name)\u001b[0m\n\u001b[0;32m   5982\u001b[0m \u001b[38;5;28;01mif\u001b[39;00m (\n\u001b[0;32m   5983\u001b[0m     name \u001b[38;5;129;01mnot\u001b[39;00m \u001b[38;5;129;01min\u001b[39;00m \u001b[38;5;28mself\u001b[39m\u001b[38;5;241m.\u001b[39m_internal_names_set\n\u001b[0;32m   5984\u001b[0m     \u001b[38;5;129;01mand\u001b[39;00m name \u001b[38;5;129;01mnot\u001b[39;00m \u001b[38;5;129;01min\u001b[39;00m \u001b[38;5;28mself\u001b[39m\u001b[38;5;241m.\u001b[39m_metadata\n\u001b[0;32m   5985\u001b[0m     \u001b[38;5;129;01mand\u001b[39;00m name \u001b[38;5;129;01mnot\u001b[39;00m \u001b[38;5;129;01min\u001b[39;00m \u001b[38;5;28mself\u001b[39m\u001b[38;5;241m.\u001b[39m_accessors\n\u001b[0;32m   5986\u001b[0m     \u001b[38;5;129;01mand\u001b[39;00m \u001b[38;5;28mself\u001b[39m\u001b[38;5;241m.\u001b[39m_info_axis\u001b[38;5;241m.\u001b[39m_can_hold_identifiers_and_holds_name(name)\n\u001b[0;32m   5987\u001b[0m ):\n\u001b[0;32m   5988\u001b[0m     \u001b[38;5;28;01mreturn\u001b[39;00m \u001b[38;5;28mself\u001b[39m[name]\n\u001b[1;32m-> 5989\u001b[0m \u001b[38;5;28;01mreturn\u001b[39;00m \u001b[38;5;28;43mobject\u001b[39;49m\u001b[38;5;241;43m.\u001b[39;49m\u001b[38;5;21;43m__getattribute__\u001b[39;49m\u001b[43m(\u001b[49m\u001b[38;5;28;43mself\u001b[39;49m\u001b[43m,\u001b[49m\u001b[43m \u001b[49m\u001b[43mname\u001b[49m\u001b[43m)\u001b[49m\n",
      "\u001b[1;31mAttributeError\u001b[0m: 'DataFrame' object has no attribute 'open_count'"
     ]
    }
   ],
   "source": [
    "display(f'Mortality nan counts: {fw_mortality.mortality_count.isna().sum()}')\n",
    "display(f'Open count nan counts: {fw_mortality.open_count.isna().sum()}')"
   ]
  },
  {
   "cell_type": "code",
   "execution_count": null,
   "id": "41bafb8a",
   "metadata": {
    "tags": []
   },
   "outputs": [],
   "source": [
    "fw_mortality['open_count'] = fw_mortality.groupby('locus_id')['open_count']\\\n",
    ".apply(lambda group: group.interpolate(method='linear')).reset_index(level=0, drop=True)"
   ]
  },
  {
   "cell_type": "code",
   "execution_count": 32,
   "id": "df49c072-2083-4adf-82b8-bbdd5e0dbe6c",
   "metadata": {
    "tags": []
   },
   "outputs": [
    {
     "data": {
      "text/plain": [
       "Index(['site_id', 'locus_id', 'locus_population_id', 'mortality_reason_id',\n",
       "       'event_date', 'mortality_count', 'mortality_weight', 'id',\n",
       "       'mortality_reason', 'mortality_reason_code', 'mrts_mortality_reason_id',\n",
       "       'open_count_x', 'open_weight_x', 'close_count_x', 'close_weight_x',\n",
       "       'degree_days_x', 'mortality_rate', 'open_count_y', 'open_weight_y',\n",
       "       'close_count_y', 'close_weight_y', 'degree_days_y'],\n",
       "      dtype='object')"
      ]
     },
     "execution_count": 32,
     "metadata": {},
     "output_type": "execute_result"
    }
   ],
   "source": [
    "fw_mortality.columns"
   ]
  },
  {
   "cell_type": "code",
   "execution_count": 20,
   "id": "b2ee09aa",
   "metadata": {
    "tags": []
   },
   "outputs": [
    {
     "data": {
      "text/plain": [
       "'Open count nan counts after interpolation: 0'"
      ]
     },
     "metadata": {},
     "output_type": "display_data"
    }
   ],
   "source": [
    "display(f'Open count nan counts after interpolation: {fw_mortality.open_count.isna().sum()}')"
   ]
  },
  {
   "cell_type": "code",
   "execution_count": 21,
   "id": "a0cd0d8f",
   "metadata": {
    "tags": []
   },
   "outputs": [
    {
     "data": {
      "text/html": [
       "<div>\n",
       "<style scoped>\n",
       "    .dataframe tbody tr th:only-of-type {\n",
       "        vertical-align: middle;\n",
       "    }\n",
       "\n",
       "    .dataframe tbody tr th {\n",
       "        vertical-align: top;\n",
       "    }\n",
       "\n",
       "    .dataframe thead th {\n",
       "        text-align: right;\n",
       "    }\n",
       "</style>\n",
       "<table border=\"1\" class=\"dataframe\">\n",
       "  <thead>\n",
       "    <tr style=\"text-align: right;\">\n",
       "      <th></th>\n",
       "      <th>site_id</th>\n",
       "      <th>locus_id</th>\n",
       "      <th>locus_population_id</th>\n",
       "      <th>mortality_reason_id</th>\n",
       "      <th>event_date</th>\n",
       "      <th>mortality_count</th>\n",
       "      <th>mortality_weight</th>\n",
       "      <th>id</th>\n",
       "      <th>mortality_reason</th>\n",
       "      <th>mortality_reason_code</th>\n",
       "      <th>mrts_mortality_reason_id</th>\n",
       "      <th>open_count</th>\n",
       "      <th>open_weight</th>\n",
       "      <th>close_count</th>\n",
       "      <th>close_weight</th>\n",
       "      <th>degree_days</th>\n",
       "    </tr>\n",
       "  </thead>\n",
       "  <tbody>\n",
       "    <tr>\n",
       "      <th>785055</th>\n",
       "      <td>63827</td>\n",
       "      <td>3047433</td>\n",
       "      <td>194473886</td>\n",
       "      <td>13</td>\n",
       "      <td>2021-08-10</td>\n",
       "      <td>2</td>\n",
       "      <td>3.30</td>\n",
       "      <td>13</td>\n",
       "      <td>Desadaptado</td>\n",
       "      <td>DESADA</td>\n",
       "      <td>130</td>\n",
       "      <td>0.0</td>\n",
       "      <td>0.0</td>\n",
       "      <td>49597.0</td>\n",
       "      <td>3.396845</td>\n",
       "      <td>12.7</td>\n",
       "    </tr>\n",
       "    <tr>\n",
       "      <th>785088</th>\n",
       "      <td>63827</td>\n",
       "      <td>3047490</td>\n",
       "      <td>194527095</td>\n",
       "      <td>54</td>\n",
       "      <td>2022-12-02</td>\n",
       "      <td>2</td>\n",
       "      <td>23.97</td>\n",
       "      <td>54</td>\n",
       "      <td>Sin Causa Aparente</td>\n",
       "      <td>S/CAUS</td>\n",
       "      <td>107</td>\n",
       "      <td>0.0</td>\n",
       "      <td>0.0</td>\n",
       "      <td>80588.0</td>\n",
       "      <td>24.468017</td>\n",
       "      <td>14.5</td>\n",
       "    </tr>\n",
       "    <tr>\n",
       "      <th>785252</th>\n",
       "      <td>63827</td>\n",
       "      <td>3047490</td>\n",
       "      <td>194528963</td>\n",
       "      <td>23</td>\n",
       "      <td>2022-12-22</td>\n",
       "      <td>263</td>\n",
       "      <td>35.40</td>\n",
       "      <td>23</td>\n",
       "      <td>Eliminación Opérculo</td>\n",
       "      <td>ElxOpe</td>\n",
       "      <td>175</td>\n",
       "      <td>0.0</td>\n",
       "      <td>0.0</td>\n",
       "      <td>42782.0</td>\n",
       "      <td>35.869279</td>\n",
       "      <td>14.5</td>\n",
       "    </tr>\n",
       "    <tr>\n",
       "      <th>785399</th>\n",
       "      <td>63827</td>\n",
       "      <td>3047490</td>\n",
       "      <td>194528963</td>\n",
       "      <td>22</td>\n",
       "      <td>2022-12-22</td>\n",
       "      <td>414</td>\n",
       "      <td>35.40</td>\n",
       "      <td>22</td>\n",
       "      <td>Eliminación Maduro</td>\n",
       "      <td>ElxMad</td>\n",
       "      <td>170</td>\n",
       "      <td>0.0</td>\n",
       "      <td>0.0</td>\n",
       "      <td>42782.0</td>\n",
       "      <td>35.869279</td>\n",
       "      <td>14.5</td>\n",
       "    </tr>\n",
       "    <tr>\n",
       "      <th>785420</th>\n",
       "      <td>63827</td>\n",
       "      <td>3047490</td>\n",
       "      <td>194528963</td>\n",
       "      <td>18</td>\n",
       "      <td>2022-12-22</td>\n",
       "      <td>420</td>\n",
       "      <td>35.40</td>\n",
       "      <td>18</td>\n",
       "      <td>Eliminación Deforme</td>\n",
       "      <td>ElxDef</td>\n",
       "      <td>176</td>\n",
       "      <td>0.0</td>\n",
       "      <td>0.0</td>\n",
       "      <td>42782.0</td>\n",
       "      <td>35.869279</td>\n",
       "      <td>14.5</td>\n",
       "    </tr>\n",
       "  </tbody>\n",
       "</table>\n",
       "</div>"
      ],
      "text/plain": [
       "        site_id  locus_id  locus_population_id  mortality_reason_id  \\\n",
       "785055    63827   3047433            194473886                   13   \n",
       "785088    63827   3047490            194527095                   54   \n",
       "785252    63827   3047490            194528963                   23   \n",
       "785399    63827   3047490            194528963                   22   \n",
       "785420    63827   3047490            194528963                   18   \n",
       "\n",
       "       event_date  mortality_count  mortality_weight  id  \\\n",
       "785055 2021-08-10                2              3.30  13   \n",
       "785088 2022-12-02                2             23.97  54   \n",
       "785252 2022-12-22              263             35.40  23   \n",
       "785399 2022-12-22              414             35.40  22   \n",
       "785420 2022-12-22              420             35.40  18   \n",
       "\n",
       "            mortality_reason mortality_reason_code  mrts_mortality_reason_id  \\\n",
       "785055           Desadaptado                DESADA                       130   \n",
       "785088    Sin Causa Aparente                S/CAUS                       107   \n",
       "785252  Eliminación Opérculo                ElxOpe                       175   \n",
       "785399    Eliminación Maduro                ElxMad                       170   \n",
       "785420   Eliminación Deforme                ElxDef                       176   \n",
       "\n",
       "        open_count  open_weight  close_count  close_weight  degree_days  \n",
       "785055         0.0          0.0      49597.0      3.396845         12.7  \n",
       "785088         0.0          0.0      80588.0     24.468017         14.5  \n",
       "785252         0.0          0.0      42782.0     35.869279         14.5  \n",
       "785399         0.0          0.0      42782.0     35.869279         14.5  \n",
       "785420         0.0          0.0      42782.0     35.869279         14.5  "
      ]
     },
     "metadata": {},
     "output_type": "display_data"
    },
    {
     "data": {
      "text/plain": [
       "'Open count 0 counts: 6621'"
      ]
     },
     "metadata": {},
     "output_type": "display_data"
    }
   ],
   "source": [
    "display(fw_mortality[fw_mortality['open_count'] == 0].tail())\n",
    "display(f\"Open count 0 counts: {fw_mortality[fw_mortality['open_count'] == 0].shape[0]}\")"
   ]
  },
  {
   "cell_type": "code",
   "execution_count": 22,
   "id": "610cadbb",
   "metadata": {
    "tags": []
   },
   "outputs": [
    {
     "name": "stderr",
     "output_type": "stream",
     "text": [
      "C:\\Users\\dmitrii\\AppData\\Local\\Temp\\ipykernel_10352\\437251776.py:1: UserWarning: Boolean Series key will be reindexed to match DataFrame index.\n",
      "  display(f\"Samples with 0 open and close count: {fw_mortality[fw_mortality['open_count'] == 0][fw_mortality['close_count'] == 0].shape[0]}\")\n"
     ]
    },
    {
     "data": {
      "text/plain": [
       "'Samples with 0 open and close count: 4'"
      ]
     },
     "metadata": {},
     "output_type": "display_data"
    },
    {
     "name": "stderr",
     "output_type": "stream",
     "text": [
      "C:\\Users\\dmitrii\\AppData\\Local\\Temp\\ipykernel_10352\\437251776.py:3: UserWarning: Boolean Series key will be reindexed to match DataFrame index.\n",
      "  fw_mortality[fw_mortality['open_count'] == 0][fw_mortality['close_count'] == 0].index, inplace=True\n"
     ]
    }
   ],
   "source": [
    "display(f\"Samples with 0 open and close count: {fw_mortality[fw_mortality['open_count'] == 0][fw_mortality['close_count'] == 0].shape[0]}\")\n",
    "fw_mortality.drop(\n",
    "    fw_mortality[fw_mortality['open_count'] == 0][fw_mortality['close_count'] == 0].index, inplace=True\n",
    ")"
   ]
  },
  {
   "cell_type": "code",
   "execution_count": 67,
   "id": "43c90822",
   "metadata": {
    "scrolled": true,
    "tags": []
   },
   "outputs": [
    {
     "data": {
      "text/plain": [
       "'Open count 0 counts after assigning close count values: 4'"
      ]
     },
     "metadata": {},
     "output_type": "display_data"
    }
   ],
   "source": [
    "fw_mortality['open_count'][fw_mortality['open_count'] == 0] = fw_mortality['close_count']  # + fw_mortality['mortality_coun']\n",
    "display(f\"Open count 0 counts after assigning close count values: {fw_mortality[fw_mortality['open_count'] == 0].shape[0]}\")"
   ]
  },
  {
   "cell_type": "code",
   "execution_count": 68,
   "id": "61997ddc",
   "metadata": {
    "tags": []
   },
   "outputs": [
    {
     "data": {
      "text/html": [
       "<div>\n",
       "<style scoped>\n",
       "    .dataframe tbody tr th:only-of-type {\n",
       "        vertical-align: middle;\n",
       "    }\n",
       "\n",
       "    .dataframe tbody tr th {\n",
       "        vertical-align: top;\n",
       "    }\n",
       "\n",
       "    .dataframe thead th {\n",
       "        text-align: right;\n",
       "    }\n",
       "</style>\n",
       "<table border=\"1\" class=\"dataframe\">\n",
       "  <thead>\n",
       "    <tr style=\"text-align: right;\">\n",
       "      <th></th>\n",
       "      <th>site_id</th>\n",
       "      <th>locus_id</th>\n",
       "      <th>locus_population_id</th>\n",
       "      <th>mortality_reason_id</th>\n",
       "      <th>event_date</th>\n",
       "      <th>mortality_count</th>\n",
       "      <th>mortality_weight</th>\n",
       "      <th>id</th>\n",
       "      <th>mortality_reason</th>\n",
       "      <th>mortality_reason_code</th>\n",
       "      <th>mrts_mortality_reason_id</th>\n",
       "      <th>open_count</th>\n",
       "      <th>open_weight</th>\n",
       "      <th>close_count</th>\n",
       "      <th>close_weight</th>\n",
       "      <th>degree_days</th>\n",
       "    </tr>\n",
       "  </thead>\n",
       "  <tbody>\n",
       "    <tr>\n",
       "      <th>0</th>\n",
       "      <td>63827</td>\n",
       "      <td>3047045</td>\n",
       "      <td>194524401</td>\n",
       "      <td>13</td>\n",
       "      <td>2023-01-04</td>\n",
       "      <td>6</td>\n",
       "      <td>3.58</td>\n",
       "      <td>13</td>\n",
       "      <td>Desadaptado</td>\n",
       "      <td>DESADA</td>\n",
       "      <td>130</td>\n",
       "      <td>45901.0</td>\n",
       "      <td>3.584349</td>\n",
       "      <td>45895.0</td>\n",
       "      <td>3.755513</td>\n",
       "      <td>14.2</td>\n",
       "    </tr>\n",
       "    <tr>\n",
       "      <th>1</th>\n",
       "      <td>63827</td>\n",
       "      <td>3046733</td>\n",
       "      <td>194524700</td>\n",
       "      <td>13</td>\n",
       "      <td>2023-01-04</td>\n",
       "      <td>42</td>\n",
       "      <td>3.30</td>\n",
       "      <td>13</td>\n",
       "      <td>Desadaptado</td>\n",
       "      <td>DESADA</td>\n",
       "      <td>130</td>\n",
       "      <td>45701.0</td>\n",
       "      <td>3.297303</td>\n",
       "      <td>45659.0</td>\n",
       "      <td>3.436012</td>\n",
       "      <td>14.2</td>\n",
       "    </tr>\n",
       "    <tr>\n",
       "      <th>2</th>\n",
       "      <td>63827</td>\n",
       "      <td>3050450</td>\n",
       "      <td>194524394</td>\n",
       "      <td>54</td>\n",
       "      <td>2023-01-04</td>\n",
       "      <td>19</td>\n",
       "      <td>3.44</td>\n",
       "      <td>54</td>\n",
       "      <td>Sin Causa Aparente</td>\n",
       "      <td>S/CAUS</td>\n",
       "      <td>107</td>\n",
       "      <td>46593.0</td>\n",
       "      <td>3.437077</td>\n",
       "      <td>46567.0</td>\n",
       "      <td>3.539677</td>\n",
       "      <td>14.2</td>\n",
       "    </tr>\n",
       "    <tr>\n",
       "      <th>3</th>\n",
       "      <td>63827</td>\n",
       "      <td>3050450</td>\n",
       "      <td>194524394</td>\n",
       "      <td>13</td>\n",
       "      <td>2023-01-04</td>\n",
       "      <td>6</td>\n",
       "      <td>3.44</td>\n",
       "      <td>13</td>\n",
       "      <td>Desadaptado</td>\n",
       "      <td>DESADA</td>\n",
       "      <td>130</td>\n",
       "      <td>46593.0</td>\n",
       "      <td>3.437077</td>\n",
       "      <td>46567.0</td>\n",
       "      <td>3.539677</td>\n",
       "      <td>14.2</td>\n",
       "    </tr>\n",
       "    <tr>\n",
       "      <th>4</th>\n",
       "      <td>63827</td>\n",
       "      <td>3050450</td>\n",
       "      <td>194524394</td>\n",
       "      <td>38</td>\n",
       "      <td>2023-01-04</td>\n",
       "      <td>1</td>\n",
       "      <td>3.44</td>\n",
       "      <td>38</td>\n",
       "      <td>Micosis</td>\n",
       "      <td>MICOSI</td>\n",
       "      <td>123</td>\n",
       "      <td>46593.0</td>\n",
       "      <td>3.437077</td>\n",
       "      <td>46567.0</td>\n",
       "      <td>3.539677</td>\n",
       "      <td>14.2</td>\n",
       "    </tr>\n",
       "  </tbody>\n",
       "</table>\n",
       "</div>"
      ],
      "text/plain": [
       "   site_id  locus_id  locus_population_id  mortality_reason_id event_date  \\\n",
       "0    63827   3047045            194524401                   13 2023-01-04   \n",
       "1    63827   3046733            194524700                   13 2023-01-04   \n",
       "2    63827   3050450            194524394                   54 2023-01-04   \n",
       "3    63827   3050450            194524394                   13 2023-01-04   \n",
       "4    63827   3050450            194524394                   38 2023-01-04   \n",
       "\n",
       "   mortality_count  mortality_weight  id    mortality_reason  \\\n",
       "0                6              3.58  13         Desadaptado   \n",
       "1               42              3.30  13         Desadaptado   \n",
       "2               19              3.44  54  Sin Causa Aparente   \n",
       "3                6              3.44  13         Desadaptado   \n",
       "4                1              3.44  38             Micosis   \n",
       "\n",
       "  mortality_reason_code  mrts_mortality_reason_id  open_count  open_weight  \\\n",
       "0                DESADA                       130     45901.0     3.584349   \n",
       "1                DESADA                       130     45701.0     3.297303   \n",
       "2                S/CAUS                       107     46593.0     3.437077   \n",
       "3                DESADA                       130     46593.0     3.437077   \n",
       "4                MICOSI                       123     46593.0     3.437077   \n",
       "\n",
       "   close_count  close_weight  degree_days  \n",
       "0      45895.0      3.755513         14.2  \n",
       "1      45659.0      3.436012         14.2  \n",
       "2      46567.0      3.539677         14.2  \n",
       "3      46567.0      3.539677         14.2  \n",
       "4      46567.0      3.539677         14.2  "
      ]
     },
     "execution_count": 68,
     "metadata": {},
     "output_type": "execute_result"
    }
   ],
   "source": [
    "fw_mortality.head()"
   ]
  },
  {
   "cell_type": "code",
   "execution_count": 69,
   "id": "d01f8add",
   "metadata": {
    "tags": []
   },
   "outputs": [
    {
     "name": "stderr",
     "output_type": "stream",
     "text": [
      "C:\\Users\\dmitrii\\AppData\\Local\\Temp\\ipykernel_10352\\420157352.py:1: UserWarning: Boolean Series key will be reindexed to match DataFrame index.\n",
      "  fw_mortality[fw_mortality['locus_id'] == 3046035][fw_mortality['event_date'] == '2018-09-08']\n"
     ]
    },
    {
     "data": {
      "text/html": [
       "<div>\n",
       "<style scoped>\n",
       "    .dataframe tbody tr th:only-of-type {\n",
       "        vertical-align: middle;\n",
       "    }\n",
       "\n",
       "    .dataframe tbody tr th {\n",
       "        vertical-align: top;\n",
       "    }\n",
       "\n",
       "    .dataframe thead th {\n",
       "        text-align: right;\n",
       "    }\n",
       "</style>\n",
       "<table border=\"1\" class=\"dataframe\">\n",
       "  <thead>\n",
       "    <tr style=\"text-align: right;\">\n",
       "      <th></th>\n",
       "      <th>site_id</th>\n",
       "      <th>locus_id</th>\n",
       "      <th>locus_population_id</th>\n",
       "      <th>mortality_reason_id</th>\n",
       "      <th>event_date</th>\n",
       "      <th>mortality_count</th>\n",
       "      <th>mortality_weight</th>\n",
       "      <th>id</th>\n",
       "      <th>mortality_reason</th>\n",
       "      <th>mortality_reason_code</th>\n",
       "      <th>mrts_mortality_reason_id</th>\n",
       "      <th>open_count</th>\n",
       "      <th>open_weight</th>\n",
       "      <th>close_count</th>\n",
       "      <th>close_weight</th>\n",
       "      <th>degree_days</th>\n",
       "    </tr>\n",
       "  </thead>\n",
       "  <tbody>\n",
       "    <tr>\n",
       "      <th>376021</th>\n",
       "      <td>63858</td>\n",
       "      <td>3046035</td>\n",
       "      <td>36787705</td>\n",
       "      <td>44</td>\n",
       "      <td>2018-09-08</td>\n",
       "      <td>24</td>\n",
       "      <td>65.0</td>\n",
       "      <td>44</td>\n",
       "      <td>Otros</td>\n",
       "      <td>Otros</td>\n",
       "      <td>164</td>\n",
       "      <td>119438.0</td>\n",
       "      <td>65.000001</td>\n",
       "      <td>119395.0</td>\n",
       "      <td>65.000001</td>\n",
       "      <td>11.9</td>\n",
       "    </tr>\n",
       "    <tr>\n",
       "      <th>377779</th>\n",
       "      <td>63858</td>\n",
       "      <td>3046035</td>\n",
       "      <td>36787705</td>\n",
       "      <td>11</td>\n",
       "      <td>2018-09-08</td>\n",
       "      <td>19</td>\n",
       "      <td>65.0</td>\n",
       "      <td>11</td>\n",
       "      <td>Daño Mecánico</td>\n",
       "      <td>Daño M</td>\n",
       "      <td>157</td>\n",
       "      <td>119438.0</td>\n",
       "      <td>65.000001</td>\n",
       "      <td>119395.0</td>\n",
       "      <td>65.000001</td>\n",
       "      <td>11.9</td>\n",
       "    </tr>\n",
       "  </tbody>\n",
       "</table>\n",
       "</div>"
      ],
      "text/plain": [
       "        site_id  locus_id  locus_population_id  mortality_reason_id  \\\n",
       "376021    63858   3046035             36787705                   44   \n",
       "377779    63858   3046035             36787705                   11   \n",
       "\n",
       "       event_date  mortality_count  mortality_weight  id mortality_reason  \\\n",
       "376021 2018-09-08               24              65.0  44            Otros   \n",
       "377779 2018-09-08               19              65.0  11    Daño Mecánico   \n",
       "\n",
       "       mortality_reason_code  mrts_mortality_reason_id  open_count  \\\n",
       "376021                 Otros                       164    119438.0   \n",
       "377779                Daño M                       157    119438.0   \n",
       "\n",
       "        open_weight  close_count  close_weight  degree_days  \n",
       "376021    65.000001     119395.0     65.000001         11.9  \n",
       "377779    65.000001     119395.0     65.000001         11.9  "
      ]
     },
     "execution_count": 69,
     "metadata": {},
     "output_type": "execute_result"
    }
   ],
   "source": [
    "fw_mortality[fw_mortality['locus_id'] == 3046035][fw_mortality['event_date'] == '2018-09-08']"
   ]
  },
  {
   "cell_type": "code",
   "execution_count": 70,
   "id": "4c91c365",
   "metadata": {
    "tags": []
   },
   "outputs": [
    {
     "data": {
      "text/plain": [
       "'Mortality rate misasing values after dividing by 0: 0'"
      ]
     },
     "metadata": {},
     "output_type": "display_data"
    },
    {
     "data": {
      "text/plain": [
       "'Mortality rate inf values after dividing by 0: 4'"
      ]
     },
     "metadata": {},
     "output_type": "display_data"
    }
   ],
   "source": [
    "fw_mortality['mortality_rate'] = fw_mortality['mortality_count'] / fw_mortality['open_count']\n",
    "display(f\"Mortality rate misasing values after dividing by 0: {fw_mortality['mortality_rate'].isna().sum()}\")\n",
    "display(f\"Mortality rate inf values after dividing by 0: {fw_mortality[fw_mortality['mortality_rate'].isin([np.inf, -np.inf])].shape[0]}\")"
   ]
  },
  {
   "cell_type": "code",
   "execution_count": 71,
   "id": "52469a47",
   "metadata": {
    "tags": []
   },
   "outputs": [],
   "source": [
    "#if False:\n",
    "fw_mortality.to_csv('..//data//fw_mortality.csv', index=False)\n"
   ]
  },
  {
   "cell_type": "markdown",
   "id": "fc028e5e-ce84-46c3-be71-92dd4d0f53fc",
   "metadata": {},
   "source": [
    "##  OVERWRITE"
   ]
  },
  {
   "cell_type": "code",
   "execution_count": 72,
   "id": "0ed57ec5-2f0a-4fe1-9953-fc2210f21637",
   "metadata": {
    "tags": []
   },
   "outputs": [],
   "source": [
    "fw_mortality = pd.read_csv('..//data//fw_mortality.csv')\n",
    "fw_mortality['event_date'] = pd.to_datetime(fw_mortality['event_date'])"
   ]
  },
  {
   "cell_type": "markdown",
   "id": "1388b9cd",
   "metadata": {},
   "source": [
    "### By reasons"
   ]
  },
  {
   "cell_type": "code",
   "execution_count": 73,
   "id": "d559c033",
   "metadata": {
    "tags": []
   },
   "outputs": [
    {
     "data": {
      "text/plain": [
       "'Shape is (243672, 17) for reason Desadaptado'"
      ]
     },
     "metadata": {},
     "output_type": "display_data"
    }
   ],
   "source": [
    "mortality_reasons = ['Desadaptado',\n",
    "]\n",
    "\n",
    "if True:\n",
    "    fw_mortality_by_reason = {}\n",
    "    for reason in mortality_reasons:\n",
    "        fw_mortality_by_reason[reason] = fw_mortality[fw_mortality['mortality_reason'] == reason]\n",
    "        display(f'Shape is {fw_mortality_by_reason[reason].shape} for reason {reason}')\n",
    "        \n",
    "# fw_mortality = fw_mortality[fw_mortality['mortality_reason'].isin(mortality_reasons)]"
   ]
  },
  {
   "cell_type": "code",
   "execution_count": null,
   "id": "afc4fd6d-fdf0-491b-b89d-364e339cf306",
   "metadata": {
    "tags": []
   },
   "outputs": [],
   "source": []
  },
  {
   "cell_type": "code",
   "execution_count": 74,
   "id": "3985688f",
   "metadata": {
    "tags": []
   },
   "outputs": [
    {
     "name": "stderr",
     "output_type": "stream",
     "text": [
      "100%|██████████| 1/1 [01:31<00:00, 91.46s/it]\n"
     ]
    },
    {
     "data": {
      "text/plain": [
       "(672441, 3)"
      ]
     },
     "metadata": {},
     "output_type": "display_data"
    },
    {
     "data": {
      "text/html": [
       "<div>\n",
       "<style scoped>\n",
       "    .dataframe tbody tr th:only-of-type {\n",
       "        vertical-align: middle;\n",
       "    }\n",
       "\n",
       "    .dataframe tbody tr th {\n",
       "        vertical-align: top;\n",
       "    }\n",
       "\n",
       "    .dataframe thead th {\n",
       "        text-align: right;\n",
       "    }\n",
       "</style>\n",
       "<table border=\"1\" class=\"dataframe\">\n",
       "  <thead>\n",
       "    <tr style=\"text-align: right;\">\n",
       "      <th></th>\n",
       "      <th>final_locus_population_id</th>\n",
       "      <th>event_date</th>\n",
       "      <th>mortality_rate</th>\n",
       "    </tr>\n",
       "  </thead>\n",
       "  <tbody>\n",
       "    <tr>\n",
       "      <th>0</th>\n",
       "      <td>36770651</td>\n",
       "      <td>2015-11-21</td>\n",
       "      <td>NaN</td>\n",
       "    </tr>\n",
       "    <tr>\n",
       "      <th>1</th>\n",
       "      <td>36770651</td>\n",
       "      <td>2015-11-22</td>\n",
       "      <td>NaN</td>\n",
       "    </tr>\n",
       "    <tr>\n",
       "      <th>2</th>\n",
       "      <td>36770651</td>\n",
       "      <td>2015-11-23</td>\n",
       "      <td>NaN</td>\n",
       "    </tr>\n",
       "    <tr>\n",
       "      <th>3</th>\n",
       "      <td>36770651</td>\n",
       "      <td>2015-11-24</td>\n",
       "      <td>NaN</td>\n",
       "    </tr>\n",
       "    <tr>\n",
       "      <th>4</th>\n",
       "      <td>36770651</td>\n",
       "      <td>2015-11-25</td>\n",
       "      <td>NaN</td>\n",
       "    </tr>\n",
       "  </tbody>\n",
       "</table>\n",
       "</div>"
      ],
      "text/plain": [
       "   final_locus_population_id event_date  mortality_rate\n",
       "0                   36770651 2015-11-21             NaN\n",
       "1                   36770651 2015-11-22             NaN\n",
       "2                   36770651 2015-11-23             NaN\n",
       "3                   36770651 2015-11-24             NaN\n",
       "4                   36770651 2015-11-25             NaN"
      ]
     },
     "metadata": {},
     "output_type": "display_data"
    }
   ],
   "source": [
    "if True:\n",
    "    for reason in tqdm(fw_mortality_by_reason):\n",
    "        fw_mortality_by_reason[reason] = fw_mortality_by_reason[reason].merge(\n",
    "            final_locus_weighted,\n",
    "            how='inner', \n",
    "            left_on=['event_date', 'locus_id'],\n",
    "            right_on=['event_date', 'historic_locus_id']\n",
    "        )\n",
    "\n",
    "        fw_mortality_by_reason[reason]['event_year'] = fw_mortality_by_reason[reason]['event_date'].dt.year\n",
    "        fw_mortality_by_reason[reason]['weighted_mortality_rate'] = fw_mortality_by_reason[reason]['weight'] * fw_mortality_by_reason[reason]['mortality_rate']\n",
    "\n",
    "        fw_mortality_by_reason[reason] = fw_mortality_by_reason[reason].\\\n",
    "        groupby(['final_locus_population_id','event_date'])[['weighted_mortality_rate']]\\\n",
    "        .agg(lambda x: x.sum(skipna=False)).reset_index()\n",
    "\n",
    "        fw_mortality_by_reason[reason].rename(columns={'weighted_mortality_rate': 'mortality_rate'},inplace=True)\n",
    "\n",
    "    for reason in fw_mortality_by_reason:\n",
    "#         fw_mortality_by_reason[reason].to_csv(f'fw_mortality_{reason}.csv', index=False)\n",
    "        display(fw_mortality_by_reason[reason].shape)\n",
    "        display(fw_mortality_by_reason[reason].head())"
   ]
  },
  {
   "cell_type": "code",
   "execution_count": 75,
   "id": "71b735f8-101d-4882-8cc1-fdf0eb18c1c1",
   "metadata": {
    "tags": []
   },
   "outputs": [
    {
     "data": {
      "text/html": [
       "<div>\n",
       "<style scoped>\n",
       "    .dataframe tbody tr th:only-of-type {\n",
       "        vertical-align: middle;\n",
       "    }\n",
       "\n",
       "    .dataframe tbody tr th {\n",
       "        vertical-align: top;\n",
       "    }\n",
       "\n",
       "    .dataframe thead th {\n",
       "        text-align: right;\n",
       "    }\n",
       "</style>\n",
       "<table border=\"1\" class=\"dataframe\">\n",
       "  <thead>\n",
       "    <tr style=\"text-align: right;\">\n",
       "      <th></th>\n",
       "      <th>final_locus_population_id</th>\n",
       "      <th>event_date</th>\n",
       "      <th>mortality_rate</th>\n",
       "    </tr>\n",
       "  </thead>\n",
       "  <tbody>\n",
       "    <tr>\n",
       "      <th>0</th>\n",
       "      <td>36770651</td>\n",
       "      <td>2015-11-21</td>\n",
       "      <td>NaN</td>\n",
       "    </tr>\n",
       "    <tr>\n",
       "      <th>1</th>\n",
       "      <td>36770651</td>\n",
       "      <td>2015-11-22</td>\n",
       "      <td>NaN</td>\n",
       "    </tr>\n",
       "    <tr>\n",
       "      <th>2</th>\n",
       "      <td>36770651</td>\n",
       "      <td>2015-11-23</td>\n",
       "      <td>NaN</td>\n",
       "    </tr>\n",
       "    <tr>\n",
       "      <th>3</th>\n",
       "      <td>36770651</td>\n",
       "      <td>2015-11-24</td>\n",
       "      <td>NaN</td>\n",
       "    </tr>\n",
       "    <tr>\n",
       "      <th>4</th>\n",
       "      <td>36770651</td>\n",
       "      <td>2015-11-25</td>\n",
       "      <td>NaN</td>\n",
       "    </tr>\n",
       "    <tr>\n",
       "      <th>...</th>\n",
       "      <td>...</td>\n",
       "      <td>...</td>\n",
       "      <td>...</td>\n",
       "    </tr>\n",
       "    <tr>\n",
       "      <th>672436</th>\n",
       "      <td>194761283</td>\n",
       "      <td>2023-08-12</td>\n",
       "      <td>NaN</td>\n",
       "    </tr>\n",
       "    <tr>\n",
       "      <th>672437</th>\n",
       "      <td>194761283</td>\n",
       "      <td>2023-08-13</td>\n",
       "      <td>NaN</td>\n",
       "    </tr>\n",
       "    <tr>\n",
       "      <th>672438</th>\n",
       "      <td>194761283</td>\n",
       "      <td>2023-08-14</td>\n",
       "      <td>NaN</td>\n",
       "    </tr>\n",
       "    <tr>\n",
       "      <th>672439</th>\n",
       "      <td>194761283</td>\n",
       "      <td>2023-08-15</td>\n",
       "      <td>NaN</td>\n",
       "    </tr>\n",
       "    <tr>\n",
       "      <th>672440</th>\n",
       "      <td>194761283</td>\n",
       "      <td>2023-08-16</td>\n",
       "      <td>NaN</td>\n",
       "    </tr>\n",
       "  </tbody>\n",
       "</table>\n",
       "<p>672441 rows × 3 columns</p>\n",
       "</div>"
      ],
      "text/plain": [
       "        final_locus_population_id event_date  mortality_rate\n",
       "0                        36770651 2015-11-21             NaN\n",
       "1                        36770651 2015-11-22             NaN\n",
       "2                        36770651 2015-11-23             NaN\n",
       "3                        36770651 2015-11-24             NaN\n",
       "4                        36770651 2015-11-25             NaN\n",
       "...                           ...        ...             ...\n",
       "672436                  194761283 2023-08-12             NaN\n",
       "672437                  194761283 2023-08-13             NaN\n",
       "672438                  194761283 2023-08-14             NaN\n",
       "672439                  194761283 2023-08-15             NaN\n",
       "672440                  194761283 2023-08-16             NaN\n",
       "\n",
       "[672441 rows x 3 columns]"
      ]
     },
     "execution_count": 75,
     "metadata": {},
     "output_type": "execute_result"
    }
   ],
   "source": [
    "fw_mortality_by_reason[reason]"
   ]
  },
  {
   "cell_type": "code",
   "execution_count": 76,
   "id": "90207831",
   "metadata": {
    "tags": []
   },
   "outputs": [],
   "source": [
    "if True:\n",
    "    fw_mortality_final_locus = fw_mortality.merge(\n",
    "        final_locus_weighted,\n",
    "        how='inner', \n",
    "        left_on=['event_date', 'locus_id'],\n",
    "        right_on=['event_date', 'historic_locus_id']\n",
    "    )\n",
    "\n",
    "    fw_mortality_final_locus['event_year'] = fw_mortality_final_locus['event_date'].dt.year\n",
    "    fw_mortality_final_locus['weighted_mortality_rate'] = fw_mortality_final_locus['weight'] * fw_mortality_final_locus['mortality_rate']\n",
    "\n",
    "    fw_mortality_final_locus_grouped = fw_mortality_final_locus.\\\n",
    "    groupby(['final_locus_population_id','event_date'])[['weighted_mortality_rate']]\\\n",
    "    .agg(lambda x: x.sum(skipna=False)).reset_index()\n",
    "\n",
    "    fw_mortality_final_locus_grouped.rename(columns={'weighted_mortality_rate': 'mortality_rate'},inplace=True)\n"
   ]
  },
  {
   "cell_type": "code",
   "execution_count": 78,
   "id": "026fbc3b-aa5f-4d13-a401-897a1c27ba92",
   "metadata": {
    "tags": []
   },
   "outputs": [
    {
     "data": {
      "text/html": [
       "<div>\n",
       "<style scoped>\n",
       "    .dataframe tbody tr th:only-of-type {\n",
       "        vertical-align: middle;\n",
       "    }\n",
       "\n",
       "    .dataframe tbody tr th {\n",
       "        vertical-align: top;\n",
       "    }\n",
       "\n",
       "    .dataframe thead th {\n",
       "        text-align: right;\n",
       "    }\n",
       "</style>\n",
       "<table border=\"1\" class=\"dataframe\">\n",
       "  <thead>\n",
       "    <tr style=\"text-align: right;\">\n",
       "      <th></th>\n",
       "      <th>final_locus_population_id</th>\n",
       "      <th>event_date</th>\n",
       "      <th>mortality_rate</th>\n",
       "    </tr>\n",
       "  </thead>\n",
       "  <tbody>\n",
       "    <tr>\n",
       "      <th>0</th>\n",
       "      <td>36770651</td>\n",
       "      <td>2015-09-24</td>\n",
       "      <td>NaN</td>\n",
       "    </tr>\n",
       "    <tr>\n",
       "      <th>1</th>\n",
       "      <td>36770651</td>\n",
       "      <td>2015-09-28</td>\n",
       "      <td>NaN</td>\n",
       "    </tr>\n",
       "    <tr>\n",
       "      <th>2</th>\n",
       "      <td>36770651</td>\n",
       "      <td>2015-09-30</td>\n",
       "      <td>NaN</td>\n",
       "    </tr>\n",
       "    <tr>\n",
       "      <th>3</th>\n",
       "      <td>36770651</td>\n",
       "      <td>2015-10-01</td>\n",
       "      <td>NaN</td>\n",
       "    </tr>\n",
       "    <tr>\n",
       "      <th>4</th>\n",
       "      <td>36770651</td>\n",
       "      <td>2015-10-05</td>\n",
       "      <td>NaN</td>\n",
       "    </tr>\n",
       "  </tbody>\n",
       "</table>\n",
       "</div>"
      ],
      "text/plain": [
       "   final_locus_population_id event_date  mortality_rate\n",
       "0                   36770651 2015-09-24             NaN\n",
       "1                   36770651 2015-09-28             NaN\n",
       "2                   36770651 2015-09-30             NaN\n",
       "3                   36770651 2015-10-01             NaN\n",
       "4                   36770651 2015-10-05             NaN"
      ]
     },
     "execution_count": 78,
     "metadata": {},
     "output_type": "execute_result"
    }
   ],
   "source": [
    "fw_mortality_final_locus_grouped.head()"
   ]
  },
  {
   "cell_type": "code",
   "execution_count": 79,
   "id": "1a799eb2-1c95-453d-95c2-9dd7b37dc040",
   "metadata": {
    "tags": []
   },
   "outputs": [],
   "source": [
    "fw_mortality_final_locus_grouped.to_csv('..//data//fw_mortality_final_lp_grouped_no_productiva.csv', index=False)"
   ]
  },
  {
   "cell_type": "code",
   "execution_count": 80,
   "id": "b85acdd0",
   "metadata": {
    "scrolled": true,
    "tags": []
   },
   "outputs": [
    {
     "name": "stderr",
     "output_type": "stream",
     "text": [
      "100%|██████████| 1/1 [00:00<00:00,  8.83it/s]\n"
     ]
    }
   ],
   "source": [
    "for reason in tqdm(fw_mortality_by_reason):\n",
    "    fw_mortality_by_reason[reason] = fw_mortality_by_reason[reason].merge(\n",
    "        fresh_water_dates,\n",
    "        left_on='final_locus_population_id',\n",
    "        right_on='pretransfer_fw_locus_population_id',\n",
    "        how='inner'\n",
    "    )"
   ]
  },
  {
   "cell_type": "code",
   "execution_count": 81,
   "id": "c688ba10-7db0-4aea-9151-59b2da515cc5",
   "metadata": {
    "tags": []
   },
   "outputs": [
    {
     "data": {
      "text/plain": [
       "Index(['final_locus_population_id', 'event_date', 'mortality_rate',\n",
       "       'pretransfer_fw_locus_population_id', 'pretransfer_fw_locus_id',\n",
       "       'first_movement_date', 'first_feeding_date', 'shipout_date'],\n",
       "      dtype='object')"
      ]
     },
     "execution_count": 81,
     "metadata": {},
     "output_type": "execute_result"
    }
   ],
   "source": [
    "fw_mortality_by_reason[reason].columns"
   ]
  },
  {
   "cell_type": "code",
   "execution_count": 60,
   "id": "8a109c0b",
   "metadata": {
    "tags": []
   },
   "outputs": [
    {
     "data": {
      "text/plain": [
       "(4512, 7)"
      ]
     },
     "metadata": {},
     "output_type": "display_data"
    },
    {
     "ename": "KeyError",
     "evalue": "'Embrionaria'",
     "output_type": "error",
     "traceback": [
      "\u001b[1;31m---------------------------------------------------------------------------\u001b[0m",
      "\u001b[1;31mKeyError\u001b[0m                                  Traceback (most recent call last)",
      "Input \u001b[1;32mIn [60]\u001b[0m, in \u001b[0;36m<cell line: 4>\u001b[1;34m()\u001b[0m\n\u001b[0;32m      1\u001b[0m \u001b[38;5;28;01mfor\u001b[39;00m reason \u001b[38;5;129;01min\u001b[39;00m fw_mortality_by_reason:\n\u001b[0;32m      2\u001b[0m     display(fw_mortality_by_reason[reason]\u001b[38;5;241m.\u001b[39mgroupby(\u001b[38;5;124m'\u001b[39m\u001b[38;5;124mfinal_locus_population_id\u001b[39m\u001b[38;5;124m'\u001b[39m)\u001b[38;5;241m.\u001b[39mcount()\u001b[38;5;241m.\u001b[39mshape)\n\u001b[1;32m----> 4\u001b[0m \u001b[38;5;28;01mfor\u001b[39;00m _id \u001b[38;5;129;01min\u001b[39;00m \u001b[43mfw_mortality_by_reason\u001b[49m\u001b[43m[\u001b[49m\u001b[38;5;124;43m'\u001b[39;49m\u001b[38;5;124;43mEmbrionaria\u001b[39;49m\u001b[38;5;124;43m'\u001b[39;49m\u001b[43m]\u001b[49m[\u001b[38;5;124m'\u001b[39m\u001b[38;5;124mfinal_locus_population_id\u001b[39m\u001b[38;5;124m'\u001b[39m]\u001b[38;5;241m.\u001b[39munique():\n\u001b[0;32m      5\u001b[0m     \u001b[38;5;28;01mfor\u001b[39;00m reason \u001b[38;5;129;01min\u001b[39;00m mortality_reasons[\u001b[38;5;241m1\u001b[39m:]:\n\u001b[0;32m      6\u001b[0m         \u001b[38;5;28;01mif\u001b[39;00m _id \u001b[38;5;129;01mnot\u001b[39;00m \u001b[38;5;129;01min\u001b[39;00m fw_mortality_by_reason[reason][\u001b[38;5;124m'\u001b[39m\u001b[38;5;124mfinal_locus_population_id\u001b[39m\u001b[38;5;124m'\u001b[39m]\u001b[38;5;241m.\u001b[39munique():\n",
      "\u001b[1;31mKeyError\u001b[0m: 'Embrionaria'"
     ]
    }
   ],
   "source": [
    "for reason in fw_mortality_by_reason:\n",
    "    display(fw_mortality_by_reason[reason].groupby('final_locus_population_id').count().shape)\n",
    "    \n",
    "for _id in fw_mortality_by_reason['Embrionaria']['final_locus_population_id'].unique():\n",
    "    for reason in mortality_reasons[1:]:\n",
    "        if _id not in fw_mortality_by_reason[reason]['final_locus_population_id'].unique():\n",
    "            row = fw_mortality_by_reason['Embrionaria'][\n",
    "                fw_mortality_by_reason['Embrionaria']['final_locus_population_id'] == _id\n",
    "            ]\n",
    "            row['mortality_rate'] = 0.0\n",
    "            fw_mortality_by_reason[reason] = pd.concat([fw_mortality_by_reason[reason], row])"
   ]
  },
  {
   "cell_type": "code",
   "execution_count": null,
   "id": "796d6511",
   "metadata": {
    "scrolled": true,
    "tags": []
   },
   "outputs": [],
   "source": [
    "for reason in fw_mortality_by_reason:\n",
    "    display(fw_mortality_by_reason[reason].groupby('final_locus_population_id').count().shape)"
   ]
  },
  {
   "cell_type": "code",
   "execution_count": 83,
   "id": "0fbcf5e6-9c9c-4bf8-b10d-8af4a32a6725",
   "metadata": {
    "tags": []
   },
   "outputs": [
    {
     "data": {
      "text/plain": [
       "Index(['final_locus_population_id', 'event_date', 'mortality_rate',\n",
       "       'pretransfer_fw_locus_population_id', 'pretransfer_fw_locus_id',\n",
       "       'first_movement_date', 'first_feeding_date', 'shipout_date'],\n",
       "      dtype='object')"
      ]
     },
     "execution_count": 83,
     "metadata": {},
     "output_type": "execute_result"
    }
   ],
   "source": [
    "reason_df = fw_mortality_by_reason[reason]\n",
    "reason_df.columns"
   ]
  },
  {
   "cell_type": "code",
   "execution_count": 84,
   "id": "f776a739",
   "metadata": {
    "tags": []
   },
   "outputs": [
    {
     "name": "stderr",
     "output_type": "stream",
     "text": [
      "100%|██████████| 1/1 [00:33<00:00, 33.23s/it]\n"
     ]
    }
   ],
   "source": [
    "fw_mortality_by_reason_full_range = {}\n",
    "\n",
    "for reason in tqdm(fw_mortality_by_reason):\n",
    "    reason_df = fw_mortality_by_reason[reason]\n",
    "    by_id = []\n",
    "    for _id in reason_df['final_locus_population_id'].unique():\n",
    "        reason_df_by_id = reason_df[reason_df['final_locus_population_id'] == _id]\n",
    "        full_range = pd.DataFrame(\n",
    "            pd.date_range(\n",
    "                start=reason_df_by_id['first_movement_date'].iloc[0],\n",
    "                end=reason_df_by_id['shipout_date'].iloc[0]),\n",
    "            columns=['event_date']\n",
    "        )\n",
    "        mortality_full_range = full_range.merge(reason_df_by_id, how='left', on='event_date')\n",
    "        mortality_full_range['mortality_rate'].fillna(0, inplace=True)\n",
    "        mortality_full_range['final_locus_population_id'].fillna(_id, inplace=True)\n",
    "        mortality_full_range['final_locus_population_id'] = mortality_full_range['final_locus_population_id']\\\n",
    "        .astype(int)\n",
    "        \n",
    "        by_id.append(mortality_full_range)\n",
    "\n",
    "    fw_mortality_by_reason_full_range[reason] = pd.concat(by_id)"
   ]
  },
  {
   "cell_type": "code",
   "execution_count": 85,
   "id": "9fb06d78",
   "metadata": {
    "tags": []
   },
   "outputs": [],
   "source": [
    "full_cycles = [\n",
    "    194359032,\n",
    "    194527129,\n",
    "    194497496,\n",
    "# #     193247058,\n",
    "# #     194516980,\n",
    "# #     194546436,\n",
    "# #     38193840,\n",
    "# #     194352023,\n",
    "#     194503079,\n",
    "# #     193343886,\n",
    "# #     194530157,\n",
    "# #     194497483,\n",
    "# #     194503096,\n",
    "# #     194522881,\n",
    "# #     193249474,\n",
    "# #     193247433,\n",
    "# #     194523185,\n",
    "# #     194512165\n",
    "]"
   ]
  },
  {
   "cell_type": "markdown",
   "id": "dd1d8dc5",
   "metadata": {},
   "source": [
    "### Non-smoothed"
   ]
  },
  {
   "cell_type": "code",
   "execution_count": 86,
   "id": "5c2a778a",
   "metadata": {
    "tags": []
   },
   "outputs": [],
   "source": [
    "def plot_full_cycle(df: pd.DataFrame,\n",
    "                    fresh_water_dates_df: pd.DataFrame,\n",
    "                    full_cycle_id: int,\n",
    "                    factor: str,\n",
    "                    reason: str,\n",
    "#                      save_dir: Path,\n",
    "                     smoothed: bool = False):\n",
    "    if df[factor].isna().sum() == df[factor].shape[0]:\n",
    "        return\n",
    "\n",
    "    fig, axs = plt.subplots(1, 1)\n",
    "    sns.lineplot(data=df, x='event_date', y=factor)\n",
    "\n",
    "    min_ph = df[factor].min()\n",
    "    first_movement_date = df['event_date'].min()\n",
    "    hatching_date = df.dropna()['event_date'].min()  # not exact definition of hatching date\n",
    "    shipout_date = df['event_date'].max()\n",
    "    first_feeding_date = fresh_water_dates_df[fresh_water_dates_df.pretransfer_fw_locus_population_id==full_cycle_id].first_feeding_date.iloc[0]\n",
    "\n",
    "    plt.xlim(first_movement_date - datetime.timedelta(days=7), shipout_date + datetime.timedelta(days=7))\n",
    "    axs.xaxis.set_major_formatter(mdates.DateFormatter(TIME_FORMAT))\n",
    "\n",
    "    if (hatching_date-first_movement_date).days<7:\n",
    "        dates_dict = {\n",
    "            'hatching_date': hatching_date,\n",
    "            'first_feeding_date': first_feeding_date,\n",
    "            'shipout_date': shipout_date\n",
    "        }\n",
    "    else:\n",
    "        dates_dict = {\n",
    "            'first_movement_date': first_movement_date,\n",
    "            'hatching_date': hatching_date,\n",
    "            'first_feeding_date': first_feeding_date,\n",
    "            'shipout_date': shipout_date\n",
    "        }\n",
    "\n",
    "    for i, (name, date) in enumerate(dates_dict.items()):\n",
    "        plt.axvline(date, linestyle='--')\n",
    "        plt.text(date + datetime.timedelta(days=1), min_ph, f'{name} = {date.strftime(TIME_FORMAT)}', rotation=90)\n",
    "    \n",
    "    chart_title = 'Mortality rate vs. time for final_locus_population_id=' + str(full_cycle_id)\n",
    "    plt.show()\n",
    "    save_path = save_dir / f'mortality_rate_{reason}_vs_time_{full_cycle_id}.png' if not smoothed else save_dir / f'ph_vs_time_{full_cycle_id}_smoothed.png'\n",
    "    fig.savefig(save_path)\n",
    "    plt.close()"
   ]
  },
  {
   "cell_type": "code",
   "execution_count": 61,
   "id": "1fcef114",
   "metadata": {
    "tags": []
   },
   "outputs": [
    {
     "ename": "NameError",
     "evalue": "name 'full_cycles' is not defined",
     "output_type": "error",
     "traceback": [
      "\u001b[1;31m---------------------------------------------------------------------------\u001b[0m",
      "\u001b[1;31mNameError\u001b[0m                                 Traceback (most recent call last)",
      "Input \u001b[1;32mIn [61]\u001b[0m, in \u001b[0;36m<cell line: 3>\u001b[1;34m()\u001b[0m\n\u001b[0;32m      1\u001b[0m save_dir \u001b[38;5;241m=\u001b[39m Path(\u001b[38;5;124m'\u001b[39m\u001b[38;5;124m./\u001b[39m\u001b[38;5;124m'\u001b[39m)\n\u001b[1;32m----> 3\u001b[0m \u001b[38;5;28;01mfor\u001b[39;00m full_cycle_id \u001b[38;5;129;01min\u001b[39;00m \u001b[43mfull_cycles\u001b[49m:\n\u001b[0;32m      4\u001b[0m     \u001b[38;5;28;01mfor\u001b[39;00m reason \u001b[38;5;129;01min\u001b[39;00m fw_mortality_by_reason_full_range:\n\u001b[0;32m      5\u001b[0m         mortality_full_cycle \u001b[38;5;241m=\u001b[39m fw_mortality_by_reason_full_range[reason][\n\u001b[0;32m      6\u001b[0m             fw_mortality_by_reason_full_range[reason][\u001b[38;5;124m'\u001b[39m\u001b[38;5;124mfinal_locus_population_id\u001b[39m\u001b[38;5;124m'\u001b[39m] \u001b[38;5;241m==\u001b[39m full_cycle_id]\n",
      "\u001b[1;31mNameError\u001b[0m: name 'full_cycles' is not defined"
     ]
    }
   ],
   "source": [
    "save_dir = Path('./')\n",
    "\n",
    "for full_cycle_id in full_cycles:\n",
    "    for reason in fw_mortality_by_reason_full_range:\n",
    "        mortality_full_cycle = fw_mortality_by_reason_full_range[reason][\n",
    "            fw_mortality_by_reason_full_range[reason]['final_locus_population_id'] == full_cycle_id]\n",
    "        plot_full_cycle(mortality_full_cycle, fresh_water_dates, full_cycle_id, factor='mortality_rate', reason=reason)"
   ]
  },
  {
   "cell_type": "code",
   "execution_count": 88,
   "id": "815a7916",
   "metadata": {
    "tags": []
   },
   "outputs": [],
   "source": [
    "for reason in fw_mortality_by_reason_full_range:\n",
    "    fw_mortality_by_reason_full_range[reason][\n",
    "        ['event_date', 'final_locus_population_id', 'mortality_rate']\n",
    "    ].to_csv(f'../data/mrts/fw_mortality_{reason}.csv', index=False)"
   ]
  },
  {
   "cell_type": "code",
   "execution_count": null,
   "id": "02d1d2ca-7d4c-4466-8ff1-e2bc5605eda9",
   "metadata": {},
   "outputs": [],
   "source": []
  }
 ],
 "metadata": {
  "kernelspec": {
   "display_name": "Python 3 (ipykernel)",
   "language": "python",
   "name": "python3"
  },
  "language_info": {
   "codemirror_mode": {
    "name": "ipython",
    "version": 3
   },
   "file_extension": ".py",
   "mimetype": "text/x-python",
   "name": "python",
   "nbconvert_exporter": "python",
   "pygments_lexer": "ipython3",
   "version": "3.9.7"
  }
 },
 "nbformat": 4,
 "nbformat_minor": 5
}
