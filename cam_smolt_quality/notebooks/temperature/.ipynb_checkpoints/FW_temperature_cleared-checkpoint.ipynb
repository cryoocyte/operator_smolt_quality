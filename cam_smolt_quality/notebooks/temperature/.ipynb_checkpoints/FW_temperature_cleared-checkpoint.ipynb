{
 "cells": [
  {
   "cell_type": "code",
   "execution_count": 2,
   "metadata": {
    "executionInfo": {
     "elapsed": 2629,
     "status": "ok",
     "timestamp": 1686089452419,
     "user": {
      "displayName": "Anton Podolski",
      "userId": "09162473603641485191"
     },
     "user_tz": -120
    },
    "id": "JOLw4-_6wUNz"
   },
   "outputs": [],
   "source": [
    "from sklearn.tree import DecisionTreeClassifier,DecisionTreeRegressor\n",
    "from sklearn.ensemble import RandomForestClassifier\n",
    "from sklearn.model_selection import train_test_split\n",
    "from sklearn import tree\n",
    "\n",
    "import pandas as pd\n",
    "import numpy as np\n",
    "from datetime import datetime\n",
    "import seaborn as sns\n",
    "import matplotlib.pyplot as plt\n",
    "import matplotlib.ticker as ticker\n",
    "from matplotlib.patches import Patch\n",
    "import os\n",
    "from shutil import copy\n",
    "import seaborn as sns\n",
    "\n",
    "import datetime\n",
    "from dateutil.relativedelta import relativedelta\n",
    "from sklearn.linear_model import Ridge, RidgeCV\n",
    "from sklearn.model_selection import train_test_split\n",
    "from sklearn.preprocessing import StandardScaler\n",
    "import pickle\n",
    "import imageio\n",
    "from itertools import compress\n",
    "\n",
    "%matplotlib inline\n",
    "\n",
    "pd.options.mode.chained_assignment = None  # default='warn'\n",
    "plt.rcParams.update({'figure.max_open_warning': 0})\n",
    "\n",
    "import matplotlib.pylab as pylab\n",
    "params = {'legend.fontsize': 'xx-large',\n",
    "          'legend.title_fontsize': 'x-large',\n",
    "          'figure.figsize': (15, 5),\n",
    "         'axes.labelsize': 'x-large',\n",
    "         'axes.titlesize':'x-large',\n",
    "         'xtick.labelsize':'x-large',\n",
    "         'ytick.labelsize':'x-large'}\n",
    "#‘xx-small’, ‘x-small’, ‘small’, ‘medium’, ‘large’, ‘x-large’, ‘xx-large’\n",
    "pylab.rcParams.update(params)\n",
    "from sklearn.ensemble import IsolationForest\n",
    "from sklearn.decomposition import PCA\n",
    "# from mpl_toolkits.mplot3d import Axes3D\n",
    "import plotly.express as px\n",
    "from statsmodels.tsa.api import VAR\n",
    "\n",
    "from sklearn.tree import DecisionTreeClassifier,DecisionTreeRegressor\n",
    "from sklearn import tree\n",
    "\n",
    "import re\n",
    "\n",
    "from sklearn.preprocessing import StandardScaler\n",
    "from sklearn.cluster import KMeans\n",
    "from sklearn.metrics import silhouette_score"
   ]
  },
  {
   "cell_type": "code",
   "execution_count": 3,
   "metadata": {
    "colab": {
     "base_uri": "https://localhost:8080/",
     "height": 380
    },
    "executionInfo": {
     "elapsed": 305,
     "status": "error",
     "timestamp": 1686089453001,
     "user": {
      "displayName": "Anton Podolski",
      "userId": "09162473603641485191"
     },
     "user_tz": -120
    },
    "id": "hLfdK4TJwUN2",
    "outputId": "308e2c52-b457-4f6e-edbd-b87932ab39e0",
    "tags": []
   },
   "outputs": [
    {
     "ename": "AttributeError",
     "evalue": "'DataFrame' object has no attribute 'append'",
     "output_type": "error",
     "traceback": [
      "\u001b[1;31m---------------------------------------------------------------------------\u001b[0m",
      "\u001b[1;31mAttributeError\u001b[0m                            Traceback (most recent call last)",
      "Input \u001b[1;32mIn [3]\u001b[0m, in \u001b[0;36m<cell line: 10>\u001b[1;34m()\u001b[0m\n\u001b[0;32m     26\u001b[0m             df_temperature_filtered\u001b[38;5;241m.\u001b[39mat[k,\u001b[38;5;124m'\u001b[39m\u001b[38;5;124mrolling_tempr\u001b[39m\u001b[38;5;124m'\u001b[39m] \u001b[38;5;241m=\u001b[39m average_tempr_30\n\u001b[0;32m     27\u001b[0m     k \u001b[38;5;241m=\u001b[39m k \u001b[38;5;241m+\u001b[39m \u001b[38;5;241m1\u001b[39m        \n\u001b[1;32m---> 28\u001b[0m df_temperature_cleared \u001b[38;5;241m=\u001b[39m \u001b[43mdf_temperature_cleared\u001b[49m\u001b[38;5;241;43m.\u001b[39;49m\u001b[43mappend\u001b[49m(df_temperature_filtered)    \n\u001b[0;32m     29\u001b[0m n \u001b[38;5;241m=\u001b[39m n \u001b[38;5;241m+\u001b[39m \u001b[38;5;241m1\u001b[39m\n\u001b[0;32m     30\u001b[0m \u001b[38;5;28mprint\u001b[39m (\u001b[38;5;124m'\u001b[39m\u001b[38;5;124mn\u001b[39m\u001b[38;5;124m'\u001b[39m, n)\n",
      "File \u001b[1;32mC:\\Python\\Anaconda\\envs\\ecto\\lib\\site-packages\\pandas\\core\\generic.py:5989\u001b[0m, in \u001b[0;36mNDFrame.__getattr__\u001b[1;34m(self, name)\u001b[0m\n\u001b[0;32m   5982\u001b[0m \u001b[38;5;28;01mif\u001b[39;00m (\n\u001b[0;32m   5983\u001b[0m     name \u001b[38;5;129;01mnot\u001b[39;00m \u001b[38;5;129;01min\u001b[39;00m \u001b[38;5;28mself\u001b[39m\u001b[38;5;241m.\u001b[39m_internal_names_set\n\u001b[0;32m   5984\u001b[0m     \u001b[38;5;129;01mand\u001b[39;00m name \u001b[38;5;129;01mnot\u001b[39;00m \u001b[38;5;129;01min\u001b[39;00m \u001b[38;5;28mself\u001b[39m\u001b[38;5;241m.\u001b[39m_metadata\n\u001b[0;32m   5985\u001b[0m     \u001b[38;5;129;01mand\u001b[39;00m name \u001b[38;5;129;01mnot\u001b[39;00m \u001b[38;5;129;01min\u001b[39;00m \u001b[38;5;28mself\u001b[39m\u001b[38;5;241m.\u001b[39m_accessors\n\u001b[0;32m   5986\u001b[0m     \u001b[38;5;129;01mand\u001b[39;00m \u001b[38;5;28mself\u001b[39m\u001b[38;5;241m.\u001b[39m_info_axis\u001b[38;5;241m.\u001b[39m_can_hold_identifiers_and_holds_name(name)\n\u001b[0;32m   5987\u001b[0m ):\n\u001b[0;32m   5988\u001b[0m     \u001b[38;5;28;01mreturn\u001b[39;00m \u001b[38;5;28mself\u001b[39m[name]\n\u001b[1;32m-> 5989\u001b[0m \u001b[38;5;28;01mreturn\u001b[39;00m \u001b[38;5;28;43mobject\u001b[39;49m\u001b[38;5;241;43m.\u001b[39;49m\u001b[38;5;21;43m__getattribute__\u001b[39;49m\u001b[43m(\u001b[49m\u001b[38;5;28;43mself\u001b[39;49m\u001b[43m,\u001b[49m\u001b[43m \u001b[49m\u001b[43mname\u001b[49m\u001b[43m)\u001b[49m\n",
      "\u001b[1;31mAttributeError\u001b[0m: 'DataFrame' object has no attribute 'append'"
     ]
    }
   ],
   "source": [
    "df_date_temperature = pd.read_csv('../data/FW_temperature_filled.csv')\n",
    "df_date_temperature = df_date_temperature.dropna()\n",
    "part_number_list = df_date_temperature['final_locus_population_id'].tolist()\n",
    "unic_part_number_list = []\n",
    "df_temperature_cleared = pd.DataFrame(columns = ['final_locus_population_id','event_date', 'temperature_cleared'])\n",
    "for item in part_number_list:\n",
    "    if item not in unic_part_number_list:\n",
    "        unic_part_number_list.append(item)\n",
    "n = 0\n",
    "while n < len(unic_part_number_list):\n",
    "    part_number = unic_part_number_list[n]\n",
    "    df_temperature_filtered = df_date_temperature[(df_date_temperature['final_locus_population_id'] == part_number)]\n",
    "    df_temperature_filtered.reset_index(drop = True, inplace = True)\n",
    "    #df_temperanure_filtered = df_temperature_filtered.reindex(columns = df_temperature_filtered.columns.tolist()+['rolling_tempr','tempr_cleared'])\n",
    "    df_temperature_filtered['rolling_tempr'] = df_temperature_filtered['temperature'].rolling(30).mean()\n",
    "    df_temporary = df_temperature_filtered.head(30)\n",
    "    average_tempr_30 = df_temporary['temperature'].mean()\n",
    "    half_average_tempr_30 = average_tempr_30 / 2 \n",
    "    k = 0\n",
    "    while k < len(df_temporary):\n",
    "        t_1 = df_temperature_filtered.at[k,'temperature']\n",
    "        t_dif = t_1 - average_tempr_30\n",
    "        if abs(t_dif) < half_average_tempr_30:\n",
    "                df_temperature_filtered.at[k,'rolling_tempr'] = t_1\n",
    "        else:\n",
    "                df_temperature_filtered.at[k,'rolling_tempr'] = average_tempr_30\n",
    "        k = k + 1        \n",
    "    df_temperature_cleared = pd.concat([df_temperature_cleared, df_temperature_filtered],axis=0) #df_temperature_cleared = df_temperature_cleared.append(df_temperature_filtered)    \n",
    "    n = n + 1\n",
    "    print ('n', n)\n",
    "#datatypes_1 = df_temperature_cleared.dtypes\n",
    "m = 0\n",
    "cc = len(df_temperature_cleared)\n",
    "for m in range (cc):\n",
    "    t_2 = df_temperature_cleared.iloc[m]['temperature']\n",
    "    t_rolling_aver = df_temperature_cleared.iloc[m]['rolling_tempr']\n",
    "    half_t_rolling_aver = t_rolling_aver / 2\n",
    "    t_dif_clear = t_2 - t_rolling_aver\n",
    "    if abs(t_dif_clear) < half_t_rolling_aver:\n",
    "        df_temperature_cleared.at[m,'temperature_cleared'] = t_2\n",
    "    else:\n",
    "        df_temperature_cleared.at[m,'temperature_cleared'] = t_rolling_aver\n",
    "    m = m + 1\n",
    "    print ('m', m)    "
   ]
  },
  {
   "cell_type": "code",
   "execution_count": null,
   "metadata": {},
   "outputs": [],
   "source": [
    "df_temperature_cleared.to_csv('../data/FW_temperature_cleared.csv')"
   ]
  }
 ],
 "metadata": {
  "colab": {
   "provenance": []
  },
  "kernelspec": {
   "display_name": "Python 3 (ipykernel)",
   "language": "python",
   "name": "python3"
  },
  "language_info": {
   "codemirror_mode": {
    "name": "ipython",
    "version": 3
   },
   "file_extension": ".py",
   "mimetype": "text/x-python",
   "name": "python",
   "nbconvert_exporter": "python",
   "pygments_lexer": "ipython3",
   "version": "3.9.7"
  }
 },
 "nbformat": 4,
 "nbformat_minor": 4
}
